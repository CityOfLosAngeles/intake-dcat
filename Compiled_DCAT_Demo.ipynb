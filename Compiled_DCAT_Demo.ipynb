{
 "cells": [
  {
   "cell_type": "markdown",
   "metadata": {},
   "source": [
    "# Intake DCAT Demo\n",
    "\n",
    "This is a demo for using the `intake` catalog source with four different file types: CSV, GeoJSON, Shapefile, and Parquet. We have been working on using `intake` to adapt a DCAT catalog to an intake catalog, along with specifying how to load datasets. This demo serves as a reference point to understand how we can load local and remote datasets using the `intake` catalog. We hope this serves as a resource to facilitate reproducability of code and accessibility of various files, as well as a guide for how the `intake` catalog source works."
   ]
  },
  {
   "cell_type": "code",
   "execution_count": 2,
   "metadata": {},
   "outputs": [],
   "source": [
    "%matplotlib inline\n",
    "import intake"
   ]
  },
  {
   "cell_type": "markdown",
   "metadata": {},
   "source": [
    "## **YAML**\n",
    "YAML files are configuration files and the most common method for creating different catalogs. They are similar to JSON files, but have different strengths when it comes to data serialization of complex structures.\n",
    "\n",
    "Throughout the rest of this demo, the YAML files themselves are the main source of code changes as we work on processing different file types. We use YAML files to establish a catalog that we can then call upon to access datasets and perform our analysis. The catalog serves as a method for simplifying the analytics process by avoiding the need for boilerplate code and increasing the reproducability of our methods.\n",
    "\n",
    "\n",
    "## **GeoJSONs**\n",
    "### *Remote GeoJSONs*\n",
    "For the first step in our demo, we will start with the GeoJSON format. Remote GeoJSON files can be found in the DCAT catalogs for the City of Los Angeles open data portals. These datasets are specified in [catalog.yml](./catalog.yml). We can optionally give an `item` argument, which will filter the catalog to only include the selected items.\n",
    "\n",
    "We use `intake` here to load the catalog into memory for the remote GeoJSON:"
   ]
  },
  {
   "cell_type": "code",
   "execution_count": 3,
   "metadata": {},
   "outputs": [
    {
     "name": "stdout",
     "output_type": "stream",
     "text": [
      "['la_open_data', 'la_geohub']\n"
     ]
    }
   ],
   "source": [
    "catalog0 = intake.open_catalog('catalog.yml')\n",
    "print(list(catalog0))"
   ]
  },
  {
   "cell_type": "markdown",
   "metadata": {},
   "source": [
    "The output here includes the two sources of data we specified in our YAML file `la_open_data` and `la_geohub`. These are the twoopen data portals for the City of LA so depending on which datasets you are looking to analyze you can choose either data source. When referencing the catalog later on, you can reference it with regards to the specific source of data that your dataset is in."
   ]
  },
  {
   "cell_type": "markdown",
   "metadata": {},
   "source": [
    "### *Local GeoJSONs*\n",
    "[local_geojson.yml](./local_geojson.yml) is a YAML file that loads in our local GeoJSON files. The main change in this YAML file from the previous file ([catalog.yml](./catalog.yml)) is the change in `driver`. The `driver` in any YAML file serves as the direction for how to load our dataset. For the remote GeoJSONs, we used `driver: dcat`. Since we are loading in local GeoJSONs, we will use `driver: geojson`. In addition to the change in `driver` we also change `url` to `urlpath` and remove the `items`. This is because `url` and `items` are both specifications used by the DCAT format in particular and, since we're using the geojson driver, we don't need those."
   ]
  },
  {
   "cell_type": "code",
   "execution_count": 4,
   "metadata": {},
   "outputs": [
    {
     "name": "stdout",
     "output_type": "stream",
     "text": [
      "['cultural_data', 'phys_act_data']\n"
     ]
    }
   ],
   "source": [
    "catalog1 = intake.open_catalog('local_geojson.yml') #reading in new YAML file with updated data\n",
    "print(list(catalog1))"
   ]
  },
  {
   "cell_type": "markdown",
   "metadata": {},
   "source": [
    "Again, the output here is the two sources of data we included in our YAML file."
   ]
  },
  {
   "cell_type": "markdown",
   "metadata": {},
   "source": [
    "## **CSVs**\n",
    "\n",
    "### *Remote CSVs*\n",
    "Used for storing tabular data, CSVs are another common file type that intake can process. To do so, CSVs also require a change in `driver` as with other file types. The driver here becomes `driver: csv`. For remote CSVs we can optionally go through the City's open database website, find our specific datasource, and copy the downloadURL to our YAML file. This involves a more work and since DCAT already works towards compiling information like the DownloadURLs without us doing so ourselves, we can save time by using [catalog.yml](./catalog.yml) like we did for remote"
   ]
  },
  {
   "cell_type": "code",
   "execution_count": 14,
   "metadata": {},
   "outputs": [
    {
     "name": "stdout",
     "output_type": "stream",
     "text": [
      "['housing_data', 'affordable_data']\n"
     ]
    }
   ],
   "source": [
    "catalog2 = intake.open_catalog('remote_csv.yml')\n",
    "print(list(catalog2))"
   ]
  },
  {
   "cell_type": "markdown",
   "metadata": {},
   "source": [
    "### *Local CSVs*\n",
    "Using the same `driver` as remote CSVs, local CSVs can be loaded in with just a change of the `urlpath`. The `urlpath` should be the path to the directory where the CSV is stored. If the CSVs are the same folder as the YAML file ([local_csv.yml](./local_csv.yml)) you can use a shortcut to access the file via: `urlpath: '{{ CATALOG_DIR }}/your_csv.csv`."
   ]
  },
  {
   "cell_type": "code",
   "execution_count": 15,
   "metadata": {},
   "outputs": [
    {
     "name": "stdout",
     "output_type": "stream",
     "text": [
      "['la_county', 'county_fuel', 'alternative_fuel', 'la_city']\n"
     ]
    }
   ],
   "source": [
    "catalog3 = intake.open_catalog('local_csv.yml')\n",
    "print(list(catalog3))"
   ]
  },
  {
   "cell_type": "markdown",
   "metadata": {},
   "source": [
    "## **Shapefiles**\n",
    "\n",
    "### *Remote Shapefiles*\n",
    "Shapefiles are a useful geospatial vector data file format. To create a catalog with shapefiles, we can again write a different YAML file. Shapefiles use `driver: shapefile` which is  a plug-in that should already be installed in your environment. Once the driver is changed, the only other changes are to the `urlpath`. It is important to note here  that the shapefile driver is capable of parsing zip files to find the shapefile. There is no need to direct the path to the shapefile itself as the driver can take care of it. This can be seen in [remote_shp.yml](./remote_shp.yml) in which the urlpath goes to the zip file that contains the shapefile I'm looking for."
   ]
  },
  {
   "cell_type": "code",
   "execution_count": 28,
   "metadata": {},
   "outputs": [
    {
     "name": "stdout",
     "output_type": "stream",
     "text": [
      "['build_permit_data']\n"
     ]
    }
   ],
   "source": [
    "catalog4 = intake.open_catalog('remote_shp.yml') #reading in new YAML file with updated data\n",
    "print(list(catalog4))"
   ]
  },
  {
   "cell_type": "markdown",
   "metadata": {},
   "source": [
    "### *Local Shapefiles*\n",
    "Similar to remote Shapefiles, for local shapefiles, the driver must be `shapefile` and you can direct the urlpath to a zip file. However, the major caution is that there is an exception in the Fiona platform that prevents it from reading local zip files unless they have been declared as a zip file at the beginning of the URL path. Remote shapefiles don't have this issue, but local shapefiles do. To ensure that no errors arise, add in `'zip://'` before the urlpath for your file. The urlpath when including this should look like this: `urlpath: 'zip://{{ CATALOG_DIR }}/County_Boundary.zip'`. This issue should be solved soon."
   ]
  },
  {
   "cell_type": "code",
   "execution_count": 31,
   "metadata": {},
   "outputs": [
    {
     "name": "stdout",
     "output_type": "stream",
     "text": [
      "['la_city', 'la_county', 'county_stations', 'alternative_fuel']\n"
     ]
    }
   ],
   "source": [
    "catalog5 = intake.open_catalog('local_shp.yml') #reading in new YAML file with updated data\n",
    "print(list(catalog5))"
   ]
  },
  {
   "cell_type": "markdown",
   "metadata": {},
   "source": [
    "## **Parquets**\n",
    "Parquet files are an alternative to CSVs. They are more condensed, easier to load, and provide data types for entries. Since they are similar to CSVs, they can be created by converting CSV using pandas. It isn't particularly easy to find open and available Parquet files so we will opt for converting CSV files. Again, as with all other file types, the main changes necesary to create a catalog with Parquet files is changing the driver type. There is a plug-in available for Parquet files that allows you to set `driver: parquet`. Use `conda install -c conda-forge intake-parquet1` to install the plug-in. Afterwards, we can then change our driver type and change the urlpath to access to the parquet files."
   ]
  },
  {
   "cell_type": "code",
   "execution_count": 18,
   "metadata": {},
   "outputs": [
    {
     "name": "stdout",
     "output_type": "stream",
     "text": [
      "['la_county', 'county_fuel', 'alternative_fuel', 'la_city']\n"
     ]
    }
   ],
   "source": [
    "catalog6 = intake.open_catalog('parquet.yml') #reading in new YAML file with updated data\n",
    "print(list(catalog6))"
   ]
  },
  {
   "cell_type": "markdown",
   "metadata": {},
   "source": [
    "## **Calling Upon Our Catalogs**"
   ]
  },
  {
   "cell_type": "markdown",
   "metadata": {},
   "source": [
    "The heavy lifting with intake is done by loading in different YAML files to process our desired file types and create catalogs. After establishing new catalogs, the analysis process is fairly consistent and standardized regardless of which file type we use. Calling upon catalogs allows us to directly read datasets into memory in a simplified manner and conduct whatever analysis we have in mind. \n",
    "\n",
    "To demonstrate the practicality of catalogs, let's try calling upon some of our datasets via our catalog and inspect the results.\n",
    "\n",
    "#### *For GeoJSON:*"
   ]
  },
  {
   "cell_type": "code",
   "execution_count": 19,
   "metadata": {},
   "outputs": [
    {
     "data": {
      "text/html": [
       "<div>\n",
       "<style scoped>\n",
       "    .dataframe tbody tr th:only-of-type {\n",
       "        vertical-align: middle;\n",
       "    }\n",
       "\n",
       "    .dataframe tbody tr th {\n",
       "        vertical-align: top;\n",
       "    }\n",
       "\n",
       "    .dataframe thead th {\n",
       "        text-align: right;\n",
       "    }\n",
       "</style>\n",
       "<table border=\"1\" class=\"dataframe\">\n",
       "  <thead>\n",
       "    <tr style=\"text-align: right;\">\n",
       "      <th></th>\n",
       "      <th>OBJECTID</th>\n",
       "      <th>Status</th>\n",
       "      <th>Side</th>\n",
       "      <th>ARC_Zone</th>\n",
       "      <th>LocID</th>\n",
       "      <th>LocName</th>\n",
       "      <th>Intersect_</th>\n",
       "      <th>Address_X</th>\n",
       "      <th>City</th>\n",
       "      <th>State</th>\n",
       "      <th>...</th>\n",
       "      <th>RackColor</th>\n",
       "      <th>Status_1</th>\n",
       "      <th>Notes</th>\n",
       "      <th>Install_Da</th>\n",
       "      <th>Priority</th>\n",
       "      <th>Request</th>\n",
       "      <th>Batch</th>\n",
       "      <th>Addrees</th>\n",
       "      <th>Zip_Code</th>\n",
       "      <th>geometry</th>\n",
       "    </tr>\n",
       "  </thead>\n",
       "  <tbody>\n",
       "    <tr>\n",
       "      <th>0</th>\n",
       "      <td>7001</td>\n",
       "      <td>M</td>\n",
       "      <td>L</td>\n",
       "      <td>91364</td>\n",
       "      <td>381</td>\n",
       "      <td>Acapulco</td>\n",
       "      <td>Canoga Ave</td>\n",
       "      <td>21326 Ventura Boulevard</td>\n",
       "      <td>Woodland Hills</td>\n",
       "      <td>CA</td>\n",
       "      <td>...</td>\n",
       "      <td>Black</td>\n",
       "      <td>Installed</td>\n",
       "      <td></td>\n",
       "      <td></td>\n",
       "      <td></td>\n",
       "      <td></td>\n",
       "      <td></td>\n",
       "      <td>21326 VENTURA BLVD</td>\n",
       "      <td>91364</td>\n",
       "      <td>POINT (-118.5964108110045 34.1674938768729)</td>\n",
       "    </tr>\n",
       "    <tr>\n",
       "      <th>1</th>\n",
       "      <td>7002</td>\n",
       "      <td>M</td>\n",
       "      <td>L</td>\n",
       "      <td>91364</td>\n",
       "      <td>379</td>\n",
       "      <td>Liquor Store</td>\n",
       "      <td>Alhama Dr.</td>\n",
       "      <td>21052 Ventura Boulevard</td>\n",
       "      <td>Woodland Hills</td>\n",
       "      <td>CA</td>\n",
       "      <td>...</td>\n",
       "      <td>Black</td>\n",
       "      <td>Installed</td>\n",
       "      <td></td>\n",
       "      <td></td>\n",
       "      <td></td>\n",
       "      <td></td>\n",
       "      <td></td>\n",
       "      <td>21052 VENTURA BLVD</td>\n",
       "      <td>91364</td>\n",
       "      <td>POINT (-118.5918492393963 34.16661162296765)</td>\n",
       "    </tr>\n",
       "  </tbody>\n",
       "</table>\n",
       "<p>2 rows × 26 columns</p>\n",
       "</div>"
      ],
      "text/plain": [
       "   OBJECTID Status Side ARC_Zone  LocID       LocName  Intersect_  \\\n",
       "0      7001      M    L    91364    381      Acapulco  Canoga Ave   \n",
       "1      7002      M    L    91364    379  Liquor Store  Alhama Dr.   \n",
       "\n",
       "                 Address_X            City State  ... RackColor   Status_1  \\\n",
       "0  21326 Ventura Boulevard  Woodland Hills    CA  ...     Black  Installed   \n",
       "1  21052 Ventura Boulevard  Woodland Hills    CA  ...     Black  Installed   \n",
       "\n",
       "   Notes Install_Da  Priority Request Batch             Addrees Zip_Code  \\\n",
       "0                                            21326 VENTURA BLVD    91364   \n",
       "1                                            21052 VENTURA BLVD    91364   \n",
       "\n",
       "                                       geometry  \n",
       "0   POINT (-118.5964108110045 34.1674938768729)  \n",
       "1  POINT (-118.5918492393963 34.16661162296765)  \n",
       "\n",
       "[2 rows x 26 columns]"
      ]
     },
     "execution_count": 19,
     "metadata": {},
     "output_type": "execute_result"
    }
   ],
   "source": [
    "#Remote GeoJSON\n",
    "geohub = catalog0.la_geohub\n",
    "bike_racks = geohub['http://geohub.lacity.org/datasets/3b022cced9704108af157d3d5eedb268_2'].read()\n",
    "bike_racks.head(2)"
   ]
  },
  {
   "cell_type": "code",
   "execution_count": 6,
   "metadata": {},
   "outputs": [
    {
     "data": {
      "text/html": [
       "<div>\n",
       "<style scoped>\n",
       "    .dataframe tbody tr th:only-of-type {\n",
       "        vertical-align: middle;\n",
       "    }\n",
       "\n",
       "    .dataframe tbody tr th {\n",
       "        vertical-align: top;\n",
       "    }\n",
       "\n",
       "    .dataframe thead th {\n",
       "        text-align: right;\n",
       "    }\n",
       "</style>\n",
       "<table border=\"1\" class=\"dataframe\">\n",
       "  <thead>\n",
       "    <tr style=\"text-align: right;\">\n",
       "      <th></th>\n",
       "      <th>OBJECTID</th>\n",
       "      <th>source</th>\n",
       "      <th>ext_id</th>\n",
       "      <th>cat1</th>\n",
       "      <th>cat2</th>\n",
       "      <th>cat3</th>\n",
       "      <th>org_name</th>\n",
       "      <th>Name</th>\n",
       "      <th>addrln1</th>\n",
       "      <th>addrln2</th>\n",
       "      <th>...</th>\n",
       "      <th>link</th>\n",
       "      <th>use_type</th>\n",
       "      <th>latitude</th>\n",
       "      <th>longitude</th>\n",
       "      <th>date_updated</th>\n",
       "      <th>email</th>\n",
       "      <th>dis_status</th>\n",
       "      <th>POINT_X</th>\n",
       "      <th>POINT_Y</th>\n",
       "      <th>geometry</th>\n",
       "    </tr>\n",
       "  </thead>\n",
       "  <tbody>\n",
       "    <tr>\n",
       "      <th>0</th>\n",
       "      <td>143606638</td>\n",
       "      <td>211</td>\n",
       "      <td>None</td>\n",
       "      <td>Arts and Recreation</td>\n",
       "      <td>Cultural and Performing Arts Centers</td>\n",
       "      <td>None</td>\n",
       "      <td>www.artslb.org</td>\n",
       "      <td>Arts Council For Long Beach</td>\n",
       "      <td>350 Elm Ave</td>\n",
       "      <td>None</td>\n",
       "      <td>...</td>\n",
       "      <td>http://egis3.lacounty.gov/lms/?p=2737</td>\n",
       "      <td>publish</td>\n",
       "      <td>33.771450</td>\n",
       "      <td>-118.187417</td>\n",
       "      <td>2013-06-01T11:50:56</td>\n",
       "      <td>None</td>\n",
       "      <td>None</td>\n",
       "      <td>6.504709e+06</td>\n",
       "      <td>1.739259e+06</td>\n",
       "      <td>POINT (-118.1874168562051 33.77144990722985)</td>\n",
       "    </tr>\n",
       "    <tr>\n",
       "      <th>1</th>\n",
       "      <td>143607237</td>\n",
       "      <td>Current Services Locator</td>\n",
       "      <td>None</td>\n",
       "      <td>Arts and Recreation</td>\n",
       "      <td>Cultural and Performing Arts Centers</td>\n",
       "      <td>None</td>\n",
       "      <td>US Geological Survey (USGS) &amp; LA County</td>\n",
       "      <td>Music Center</td>\n",
       "      <td>135 N. Grand Ave.</td>\n",
       "      <td>None</td>\n",
       "      <td>...</td>\n",
       "      <td>http://egis3.lacounty.gov/lms/?p=3304</td>\n",
       "      <td>publish</td>\n",
       "      <td>34.056663</td>\n",
       "      <td>-118.248351</td>\n",
       "      <td>2010-11-01T19:50:56</td>\n",
       "      <td>None</td>\n",
       "      <td>None</td>\n",
       "      <td>6.486446e+06</td>\n",
       "      <td>1.843094e+06</td>\n",
       "      <td>POINT (-118.2483515565085 34.05666332732928)</td>\n",
       "    </tr>\n",
       "  </tbody>\n",
       "</table>\n",
       "<p>2 rows × 30 columns</p>\n",
       "</div>"
      ],
      "text/plain": [
       "    OBJECTID                    source ext_id                 cat1  \\\n",
       "0  143606638                       211   None  Arts and Recreation   \n",
       "1  143607237  Current Services Locator   None  Arts and Recreation   \n",
       "\n",
       "                                   cat2  cat3  \\\n",
       "0  Cultural and Performing Arts Centers  None   \n",
       "1  Cultural and Performing Arts Centers  None   \n",
       "\n",
       "                                  org_name                         Name  \\\n",
       "0                           www.artslb.org  Arts Council For Long Beach   \n",
       "1  US Geological Survey (USGS) & LA County                 Music Center   \n",
       "\n",
       "             addrln1 addrln2  ...                                   link  \\\n",
       "0        350 Elm Ave    None  ...  http://egis3.lacounty.gov/lms/?p=2737   \n",
       "1  135 N. Grand Ave.    None  ...  http://egis3.lacounty.gov/lms/?p=3304   \n",
       "\n",
       "  use_type   latitude   longitude         date_updated email dis_status  \\\n",
       "0  publish  33.771450 -118.187417  2013-06-01T11:50:56  None       None   \n",
       "1  publish  34.056663 -118.248351  2010-11-01T19:50:56  None       None   \n",
       "\n",
       "        POINT_X       POINT_Y                                      geometry  \n",
       "0  6.504709e+06  1.739259e+06  POINT (-118.1874168562051 33.77144990722985)  \n",
       "1  6.486446e+06  1.843094e+06  POINT (-118.2483515565085 34.05666332732928)  \n",
       "\n",
       "[2 rows x 30 columns]"
      ]
     },
     "execution_count": 6,
     "metadata": {},
     "output_type": "execute_result"
    }
   ],
   "source": [
    "#Local GeoJSON\n",
    "cultural = catalog1.cultural_data\n",
    "cultural_centers = catalog1.cultural_data.read()\n",
    "cultural_centers.head(2)"
   ]
  },
  {
   "cell_type": "markdown",
   "metadata": {},
   "source": [
    "As you can see, the data is produced in a clean and readable fashion. Let's now call upon one local and one remote version of a CSV, a Shapefile, and a Parquet file."
   ]
  },
  {
   "cell_type": "markdown",
   "metadata": {},
   "source": [
    "#### *For CSVs:*"
   ]
  },
  {
   "cell_type": "code",
   "execution_count": 21,
   "metadata": {},
   "outputs": [
    {
     "data": {
      "text/html": [
       "<div>\n",
       "<style scoped>\n",
       "    .dataframe tbody tr th:only-of-type {\n",
       "        vertical-align: middle;\n",
       "    }\n",
       "\n",
       "    .dataframe tbody tr th {\n",
       "        vertical-align: top;\n",
       "    }\n",
       "\n",
       "    .dataframe thead th {\n",
       "        text-align: right;\n",
       "    }\n",
       "</style>\n",
       "<table border=\"1\" class=\"dataframe\">\n",
       "  <thead>\n",
       "    <tr style=\"text-align: right;\">\n",
       "      <th></th>\n",
       "      <th>Site Name</th>\n",
       "      <th>Property No.</th>\n",
       "      <th>Acres</th>\n",
       "      <th>Actual Units</th>\n",
       "      <th>Occupied Units</th>\n",
       "      <th>Rate of Occupied Units</th>\n",
       "      <th>No. of Resident</th>\n",
       "      <th>Average Rent Per Month</th>\n",
       "      <th>Average Monthly Income Per Family</th>\n",
       "      <th>Location</th>\n",
       "    </tr>\n",
       "  </thead>\n",
       "  <tbody>\n",
       "    <tr>\n",
       "      <th>0</th>\n",
       "      <td>Nickerson Gardens</td>\n",
       "      <td>4013</td>\n",
       "      <td>68.6</td>\n",
       "      <td>NaN</td>\n",
       "      <td>1029.0</td>\n",
       "      <td>96.5</td>\n",
       "      <td>* 3,217</td>\n",
       "      <td>286.0</td>\n",
       "      <td>1194.0</td>\n",
       "      <td>1590 E 114th St.\\nLos Angeles, CA 90059\\n(33.9...</td>\n",
       "    </tr>\n",
       "    <tr>\n",
       "      <th>1</th>\n",
       "      <td>San Fernando Gardens</td>\n",
       "      <td>4022</td>\n",
       "      <td>33.5</td>\n",
       "      <td>448.0</td>\n",
       "      <td>445.0</td>\n",
       "      <td>99.3</td>\n",
       "      <td>* 1,692</td>\n",
       "      <td>435.0</td>\n",
       "      <td>1812.0</td>\n",
       "      <td>10995 Lehigh St.\\nPacoima, CA 91331\\n(34.26922...</td>\n",
       "    </tr>\n",
       "  </tbody>\n",
       "</table>\n",
       "</div>"
      ],
      "text/plain": [
       "              Site Name Property No.  Acres  Actual Units  Occupied Units  \\\n",
       "0     Nickerson Gardens         4013   68.6           NaN          1029.0   \n",
       "1  San Fernando Gardens         4022   33.5         448.0           445.0   \n",
       "\n",
       "   Rate of Occupied Units No. of Resident  Average Rent Per Month  \\\n",
       "0                    96.5         * 3,217                   286.0   \n",
       "1                    99.3         * 1,692                   435.0   \n",
       "\n",
       "   Average Monthly Income Per Family  \\\n",
       "0                             1194.0   \n",
       "1                             1812.0   \n",
       "\n",
       "                                            Location  \n",
       "0  1590 E 114th St.\\nLos Angeles, CA 90059\\n(33.9...  \n",
       "1  10995 Lehigh St.\\nPacoima, CA 91331\\n(34.26922...  "
      ]
     },
     "execution_count": 21,
     "metadata": {},
     "output_type": "execute_result"
    }
   ],
   "source": [
    "#Remote CSV:\n",
    "house = catalog2.housing_data\n",
    "housing = catalog2.housing_data.read()\n",
    "housing.head(2)"
   ]
  },
  {
   "cell_type": "code",
   "execution_count": 22,
   "metadata": {},
   "outputs": [
    {
     "data": {
      "text/html": [
       "<div>\n",
       "<style scoped>\n",
       "    .dataframe tbody tr th:only-of-type {\n",
       "        vertical-align: middle;\n",
       "    }\n",
       "\n",
       "    .dataframe tbody tr th {\n",
       "        vertical-align: top;\n",
       "    }\n",
       "\n",
       "    .dataframe thead th {\n",
       "        text-align: right;\n",
       "    }\n",
       "</style>\n",
       "<table border=\"1\" class=\"dataframe\">\n",
       "  <thead>\n",
       "    <tr style=\"text-align: right;\">\n",
       "      <th></th>\n",
       "      <th>X</th>\n",
       "      <th>Y</th>\n",
       "      <th>OBJECTID</th>\n",
       "      <th>source</th>\n",
       "      <th>ext_id</th>\n",
       "      <th>cat1</th>\n",
       "      <th>cat2</th>\n",
       "      <th>cat3</th>\n",
       "      <th>org_name</th>\n",
       "      <th>Name</th>\n",
       "      <th>...</th>\n",
       "      <th>description</th>\n",
       "      <th>zip</th>\n",
       "      <th>link</th>\n",
       "      <th>use_type</th>\n",
       "      <th>latitude</th>\n",
       "      <th>longitude</th>\n",
       "      <th>date_updated</th>\n",
       "      <th>dis_status</th>\n",
       "      <th>POINT_X</th>\n",
       "      <th>POINT_Y</th>\n",
       "    </tr>\n",
       "  </thead>\n",
       "  <tbody>\n",
       "    <tr>\n",
       "      <th>0</th>\n",
       "      <td>-118.578132</td>\n",
       "      <td>34.045767</td>\n",
       "      <td>143673799</td>\n",
       "      <td>NaN</td>\n",
       "      <td>NaN</td>\n",
       "      <td>Transportation</td>\n",
       "      <td>County Fueling Stations</td>\n",
       "      <td>NaN</td>\n",
       "      <td>DPW</td>\n",
       "      <td>DPW Topanga</td>\n",
       "      <td>...</td>\n",
       "      <td>NaN</td>\n",
       "      <td>91780</td>\n",
       "      <td>http://egis3.lacounty.gov/lms/?p=81375</td>\n",
       "      <td>publish</td>\n",
       "      <td>34.045767</td>\n",
       "      <td>-118.578132</td>\n",
       "      <td>2016-07-07T16:10:37.000Z</td>\n",
       "      <td>NaN</td>\n",
       "      <td>6.386534e+06</td>\n",
       "      <td>1.839540e+06</td>\n",
       "    </tr>\n",
       "    <tr>\n",
       "      <th>1</th>\n",
       "      <td>-118.248025</td>\n",
       "      <td>34.056659</td>\n",
       "      <td>143675317</td>\n",
       "      <td>NaN</td>\n",
       "      <td>NaN</td>\n",
       "      <td>Transportation</td>\n",
       "      <td>County Fueling Stations</td>\n",
       "      <td>NaN</td>\n",
       "      <td>ISD</td>\n",
       "      <td>ISD HOA (Hall of Admin)</td>\n",
       "      <td>...</td>\n",
       "      <td>NaN</td>\n",
       "      <td>90012</td>\n",
       "      <td>http://egis3.lacounty.gov/lms/?p=76214</td>\n",
       "      <td>publish</td>\n",
       "      <td>34.056659</td>\n",
       "      <td>-118.248025</td>\n",
       "      <td>2018-02-28T11:49:48.000Z</td>\n",
       "      <td>NaN</td>\n",
       "      <td>6.486545e+06</td>\n",
       "      <td>1.843092e+06</td>\n",
       "    </tr>\n",
       "  </tbody>\n",
       "</table>\n",
       "<p>2 rows × 31 columns</p>\n",
       "</div>"
      ],
      "text/plain": [
       "            X          Y   OBJECTID  source  ext_id            cat1  \\\n",
       "0 -118.578132  34.045767  143673799     NaN     NaN  Transportation   \n",
       "1 -118.248025  34.056659  143675317     NaN     NaN  Transportation   \n",
       "\n",
       "                      cat2  cat3 org_name                     Name  ...  \\\n",
       "0  County Fueling Stations   NaN      DPW              DPW Topanga  ...   \n",
       "1  County Fueling Stations   NaN      ISD  ISD HOA (Hall of Admin)  ...   \n",
       "\n",
       "  description    zip                                    link use_type  \\\n",
       "0         NaN  91780  http://egis3.lacounty.gov/lms/?p=81375  publish   \n",
       "1         NaN  90012  http://egis3.lacounty.gov/lms/?p=76214  publish   \n",
       "\n",
       "    latitude   longitude              date_updated  dis_status       POINT_X  \\\n",
       "0  34.045767 -118.578132  2016-07-07T16:10:37.000Z         NaN  6.386534e+06   \n",
       "1  34.056659 -118.248025  2018-02-28T11:49:48.000Z         NaN  6.486545e+06   \n",
       "\n",
       "        POINT_Y  \n",
       "0  1.839540e+06  \n",
       "1  1.843092e+06  \n",
       "\n",
       "[2 rows x 31 columns]"
      ]
     },
     "execution_count": 22,
     "metadata": {},
     "output_type": "execute_result"
    }
   ],
   "source": [
    "#Local CSV:\n",
    "county = catalog3.county_fuel\n",
    "county_fuel = catalog3.county_fuel.read()\n",
    "county_fuel.head(2)"
   ]
  },
  {
   "cell_type": "markdown",
   "metadata": {},
   "source": [
    "#### *For Shapefiles:*"
   ]
  },
  {
   "cell_type": "code",
   "execution_count": 23,
   "metadata": {},
   "outputs": [
    {
     "data": {
      "text/html": [
       "<div>\n",
       "<style scoped>\n",
       "    .dataframe tbody tr th:only-of-type {\n",
       "        vertical-align: middle;\n",
       "    }\n",
       "\n",
       "    .dataframe tbody tr th {\n",
       "        vertical-align: top;\n",
       "    }\n",
       "\n",
       "    .dataframe thead th {\n",
       "        text-align: right;\n",
       "    }\n",
       "</style>\n",
       "<table border=\"1\" class=\"dataframe\">\n",
       "  <thead>\n",
       "    <tr style=\"text-align: right;\">\n",
       "      <th></th>\n",
       "      <th>OBJECTID</th>\n",
       "      <th>source</th>\n",
       "      <th>ext_id</th>\n",
       "      <th>cat1</th>\n",
       "      <th>cat2</th>\n",
       "      <th>cat3</th>\n",
       "      <th>org_name</th>\n",
       "      <th>Name</th>\n",
       "      <th>addrln1</th>\n",
       "      <th>addrln2</th>\n",
       "      <th>...</th>\n",
       "      <th>zip</th>\n",
       "      <th>link</th>\n",
       "      <th>use_type</th>\n",
       "      <th>latitude</th>\n",
       "      <th>longitude</th>\n",
       "      <th>date_updat</th>\n",
       "      <th>dis_status</th>\n",
       "      <th>POINT_X</th>\n",
       "      <th>POINT_Y</th>\n",
       "      <th>geometry</th>\n",
       "    </tr>\n",
       "  </thead>\n",
       "  <tbody>\n",
       "    <tr>\n",
       "      <th>0</th>\n",
       "      <td>143673799</td>\n",
       "      <td>None</td>\n",
       "      <td>None</td>\n",
       "      <td>Transportation</td>\n",
       "      <td>County Fueling Stations</td>\n",
       "      <td>None</td>\n",
       "      <td>DPW</td>\n",
       "      <td>DPW Topanga</td>\n",
       "      <td>3800 S. Topanga Cyn  Blvd.</td>\n",
       "      <td>None</td>\n",
       "      <td>...</td>\n",
       "      <td>91780</td>\n",
       "      <td>http://egis3.lacounty.gov/lms/?p=81375</td>\n",
       "      <td>publish</td>\n",
       "      <td>34.045767</td>\n",
       "      <td>-118.578132</td>\n",
       "      <td>2016-07-07T16:10:37.000Z</td>\n",
       "      <td>None</td>\n",
       "      <td>6.386534e+06</td>\n",
       "      <td>1.839540e+06</td>\n",
       "      <td>POINT (-118.5781323561294 34.04576726675207)</td>\n",
       "    </tr>\n",
       "    <tr>\n",
       "      <th>1</th>\n",
       "      <td>143675317</td>\n",
       "      <td>None</td>\n",
       "      <td>None</td>\n",
       "      <td>Transportation</td>\n",
       "      <td>County Fueling Stations</td>\n",
       "      <td>None</td>\n",
       "      <td>ISD</td>\n",
       "      <td>ISD HOA (Hall of Admin)</td>\n",
       "      <td>140 N. Grand Ave</td>\n",
       "      <td>None</td>\n",
       "      <td>...</td>\n",
       "      <td>90012</td>\n",
       "      <td>http://egis3.lacounty.gov/lms/?p=76214</td>\n",
       "      <td>publish</td>\n",
       "      <td>34.056659</td>\n",
       "      <td>-118.248025</td>\n",
       "      <td>2018-02-28T11:49:48.000Z</td>\n",
       "      <td>None</td>\n",
       "      <td>6.486545e+06</td>\n",
       "      <td>1.843092e+06</td>\n",
       "      <td>POINT (-118.2480252069915 34.0566587546944)</td>\n",
       "    </tr>\n",
       "  </tbody>\n",
       "</table>\n",
       "<p>2 rows × 30 columns</p>\n",
       "</div>"
      ],
      "text/plain": [
       "    OBJECTID source ext_id            cat1                     cat2  cat3  \\\n",
       "0  143673799   None   None  Transportation  County Fueling Stations  None   \n",
       "1  143675317   None   None  Transportation  County Fueling Stations  None   \n",
       "\n",
       "  org_name                     Name                     addrln1 addrln2  ...  \\\n",
       "0      DPW              DPW Topanga  3800 S. Topanga Cyn  Blvd.    None  ...   \n",
       "1      ISD  ISD HOA (Hall of Admin)            140 N. Grand Ave    None  ...   \n",
       "\n",
       "     zip                                    link use_type   latitude  \\\n",
       "0  91780  http://egis3.lacounty.gov/lms/?p=81375  publish  34.045767   \n",
       "1  90012  http://egis3.lacounty.gov/lms/?p=76214  publish  34.056659   \n",
       "\n",
       "    longitude                date_updat dis_status       POINT_X  \\\n",
       "0 -118.578132  2016-07-07T16:10:37.000Z       None  6.386534e+06   \n",
       "1 -118.248025  2018-02-28T11:49:48.000Z       None  6.486545e+06   \n",
       "\n",
       "        POINT_Y                                      geometry  \n",
       "0  1.839540e+06  POINT (-118.5781323561294 34.04576726675207)  \n",
       "1  1.843092e+06   POINT (-118.2480252069915 34.0566587546944)  \n",
       "\n",
       "[2 rows x 30 columns]"
      ]
     },
     "execution_count": 23,
     "metadata": {},
     "output_type": "execute_result"
    }
   ],
   "source": [
    "#Remote SHP:\n",
    "permit = catalog4.build_permit_data\n",
    "build_permits = catalog4.build_permit_data.read()\n",
    "build_permits.head(2)"
   ]
  },
  {
   "cell_type": "code",
   "execution_count": 32,
   "metadata": {},
   "outputs": [
    {
     "data": {
      "text/html": [
       "<div>\n",
       "<style scoped>\n",
       "    .dataframe tbody tr th:only-of-type {\n",
       "        vertical-align: middle;\n",
       "    }\n",
       "\n",
       "    .dataframe tbody tr th {\n",
       "        vertical-align: top;\n",
       "    }\n",
       "\n",
       "    .dataframe thead th {\n",
       "        text-align: right;\n",
       "    }\n",
       "</style>\n",
       "<table border=\"1\" class=\"dataframe\">\n",
       "  <thead>\n",
       "    <tr style=\"text-align: right;\">\n",
       "      <th></th>\n",
       "      <th>OBJECTID</th>\n",
       "      <th>source</th>\n",
       "      <th>ext_id</th>\n",
       "      <th>cat1</th>\n",
       "      <th>cat2</th>\n",
       "      <th>cat3</th>\n",
       "      <th>org_name</th>\n",
       "      <th>Name</th>\n",
       "      <th>addrln1</th>\n",
       "      <th>addrln2</th>\n",
       "      <th>...</th>\n",
       "      <th>zip</th>\n",
       "      <th>link</th>\n",
       "      <th>use_type</th>\n",
       "      <th>latitude</th>\n",
       "      <th>longitude</th>\n",
       "      <th>date_updat</th>\n",
       "      <th>dis_status</th>\n",
       "      <th>POINT_X</th>\n",
       "      <th>POINT_Y</th>\n",
       "      <th>geometry</th>\n",
       "    </tr>\n",
       "  </thead>\n",
       "  <tbody>\n",
       "    <tr>\n",
       "      <th>0</th>\n",
       "      <td>143673799</td>\n",
       "      <td>None</td>\n",
       "      <td>None</td>\n",
       "      <td>Transportation</td>\n",
       "      <td>County Fueling Stations</td>\n",
       "      <td>None</td>\n",
       "      <td>DPW</td>\n",
       "      <td>DPW Topanga</td>\n",
       "      <td>3800 S. Topanga Cyn  Blvd.</td>\n",
       "      <td>None</td>\n",
       "      <td>...</td>\n",
       "      <td>91780</td>\n",
       "      <td>http://egis3.lacounty.gov/lms/?p=81375</td>\n",
       "      <td>publish</td>\n",
       "      <td>34.045767</td>\n",
       "      <td>-118.578132</td>\n",
       "      <td>2016-07-07T16:10:37.000Z</td>\n",
       "      <td>None</td>\n",
       "      <td>6.386534e+06</td>\n",
       "      <td>1.839540e+06</td>\n",
       "      <td>POINT (-118.5781323561294 34.04576726675207)</td>\n",
       "    </tr>\n",
       "    <tr>\n",
       "      <th>1</th>\n",
       "      <td>143675317</td>\n",
       "      <td>None</td>\n",
       "      <td>None</td>\n",
       "      <td>Transportation</td>\n",
       "      <td>County Fueling Stations</td>\n",
       "      <td>None</td>\n",
       "      <td>ISD</td>\n",
       "      <td>ISD HOA (Hall of Admin)</td>\n",
       "      <td>140 N. Grand Ave</td>\n",
       "      <td>None</td>\n",
       "      <td>...</td>\n",
       "      <td>90012</td>\n",
       "      <td>http://egis3.lacounty.gov/lms/?p=76214</td>\n",
       "      <td>publish</td>\n",
       "      <td>34.056659</td>\n",
       "      <td>-118.248025</td>\n",
       "      <td>2018-02-28T11:49:48.000Z</td>\n",
       "      <td>None</td>\n",
       "      <td>6.486545e+06</td>\n",
       "      <td>1.843092e+06</td>\n",
       "      <td>POINT (-118.2480252069915 34.0566587546944)</td>\n",
       "    </tr>\n",
       "  </tbody>\n",
       "</table>\n",
       "<p>2 rows × 30 columns</p>\n",
       "</div>"
      ],
      "text/plain": [
       "    OBJECTID source ext_id            cat1                     cat2  cat3  \\\n",
       "0  143673799   None   None  Transportation  County Fueling Stations  None   \n",
       "1  143675317   None   None  Transportation  County Fueling Stations  None   \n",
       "\n",
       "  org_name                     Name                     addrln1 addrln2  ...  \\\n",
       "0      DPW              DPW Topanga  3800 S. Topanga Cyn  Blvd.    None  ...   \n",
       "1      ISD  ISD HOA (Hall of Admin)            140 N. Grand Ave    None  ...   \n",
       "\n",
       "     zip                                    link use_type   latitude  \\\n",
       "0  91780  http://egis3.lacounty.gov/lms/?p=81375  publish  34.045767   \n",
       "1  90012  http://egis3.lacounty.gov/lms/?p=76214  publish  34.056659   \n",
       "\n",
       "    longitude                date_updat dis_status       POINT_X  \\\n",
       "0 -118.578132  2016-07-07T16:10:37.000Z       None  6.386534e+06   \n",
       "1 -118.248025  2018-02-28T11:49:48.000Z       None  6.486545e+06   \n",
       "\n",
       "        POINT_Y                                      geometry  \n",
       "0  1.839540e+06  POINT (-118.5781323561294 34.04576726675207)  \n",
       "1  1.843092e+06   POINT (-118.2480252069915 34.0566587546944)  \n",
       "\n",
       "[2 rows x 30 columns]"
      ]
     },
     "execution_count": 32,
     "metadata": {},
     "output_type": "execute_result"
    }
   ],
   "source": [
    "#Local SHP:\n",
    "fuel = catalog5.county_stations\n",
    "county_stations = catalog5.county_stations.read()\n",
    "county_stations.head(2)"
   ]
  },
  {
   "cell_type": "markdown",
   "metadata": {},
   "source": [
    "#### *For Parquets:*\n",
    "\n",
    "There is a small modification here. Instead of using `catalog.data_source.read()` which works to draw out the data for all other file types, we need to use `catalog.data_source.get()` to process parquet files. This is related to the plug-in used for reading parquet files via a YAML file, as well as to the pros and cons of parquet files. Parquet files are a more condensed and easily loaded version of CSVs. With that decrease in size and ability to process data types comes a lack of ability to read and inspect them manually, as a CSV is capable of doing."
   ]
  },
  {
   "cell_type": "code",
   "execution_count": 25,
   "metadata": {},
   "outputs": [
    {
     "data": {
      "text/plain": [
       "<intake_parquet.source.ParquetSource at 0x7f33d065c668>"
      ]
     },
     "execution_count": 25,
     "metadata": {},
     "output_type": "execute_result"
    }
   ],
   "source": [
    "#local Parquet:\n",
    "frame1 = catalog6.la_county\n",
    "county = catalog6.la_county.get()\n",
    "county"
   ]
  },
  {
   "cell_type": "markdown",
   "metadata": {},
   "source": [
    "# Conducting Our Analysis:\n",
    "\n",
    "Once we have read our datasets into memory, we can then work on analyzing the information. From here, the process mainly varies depending on what you are looking to find. One way to uncover useful insights from our data is to plot our points. Since the process of reading datasets into memory is pretty consistent across the board, I will plot the local shapefiles as an example."
   ]
  },
  {
   "cell_type": "markdown",
   "metadata": {},
   "source": [
    "First, I will read into memory the three other local shapefile datasets."
   ]
  },
  {
   "cell_type": "code",
   "execution_count": 26,
   "metadata": {},
   "outputs": [],
   "source": [
    "#Locations of Alternative Fueling Stations\n",
    "hybrid = catalog5.alternative_fuel\n",
    "alternatives = catalog5.alternative_fuel.read()\n",
    "\n",
    "#LA County Boundary\n",
    "county = catalog5.la_county\n",
    "county_boundary = catalog5.la_county.read()\n",
    "\n",
    "#LA City Boundary\n",
    "city = catalog5.la_city\n",
    "city_boundary = catalog5.la_city.read()"
   ]
  },
  {
   "cell_type": "markdown",
   "metadata": {},
   "source": [
    "Next, I will take these datasets and plot them using matplotlib."
   ]
  },
  {
   "cell_type": "code",
   "execution_count": 27,
   "metadata": {},
   "outputs": [
    {
     "data": {
      "text/plain": [
       "<matplotlib.axes._subplots.AxesSubplot at 0x7f33d0668a20>"
      ]
     },
     "execution_count": 27,
     "metadata": {},
     "output_type": "execute_result"
    },
    {
     "data": {
      "image/png": "[encoded data removed]",
      "text/plain": [
       "<Figure size 1152x1152 with 1 Axes>"
      ]
     },
     "metadata": {
      "needs_background": "light"
     },
     "output_type": "display_data"
    }
   ],
   "source": [
    "import matplotlib.pyplot as plt\n",
    "fig, ax = plt.subplots(1, figsize=(16,16))\n",
    "city_boundary.plot(ax=ax, color='pink', alpha=0.2, linewidth=1, edgecolor='white')\n",
    "county_boundary.plot(ax=ax, color='darkgreen', alpha=0.2, linewidth=1, edgecolor='black')\n",
    "county_stations.plot(ax=ax, color='navy', alpha=0.5, linewidth=1)\n",
    "alternatives.plot(ax=ax, color='maroon', alpha=0.5, markersize=1)"
   ]
  },
  {
   "cell_type": "markdown",
   "metadata": {},
   "source": [
    "From here I could continue analyzing the data. Possible questions might be: Does the concentration of alternative fueling stations have a relationship to the income levels of certain portions of LA County? Is there a correlation between the number of county fueling stations and the number of alternative fueling stations in particularly concentrated portions of LA City? Looking to answer these questions is an easier process because we used intake to catalog what could otherwise be complex sources of data. Instead of spending time adding in boilerplate code and searching for the various files we want to load in, we can simiplify our process by incorporating intake into our methodology."
   ]
  },
  {
   "cell_type": "code",
   "execution_count": null,
   "metadata": {},
   "outputs": [],
   "source": []
  }
 ],
 "metadata": {
  "kernelspec": {
   "display_name": "Python 3",
   "language": "python",
   "name": "python3"
  },
  "language_info": {
   "codemirror_mode": {
    "name": "ipython",
    "version": 3
   },
   "file_extension": ".py",
   "mimetype": "text/x-python",
   "name": "python",
   "nbconvert_exporter": "python",
   "pygments_lexer": "ipython3",
   "version": "3.7.3"
  }
 },
 "nbformat": 4,
 "nbformat_minor": 4
}
