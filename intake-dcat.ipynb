{
 "cells": [
  {
   "cell_type": "markdown",
   "metadata": {},
   "source": [
    "# Intake catalog example\n",
    "\n",
    "We would like to more easily interact with the datasets available at [data.lacity.org](data.lacity.org)\n",
    "and [geohub.lacity.org](geohub.lacity.org).\n",
    "\n",
    "These data portals have catalogs available at the `data.json` endpoints, which are specified in the\n",
    "DCAT (https://project-open-data.cio.gov/v1.1/schema) catalog format.\n",
    "\n",
    "We have begun work on an `intake` catalog source that adapts a DCAT catalog to an intake catalog,\n",
    "along with specifying how to load datasets.\n",
    "\n",
    "Begin by importing it:"
   ]
  },
  {
   "cell_type": "code",
   "execution_count": 1,
   "metadata": {},
   "outputs": [],
   "source": [
    "%matplotlib inline\n",
    "from intake_dcat import DCATCatalog"
   ]
  },
  {
   "cell_type": "markdown",
   "metadata": {},
   "source": [
    "We can then load the data catalog for `data.lacity.org`:"
   ]
  },
  {
   "cell_type": "code",
   "execution_count": 2,
   "metadata": {},
   "outputs": [
    {
     "data": {
      "text/plain": [
       "864"
      ]
     },
     "execution_count": 2,
     "metadata": {},
     "output_type": "execute_result"
    }
   ],
   "source": [
    "catalog = DCATCatalog('http://geohub.lacity.org/data.json', 'geohub')\n",
    "len(list(catalog))"
   ]
  },
  {
   "cell_type": "code",
   "execution_count": 3,
   "metadata": {},
   "outputs": [
    {
     "data": {
      "text/plain": [
       "15"
      ]
     },
     "execution_count": 3,
     "metadata": {},
     "output_type": "execute_result"
    }
   ],
   "source": [
    "catalog_bike = catalog.search('bike')\n",
    "len(list(catalog_bike))"
   ]
  },
  {
   "cell_type": "code",
   "execution_count": 4,
   "metadata": {},
   "outputs": [
    {
     "data": {
      "text/html": [
       "\n",
       "        <h3>Connect High Bike/Walk Communities to Medical Facilities and Shopping</h3>\n",
       "        <div style=\"display: flex; flex-direction: row; flex-wrap: wrap; height:256px\">\n",
       "            <div style=\"flex: 0 0 256px; padding-right: 24px\">\n",
       "                \n",
       "            <p><b>ID:</b><a href=\"http://geohub.lacity.org/datasets/1abbfb4f99da4f868205b34a72ede241_18\"> http://geohub.lacity.org/datasets/1abbfb4f99da4f868205b34a72ede241_18</a></p>\n",
       "            <p><b>Issued:</b> 2018-01-26T16:41:58.000Z</p>\n",
       "            <p><b>Last Modified:</b> 2019-03-26T16:15:51.747Z</p>\n",
       "            <p><b>Publisher:</b> City of Los Angeles Hub</p>\n",
       "            <p><b>License:</b> https://hub.arcgis.com/api/v2/datasets/1abbfb4f99da4f868205b34a72ede241_18/license</p>\n",
       "            <p><b>Download URL:</b><a href=\"http://geohub.lacity.org/datasets/1abbfb4f99da4f868205b34a72ede241_18.geojson\"> http://geohub.lacity.org/datasets/1abbfb4f99da4f868205b34a72ede241_18.geojson</a></p>\n",
       "        \n",
       "            </div>\n",
       "            <div style=\"flex: 1 1 0; height: 100%; overflow: auto\">\n",
       "                <p>\n",
       "                    <p>The Trust for Public Land's Climate-Smart Cities Program is founded on the principle that to respond to climate change, cities must restore natural functions of the land by weaving green elements into the built environment. The Climate Smart Cities Program helps cities meet the challenges through the development of spatial data and decision support tools that translate the goals from a city’s strategic climate planning into priority sites for green infrastructure development. The Climate Smart Cities Program categorizes these strategies under the climate objectives of Connecting, Cooling, Absorbing, and Protecting.</p><p>Data interpretation:</p><p>5 = Very High Priority for Green Infrastructure</p><p>4 = High Priority for Green Infrastructure</p><p>3 = Medium Priority for Green Infrastructure</p><p>0-2 = Low Value</p><p></p><p>Values 3, 4, and 5 should be used when assessing highest prioritization from the model.</p>\n",
       "                </p>\n",
       "            </div>\n",
       "        </div>\n",
       "        "
      ],
      "text/plain": [
       "http://geohub.lacity.org/datasets/1abbfb4f99da4f868205b34a72ede241_18\n",
       "Connect High Bike/Walk Communities to Medical Facilities and Shopping\n",
       "<p>The Trust for Public Land's Climate-Smart Cities Program is founded on the principle that to respond to climate change, cities must restore natural functions of the land by weaving green elements into the built environment. The Climate Smart Cities Program helps cities meet the challenges through the development of spatial data and decision support tools that translate the goals from a city’s strategic climate planning into priority sites for green infrastructure development. The Climate Smart Cities Program categorizes these strategies under the climate objectives of Connecting, Cooling, Absorbing, and Protecting.</p><p>Data interpretation:</p><p>5 = Very High Priority for Green Infrastructure</p><p>4 = High Priority for Green Infrastructure</p><p>3 = Medium Priority for Green Infrastructure</p><p>0-2 = Low Value</p><p></p><p>Values 3, 4, and 5 should be used when assessing highest prioritization from the model.</p>"
      ]
     },
     "metadata": {},
     "output_type": "display_data"
    },
    {
     "data": {
      "text/html": [
       "\n",
       "        <h3>Connect High Bike/Walk Communities to Job Rich Districts</h3>\n",
       "        <div style=\"display: flex; flex-direction: row; flex-wrap: wrap; height:256px\">\n",
       "            <div style=\"flex: 0 0 256px; padding-right: 24px\">\n",
       "                \n",
       "            <p><b>ID:</b><a href=\"http://geohub.lacity.org/datasets/1abbfb4f99da4f868205b34a72ede241_17\"> http://geohub.lacity.org/datasets/1abbfb4f99da4f868205b34a72ede241_17</a></p>\n",
       "            <p><b>Issued:</b> 2018-01-26T16:41:58.000Z</p>\n",
       "            <p><b>Last Modified:</b> 2019-03-26T16:15:27.802Z</p>\n",
       "            <p><b>Publisher:</b> City of Los Angeles Hub</p>\n",
       "            <p><b>License:</b> https://hub.arcgis.com/api/v2/datasets/1abbfb4f99da4f868205b34a72ede241_17/license</p>\n",
       "            <p><b>Download URL:</b><a href=\"http://geohub.lacity.org/datasets/1abbfb4f99da4f868205b34a72ede241_17.geojson\"> http://geohub.lacity.org/datasets/1abbfb4f99da4f868205b34a72ede241_17.geojson</a></p>\n",
       "        \n",
       "            </div>\n",
       "            <div style=\"flex: 1 1 0; height: 100%; overflow: auto\">\n",
       "                <p>\n",
       "                    <p>The Trust for Public Land's Climate-Smart Cities Program is founded on the principle that to respond to climate change, cities must restore natural functions of the land by weaving green elements into the built environment. The Climate Smart Cities Program helps cities meet the challenges through the development of spatial data and decision support tools that translate the goals from a city’s strategic climate planning into priority sites for green infrastructure development. The Climate Smart Cities Program categorizes these strategies under the climate objectives of Connecting, Cooling, Absorbing, and Protecting.</p><p>Data interpretation:</p><p>5 = Very High Priority for Green Infrastructure</p><p>4 = High Priority for Green Infrastructure</p><p>3 = Medium Priority for Green Infrastructure</p><p>0-2 = Low Value</p><p></p><p>Values 3, 4, and 5 should be used when assessing highest prioritization from the model.</p>\n",
       "                </p>\n",
       "            </div>\n",
       "        </div>\n",
       "        "
      ],
      "text/plain": [
       "http://geohub.lacity.org/datasets/1abbfb4f99da4f868205b34a72ede241_17\n",
       "Connect High Bike/Walk Communities to Job Rich Districts\n",
       "<p>The Trust for Public Land's Climate-Smart Cities Program is founded on the principle that to respond to climate change, cities must restore natural functions of the land by weaving green elements into the built environment. The Climate Smart Cities Program helps cities meet the challenges through the development of spatial data and decision support tools that translate the goals from a city’s strategic climate planning into priority sites for green infrastructure development. The Climate Smart Cities Program categorizes these strategies under the climate objectives of Connecting, Cooling, Absorbing, and Protecting.</p><p>Data interpretation:</p><p>5 = Very High Priority for Green Infrastructure</p><p>4 = High Priority for Green Infrastructure</p><p>3 = Medium Priority for Green Infrastructure</p><p>0-2 = Low Value</p><p></p><p>Values 3, 4, and 5 should be used when assessing highest prioritization from the model.</p>"
      ]
     },
     "metadata": {},
     "output_type": "display_data"
    },
    {
     "data": {
      "text/html": [
       "\n",
       "        <h3>LACity Boundary</h3>\n",
       "        <div style=\"display: flex; flex-direction: row; flex-wrap: wrap; height:256px\">\n",
       "            <div style=\"flex: 0 0 256px; padding-right: 24px\">\n",
       "                \n",
       "            <p><b>ID:</b><a href=\"http://geohub.lacity.org/datasets/3b022cced9704108af157d3d5eedb268_3\"> http://geohub.lacity.org/datasets/3b022cced9704108af157d3d5eedb268_3</a></p>\n",
       "            <p><b>Issued:</b> 2018-11-26T21:31:23.000Z</p>\n",
       "            <p><b>Last Modified:</b> 2019-03-14T20:30:30.270Z</p>\n",
       "            <p><b>Publisher:</b> City of Los Angeles Hub</p>\n",
       "            <p><b>License:</b> https://hub.arcgis.com/api/v2/datasets/3b022cced9704108af157d3d5eedb268_3/license</p>\n",
       "            <p><b>Download URL:</b><a href=\"http://geohub.lacity.org/datasets/3b022cced9704108af157d3d5eedb268_3.geojson\"> http://geohub.lacity.org/datasets/3b022cced9704108af157d3d5eedb268_3.geojson</a></p>\n",
       "        \n",
       "            </div>\n",
       "            <div style=\"flex: 1 1 0; height: 100%; overflow: auto\">\n",
       "                <p>\n",
       "                    Bike Corrals on-street bicycle parking facility that can accommodate many more bicycles than a typical sidewalk rack. \n",
       "\n",
       "Bike Racks installed where possible in the public right-of-way bike parking as close to building entrances as possible to increase security and make travelling by bike convenient. \n",
       "\n",
       "Bike Repair stations provide basic bicycle repair capability to business districts and corridors that cater to bicyclists. Repair Stations feature a stand to mount a bicycle and contain the basic tools needed to perform do-it-yourself bicycle repair including screwdrivers, wrenches, and hex tools. Repair stations also feature a heavy duty bicycle pump with a pump head for both schrader and presta valves and connect users to detailed instructions for a wide variety of bicycle repairs-just a smart phone scan away.\n",
       "                </p>\n",
       "            </div>\n",
       "        </div>\n",
       "        "
      ],
      "text/plain": [
       "http://geohub.lacity.org/datasets/3b022cced9704108af157d3d5eedb268_3\n",
       "LACity Boundary\n",
       "Bike Corrals on-street bicycle parking facility that can accommodate many more bicycles than a typical sidewalk rack. \n",
       "\n",
       "Bike Racks installed where possible in the public right-of-way bike parking as close to building entrances as possible to increase security and make travelling by bike convenient. \n",
       "\n",
       "Bike Repair stations provide basic bicycle repair capability to business districts and corridors that cater to bicyclists. Repair Stations feature a stand to mount a bicycle and contain the basic tools needed to perform do-it-yourself bicycle repair including screwdrivers, wrenches, and hex tools. Repair stations also feature a heavy duty bicycle pump with a pump head for both schrader and presta valves and connect users to detailed instructions for a wide variety of bicycle repairs-just a smart phone scan away."
      ]
     },
     "metadata": {},
     "output_type": "display_data"
    },
    {
     "data": {
      "text/html": [
       "\n",
       "        <h3>Bike Racks</h3>\n",
       "        <div style=\"display: flex; flex-direction: row; flex-wrap: wrap; height:256px\">\n",
       "            <div style=\"flex: 0 0 256px; padding-right: 24px\">\n",
       "                \n",
       "            <p><b>ID:</b><a href=\"http://geohub.lacity.org/datasets/3b022cced9704108af157d3d5eedb268_2\"> http://geohub.lacity.org/datasets/3b022cced9704108af157d3d5eedb268_2</a></p>\n",
       "            <p><b>Issued:</b> 2018-11-26T21:31:23.000Z</p>\n",
       "            <p><b>Last Modified:</b> 2019-03-14T20:29:57.052Z</p>\n",
       "            <p><b>Publisher:</b> City of Los Angeles Hub</p>\n",
       "            <p><b>License:</b> https://hub.arcgis.com/api/v2/datasets/3b022cced9704108af157d3d5eedb268_2/license</p>\n",
       "            <p><b>Download URL:</b><a href=\"http://geohub.lacity.org/datasets/3b022cced9704108af157d3d5eedb268_2.geojson\"> http://geohub.lacity.org/datasets/3b022cced9704108af157d3d5eedb268_2.geojson</a></p>\n",
       "        \n",
       "            </div>\n",
       "            <div style=\"flex: 1 1 0; height: 100%; overflow: auto\">\n",
       "                <p>\n",
       "                    Bike Corrals on-street bicycle parking facility that can accommodate many more bicycles than a typical sidewalk rack. \n",
       "\n",
       "Bike Racks installed where possible in the public right-of-way bike parking as close to building entrances as possible to increase security and make travelling by bike convenient. \n",
       "\n",
       "Bike Repair stations provide basic bicycle repair capability to business districts and corridors that cater to bicyclists. Repair Stations feature a stand to mount a bicycle and contain the basic tools needed to perform do-it-yourself bicycle repair including screwdrivers, wrenches, and hex tools. Repair stations also feature a heavy duty bicycle pump with a pump head for both schrader and presta valves and connect users to detailed instructions for a wide variety of bicycle repairs-just a smart phone scan away.\n",
       "                </p>\n",
       "            </div>\n",
       "        </div>\n",
       "        "
      ],
      "text/plain": [
       "http://geohub.lacity.org/datasets/3b022cced9704108af157d3d5eedb268_2\n",
       "Bike Racks\n",
       "Bike Corrals on-street bicycle parking facility that can accommodate many more bicycles than a typical sidewalk rack. \n",
       "\n",
       "Bike Racks installed where possible in the public right-of-way bike parking as close to building entrances as possible to increase security and make travelling by bike convenient. \n",
       "\n",
       "Bike Repair stations provide basic bicycle repair capability to business districts and corridors that cater to bicyclists. Repair Stations feature a stand to mount a bicycle and contain the basic tools needed to perform do-it-yourself bicycle repair including screwdrivers, wrenches, and hex tools. Repair stations also feature a heavy duty bicycle pump with a pump head for both schrader and presta valves and connect users to detailed instructions for a wide variety of bicycle repairs-just a smart phone scan away."
      ]
     },
     "metadata": {},
     "output_type": "display_data"
    },
    {
     "data": {
      "text/html": [
       "\n",
       "        <h3>CPA 2009to2013KSI BikePed</h3>\n",
       "        <div style=\"display: flex; flex-direction: row; flex-wrap: wrap; height:256px\">\n",
       "            <div style=\"flex: 0 0 256px; padding-right: 24px\">\n",
       "                \n",
       "            <p><b>ID:</b><a href=\"http://geohub.lacity.org/datasets/8093115c7c9a4562856a112679b4d620_2\"> http://geohub.lacity.org/datasets/8093115c7c9a4562856a112679b4d620_2</a></p>\n",
       "            <p><b>Issued:</b> 2016-01-22T21:46:10.000Z</p>\n",
       "            <p><b>Last Modified:</b> 2019-03-14T20:29:56.643Z</p>\n",
       "            <p><b>Publisher:</b> City of Los Angeles Hub</p>\n",
       "            <p><b>License:</b> https://hub.arcgis.com/api/v2/datasets/8093115c7c9a4562856a112679b4d620_2/license</p>\n",
       "            <p><b>Download URL:</b><a href=\"http://geohub.lacity.org/datasets/8093115c7c9a4562856a112679b4d620_2.geojson\"> http://geohub.lacity.org/datasets/8093115c7c9a4562856a112679b4d620_2.geojson</a></p>\n",
       "        \n",
       "            </div>\n",
       "            <div style=\"flex: 1 1 0; height: 100%; overflow: auto\">\n",
       "                <p>\n",
       "                    Bike and Pedestrian KSI's (Killed or Severely Injured) by CPA (Community Plan Area, defined by City of Los Angeles Dept. of City Planning). Collision data is taken from SWITRS data 2009 to 2013 [<a href=\"http://ladot.maps.arcgis.com/home/item.html?id=8d018faff10d43b787a4651ca59de088\" target=\"_blank\">link</a>]<div><br /></div><div>Density is normalized by Area (sq miles). <div><br /></div><div><br /></div><div>For more information about Community Plan Areas,  go to City of Los Angeles Dept of Planning : <a href target=\"_blank\">cityplanning.lacity.org/</a></div><div><br /></div><div><br /><div><br /></div><div><br /></div></div></div>\n",
       "                </p>\n",
       "            </div>\n",
       "        </div>\n",
       "        "
      ],
      "text/plain": [
       "http://geohub.lacity.org/datasets/8093115c7c9a4562856a112679b4d620_2\n",
       "CPA 2009to2013KSI BikePed\n",
       "Bike and Pedestrian KSI's (Killed or Severely Injured) by CPA (Community Plan Area, defined by City of Los Angeles Dept. of City Planning). Collision data is taken from SWITRS data 2009 to 2013 [<a href=\"http://ladot.maps.arcgis.com/home/item.html?id=8d018faff10d43b787a4651ca59de088\" target=\"_blank\">link</a>]<div><br /></div><div>Density is normalized by Area (sq miles). <div><br /></div><div><br /></div><div>For more information about Community Plan Areas,  go to City of Los Angeles Dept of Planning : <a href target=\"_blank\">cityplanning.lacity.org/</a></div><div><br /></div><div><br /><div><br /></div><div><br /></div></div></div>"
      ]
     },
     "metadata": {},
     "output_type": "display_data"
    },
    {
     "data": {
      "text/html": [
       "\n",
       "        <h3>Bike Repairs</h3>\n",
       "        <div style=\"display: flex; flex-direction: row; flex-wrap: wrap; height:256px\">\n",
       "            <div style=\"flex: 0 0 256px; padding-right: 24px\">\n",
       "                \n",
       "            <p><b>ID:</b><a href=\"http://geohub.lacity.org/datasets/3b022cced9704108af157d3d5eedb268_1\"> http://geohub.lacity.org/datasets/3b022cced9704108af157d3d5eedb268_1</a></p>\n",
       "            <p><b>Issued:</b> 2018-11-26T21:31:23.000Z</p>\n",
       "            <p><b>Last Modified:</b> 2019-03-14T20:29:33.465Z</p>\n",
       "            <p><b>Publisher:</b> City of Los Angeles Hub</p>\n",
       "            <p><b>License:</b> https://hub.arcgis.com/api/v2/datasets/3b022cced9704108af157d3d5eedb268_1/license</p>\n",
       "            <p><b>Download URL:</b><a href=\"http://geohub.lacity.org/datasets/3b022cced9704108af157d3d5eedb268_1.geojson\"> http://geohub.lacity.org/datasets/3b022cced9704108af157d3d5eedb268_1.geojson</a></p>\n",
       "        \n",
       "            </div>\n",
       "            <div style=\"flex: 1 1 0; height: 100%; overflow: auto\">\n",
       "                <p>\n",
       "                    Bike Corrals on-street bicycle parking facility that can accommodate many more bicycles than a typical sidewalk rack. \n",
       "\n",
       "Bike Racks installed where possible in the public right-of-way bike parking as close to building entrances as possible to increase security and make travelling by bike convenient. \n",
       "\n",
       "Bike Repair stations provide basic bicycle repair capability to business districts and corridors that cater to bicyclists. Repair Stations feature a stand to mount a bicycle and contain the basic tools needed to perform do-it-yourself bicycle repair including screwdrivers, wrenches, and hex tools. Repair stations also feature a heavy duty bicycle pump with a pump head for both schrader and presta valves and connect users to detailed instructions for a wide variety of bicycle repairs-just a smart phone scan away.\n",
       "                </p>\n",
       "            </div>\n",
       "        </div>\n",
       "        "
      ],
      "text/plain": [
       "http://geohub.lacity.org/datasets/3b022cced9704108af157d3d5eedb268_1\n",
       "Bike Repairs\n",
       "Bike Corrals on-street bicycle parking facility that can accommodate many more bicycles than a typical sidewalk rack. \n",
       "\n",
       "Bike Racks installed where possible in the public right-of-way bike parking as close to building entrances as possible to increase security and make travelling by bike convenient. \n",
       "\n",
       "Bike Repair stations provide basic bicycle repair capability to business districts and corridors that cater to bicyclists. Repair Stations feature a stand to mount a bicycle and contain the basic tools needed to perform do-it-yourself bicycle repair including screwdrivers, wrenches, and hex tools. Repair stations also feature a heavy duty bicycle pump with a pump head for both schrader and presta valves and connect users to detailed instructions for a wide variety of bicycle repairs-just a smart phone scan away."
      ]
     },
     "metadata": {},
     "output_type": "display_data"
    },
    {
     "data": {
      "text/html": [
       "\n",
       "        <h3>CPA 2009to2013KSI BikePed</h3>\n",
       "        <div style=\"display: flex; flex-direction: row; flex-wrap: wrap; height:256px\">\n",
       "            <div style=\"flex: 0 0 256px; padding-right: 24px\">\n",
       "                \n",
       "            <p><b>ID:</b><a href=\"http://geohub.lacity.org/datasets/8093115c7c9a4562856a112679b4d620_1\"> http://geohub.lacity.org/datasets/8093115c7c9a4562856a112679b4d620_1</a></p>\n",
       "            <p><b>Issued:</b> 2016-01-22T21:46:10.000Z</p>\n",
       "            <p><b>Last Modified:</b> 2019-03-14T20:29:28.157Z</p>\n",
       "            <p><b>Publisher:</b> City of Los Angeles Hub</p>\n",
       "            <p><b>License:</b> https://hub.arcgis.com/api/v2/datasets/8093115c7c9a4562856a112679b4d620_1/license</p>\n",
       "            <p><b>Download URL:</b><a href=\"http://geohub.lacity.org/datasets/8093115c7c9a4562856a112679b4d620_1.geojson\"> http://geohub.lacity.org/datasets/8093115c7c9a4562856a112679b4d620_1.geojson</a></p>\n",
       "        \n",
       "            </div>\n",
       "            <div style=\"flex: 1 1 0; height: 100%; overflow: auto\">\n",
       "                <p>\n",
       "                    Bike and Pedestrian KSI's (Killed or Severely Injured) by CPA (Community Plan Area, defined by City of Los Angeles Dept. of City Planning). Collision data is taken from SWITRS data 2009 to 2013 [<a href=\"http://ladot.maps.arcgis.com/home/item.html?id=8d018faff10d43b787a4651ca59de088\" target=\"_blank\">link</a>]<div><br /></div><div>Density is normalized by Area (sq miles). <div><br /></div><div><br /></div><div>For more information about Community Plan Areas,  go to City of Los Angeles Dept of Planning : <a href target=\"_blank\">cityplanning.lacity.org/</a></div><div><br /></div><div><br /><div><br /></div><div><br /></div></div></div>\n",
       "                </p>\n",
       "            </div>\n",
       "        </div>\n",
       "        "
      ],
      "text/plain": [
       "http://geohub.lacity.org/datasets/8093115c7c9a4562856a112679b4d620_1\n",
       "CPA 2009to2013KSI BikePed\n",
       "Bike and Pedestrian KSI's (Killed or Severely Injured) by CPA (Community Plan Area, defined by City of Los Angeles Dept. of City Planning). Collision data is taken from SWITRS data 2009 to 2013 [<a href=\"http://ladot.maps.arcgis.com/home/item.html?id=8d018faff10d43b787a4651ca59de088\" target=\"_blank\">link</a>]<div><br /></div><div>Density is normalized by Area (sq miles). <div><br /></div><div><br /></div><div>For more information about Community Plan Areas,  go to City of Los Angeles Dept of Planning : <a href target=\"_blank\">cityplanning.lacity.org/</a></div><div><br /></div><div><br /><div><br /></div><div><br /></div></div></div>"
      ]
     },
     "metadata": {},
     "output_type": "display_data"
    },
    {
     "data": {
      "text/html": [
       "\n",
       "        <h3>TblCommutebyMode</h3>\n",
       "        <div style=\"display: flex; flex-direction: row; flex-wrap: wrap; height:256px\">\n",
       "            <div style=\"flex: 0 0 256px; padding-right: 24px\">\n",
       "                \n",
       "            <p><b>ID:</b><a href=\"http://geohub.lacity.org/datasets/085e5638f51d4e0fb1dd1b39085f1698_0\"> http://geohub.lacity.org/datasets/085e5638f51d4e0fb1dd1b39085f1698_0</a></p>\n",
       "            <p><b>Issued:</b> 2016-09-30T21:13:39.000Z</p>\n",
       "            <p><b>Last Modified:</b> 2019-03-14T20:29:17.889Z</p>\n",
       "            <p><b>Publisher:</b> City of Los Angeles Hub</p>\n",
       "            <p><b>License:</b> https://hub.arcgis.com/api/v2/datasets/085e5638f51d4e0fb1dd1b39085f1698_0/license</p>\n",
       "            <p><b>Download URL:</b><a href=\"http://geohub.lacity.org/datasets/085e5638f51d4e0fb1dd1b39085f1698_0.geojson\"> http://geohub.lacity.org/datasets/085e5638f51d4e0fb1dd1b39085f1698_0.geojson</a></p>\n",
       "        \n",
       "            </div>\n",
       "            <div style=\"flex: 1 1 0; height: 100%; overflow: auto\">\n",
       "                <p>\n",
       "                    <div>Abstract: Dataset represents the count of workers 16 years and over who commuted to work by various modes of travel.</div><div>Relations: Join to the Intersection Table using the “boeint_fkey” field. </div><div>Source: ACS 2014 5-Year Estimates</div><div><br /><div><table><tbody><tr><td><p>boeint_fkey</p></td><td><p>Unique identifier for the intersection as part of the Bureau of Engineering’s Centerline network</p></td></tr><tr><td><p>drivealone_ct</p></td><td><p>Count estimate of people in the intersecting block group who primarily commuted alone via car, truck, or van</p></td></tr><tr><td><p>driveshare_ct</p></td><td><p>Count estimate of people in the intersecting block group whose primary commuting mode is carpooling via car, truck, or van</p></td></tr><tr><td><p>bus_ct</p></td><td><p>Count estimate of people in the intersecting block group whose primary commuting mode is riding bus transit</p></td></tr><tr><td><p>rail_ct</p></td><td><p>Count estimate of people in the intersecting block group whose primary commuting mode is riding rail or ferry transit</p></td></tr><tr><td><p>bike_ct</p></td><td><p>Count estimate of people in the intersecting block group whose primary commuting mode is riding a bicycle</p></td></tr><tr><td><p>walk_ct</p></td><td><p>Count estimate of people in the intersecting block group whose primary commuting mode is by walking</p></td></tr><tr><td><p>commuteother_ct</p></td><td><p>Count estimate of people in the intersecting block group whose primary commuting mode is via taxicab, motorcycle, or other means</p></td></tr><tr><td><p>commute_travel_total</p></td><td><p>Total count estimate of people who commuted alone or with others via car, truck, van, bus, rail, ferry, bike, walking, taxicab, motorcycle, or other means</p></td></tr><tr><td><p>workathome_ct</p></td><td><p>Count estimate of people who primarily worked at home, or “telecommuted”</p></td></tr><tr><td><p>commute_total</p></td><td><p>Total count estimate of people commuting to work within the census block group</p></td></tr></tbody></table></div></div>\n",
       "                </p>\n",
       "            </div>\n",
       "        </div>\n",
       "        "
      ],
      "text/plain": [
       "http://geohub.lacity.org/datasets/085e5638f51d4e0fb1dd1b39085f1698_0\n",
       "TblCommutebyMode\n",
       "<div>Abstract: Dataset represents the count of workers 16 years and over who commuted to work by various modes of travel.</div><div>Relations: Join to the Intersection Table using the “boeint_fkey” field. </div><div>Source: ACS 2014 5-Year Estimates</div><div><br /><div><table><tbody><tr><td><p>boeint_fkey</p></td><td><p>Unique identifier for the intersection as part of the Bureau of Engineering’s Centerline network</p></td></tr><tr><td><p>drivealone_ct</p></td><td><p>Count estimate of people in the intersecting block group who primarily commuted alone via car, truck, or van</p></td></tr><tr><td><p>driveshare_ct</p></td><td><p>Count estimate of people in the intersecting block group whose primary commuting mode is carpooling via car, truck, or van</p></td></tr><tr><td><p>bus_ct</p></td><td><p>Count estimate of people in the intersecting block group whose primary commuting mode is riding bus transit</p></td></tr><tr><td><p>rail_ct</p></td><td><p>Count estimate of people in the intersecting block group whose primary commuting mode is riding rail or ferry transit</p></td></tr><tr><td><p>bike_ct</p></td><td><p>Count estimate of people in the intersecting block group whose primary commuting mode is riding a bicycle</p></td></tr><tr><td><p>walk_ct</p></td><td><p>Count estimate of people in the intersecting block group whose primary commuting mode is by walking</p></td></tr><tr><td><p>commuteother_ct</p></td><td><p>Count estimate of people in the intersecting block group whose primary commuting mode is via taxicab, motorcycle, or other means</p></td></tr><tr><td><p>commute_travel_total</p></td><td><p>Total count estimate of people who commuted alone or with others via car, truck, van, bus, rail, ferry, bike, walking, taxicab, motorcycle, or other means</p></td></tr><tr><td><p>workathome_ct</p></td><td><p>Count estimate of people who primarily worked at home, or “telecommuted”</p></td></tr><tr><td><p>commute_total</p></td><td><p>Total count estimate of people commuting to work within the census block group</p></td></tr></tbody></table></div></div>"
      ]
     },
     "metadata": {},
     "output_type": "display_data"
    },
    {
     "data": {
      "text/html": [
       "\n",
       "        <h3>Density of Bike/Ped KSI's by CPA</h3>\n",
       "        <div style=\"display: flex; flex-direction: row; flex-wrap: wrap; height:256px\">\n",
       "            <div style=\"flex: 0 0 256px; padding-right: 24px\">\n",
       "                \n",
       "            <p><b>ID:</b><a href=\"http://geohub.lacity.org/datasets/93a4b4ad6b9146c5a6f5257325f60df5_2\"> http://geohub.lacity.org/datasets/93a4b4ad6b9146c5a6f5257325f60df5_2</a></p>\n",
       "            <p><b>Issued:</b> 2016-01-28T00:09:51.000Z</p>\n",
       "            <p><b>Last Modified:</b> 2019-03-14T20:29:15.063Z</p>\n",
       "            <p><b>Publisher:</b> City of Los Angeles Hub</p>\n",
       "            <p><b>License:</b> https://hub.arcgis.com/api/v2/datasets/93a4b4ad6b9146c5a6f5257325f60df5_2/license</p>\n",
       "            <p><b>Download URL:</b><a href=\"http://geohub.lacity.org/datasets/93a4b4ad6b9146c5a6f5257325f60df5_2.geojson\"> http://geohub.lacity.org/datasets/93a4b4ad6b9146c5a6f5257325f60df5_2.geojson</a></p>\n",
       "        \n",
       "            </div>\n",
       "            <div style=\"flex: 1 1 0; height: 100%; overflow: auto\">\n",
       "                <p>\n",
       "                    Density of Bike and Pedestrian KSI's (Killed or Severely Injured) by CPA (Community Plan Area, defined by City of Los Angeles Dept. of City Planning). Density is normalized by Area (sq miles). Collision data is taken from SWITRS data 2009 to 2013 [<a href=\"http://ladot.maps.arcgis.com/home/item.html?id=8d018faff10d43b787a4651ca59de088\" target=\"_blank\">link</a>] <div><div><br /></div><div>For more information about Community Plan Areas,  go to City of Los Angeles Dept of Planning : <a href=\"http://ladot.maps.arcgis.com/home/item.html?id=8093115c7c9a4562856a112679b4d620\" target=\"_blank\">cityplanning.lacity.org/</a></div></div>\n",
       "                </p>\n",
       "            </div>\n",
       "        </div>\n",
       "        "
      ],
      "text/plain": [
       "http://geohub.lacity.org/datasets/93a4b4ad6b9146c5a6f5257325f60df5_2\n",
       "Density of Bike/Ped KSI's by CPA\n",
       "Density of Bike and Pedestrian KSI's (Killed or Severely Injured) by CPA (Community Plan Area, defined by City of Los Angeles Dept. of City Planning). Density is normalized by Area (sq miles). Collision data is taken from SWITRS data 2009 to 2013 [<a href=\"http://ladot.maps.arcgis.com/home/item.html?id=8d018faff10d43b787a4651ca59de088\" target=\"_blank\">link</a>] <div><div><br /></div><div>For more information about Community Plan Areas,  go to City of Los Angeles Dept of Planning : <a href=\"http://ladot.maps.arcgis.com/home/item.html?id=8093115c7c9a4562856a112679b4d620\" target=\"_blank\">cityplanning.lacity.org/</a></div></div>"
      ]
     },
     "metadata": {},
     "output_type": "display_data"
    },
    {
     "data": {
      "text/html": [
       "\n",
       "        <h3>TblTransportation</h3>\n",
       "        <div style=\"display: flex; flex-direction: row; flex-wrap: wrap; height:256px\">\n",
       "            <div style=\"flex: 0 0 256px; padding-right: 24px\">\n",
       "                \n",
       "            <p><b>ID:</b><a href=\"http://geohub.lacity.org/datasets/fe2ce78346d24bd190cb686693fccd02_0\"> http://geohub.lacity.org/datasets/fe2ce78346d24bd190cb686693fccd02_0</a></p>\n",
       "            <p><b>Issued:</b> 2016-09-30T22:26:15.000Z</p>\n",
       "            <p><b>Last Modified:</b> 2019-03-14T20:29:14.668Z</p>\n",
       "            <p><b>Publisher:</b> City of Los Angeles Hub</p>\n",
       "            <p><b>License:</b> https://hub.arcgis.com/api/v2/datasets/fe2ce78346d24bd190cb686693fccd02_0/license</p>\n",
       "            <p><b>Download URL:</b><a href=\"http://geohub.lacity.org/datasets/fe2ce78346d24bd190cb686693fccd02_0.geojson\"> http://geohub.lacity.org/datasets/fe2ce78346d24bd190cb686693fccd02_0.geojson</a></p>\n",
       "        \n",
       "            </div>\n",
       "            <div style=\"flex: 1 1 0; height: 100%; overflow: auto\">\n",
       "                <p>\n",
       "                    Abstract:  Dataset represents transportation infrastructure variables aggregated at the intersection level for the City. <div>Relations: Join to the Intersection Table using the “boeint_fkey” field. </div><div> Source: Los Angeles Department of Transportation</div><div><br /><div><table><tbody><tr><td><p>boeint_fkey</p></td><td><p>Unique identifier for the intersection as part of the Bureau of Engineering’s Centerline network</p></td></tr><tr><td><p>transpo_fwyramp</p></td><td><p>Denotes whether the intersection involves a freeway ramp (1=yes, 0=no)</p></td></tr><tr><td><p>transpo_stclass</p></td><td><p>Lowest number street class that is connected to the intersection (1=major highway, 2=secondary highway, 3=collector street, 4=local street, 5=private street, 6=und. or prop. private street, 7=unknown type or closed st, NULL= no intersecting streets from the centerline)</p></td></tr><tr><td><p>transpo_stclassdef</p></td><td><p>Definition of the street class in the “transpo_stclass” field</p></td></tr><tr><td><p>transpo_stop</p></td><td><p>Count of the stop signs within 100 ft radius of the intersection. If the value is &gt; 0, it is not correct to assume that the intersection is only stop controlled. For example, an intersection can be both stop and signal controlled.</p></td></tr><tr><td><p>transpo_sig</p></td><td><p>Traffic signal at the intersection (C = conventional traffic signal, P = pedestrian crossing flashing beacon, NULL = no signal present at the intersection)</p></td></tr><tr><td><p>transpo_protl</p></td><td><p>Count of the number of protected left turns (0-4) at the intersection. This includes protected-only left turns. Protected-permitted as well as permitted-only are not counted.</p></td></tr><tr><td><p>transpo_bikeroute</p></td><td><p>Count of approaches designated as Bike Routes. If no Bike Route approaches the intersection, the value is 0. This excludes facilities installed after December 31, 2013</p></td></tr><tr><td><p>transpo_bikepath</p></td><td><p>Count of approaches with bike paths. If no bike path approaches the intersection, the value is 0. This excludes facilities installed after December 31, 2013</p></td></tr><tr><td><p>transpo_bikelane</p></td><td><p>Count of approaches with bike lanes. If no bike lane approaches the intersection, the value is 0. This excludes facilities installed after December 31, 2013</p></td></tr><tr><td><p>transpo_pedlite</p></td><td><p>Count of pedestrian-scale lights within 100 ft search radius of the intersection</p></td></tr><tr><td><p>transpo_vehlite</p></td><td><p>Count of vehicle-scale lights within 100 ft search radius of the intersection</p></td></tr><tr><td><p>transpo_xwalks</p></td><td><p>Count of crosswalks (0-4) within 100 ft search radius of the intersection</p></td></tr><tr><td><p>transpo_legs</p></td><td><p>The count of approaches to the intersection</p></td></tr></tbody></table></div></div>\n",
       "                </p>\n",
       "            </div>\n",
       "        </div>\n",
       "        "
      ],
      "text/plain": [
       "http://geohub.lacity.org/datasets/fe2ce78346d24bd190cb686693fccd02_0\n",
       "TblTransportation\n",
       "Abstract:  Dataset represents transportation infrastructure variables aggregated at the intersection level for the City. <div>Relations: Join to the Intersection Table using the “boeint_fkey” field. </div><div> Source: Los Angeles Department of Transportation</div><div><br /><div><table><tbody><tr><td><p>boeint_fkey</p></td><td><p>Unique identifier for the intersection as part of the Bureau of Engineering’s Centerline network</p></td></tr><tr><td><p>transpo_fwyramp</p></td><td><p>Denotes whether the intersection involves a freeway ramp (1=yes, 0=no)</p></td></tr><tr><td><p>transpo_stclass</p></td><td><p>Lowest number street class that is connected to the intersection (1=major highway, 2=secondary highway, 3=collector street, 4=local street, 5=private street, 6=und. or prop. private street, 7=unknown type or closed st, NULL= no intersecting streets from the centerline)</p></td></tr><tr><td><p>transpo_stclassdef</p></td><td><p>Definition of the street class in the “transpo_stclass” field</p></td></tr><tr><td><p>transpo_stop</p></td><td><p>Count of the stop signs within 100 ft radius of the intersection. If the value is &gt; 0, it is not correct to assume that the intersection is only stop controlled. For example, an intersection can be both stop and signal controlled.</p></td></tr><tr><td><p>transpo_sig</p></td><td><p>Traffic signal at the intersection (C = conventional traffic signal, P = pedestrian crossing flashing beacon, NULL = no signal present at the intersection)</p></td></tr><tr><td><p>transpo_protl</p></td><td><p>Count of the number of protected left turns (0-4) at the intersection. This includes protected-only left turns. Protected-permitted as well as permitted-only are not counted.</p></td></tr><tr><td><p>transpo_bikeroute</p></td><td><p>Count of approaches designated as Bike Routes. If no Bike Route approaches the intersection, the value is 0. This excludes facilities installed after December 31, 2013</p></td></tr><tr><td><p>transpo_bikepath</p></td><td><p>Count of approaches with bike paths. If no bike path approaches the intersection, the value is 0. This excludes facilities installed after December 31, 2013</p></td></tr><tr><td><p>transpo_bikelane</p></td><td><p>Count of approaches with bike lanes. If no bike lane approaches the intersection, the value is 0. This excludes facilities installed after December 31, 2013</p></td></tr><tr><td><p>transpo_pedlite</p></td><td><p>Count of pedestrian-scale lights within 100 ft search radius of the intersection</p></td></tr><tr><td><p>transpo_vehlite</p></td><td><p>Count of vehicle-scale lights within 100 ft search radius of the intersection</p></td></tr><tr><td><p>transpo_xwalks</p></td><td><p>Count of crosswalks (0-4) within 100 ft search radius of the intersection</p></td></tr><tr><td><p>transpo_legs</p></td><td><p>The count of approaches to the intersection</p></td></tr></tbody></table></div></div>"
      ]
     },
     "metadata": {},
     "output_type": "display_data"
    },
    {
     "data": {
      "text/html": [
       "\n",
       "        <h3>City of Los Angeles Bikeways</h3>\n",
       "        <div style=\"display: flex; flex-direction: row; flex-wrap: wrap; height:256px\">\n",
       "            <div style=\"flex: 0 0 256px; padding-right: 24px\">\n",
       "                \n",
       "            <p><b>ID:</b><a href=\"http://geohub.lacity.org/datasets/2602345a7a8549518e8e3c873368c1d9_0\"> http://geohub.lacity.org/datasets/2602345a7a8549518e8e3c873368c1d9_0</a></p>\n",
       "            <p><b>Issued:</b> 2018-05-15T14:24:19.000Z</p>\n",
       "            <p><b>Last Modified:</b> 2019-03-14T20:29:10.765Z</p>\n",
       "            <p><b>Publisher:</b> City of Los Angeles Hub</p>\n",
       "            <p><b>License:</b> https://hub.arcgis.com/api/v2/datasets/2602345a7a8549518e8e3c873368c1d9_0/license</p>\n",
       "            <p><b>Download URL:</b><a href=\"http://geohub.lacity.org/datasets/2602345a7a8549518e8e3c873368c1d9_0.geojson\"> http://geohub.lacity.org/datasets/2602345a7a8549518e8e3c873368c1d9_0.geojson</a></p>\n",
       "        \n",
       "            </div>\n",
       "            <div style=\"flex: 1 1 0; height: 100%; overflow: auto\">\n",
       "                <p>\n",
       "                    <p>City of Los Angeles\n",
       "network of on-street and off-street bikeways. Included Bike Path Class 1, Bike\n",
       "Lane Class 2, Bike Route/ Sharrow Class 3, Protected Bike Lanes Class 4.</p>\n",
       "                </p>\n",
       "            </div>\n",
       "        </div>\n",
       "        "
      ],
      "text/plain": [
       "http://geohub.lacity.org/datasets/2602345a7a8549518e8e3c873368c1d9_0\n",
       "City of Los Angeles Bikeways\n",
       "<p>City of Los Angeles\n",
       "network of on-street and off-street bikeways. Included Bike Path Class 1, Bike\n",
       "Lane Class 2, Bike Route/ Sharrow Class 3, Protected Bike Lanes Class 4.</p>"
      ]
     },
     "metadata": {},
     "output_type": "display_data"
    },
    {
     "data": {
      "text/html": [
       "\n",
       "        <h3>Bike Corrals</h3>\n",
       "        <div style=\"display: flex; flex-direction: row; flex-wrap: wrap; height:256px\">\n",
       "            <div style=\"flex: 0 0 256px; padding-right: 24px\">\n",
       "                \n",
       "            <p><b>ID:</b><a href=\"http://geohub.lacity.org/datasets/3b022cced9704108af157d3d5eedb268_0\"> http://geohub.lacity.org/datasets/3b022cced9704108af157d3d5eedb268_0</a></p>\n",
       "            <p><b>Issued:</b> 2018-11-26T21:31:23.000Z</p>\n",
       "            <p><b>Last Modified:</b> 2019-03-14T20:29:09.685Z</p>\n",
       "            <p><b>Publisher:</b> City of Los Angeles Hub</p>\n",
       "            <p><b>License:</b> https://hub.arcgis.com/api/v2/datasets/3b022cced9704108af157d3d5eedb268_0/license</p>\n",
       "            <p><b>Download URL:</b><a href=\"http://geohub.lacity.org/datasets/3b022cced9704108af157d3d5eedb268_0.geojson\"> http://geohub.lacity.org/datasets/3b022cced9704108af157d3d5eedb268_0.geojson</a></p>\n",
       "        \n",
       "            </div>\n",
       "            <div style=\"flex: 1 1 0; height: 100%; overflow: auto\">\n",
       "                <p>\n",
       "                    Bike Corrals on-street bicycle parking facility that can accommodate many more bicycles than a typical sidewalk rack. \n",
       "\n",
       "Bike Racks installed where possible in the public right-of-way bike parking as close to building entrances as possible to increase security and make travelling by bike convenient. \n",
       "\n",
       "Bike Repair stations provide basic bicycle repair capability to business districts and corridors that cater to bicyclists. Repair Stations feature a stand to mount a bicycle and contain the basic tools needed to perform do-it-yourself bicycle repair including screwdrivers, wrenches, and hex tools. Repair stations also feature a heavy duty bicycle pump with a pump head for both schrader and presta valves and connect users to detailed instructions for a wide variety of bicycle repairs-just a smart phone scan away.\n",
       "                </p>\n",
       "            </div>\n",
       "        </div>\n",
       "        "
      ],
      "text/plain": [
       "http://geohub.lacity.org/datasets/3b022cced9704108af157d3d5eedb268_0\n",
       "Bike Corrals\n",
       "Bike Corrals on-street bicycle parking facility that can accommodate many more bicycles than a typical sidewalk rack. \n",
       "\n",
       "Bike Racks installed where possible in the public right-of-way bike parking as close to building entrances as possible to increase security and make travelling by bike convenient. \n",
       "\n",
       "Bike Repair stations provide basic bicycle repair capability to business districts and corridors that cater to bicyclists. Repair Stations feature a stand to mount a bicycle and contain the basic tools needed to perform do-it-yourself bicycle repair including screwdrivers, wrenches, and hex tools. Repair stations also feature a heavy duty bicycle pump with a pump head for both schrader and presta valves and connect users to detailed instructions for a wide variety of bicycle repairs-just a smart phone scan away."
      ]
     },
     "metadata": {},
     "output_type": "display_data"
    },
    {
     "data": {
      "text/html": [
       "\n",
       "        <h3>LACity Boundary</h3>\n",
       "        <div style=\"display: flex; flex-direction: row; flex-wrap: wrap; height:256px\">\n",
       "            <div style=\"flex: 0 0 256px; padding-right: 24px\">\n",
       "                \n",
       "            <p><b>ID:</b><a href=\"http://geohub.lacity.org/datasets/2602345a7a8549518e8e3c873368c1d9_1\"> http://geohub.lacity.org/datasets/2602345a7a8549518e8e3c873368c1d9_1</a></p>\n",
       "            <p><b>Issued:</b> 2018-05-15T14:24:19.000Z</p>\n",
       "            <p><b>Last Modified:</b> 2018-10-23T16:02:52.347Z</p>\n",
       "            <p><b>Publisher:</b> City of Los Angeles Hub</p>\n",
       "            <p><b>License:</b> https://hub.arcgis.com/api/v2/datasets/2602345a7a8549518e8e3c873368c1d9_1/license</p>\n",
       "            <p><b>Download URL:</b><a href=\"http://geohub.lacity.org/datasets/2602345a7a8549518e8e3c873368c1d9_1.geojson\"> http://geohub.lacity.org/datasets/2602345a7a8549518e8e3c873368c1d9_1.geojson</a></p>\n",
       "        \n",
       "            </div>\n",
       "            <div style=\"flex: 1 1 0; height: 100%; overflow: auto\">\n",
       "                <p>\n",
       "                    <p>City of Los Angeles\n",
       "network of on-street and off-street bikeways. Included Bike Path Class 1, Bike\n",
       "Lane Class 2, Bike Route/ Sharrow Class 3, Protected Bike Lanes Class 4.</p>\n",
       "                </p>\n",
       "            </div>\n",
       "        </div>\n",
       "        "
      ],
      "text/plain": [
       "http://geohub.lacity.org/datasets/2602345a7a8549518e8e3c873368c1d9_1\n",
       "LACity Boundary\n",
       "<p>City of Los Angeles\n",
       "network of on-street and off-street bikeways. Included Bike Path Class 1, Bike\n",
       "Lane Class 2, Bike Route/ Sharrow Class 3, Protected Bike Lanes Class 4.</p>"
      ]
     },
     "metadata": {},
     "output_type": "display_data"
    },
    {
     "data": {
      "text/html": [
       "\n",
       "        <h3>Bikeways (Existing)</h3>\n",
       "        <div style=\"display: flex; flex-direction: row; flex-wrap: wrap; height:256px\">\n",
       "            <div style=\"flex: 0 0 256px; padding-right: 24px\">\n",
       "                \n",
       "            <p><b>ID:</b><a href=\"http://geohub.lacity.org/datasets/230abc621b144dbc96cca83d65bd454d_0\"> http://geohub.lacity.org/datasets/230abc621b144dbc96cca83d65bd454d_0</a></p>\n",
       "            <p><b>Issued:</b> 2015-11-14T02:27:52.000Z</p>\n",
       "            <p><b>Last Modified:</b> 2018-03-20T00:34:28.000Z</p>\n",
       "            <p><b>Publisher:</b> City of Los Angeles Hub</p>\n",
       "            <p><b>License:</b> https://hub.arcgis.com/api/v2/datasets/230abc621b144dbc96cca83d65bd454d_0/license</p>\n",
       "            <p><b>Download URL:</b><a href=\"http://geohub.lacity.org/datasets/230abc621b144dbc96cca83d65bd454d_0.geojson\"> http://geohub.lacity.org/datasets/230abc621b144dbc96cca83d65bd454d_0.geojson</a></p>\n",
       "        \n",
       "            </div>\n",
       "            <div style=\"flex: 1 1 0; height: 100%; overflow: auto\">\n",
       "                <p>\n",
       "                    Bikeways (Existing) \n",
       "                </p>\n",
       "            </div>\n",
       "        </div>\n",
       "        "
      ],
      "text/plain": [
       "http://geohub.lacity.org/datasets/230abc621b144dbc96cca83d65bd454d_0\n",
       "Bikeways (Existing)\n",
       "Bikeways (Existing) "
      ]
     },
     "metadata": {},
     "output_type": "display_data"
    },
    {
     "data": {
      "text/html": [
       "\n",
       "        <h3>CPA HIN</h3>\n",
       "        <div style=\"display: flex; flex-direction: row; flex-wrap: wrap; height:256px\">\n",
       "            <div style=\"flex: 0 0 256px; padding-right: 24px\">\n",
       "                \n",
       "            <p><b>ID:</b><a href=\"http://geohub.lacity.org/datasets/8093115c7c9a4562856a112679b4d620_0\"> http://geohub.lacity.org/datasets/8093115c7c9a4562856a112679b4d620_0</a></p>\n",
       "            <p><b>Issued:</b> 2016-01-22T21:46:10.000Z</p>\n",
       "            <p><b>Last Modified:</b> 2016-01-28T00:18:57.197Z</p>\n",
       "            <p><b>Publisher:</b> City of Los Angeles Hub</p>\n",
       "            <p><b>License:</b> https://hub.arcgis.com/api/v2/datasets/8093115c7c9a4562856a112679b4d620_0/license</p>\n",
       "            <p><b>Download URL:</b><a href=\"http://geohub.lacity.org/datasets/8093115c7c9a4562856a112679b4d620_0.geojson\"> http://geohub.lacity.org/datasets/8093115c7c9a4562856a112679b4d620_0.geojson</a></p>\n",
       "        \n",
       "            </div>\n",
       "            <div style=\"flex: 1 1 0; height: 100%; overflow: auto\">\n",
       "                <p>\n",
       "                    Bike and Pedestrian KSI's (Killed or Severely Injured) by CPA (Community Plan Area, defined by City of Los Angeles Dept. of City Planning). Collision data is taken from SWITRS data 2009 to 2013 [<a href=\"http://ladot.maps.arcgis.com/home/item.html?id=8d018faff10d43b787a4651ca59de088\" target=\"_blank\">link</a>]<div><br /></div><div>Density is normalized by Area (sq miles). <div><br /></div><div><br /></div><div>For more information about Community Plan Areas,  go to City of Los Angeles Dept of Planning : <a href target=\"_blank\">cityplanning.lacity.org/</a></div><div><br /></div><div><br /><div><br /></div><div><br /></div></div></div>\n",
       "                </p>\n",
       "            </div>\n",
       "        </div>\n",
       "        "
      ],
      "text/plain": [
       "http://geohub.lacity.org/datasets/8093115c7c9a4562856a112679b4d620_0\n",
       "CPA HIN\n",
       "Bike and Pedestrian KSI's (Killed or Severely Injured) by CPA (Community Plan Area, defined by City of Los Angeles Dept. of City Planning). Collision data is taken from SWITRS data 2009 to 2013 [<a href=\"http://ladot.maps.arcgis.com/home/item.html?id=8d018faff10d43b787a4651ca59de088\" target=\"_blank\">link</a>]<div><br /></div><div>Density is normalized by Area (sq miles). <div><br /></div><div><br /></div><div>For more information about Community Plan Areas,  go to City of Los Angeles Dept of Planning : <a href target=\"_blank\">cityplanning.lacity.org/</a></div><div><br /></div><div><br /><div><br /></div><div><br /></div></div></div>"
      ]
     },
     "metadata": {},
     "output_type": "display_data"
    }
   ],
   "source": [
    "for entry_id, entry in catalog_bike.items():\n",
    "    display(entry)"
   ]
  },
  {
   "cell_type": "code",
   "execution_count": 5,
   "metadata": {},
   "outputs": [],
   "source": [
    "bike_racks_id = 'http://geohub.lacity.org/datasets/3b022cced9704108af157d3d5eedb268_2'\n",
    "bike_racks = catalog_bike[bike_racks_id].read()"
   ]
  },
  {
   "cell_type": "code",
   "execution_count": 6,
   "metadata": {},
   "outputs": [
    {
     "data": {
      "text/plain": [
       "<matplotlib.axes._subplots.AxesSubplot at 0x228c5216e80>"
      ]
     },
     "execution_count": 6,
     "metadata": {},
     "output_type": "execute_result"
    },
    {
     "data": {
      "image/png": "[encoded data removed]",
      "text/plain": [
       "<Figure size 432x288 with 1 Axes>"
      ]
     },
     "metadata": {
      "needs_background": "light"
     },
     "output_type": "display_data"
    }
   ],
   "source": [
    "bike_racks.plot()"
   ]
  }
 ],
 "metadata": {
  "kernelspec": {
   "display_name": "Python 3",
   "language": "python",
   "name": "python3"
  },
  "language_info": {
   "codemirror_mode": {
    "name": "ipython",
    "version": 3
   },
   "file_extension": ".py",
   "mimetype": "text/x-python",
   "name": "python",
   "nbconvert_exporter": "python",
   "pygments_lexer": "ipython3",
   "version": "3.7.3"
  }
 },
 "nbformat": 4,
 "nbformat_minor": 2
}
