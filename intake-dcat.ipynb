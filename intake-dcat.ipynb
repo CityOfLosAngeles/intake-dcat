{
 "cells": [
  {
   "cell_type": "markdown",
   "metadata": {},
   "source": [
    "# Intake catalog example\n",
    "\n",
    "We would like to more easily interact with the datasets available at [data.lacity.org](data.lacity.org)\n",
    "and [geohub.lacity.org](geohub.lacity.org).\n",
    "\n",
    "These data portals have catalogs available at the `data.json` endpoints, which are specified in the\n",
    "DCAT (https://project-open-data.cio.gov/v1.1/schema) catalog format.\n",
    "\n",
    "We have begun work on an `intake` catalog source that adapts a DCAT catalog to an intake catalog,\n",
    "along with specifying how to load datasets.\n",
    "\n",
    "Begin by importing it:"
   ]
  },
  {
   "cell_type": "code",
   "execution_count": 1,
   "metadata": {},
   "outputs": [],
   "source": [
    "%matplotlib inline\n",
    "from intake_dcat import DCATCatalog"
   ]
  },
  {
   "cell_type": "markdown",
   "metadata": {},
   "source": [
    "We can then load the data catalog for `data.lacity.org`:"
   ]
  },
  {
   "cell_type": "code",
   "execution_count": 2,
   "metadata": {},
   "outputs": [
    {
     "data": {
      "text/plain": [
       "864"
      ]
     },
     "execution_count": 2,
     "metadata": {},
     "output_type": "execute_result"
    }
   ],
   "source": [
    "catalog = DCATCatalog('http://geohub.lacity.org/data.json', 'geohub')\n",
    "len(list(catalog))"
   ]
  },
  {
   "cell_type": "code",
   "execution_count": 3,
   "metadata": {},
   "outputs": [
    {
     "data": {
      "text/plain": [
       "91"
      ]
     },
     "execution_count": 3,
     "metadata": {},
     "output_type": "execute_result"
    }
   ],
   "source": [
    "catalog_district = catalog.search('district')\n",
    "len(list(catalog_district))"
   ]
  },
  {
   "cell_type": "code",
   "execution_count": 4,
   "metadata": {},
   "outputs": [
    {
     "data": {
      "text/html": [
       "\n",
       "        <h3>City Real Estate and Facilities by General Services Department</h3>\n",
       "        <div style=\"display: flex; flex-direction: row; flex-wrap: wrap; height:256px\">\n",
       "            <div style=\"flex: 0 0 256px; padding-right: 24px\">\n",
       "                \n",
       "            <p><b>ID:</b><a href=\"http://geohub.lacity.org/datasets/1ba19f342487440e98b6be911b54f54f_0\"> http://geohub.lacity.org/datasets/1ba19f342487440e98b6be911b54f54f_0</a></p>\n",
       "            <p><b>Issued:</b> 2018-04-26T21:35:44.000Z</p>\n",
       "            <p><b>Last Modified:</b> 2019-04-01T15:16:26.514Z</p>\n",
       "            <p><b>Publisher:</b> City of Los Angeles Hub</p>\n",
       "            <p><b>License:</b> https://hub.arcgis.com/api/v2/datasets/1ba19f342487440e98b6be911b54f54f_0/license</p>\n",
       "            <p><b>Download URL:</b><a href=\"http://geohub.lacity.org/datasets/1ba19f342487440e98b6be911b54f54f_0.geojson\"> http://geohub.lacity.org/datasets/1ba19f342487440e98b6be911b54f54f_0.geojson</a></p>\n",
       "        \n",
       "            </div>\n",
       "            <div style=\"flex: 1 1 0; height: 100%; overflow: auto\">\n",
       "                <p>\n",
       "                    <b>Summary:</b> All Real Estate and Facilities for the City of Los Angeles (including owned by and leased to the city).<div>This is a point feature class showing the location of each City Real Estate and Facility.  </div><div>Fields included are: PropertyID, Description, Status (such as ACTIVE or SURPLUS-DECLARED), Property_Type (such as LOT, PARCEL or BUILDING), Property_Class (such as OFFICE, YARD, RECREATION or FIRE), Property_APN, Council_District, Region (Area Planning Commission), Facility (Community Plan Area), Jurisdiction_Dept, Maintenance_Dept, and location fields.<br /><div><br /></div><div><b>Data Source:</b> This dataset is created and maintained by General Services Department (GSD) - Real Estate Services Division.</div><div><br /></div><div><b>Last Updated:</b> 3/28/2019</div><div><b>Refresh Rate:</b> Monthly. This dataset is refreshed at the end of each month.</div><div><br /></div></div>\n",
       "                </p>\n",
       "            </div>\n",
       "        </div>\n",
       "        "
      ],
      "text/plain": [
       "http://geohub.lacity.org/datasets/1ba19f342487440e98b6be911b54f54f_0\n",
       "City Real Estate and Facilities by General Services Department\n",
       "<b>Summary:</b> All Real Estate and Facilities for the City of Los Angeles (including owned by and leased to the city).<div>This is a point feature class showing the location of each City Real Estate and Facility.  </div><div>Fields included are: PropertyID, Description, Status (such as ACTIVE or SURPLUS-DECLARED), Property_Type (such as LOT, PARCEL or BUILDING), Property_Class (such as OFFICE, YARD, RECREATION or FIRE), Property_APN, Council_District, Region (Area Planning Commission), Facility (Community Plan Area), Jurisdiction_Dept, Maintenance_Dept, and location fields.<br /><div><br /></div><div><b>Data Source:</b> This dataset is created and maintained by General Services Department (GSD) - Real Estate Services Division.</div><div><br /></div><div><b>Last Updated:</b> 3/28/2019</div><div><b>Refresh Rate:</b> Monthly. This dataset is refreshed at the end of each month.</div><div><br /></div></div>"
      ]
     },
     "metadata": {},
     "output_type": "display_data"
    },
    {
     "name": "stdout",
     "output_type": "stream",
     "text": [
      "\n",
      "\n",
      "\n"
     ]
    },
    {
     "data": {
      "text/html": [
       "\n",
       "        <h3>Wyes</h3>\n",
       "        <div style=\"display: flex; flex-direction: row; flex-wrap: wrap; height:256px\">\n",
       "            <div style=\"flex: 0 0 256px; padding-right: 24px\">\n",
       "                \n",
       "            <p><b>ID:</b><a href=\"http://geohub.lacity.org/datasets/71fa33ddd67144caa60754083131addc_3\"> http://geohub.lacity.org/datasets/71fa33ddd67144caa60754083131addc_3</a></p>\n",
       "            <p><b>Issued:</b> 2015-11-14T04:25:21.000Z</p>\n",
       "            <p><b>Last Modified:</b> 2019-03-26T16:23:20.887Z</p>\n",
       "            <p><b>Publisher:</b> City of Los Angeles Hub</p>\n",
       "            <p><b>License:</b> https://hub.arcgis.com/api/v2/datasets/71fa33ddd67144caa60754083131addc_3/license</p>\n",
       "            <p><b>Download URL:</b><a href=\"http://geohub.lacity.org/datasets/71fa33ddd67144caa60754083131addc_3.geojson\"> http://geohub.lacity.org/datasets/71fa33ddd67144caa60754083131addc_3.geojson</a></p>\n",
       "        \n",
       "            </div>\n",
       "            <div style=\"flex: 1 1 0; height: 100%; overflow: auto\">\n",
       "                <p>\n",
       "                    This wye pipes feature class represents current wastewater information connecting the sewer service to either side of the street in the City of Los Angeles. The Mapping and Land Records Division of the Bureau of Engineering, Department of Public Works provides the most rigorous geographic information of the sanitary sewer system using a geometric network model, to ensure that its sewers reflect current ground conditions. The sanitary sewer system, pump plants, wyes, maintenance holes, and other structures represent the sewer infrastructure in the City of Los Angeles. Wye and sewer information is available on NavigateLA, a website hosted by the Bureau of Engineering, Department of Public Works.Associated information about the wastewater Wye is entered into attributes. Principal attributes include:WYE_SUBTYPE: wye subtype is the principal field that describes various types of points as either Chimney, Chimney Riser, Offset Chimney Riser, Siphon, Special Case, Spur, Tap, Tee, Unclassified, Vertical Tee, Vertical Tee Riser, Wye, Wye Drawn as a Tap.For a complete list of attribute values, please refer to (TBA Wastewater data dictionary).<br /><br />Wastewater Wye pipes lines layer was created in geographical information systems (GIS) software to display the location of wastewater wye pipes. The wyes lines layer is a feature class in the LACityWastewaterData.gdb Geodatabase dataset. The layer consists of spatial data as a line feature class and attribute data for the features. The lines are entered manually based on wastewater sewer maps and BOE standard plans, and information about the lines is entered into attributes. The wye pipes lines features are sewer pipe connections for buildings. The features in the Wastewater connector wye points layer is a related structure connected with the wye pipe line. The WYE_ID field value is the unique ID. The WYE_ID field relates to the Sewer Permit tables. The annotation wye features are displayed on maps alongside features from the Wastewater Sewer Wye pipes lines layer. The wastewater wye pipes lines are inherited from a sewer spatial database originally created by the City's Wastewater program. The database was known as SIMMS, Sewer Inventory and Maintenance Management System. Wye pipe information should only be added to the Wastewater wye pipes layer if documentation exists, such as a wastewater map approved by the City Engineer. Sewers plans and specifications proposed under private development are reviewed and approved by by Bureau of Engineering. The Department of Public Works, Bureau of Engineering's, Brown Book (current as of 2010) outlines standard specifications for public works construction. For more information on sewer materials and structures, look at the Bureau of Engineering Manual, Part F, Sewer Design, F 400 Sewer Materials and Structures section, and a copy can be viewed at <a href=\"http://eng.lacity.org/techdocs/sewer-ma/f400.pdf\" target=\"_blank\">http://eng.lacity.org/techdocs/sewer-ma/f400.pdf</a>.<br /><br />List of Fields:<br />SPECIAL_STRUCT: This attribute is the basin number.<br />TOP_: When a chimney is present, this is the depth at the top of the chimney.<br />BOTTOM: When a chimney is present, this is the depth at the bottom of the chimney.<br />PL_HUNDS: This value is the hundreds portion of the stationing at the property line.<br />SHAPE: Feature geometry.<br />USER_ID: The name of the user carrying out the edits of the wye pipes data.<br />TYPE: This is the old wye status and is no longer referenced.<br />REMARKS: This attribute contains additional comments regarding the wye line segment, such as a line through in all caps when lined out on wye maps.<br />WYE_NO: This value is the number of the line segment for the wye structure located along the pipe segment. This is a 2 digit value. The number starts at 1 for the first wye connected to a pipe. The numbers increase sequentially with each wye being unique.<br />WYE_ID: The value is a combination of PIPE_ID and WYE_NO fields, forming a unique number. This 19 digit value is a key attribute of the wye lines data layer. This field relates to the Permit tables.<br />C_TENS: This value is the tens portion of the stationing at the curb line.<br />C_HUNDS: This value is the hundreds portion of the stationing at the curb line.<br />WYE_SUBTYPE: This value is the type of sewer connection. Values:<br />     •  2 - Tap.<br />     •  8 - Siphon.<br />     •  13 - Wye Drawn as a Tap.<br />     •  9 - Special Case.<br />     •  6 - Chimney riser.<br />     •  4 - Chimney.<br />     •  5 - Vertical Tee Riser.<br />     •  7 - Vertical tee.<br />     •  10 - Spur.<br />     •  11 - Unclassified.<br />     •  12 - Offset Chimney Riser.<br />     •  1 - Wye.<br />     •  3 - Tee.<br />SIDE: The side of the pipe looking up stream to which structure attaches. Values:<br />     •  U - Unknown.<br />     •  L - Left.<br />     •  R - Right.<br />     •  C - Centered.<br />ASSETID: User-defined unique feature number that is automatically generated.<br />PL_DEPTH: This value is the depth of the service connection at the property line.<br />DEPTH: This value is the depth of the Wye from the surface in feet.<br />STAT_HUND: This value is the hundreds portion of the stationing.<br />ENG_DIST: LA City Engineering District. The boundaries are displayed in the Engineering Districts index map. Values:<br />     •  H - Harbor Engineering District.<br />     •  C - Central Engineering District.<br />     •  V - Valley Engineering District.<br />     •  W - West LA Engineering District.<br />PIPE_ID: The value is a combination of the values in the UP_STRUCT, DN_STRUCT, and PIPE_LABEL fields. This is the 17 digit identifier of each pipe segment and is a key attribute of the pipe line data layer. This field named PIPE_ID relates to the field in the Annotation Pipe and to the field named PIPE_ID in the Pipe line feature class data layers.<br />OBJECTID: Internal feature number.<br />ENABLED: Internal feature number.<br />REHAB: This attribute indicates if the wye pipe has been rehabilitated.<br />C_DEPTH: This value is the depth of the service connection at the curb line.<br />STAT_TENS: This value is the tens portion of the stationing.<br />BASIN: This attribute is the basin number.<br />LAST_UPDATE: Date of last update of the point feature.<br />STATUS: This value is the active or inactive status of the wye pipes. Values:<br />     •  Capped - Capped.<br />     •  INACTIVE - Inactive.<br />PL_TENS: This value is the tens portion of the stationing at the property line.<br />CRTN_DT: Creation date of the point feature.<br />SERVICEID: User-defined unique feature number that is automatically generated.<br />SHAPE_Length: Length of feature in internal units.\n",
       "                </p>\n",
       "            </div>\n",
       "        </div>\n",
       "        "
      ],
      "text/plain": [
       "http://geohub.lacity.org/datasets/71fa33ddd67144caa60754083131addc_3\n",
       "Wyes\n",
       "This wye pipes feature class represents current wastewater information connecting the sewer service to either side of the street in the City of Los Angeles. The Mapping and Land Records Division of the Bureau of Engineering, Department of Public Works provides the most rigorous geographic information of the sanitary sewer system using a geometric network model, to ensure that its sewers reflect current ground conditions. The sanitary sewer system, pump plants, wyes, maintenance holes, and other structures represent the sewer infrastructure in the City of Los Angeles. Wye and sewer information is available on NavigateLA, a website hosted by the Bureau of Engineering, Department of Public Works.Associated information about the wastewater Wye is entered into attributes. Principal attributes include:WYE_SUBTYPE: wye subtype is the principal field that describes various types of points as either Chimney, Chimney Riser, Offset Chimney Riser, Siphon, Special Case, Spur, Tap, Tee, Unclassified, Vertical Tee, Vertical Tee Riser, Wye, Wye Drawn as a Tap.For a complete list of attribute values, please refer to (TBA Wastewater data dictionary).<br /><br />Wastewater Wye pipes lines layer was created in geographical information systems (GIS) software to display the location of wastewater wye pipes. The wyes lines layer is a feature class in the LACityWastewaterData.gdb Geodatabase dataset. The layer consists of spatial data as a line feature class and attribute data for the features. The lines are entered manually based on wastewater sewer maps and BOE standard plans, and information about the lines is entered into attributes. The wye pipes lines features are sewer pipe connections for buildings. The features in the Wastewater connector wye points layer is a related structure connected with the wye pipe line. The WYE_ID field value is the unique ID. The WYE_ID field relates to the Sewer Permit tables. The annotation wye features are displayed on maps alongside features from the Wastewater Sewer Wye pipes lines layer. The wastewater wye pipes lines are inherited from a sewer spatial database originally created by the City's Wastewater program. The database was known as SIMMS, Sewer Inventory and Maintenance Management System. Wye pipe information should only be added to the Wastewater wye pipes layer if documentation exists, such as a wastewater map approved by the City Engineer. Sewers plans and specifications proposed under private development are reviewed and approved by by Bureau of Engineering. The Department of Public Works, Bureau of Engineering's, Brown Book (current as of 2010) outlines standard specifications for public works construction. For more information on sewer materials and structures, look at the Bureau of Engineering Manual, Part F, Sewer Design, F 400 Sewer Materials and Structures section, and a copy can be viewed at <a href=\"http://eng.lacity.org/techdocs/sewer-ma/f400.pdf\" target=\"_blank\">http://eng.lacity.org/techdocs/sewer-ma/f400.pdf</a>.<br /><br />List of Fields:<br />SPECIAL_STRUCT: This attribute is the basin number.<br />TOP_: When a chimney is present, this is the depth at the top of the chimney.<br />BOTTOM: When a chimney is present, this is the depth at the bottom of the chimney.<br />PL_HUNDS: This value is the hundreds portion of the stationing at the property line.<br />SHAPE: Feature geometry.<br />USER_ID: The name of the user carrying out the edits of the wye pipes data.<br />TYPE: This is the old wye status and is no longer referenced.<br />REMARKS: This attribute contains additional comments regarding the wye line segment, such as a line through in all caps when lined out on wye maps.<br />WYE_NO: This value is the number of the line segment for the wye structure located along the pipe segment. This is a 2 digit value. The number starts at 1 for the first wye connected to a pipe. The numbers increase sequentially with each wye being unique.<br />WYE_ID: The value is a combination of PIPE_ID and WYE_NO fields, forming a unique number. This 19 digit value is a key attribute of the wye lines data layer. This field relates to the Permit tables.<br />C_TENS: This value is the tens portion of the stationing at the curb line.<br />C_HUNDS: This value is the hundreds portion of the stationing at the curb line.<br />WYE_SUBTYPE: This value is the type of sewer connection. Values:<br />     •  2 - Tap.<br />     •  8 - Siphon.<br />     •  13 - Wye Drawn as a Tap.<br />     •  9 - Special Case.<br />     •  6 - Chimney riser.<br />     •  4 - Chimney.<br />     •  5 - Vertical Tee Riser.<br />     •  7 - Vertical tee.<br />     •  10 - Spur.<br />     •  11 - Unclassified.<br />     •  12 - Offset Chimney Riser.<br />     •  1 - Wye.<br />     •  3 - Tee.<br />SIDE: The side of the pipe looking up stream to which structure attaches. Values:<br />     •  U - Unknown.<br />     •  L - Left.<br />     •  R - Right.<br />     •  C - Centered.<br />ASSETID: User-defined unique feature number that is automatically generated.<br />PL_DEPTH: This value is the depth of the service connection at the property line.<br />DEPTH: This value is the depth of the Wye from the surface in feet.<br />STAT_HUND: This value is the hundreds portion of the stationing.<br />ENG_DIST: LA City Engineering District. The boundaries are displayed in the Engineering Districts index map. Values:<br />     •  H - Harbor Engineering District.<br />     •  C - Central Engineering District.<br />     •  V - Valley Engineering District.<br />     •  W - West LA Engineering District.<br />PIPE_ID: The value is a combination of the values in the UP_STRUCT, DN_STRUCT, and PIPE_LABEL fields. This is the 17 digit identifier of each pipe segment and is a key attribute of the pipe line data layer. This field named PIPE_ID relates to the field in the Annotation Pipe and to the field named PIPE_ID in the Pipe line feature class data layers.<br />OBJECTID: Internal feature number.<br />ENABLED: Internal feature number.<br />REHAB: This attribute indicates if the wye pipe has been rehabilitated.<br />C_DEPTH: This value is the depth of the service connection at the curb line.<br />STAT_TENS: This value is the tens portion of the stationing.<br />BASIN: This attribute is the basin number.<br />LAST_UPDATE: Date of last update of the point feature.<br />STATUS: This value is the active or inactive status of the wye pipes. Values:<br />     •  Capped - Capped.<br />     •  INACTIVE - Inactive.<br />PL_TENS: This value is the tens portion of the stationing at the property line.<br />CRTN_DT: Creation date of the point feature.<br />SERVICEID: User-defined unique feature number that is automatically generated.<br />SHAPE_Length: Length of feature in internal units."
      ]
     },
     "metadata": {},
     "output_type": "display_data"
    },
    {
     "name": "stdout",
     "output_type": "stream",
     "text": [
      "\n",
      "\n",
      "\n"
     ]
    },
    {
     "data": {
      "text/html": [
       "\n",
       "        <h3>Sewer Fees</h3>\n",
       "        <div style=\"display: flex; flex-direction: row; flex-wrap: wrap; height:256px\">\n",
       "            <div style=\"flex: 0 0 256px; padding-right: 24px\">\n",
       "                \n",
       "            <p><b>ID:</b><a href=\"http://geohub.lacity.org/datasets/d942e3e59e3e4a39af7833c0bd231d98_4\"> http://geohub.lacity.org/datasets/d942e3e59e3e4a39af7833c0bd231d98_4</a></p>\n",
       "            <p><b>Issued:</b> 2015-11-14T04:25:54.000Z</p>\n",
       "            <p><b>Last Modified:</b> 2019-03-26T16:23:14.980Z</p>\n",
       "            <p><b>Publisher:</b> City of Los Angeles Hub</p>\n",
       "            <p><b>License:</b> https://hub.arcgis.com/api/v2/datasets/d942e3e59e3e4a39af7833c0bd231d98_4/license</p>\n",
       "            <p><b>Download URL:</b><a href=\"http://geohub.lacity.org/datasets/d942e3e59e3e4a39af7833c0bd231d98_4.geojson\"> http://geohub.lacity.org/datasets/d942e3e59e3e4a39af7833c0bd231d98_4.geojson</a></p>\n",
       "        \n",
       "            </div>\n",
       "            <div style=\"flex: 1 1 0; height: 100%; overflow: auto\">\n",
       "                <p>\n",
       "                    This fee feature class represents current wastewater information in the City of Los Angeles. This fee indicates that a property owner has paid the fee for a Special House Connection Sewer or Bonded Sewer House Connection Sewer permit, and the property has not been assessed for a public sewer. Fee information is inputted into the Wastewater Database by the District Office Staff. The Mapping and Land Records Division of the Bureau of Engineering, Department of Public Works provides the most rigorous geographic information of the sanitary sewer system using a geometric network model, to ensure that its sewers reflect current ground conditions. The sanitary sewer system, pump plants, wyes, maintenance holes, and other structures represent the sewer infrastructure in the City of Los Angeles. Wye and sewer information is available on NavigateLA, a website hosted by the Bureau of Engineering, Department of Public Works.For a complete list of attribute values, please refer to (TBA Wastewater data dictionary).<br /><br />Wastewater Fee points layer was created in geographical information systems (GIS) software to display points representing bonded or special fee parcels. The fee points layer is a feature class in the LACityWastewaterData.gdb Geodatabase dataset. The layer consists of spatial data as a points feature class and attribute data for the features. The points are entered manually based on wastewater sewer maps and BOE standard plans, and information about the points is entered into attributes. The fee points data layer indicate that property owner have paid the fee for a Special House Connection Sewer or Bonded Sewer House Connection Sewer permit, and the property has not been assessed for a public sewer. The wastewater fee points are inherited from a sewer spatial database originally created by the City's Wastewater program. The database was known as SIMMS, Sewer Inventory and Maintenance Management System. Fee information should only be added to the Wastewater Fee layer if documentation exists, such as a wastewater map approved by the City Engineer. Sewers plans and specifications proposed under private development are reviewed and approved by Bureau of Engineering. The Department of Public Works, Bureau of Engineering's, Brown Book (current as of 2010) outlines standard specifications for public works construction. For more information on sewer materials and structures, look at the Bureau of Engineering Manual, Part F, Sewer Design section, and a copy can be viewed at <a href=\"http://eng.lacity.org/techdocs/sewer-ma/f400.pdf\" target=\"_blank\">http://eng.lacity.org/techdocs/sewer-ma/f400.pdf</a>. For more information on maintenance holes, a copy can be viewed at <a href=\"http://boemaps.eng.ci.la.ca.us/reports/pdf/s140-0_std_pl.pdf\" target=\"_blank\">http://boemaps.eng.ci.la.ca.us/reports/pdf/s140-0_std_pl.pdf</a>.<br /><br />List of Fields:<br />BOE_PROCESS_DATE<br />FEE_NO: This value is the number of the document filed to establish the fees owed.<br />AMOUNT: This value is the dollar amount of the fee owed.<br />STATUS: This value shows the fees that were transferred to other SFC sites in the City of Los Angeles. The value indicates whether that record was a Transfer donor or a transfer recipient. Values:<br />     •  TD - Transfer donor.<br />     •  TR - Transfer recipient.<br />VERIFIED: This value of is Y or null.<br />LAT: The value is the latitude coordinate of the point.<br />SHAPE: Feature geometry.<br />LAST_MODF_DT: Last modification date of the point feature.<br />LON: The value is the longitude coordinate of the point.<br />SEWER_MAP<br />REF_NO: This value is the reference number.<br />PIN: The value is a combination of MAPSHEET and ID fields in Landbase Parcels data, creating a unique value for each parcel. There are spaces between the MAPSHEET and ID field values. This is a key attribute of the LANDBASE data layer. This field is related to the APN and HSE_NBR tables. This attribute is automatically generated by the Wastewater Application during background processes, running the identity process.<br />ENG_DIST: LA City Engineering District. The boundaries are displayed in the Engineering Districts index map. Values:<br />     •  V - Valley Engineering District.<br />     •  H - Harbor Engineering District.<br />     •  W - West LA Engineering District.<br />     •  C - Central Engineering District.<br />OBJECTID: Internal feature number.<br />CRTN_DT<br />JOB_ADDRESS: This value is the the address for the parcel.<br />USER_ID: The name of the user carrying out the edits of the fee points.<br />TYPE: This value is the text as indicated on the map containing Wastewater Wye data. Values:<br />     •  H - Unknown.<br />     •  UNK - Unknown.<br />     •  SSC - Sewer service charge.<br />     •  LP - Letters of Participation.<br />     •  SFC - Sewer facilities charge.<br />     •  SF - Special fees.<br />     •  OF - Outlet facilities charge.<br />     •  C - Unknown.<br />     •  F - Fee.<br />     •  D - Unknown.<br />     •  BL - Bonded lateral.<br />     •  AF - No fees.<br />     •  A - Unknown.<br />     •  B - Bonded fee due.<br />     •  S - Unknown.<br />REMARKS: This attribute contains additional comments regarding fee points. \n",
       "                </p>\n",
       "            </div>\n",
       "        </div>\n",
       "        "
      ],
      "text/plain": [
       "http://geohub.lacity.org/datasets/d942e3e59e3e4a39af7833c0bd231d98_4\n",
       "Sewer Fees\n",
       "This fee feature class represents current wastewater information in the City of Los Angeles. This fee indicates that a property owner has paid the fee for a Special House Connection Sewer or Bonded Sewer House Connection Sewer permit, and the property has not been assessed for a public sewer. Fee information is inputted into the Wastewater Database by the District Office Staff. The Mapping and Land Records Division of the Bureau of Engineering, Department of Public Works provides the most rigorous geographic information of the sanitary sewer system using a geometric network model, to ensure that its sewers reflect current ground conditions. The sanitary sewer system, pump plants, wyes, maintenance holes, and other structures represent the sewer infrastructure in the City of Los Angeles. Wye and sewer information is available on NavigateLA, a website hosted by the Bureau of Engineering, Department of Public Works.For a complete list of attribute values, please refer to (TBA Wastewater data dictionary).<br /><br />Wastewater Fee points layer was created in geographical information systems (GIS) software to display points representing bonded or special fee parcels. The fee points layer is a feature class in the LACityWastewaterData.gdb Geodatabase dataset. The layer consists of spatial data as a points feature class and attribute data for the features. The points are entered manually based on wastewater sewer maps and BOE standard plans, and information about the points is entered into attributes. The fee points data layer indicate that property owner have paid the fee for a Special House Connection Sewer or Bonded Sewer House Connection Sewer permit, and the property has not been assessed for a public sewer. The wastewater fee points are inherited from a sewer spatial database originally created by the City's Wastewater program. The database was known as SIMMS, Sewer Inventory and Maintenance Management System. Fee information should only be added to the Wastewater Fee layer if documentation exists, such as a wastewater map approved by the City Engineer. Sewers plans and specifications proposed under private development are reviewed and approved by Bureau of Engineering. The Department of Public Works, Bureau of Engineering's, Brown Book (current as of 2010) outlines standard specifications for public works construction. For more information on sewer materials and structures, look at the Bureau of Engineering Manual, Part F, Sewer Design section, and a copy can be viewed at <a href=\"http://eng.lacity.org/techdocs/sewer-ma/f400.pdf\" target=\"_blank\">http://eng.lacity.org/techdocs/sewer-ma/f400.pdf</a>. For more information on maintenance holes, a copy can be viewed at <a href=\"http://boemaps.eng.ci.la.ca.us/reports/pdf/s140-0_std_pl.pdf\" target=\"_blank\">http://boemaps.eng.ci.la.ca.us/reports/pdf/s140-0_std_pl.pdf</a>.<br /><br />List of Fields:<br />BOE_PROCESS_DATE<br />FEE_NO: This value is the number of the document filed to establish the fees owed.<br />AMOUNT: This value is the dollar amount of the fee owed.<br />STATUS: This value shows the fees that were transferred to other SFC sites in the City of Los Angeles. The value indicates whether that record was a Transfer donor or a transfer recipient. Values:<br />     •  TD - Transfer donor.<br />     •  TR - Transfer recipient.<br />VERIFIED: This value of is Y or null.<br />LAT: The value is the latitude coordinate of the point.<br />SHAPE: Feature geometry.<br />LAST_MODF_DT: Last modification date of the point feature.<br />LON: The value is the longitude coordinate of the point.<br />SEWER_MAP<br />REF_NO: This value is the reference number.<br />PIN: The value is a combination of MAPSHEET and ID fields in Landbase Parcels data, creating a unique value for each parcel. There are spaces between the MAPSHEET and ID field values. This is a key attribute of the LANDBASE data layer. This field is related to the APN and HSE_NBR tables. This attribute is automatically generated by the Wastewater Application during background processes, running the identity process.<br />ENG_DIST: LA City Engineering District. The boundaries are displayed in the Engineering Districts index map. Values:<br />     •  V - Valley Engineering District.<br />     •  H - Harbor Engineering District.<br />     •  W - West LA Engineering District.<br />     •  C - Central Engineering District.<br />OBJECTID: Internal feature number.<br />CRTN_DT<br />JOB_ADDRESS: This value is the the address for the parcel.<br />USER_ID: The name of the user carrying out the edits of the fee points.<br />TYPE: This value is the text as indicated on the map containing Wastewater Wye data. Values:<br />     •  H - Unknown.<br />     •  UNK - Unknown.<br />     •  SSC - Sewer service charge.<br />     •  LP - Letters of Participation.<br />     •  SFC - Sewer facilities charge.<br />     •  SF - Special fees.<br />     •  OF - Outlet facilities charge.<br />     •  C - Unknown.<br />     •  F - Fee.<br />     •  D - Unknown.<br />     •  BL - Bonded lateral.<br />     •  AF - No fees.<br />     •  A - Unknown.<br />     •  B - Bonded fee due.<br />     •  S - Unknown.<br />REMARKS: This attribute contains additional comments regarding fee points. "
      ]
     },
     "metadata": {},
     "output_type": "display_data"
    },
    {
     "name": "stdout",
     "output_type": "stream",
     "text": [
      "\n",
      "\n",
      "\n"
     ]
    },
    {
     "data": {
      "text/html": [
       "\n",
       "        <h3>Sewer Pipes</h3>\n",
       "        <div style=\"display: flex; flex-direction: row; flex-wrap: wrap; height:256px\">\n",
       "            <div style=\"flex: 0 0 256px; padding-right: 24px\">\n",
       "                \n",
       "            <p><b>ID:</b><a href=\"http://geohub.lacity.org/datasets/aac29e4f9900487287c3f95f9616097a_9\"> http://geohub.lacity.org/datasets/aac29e4f9900487287c3f95f9616097a_9</a></p>\n",
       "            <p><b>Issued:</b> 2015-11-14T04:28:40.000Z</p>\n",
       "            <p><b>Last Modified:</b> 2019-03-26T16:21:02.849Z</p>\n",
       "            <p><b>Publisher:</b> City of Los Angeles Hub</p>\n",
       "            <p><b>License:</b> https://hub.arcgis.com/api/v2/datasets/aac29e4f9900487287c3f95f9616097a_9/license</p>\n",
       "            <p><b>Download URL:</b><a href=\"http://geohub.lacity.org/datasets/aac29e4f9900487287c3f95f9616097a_9.geojson\"> http://geohub.lacity.org/datasets/aac29e4f9900487287c3f95f9616097a_9.geojson</a></p>\n",
       "        \n",
       "            </div>\n",
       "            <div style=\"flex: 1 1 0; height: 100%; overflow: auto\">\n",
       "                <p>\n",
       "                    This pipe feature class represents current wastewater information of the mainline sewer in the City of Los Angeles. The Mapping and Land Records Division of the Bureau of Engineering, Department of Public Works provides the most rigorous geographic information of the storm drain system using a geometric network model, to ensure that its storm drains reflect current ground conditions. The conduits and inlets represent the storm drain infrastructure in the City of Los Angeles. Storm drain information is available on NavigateLA, a website hosted by the Bureau of Engineering, Department of Public Works.Associated information about the wastewater Pipe is entered into attributes. Principal attributes include:PIPE_SUBTYPE: pipe subtype is the principal field that describes various types of lines as either Airline, Force Main, Gravity, Siphon, or Special Lateral.For a complete list of attribute values, please refer to (TBA Wastewater data dictionary). <br /><br />Wastewater pipe lines layer was created in geographical information systems (GIS) software to display the location of sewer pipes. The pipe lines layer is a feature class in the LACityWastewaterData.gdb Geodatabase dataset. The layer consists of spatial data as a line feature class and attribute data for the features. The lines are entered manually based on wastewater sewer maps and BOE standard plans, and information about the lines is entered into attributes. The pipe lines are the main sewers constructed within the public right-of-way in the City of Los Angeles. The ends of line segments, of the pipe lines data, are coincident with the wastewater connectivity nodes, cleanout nodes, non-structures, and physical structures points data. Refer to those layers for more information. The wastewater pipe lines are inherited from a sewer spatial database originally created by the City's Wastewater program. The database was known as SIMMS, Sewer Inventory and Maintenance Management System. For the historical information of the wastewater pipe lines layer, refer to the metadata nested under the sections Data Quality Information, Lineage, Process Step section. Pipe information should only be added to the Wastewater Pipes layer if documentation exists, such as a wastewater map approved by the City Engineer. Sewers plans and specifications proposed under private development are reviewed and approved by Bureau of Engineering. The Department of Public Works, Bureau of Engineering's, Brown Book (current as of 2010) outlines standard specifications for public works construction. For more information on sewer materials and structures, look at the Bureau of Engineering Manual, Part F, Sewer Design, F 400 Sewer Materials and Structures section, and a copy can be viewed at <a href=\"http://eng.lacity.org/techdocs/sewer-ma/f400.pdf\" target=\"_blank\">http://eng.lacity.org/techdocs/sewer-ma/f400.pdf</a>.<br /><br />List of Fields:<br />STREET: This is the street name and street suffix on which the pipe is located.<br />PIPE_LABEL: This attribute identifies the arc segment between two nodes, which represents the pipe segment. There could be any number of pipes between the same two maintenance holes and at least one. If there is more than one pipe between the same two maintenance holes, then a value other than 'A' is assigned to each pipe, such as the value 'B', 'C', and so on consecutively. Also, when a new pipe is constructed, some old pipes are not removed from the ground and the new pipe is added around the existing pipe. In this case, if the original pipe was assigned an 'A', the new pipe is assigned a 'B'.<br />C_UP_INV: This is the calculated pipe upstream invert elevation value.<br />PIPE_MAT: The value signifies the various materials that define LA City's sewer system. Values:<br />     •  TCP - Terra Cotta pipe.<br />     •  CMP - Corrugated metal pipe.<br />     •  RCP - Reinforced concrete pipe. Used for sewers larger than 42inch, with exceptions.<br />     •  PCT - Polymer concrete pipe.<br />     •  CON - Concrete or cement.<br />     •  DIP - Ductile iron pipe.<br />     •  ABS - Acrylonitrile butadiene styrene.<br />     •  STL - Steel.<br />     •  UNK - Unknown.<br />     •  ACP - Asbestos cement pipe.<br />     •  RCL - Reinforced concrete pipe lined.<br />     •  OTH - Other or unknown.<br />     •  VCP - Vitrified clay pipe.<br />     •  TRS - Truss pipe.<br />     •  CIP - Cast iron pipe.<br />     •  PVC - Polyvinyl chloride.<br />     •  BRK - Brick.<br />     •  RCPL - Lined Reinforced concrete pipe. Used for sewers larger than 42inch, with exceptions.<br />     •  B/C - Concrete brick pipe.<br />     •  FRP - Centrifugally cast fiberglass reinforced plastic mortar pipe.<br />DN_INV: This is the downstream invert elevation value.<br />PIPE_WIDTH: This value is the pipe dimension for shapes other than round.<br />C_SLOPE: This is the calculated slope.<br />ENABLED: Internal feature number.<br />DN_STRUCT: This attribute identifies a number at one of two end points of the line segment that represents a sewer pipe. A sewer pipe line has a value for the UP_STRUCT and DN_STRUCT fields. This point is the downstream structure that may be a maintenance hole, pump station, junction, etc. Each of these structures is assigned an identifying number that corresponds to a Sewer Wye data record. The 8 digit value is based on an S-Map index map using a standardized numbering scheme. The S-Map is divided into 16 grids, each numbered sequentially from west to east and north to south. The first three digits represent the S-Map number, the following two digits represent the grid number, and the last three digits represent the structure number within the grid. This field also relates to the (name of table or layer) node attribute table.<br />PIPE_SIZE: This value is the inside pipe diameter in inches.<br />MON_INST: This is the month of the pipe installation.<br />PIPE_ID: The value is a combination of the values in the UP_STRUCT, DN_STRUCT, and PIPE_LABEL fields. This is the 17 digit identifier of each pipe segment and is a key attribute of the pipe line data layer. This field named PIPE_ID relates to the field in the Annotation Pipe feature class and to the field in the Wye line feature class data layers.<br />REMARKS: This attribute contains additional comments regarding the pipe line segment.<br />DN_STA_PLS: This is the tens value of the downstream stationing.<br />EASEMENT: This value denotes whether or not the pipe is within an easement.<br />DN_STA_100: This is the hundreds value of the downstream stationing.<br />PIPE_SHAPE: The value signifies the shape of the pipe cross section. Values:<br />     •  SE - Semi-Elliptical.<br />     •  O1 - Semi-Elliptical.<br />     •  UNK - Unknown.<br />     •  BM - Burns and McDonald.<br />     •  S2 - Semi-Elliptical.<br />     •  EL - Elliptical.<br />     •  O2 - Semi-Elliptical.<br />     •  CIR - Circular.<br />     •  Box - Box (Rectangular).<br />PIPE_STATUS: This attribute contains the pipe status. Values:<br />     •  U - Unknown.<br />     •  P - Proposed.<br />     •  T - Abandoned.<br />     •  F - As Built.<br />     •  S - Siphon.<br />     •  L - Lateral.<br />     •  A - As Bid.<br />     •  N - Non-City.<br />     •  R - Airline.<br />ENG_DIST: LA City Engineering District. The boundaries are displayed in the Engineering Districts index map. Values:<br />     •  O - Out LA.<br />     •  V - Valley Engineering District.<br />     •  W - West LA Engineering District.<br />     •  H - Harbor Engineering District.<br />     •  C - Central Engineering District.<br />C_PIPE_LEN: This is the calculated pipe length.<br />OWNER: This value is the agency or municipality that constructed the pipe. Values:<br />     •  PVT - Private.<br />     •  CTY - City of LA.<br />     •  FED - Federal Facilities.<br />     •  COSA - LA County Sanitation.<br />     •  OUTLA - Adjoining cities.<br />CRTN_DT: Creation date of the line feature.<br />TRTMNT_LOC: This value is the treatment plant used to treat the pipe wastewater.<br />PCT_ENTRY2: This is the flag determining if the second slope value, in SLOPE2 field, was entered in percent as opposed to a decimal. Values:<br />     •  Y - The value is expressed as a percent.<br />     •  N - The value is not expressed as a percent.<br />UP_STA_100: This is the hundreds value of the upstream stationing.<br />DN_MH: The value is the ID of the structure. This point is the structure that may be a maintenance hole, pump station, junction, etc. The field name DN_MH signifies the structure is the point at the downstream end of the pipe line segment. The field DN_MH is a key attribute to relate the pipe lines feature class to the STRUCTURE_ID field in the physical structures feature class.<br />SAN_PIPE_ID<br />USER_ID: The name of the user carrying out the edits of the pipe data.<br />WYE_MAT: This is the pipe material as shown on the wye card.<br />WYE_DIAM: This is the pipe diameter as shown on the wye card.<br />SLOPE2: This is the second slope value used for pipe segments with a vertical curve.<br />EST_YR_LEV: This value is the year installed level.<br />EST_MATL: This is the flag determining if the pipe material was estimated.<br />LINER_DATE: This value is the year that the pipe was re-lined.<br />LAST_UPDATE: Date of last update of the line feature.<br />SHAPE: Feature geometry.<br />EST_YEAR: This is the flag indicating if the year if installation was estimated.<br />EST_UPINV: This is the flag determining if the pipe upstream elevation value was estimated.<br />WYE_UPDATE: This value indicates whether the wye card was updated.<br />PCT_ENTRY: This is the flag determining if the slope was entered in percent as opposed to a decimal. Values:<br />     •  N - The value is not expressed as a percent.<br />     •  Y - The value is expressed as a percent.<br />PROF: This is the profile drawing number.<br />PLAN1: This is the improvement plan drawing number.<br />PLAN2: This is the supplementary improvement plan drawing number.<br />EST_DNINV: This is the flag determining if the pipe downstream elevation value was estimated.<br />UP_STRUCT: This attribute identifies a number at one of two end points of the line segment that represents a sewer pipe. A sewer pipe line has a value for the UP_STRUCT and DN_STRUCT fields. This point is the upstream structure that may be a maintenance hole, pump station, junction, etc. Each of these structures is assigned an identifying number that corresponds to a Sewer Wye data record. The 8 digit value is based on an S-Map index map using a standardized numbering scheme. The S-Map is divided into 16 grids, each numbered sequentially from west to east and north to south. The first three digits represent the S-Map number, the following two digits represent the grid number, and the last three digits represent the structure number within the grid. This field also relates to the (name of table or layer) node attribute table.<br />SYSTEM: This attribute identifies the major sewer and sewer outfall system the pipe is associated with. Values:<br />     •  VRS - Venice relief sewer.<br />     •  GBIS - Glendale Burbank interceptor sewer.<br />     •  WLAIS - West Los Angeles interceptor sewer.<br />     •  NOS - North outfall sewer.<br />     •  LCIS - La Cienega interceptor sewer.<br />     •  WRS - Westwood relief sewer.<br />     •  VOS - Venice outfall sewer.<br />     •  RRS - Robertson relief sewer.<br />     •  NEIS - North East interceptor sewer.<br />     •  NCOS - North Central outfall sewer.<br />     •  MAZE - Area of many sewer junctions and interconnections.<br />     •  WHIS - Wilshire-Hollywood interceptor sewer.<br />     •  CIS - Coastal interceptor sewer.<br />     •  NORS - North outfall replacement sewer.<br />     •  LCSFVRS - La Cienega San Fernando Valley relief sewer.<br />     •  ECIS - East Central interceptor sewer.<br />     •  COS - Central outfall sewer.<br />     •  VORS - Valley outfall relief sewer.<br />     •  AVORS - Additional Valley outfall relief sewer.<br />     •  EVRS - East Valley relief sewer.<br />     •  EVIS - East Valley interceptor sewer.<br />V_CURVE: This is the flag for pipe segments with a vertical curve.<br />UP_MH: The value is the ID of the structure. This point is the structure that may be a maintenance hole, pump station, junction, etc. The field name UP_MH signifies the structure is the point at the upstream end of the pipe line segment. The field UP_MH is a key attribute to relate the pipe lines feature class to the STRUCTURE_ID field in the physical structures feature class.<br />OBJECTID: Internal feature number.<br />CAPACITY: This value is a calculated pipe capacity based on its slope and shape.<br />VDATUM: This is the year of the standard plan, which contains the information the user enters into pipe data.<br />WYE_LENG: This is the pipe length as shown on the wye card.<br />REHAB: This attribute indicates if the pipe has been rehabilitated.<br />GRV_FM: The value describes the type of flow that the pipe is handling. Values:<br />     •  GR - Gravity flow.<br />     •  SI - Siphon condition.<br />     •  FM - Force main.<br />     •  AL - Air line.<br />     •  AV - Air Vent.<br />HR_VER: This value flags the pipe line segment as either horizontal, vertical, or both. Values:<br />     •  V - Vertical curve.<br />     •  B - Both horizontal and vertical curves.<br />     •  H - Horizontal curve.<br />PIPE_SUBTYPE: This attribute is the pipe subtype.<br />SLOPE_PCT: This value is the percentage of slope of the pipe shown as a decimal value.<br />YEAR_INST: This is the year of pipe installation.<br />COMMENTS: This attribute contains comments regarding the pipe status.<br />LINER: The value describes the basic material used to rehab a pipe. Values:<br />     •  S - Steel liner.<br />     •  L - Plastic liner.<br />     •  T - Tile liner.<br />WYEMAP: This is the wye card number reference.<br />UP_INV: This is the upstream invert elevation value.<br />UP_STA_PLS: This is the tens value of the upstream stationing.<br />BASIN: This attribute is the basin number.<br />CLASS: This attribute is the sewer class the pipe belongs to. Values:<br />     •  3 - Secondary Sewer.<br />     •  2 - Primary Sewer.<br />     •  0 - Unknown.<br />     •  1 - Major Outfall or Interceptor.<br />WYE_CON: This is the number of wye connections served by pipe segment. There are up to 51 wye connections in the current data.<br />ASSETID: User-defined unique feature number that is automatically generated.<br />BLOCK: This is the block number on which the pipe is located.<br />SERVICEID: User-defined unique feature number that is automatically generated.<br />PIPE_LENG: This is the length of the pipe segment.<br />C_DN_INV: This is the calculated pipe downstream invert elevation value.<br />NO_LAT: This is the number of laterals served by pipe segment. There are up to 50 laterals in the current data.<br />SHAPE_Length: Length of feature in internal units.\n",
       "                </p>\n",
       "            </div>\n",
       "        </div>\n",
       "        "
      ],
      "text/plain": [
       "http://geohub.lacity.org/datasets/aac29e4f9900487287c3f95f9616097a_9\n",
       "Sewer Pipes\n",
       "This pipe feature class represents current wastewater information of the mainline sewer in the City of Los Angeles. The Mapping and Land Records Division of the Bureau of Engineering, Department of Public Works provides the most rigorous geographic information of the storm drain system using a geometric network model, to ensure that its storm drains reflect current ground conditions. The conduits and inlets represent the storm drain infrastructure in the City of Los Angeles. Storm drain information is available on NavigateLA, a website hosted by the Bureau of Engineering, Department of Public Works.Associated information about the wastewater Pipe is entered into attributes. Principal attributes include:PIPE_SUBTYPE: pipe subtype is the principal field that describes various types of lines as either Airline, Force Main, Gravity, Siphon, or Special Lateral.For a complete list of attribute values, please refer to (TBA Wastewater data dictionary). <br /><br />Wastewater pipe lines layer was created in geographical information systems (GIS) software to display the location of sewer pipes. The pipe lines layer is a feature class in the LACityWastewaterData.gdb Geodatabase dataset. The layer consists of spatial data as a line feature class and attribute data for the features. The lines are entered manually based on wastewater sewer maps and BOE standard plans, and information about the lines is entered into attributes. The pipe lines are the main sewers constructed within the public right-of-way in the City of Los Angeles. The ends of line segments, of the pipe lines data, are coincident with the wastewater connectivity nodes, cleanout nodes, non-structures, and physical structures points data. Refer to those layers for more information. The wastewater pipe lines are inherited from a sewer spatial database originally created by the City's Wastewater program. The database was known as SIMMS, Sewer Inventory and Maintenance Management System. For the historical information of the wastewater pipe lines layer, refer to the metadata nested under the sections Data Quality Information, Lineage, Process Step section. Pipe information should only be added to the Wastewater Pipes layer if documentation exists, such as a wastewater map approved by the City Engineer. Sewers plans and specifications proposed under private development are reviewed and approved by Bureau of Engineering. The Department of Public Works, Bureau of Engineering's, Brown Book (current as of 2010) outlines standard specifications for public works construction. For more information on sewer materials and structures, look at the Bureau of Engineering Manual, Part F, Sewer Design, F 400 Sewer Materials and Structures section, and a copy can be viewed at <a href=\"http://eng.lacity.org/techdocs/sewer-ma/f400.pdf\" target=\"_blank\">http://eng.lacity.org/techdocs/sewer-ma/f400.pdf</a>.<br /><br />List of Fields:<br />STREET: This is the street name and street suffix on which the pipe is located.<br />PIPE_LABEL: This attribute identifies the arc segment between two nodes, which represents the pipe segment. There could be any number of pipes between the same two maintenance holes and at least one. If there is more than one pipe between the same two maintenance holes, then a value other than 'A' is assigned to each pipe, such as the value 'B', 'C', and so on consecutively. Also, when a new pipe is constructed, some old pipes are not removed from the ground and the new pipe is added around the existing pipe. In this case, if the original pipe was assigned an 'A', the new pipe is assigned a 'B'.<br />C_UP_INV: This is the calculated pipe upstream invert elevation value.<br />PIPE_MAT: The value signifies the various materials that define LA City's sewer system. Values:<br />     •  TCP - Terra Cotta pipe.<br />     •  CMP - Corrugated metal pipe.<br />     •  RCP - Reinforced concrete pipe. Used for sewers larger than 42inch, with exceptions.<br />     •  PCT - Polymer concrete pipe.<br />     •  CON - Concrete or cement.<br />     •  DIP - Ductile iron pipe.<br />     •  ABS - Acrylonitrile butadiene styrene.<br />     •  STL - Steel.<br />     •  UNK - Unknown.<br />     •  ACP - Asbestos cement pipe.<br />     •  RCL - Reinforced concrete pipe lined.<br />     •  OTH - Other or unknown.<br />     •  VCP - Vitrified clay pipe.<br />     •  TRS - Truss pipe.<br />     •  CIP - Cast iron pipe.<br />     •  PVC - Polyvinyl chloride.<br />     •  BRK - Brick.<br />     •  RCPL - Lined Reinforced concrete pipe. Used for sewers larger than 42inch, with exceptions.<br />     •  B/C - Concrete brick pipe.<br />     •  FRP - Centrifugally cast fiberglass reinforced plastic mortar pipe.<br />DN_INV: This is the downstream invert elevation value.<br />PIPE_WIDTH: This value is the pipe dimension for shapes other than round.<br />C_SLOPE: This is the calculated slope.<br />ENABLED: Internal feature number.<br />DN_STRUCT: This attribute identifies a number at one of two end points of the line segment that represents a sewer pipe. A sewer pipe line has a value for the UP_STRUCT and DN_STRUCT fields. This point is the downstream structure that may be a maintenance hole, pump station, junction, etc. Each of these structures is assigned an identifying number that corresponds to a Sewer Wye data record. The 8 digit value is based on an S-Map index map using a standardized numbering scheme. The S-Map is divided into 16 grids, each numbered sequentially from west to east and north to south. The first three digits represent the S-Map number, the following two digits represent the grid number, and the last three digits represent the structure number within the grid. This field also relates to the (name of table or layer) node attribute table.<br />PIPE_SIZE: This value is the inside pipe diameter in inches.<br />MON_INST: This is the month of the pipe installation.<br />PIPE_ID: The value is a combination of the values in the UP_STRUCT, DN_STRUCT, and PIPE_LABEL fields. This is the 17 digit identifier of each pipe segment and is a key attribute of the pipe line data layer. This field named PIPE_ID relates to the field in the Annotation Pipe feature class and to the field in the Wye line feature class data layers.<br />REMARKS: This attribute contains additional comments regarding the pipe line segment.<br />DN_STA_PLS: This is the tens value of the downstream stationing.<br />EASEMENT: This value denotes whether or not the pipe is within an easement.<br />DN_STA_100: This is the hundreds value of the downstream stationing.<br />PIPE_SHAPE: The value signifies the shape of the pipe cross section. Values:<br />     •  SE - Semi-Elliptical.<br />     •  O1 - Semi-Elliptical.<br />     •  UNK - Unknown.<br />     •  BM - Burns and McDonald.<br />     •  S2 - Semi-Elliptical.<br />     •  EL - Elliptical.<br />     •  O2 - Semi-Elliptical.<br />     •  CIR - Circular.<br />     •  Box - Box (Rectangular).<br />PIPE_STATUS: This attribute contains the pipe status. Values:<br />     •  U - Unknown.<br />     •  P - Proposed.<br />     •  T - Abandoned.<br />     •  F - As Built.<br />     •  S - Siphon.<br />     •  L - Lateral.<br />     •  A - As Bid.<br />     •  N - Non-City.<br />     •  R - Airline.<br />ENG_DIST: LA City Engineering District. The boundaries are displayed in the Engineering Districts index map. Values:<br />     •  O - Out LA.<br />     •  V - Valley Engineering District.<br />     •  W - West LA Engineering District.<br />     •  H - Harbor Engineering District.<br />     •  C - Central Engineering District.<br />C_PIPE_LEN: This is the calculated pipe length.<br />OWNER: This value is the agency or municipality that constructed the pipe. Values:<br />     •  PVT - Private.<br />     •  CTY - City of LA.<br />     •  FED - Federal Facilities.<br />     •  COSA - LA County Sanitation.<br />     •  OUTLA - Adjoining cities.<br />CRTN_DT: Creation date of the line feature.<br />TRTMNT_LOC: This value is the treatment plant used to treat the pipe wastewater.<br />PCT_ENTRY2: This is the flag determining if the second slope value, in SLOPE2 field, was entered in percent as opposed to a decimal. Values:<br />     •  Y - The value is expressed as a percent.<br />     •  N - The value is not expressed as a percent.<br />UP_STA_100: This is the hundreds value of the upstream stationing.<br />DN_MH: The value is the ID of the structure. This point is the structure that may be a maintenance hole, pump station, junction, etc. The field name DN_MH signifies the structure is the point at the downstream end of the pipe line segment. The field DN_MH is a key attribute to relate the pipe lines feature class to the STRUCTURE_ID field in the physical structures feature class.<br />SAN_PIPE_ID<br />USER_ID: The name of the user carrying out the edits of the pipe data.<br />WYE_MAT: This is the pipe material as shown on the wye card.<br />WYE_DIAM: This is the pipe diameter as shown on the wye card.<br />SLOPE2: This is the second slope value used for pipe segments with a vertical curve.<br />EST_YR_LEV: This value is the year installed level.<br />EST_MATL: This is the flag determining if the pipe material was estimated.<br />LINER_DATE: This value is the year that the pipe was re-lined.<br />LAST_UPDATE: Date of last update of the line feature.<br />SHAPE: Feature geometry.<br />EST_YEAR: This is the flag indicating if the year if installation was estimated.<br />EST_UPINV: This is the flag determining if the pipe upstream elevation value was estimated.<br />WYE_UPDATE: This value indicates whether the wye card was updated.<br />PCT_ENTRY: This is the flag determining if the slope was entered in percent as opposed to a decimal. Values:<br />     •  N - The value is not expressed as a percent.<br />     •  Y - The value is expressed as a percent.<br />PROF: This is the profile drawing number.<br />PLAN1: This is the improvement plan drawing number.<br />PLAN2: This is the supplementary improvement plan drawing number.<br />EST_DNINV: This is the flag determining if the pipe downstream elevation value was estimated.<br />UP_STRUCT: This attribute identifies a number at one of two end points of the line segment that represents a sewer pipe. A sewer pipe line has a value for the UP_STRUCT and DN_STRUCT fields. This point is the upstream structure that may be a maintenance hole, pump station, junction, etc. Each of these structures is assigned an identifying number that corresponds to a Sewer Wye data record. The 8 digit value is based on an S-Map index map using a standardized numbering scheme. The S-Map is divided into 16 grids, each numbered sequentially from west to east and north to south. The first three digits represent the S-Map number, the following two digits represent the grid number, and the last three digits represent the structure number within the grid. This field also relates to the (name of table or layer) node attribute table.<br />SYSTEM: This attribute identifies the major sewer and sewer outfall system the pipe is associated with. Values:<br />     •  VRS - Venice relief sewer.<br />     •  GBIS - Glendale Burbank interceptor sewer.<br />     •  WLAIS - West Los Angeles interceptor sewer.<br />     •  NOS - North outfall sewer.<br />     •  LCIS - La Cienega interceptor sewer.<br />     •  WRS - Westwood relief sewer.<br />     •  VOS - Venice outfall sewer.<br />     •  RRS - Robertson relief sewer.<br />     •  NEIS - North East interceptor sewer.<br />     •  NCOS - North Central outfall sewer.<br />     •  MAZE - Area of many sewer junctions and interconnections.<br />     •  WHIS - Wilshire-Hollywood interceptor sewer.<br />     •  CIS - Coastal interceptor sewer.<br />     •  NORS - North outfall replacement sewer.<br />     •  LCSFVRS - La Cienega San Fernando Valley relief sewer.<br />     •  ECIS - East Central interceptor sewer.<br />     •  COS - Central outfall sewer.<br />     •  VORS - Valley outfall relief sewer.<br />     •  AVORS - Additional Valley outfall relief sewer.<br />     •  EVRS - East Valley relief sewer.<br />     •  EVIS - East Valley interceptor sewer.<br />V_CURVE: This is the flag for pipe segments with a vertical curve.<br />UP_MH: The value is the ID of the structure. This point is the structure that may be a maintenance hole, pump station, junction, etc. The field name UP_MH signifies the structure is the point at the upstream end of the pipe line segment. The field UP_MH is a key attribute to relate the pipe lines feature class to the STRUCTURE_ID field in the physical structures feature class.<br />OBJECTID: Internal feature number.<br />CAPACITY: This value is a calculated pipe capacity based on its slope and shape.<br />VDATUM: This is the year of the standard plan, which contains the information the user enters into pipe data.<br />WYE_LENG: This is the pipe length as shown on the wye card.<br />REHAB: This attribute indicates if the pipe has been rehabilitated.<br />GRV_FM: The value describes the type of flow that the pipe is handling. Values:<br />     •  GR - Gravity flow.<br />     •  SI - Siphon condition.<br />     •  FM - Force main.<br />     •  AL - Air line.<br />     •  AV - Air Vent.<br />HR_VER: This value flags the pipe line segment as either horizontal, vertical, or both. Values:<br />     •  V - Vertical curve.<br />     •  B - Both horizontal and vertical curves.<br />     •  H - Horizontal curve.<br />PIPE_SUBTYPE: This attribute is the pipe subtype.<br />SLOPE_PCT: This value is the percentage of slope of the pipe shown as a decimal value.<br />YEAR_INST: This is the year of pipe installation.<br />COMMENTS: This attribute contains comments regarding the pipe status.<br />LINER: The value describes the basic material used to rehab a pipe. Values:<br />     •  S - Steel liner.<br />     •  L - Plastic liner.<br />     •  T - Tile liner.<br />WYEMAP: This is the wye card number reference.<br />UP_INV: This is the upstream invert elevation value.<br />UP_STA_PLS: This is the tens value of the upstream stationing.<br />BASIN: This attribute is the basin number.<br />CLASS: This attribute is the sewer class the pipe belongs to. Values:<br />     •  3 - Secondary Sewer.<br />     •  2 - Primary Sewer.<br />     •  0 - Unknown.<br />     •  1 - Major Outfall or Interceptor.<br />WYE_CON: This is the number of wye connections served by pipe segment. There are up to 51 wye connections in the current data.<br />ASSETID: User-defined unique feature number that is automatically generated.<br />BLOCK: This is the block number on which the pipe is located.<br />SERVICEID: User-defined unique feature number that is automatically generated.<br />PIPE_LENG: This is the length of the pipe segment.<br />C_DN_INV: This is the calculated pipe downstream invert elevation value.<br />NO_LAT: This is the number of laterals served by pipe segment. There are up to 50 laterals in the current data.<br />SHAPE_Length: Length of feature in internal units."
      ]
     },
     "metadata": {},
     "output_type": "display_data"
    },
    {
     "name": "stdout",
     "output_type": "stream",
     "text": [
      "\n",
      "\n",
      "\n"
     ]
    },
    {
     "data": {
      "text/html": [
       "\n",
       "        <h3>Streets (Centerline)</h3>\n",
       "        <div style=\"display: flex; flex-direction: row; flex-wrap: wrap; height:256px\">\n",
       "            <div style=\"flex: 0 0 256px; padding-right: 24px\">\n",
       "                \n",
       "            <p><b>ID:</b><a href=\"http://geohub.lacity.org/datasets/d3cd48afaacd4913b923fd98c6591276_36\"> http://geohub.lacity.org/datasets/d3cd48afaacd4913b923fd98c6591276_36</a></p>\n",
       "            <p><b>Issued:</b> 2015-11-14T05:04:34.000Z</p>\n",
       "            <p><b>Last Modified:</b> 2019-03-26T16:19:42.492Z</p>\n",
       "            <p><b>Publisher:</b> City of Los Angeles Hub</p>\n",
       "            <p><b>License:</b> https://hub.arcgis.com/api/v2/datasets/d3cd48afaacd4913b923fd98c6591276_36/license</p>\n",
       "            <p><b>Download URL:</b><a href=\"http://geohub.lacity.org/datasets/d3cd48afaacd4913b923fd98c6591276_36.geojson\"> http://geohub.lacity.org/datasets/d3cd48afaacd4913b923fd98c6591276_36.geojson</a></p>\n",
       "        \n",
       "            </div>\n",
       "            <div style=\"flex: 1 1 0; height: 100%; overflow: auto\">\n",
       "                <p>\n",
       "                    This street centerline lines feature class represents current right of way in the City of Los Angeles. It shows the official street names and is related to the official street name data. The Mapping and Land Records Division of the Bureau of Engineering, Department of Public Works provides the most current geographic information of the public right of way. The right of way information is available on NavigateLA, a website hosted by the Bureau of Engineering, Department of Public Works.<br /> <br />Street Centerline layer was created in geographical information systems (GIS) software to display Dedicated street centerlines. The street centerline layer is a feature class in the LACityCenterlineData.gdb Geodatabase dataset. The layer consists of spatial data as a line feature class and attribute data for the features. City of LA District Offices use Street Centerline layer to determine dedication and street improvement requirements. Engineering street standards are followed to dedicate the street for development. The Bureau of Street Services tracks the location of existing streets, who need to maintain that road. Additional information was added to Street Centerline layer. Address range attributes were added make layer useful for geocoding. Section ID values from Bureau of Street Services were added to make layer useful for pavement management. Department of City Planning added street designation attributes taken from Community Plan maps. The street centerline relates to the Official Street Name table named EASIS, Engineering Automated Street Inventory System, which contains data describing the limits of the street segment. A street centerline segment should only be added to the Street Centerline layer if documentation exists, such as a Deed or a Plan approved by the City Council. Paper streets are street lines shown on a recorded plan but have not yet come into existence on the ground. These street centerline segments are in the Street Centerline layer because there is documentation such as a Deed or a Plan for the construction of that street. Previously, some street line features were added although documentation did not exist. Currently, a Deed, Tract, or a Plan must exist in order to add street line features. Many street line features were edited by viewing the Thomas Bros Map's Transportation layer, TRNL_037 coverage, back when the street centerline coverage was created. When TBM and BOE street centerline layers were compared visually, TBM's layer contained many valid streets that BOE layer did not contain. In addition to TBM streets, Planning Department requested adding street line segments they use for reference. When those line features were added to the spatial data, a DEDRQ field value of &quot;Proposed&quot; was added in the attribute data for that record. Further, the street centerline layer features are split where the lines intersect. The intersection point is created and maintained in the Intersection layer. The intersection attributes are used in the Intersection search function on NavigateLA on BOE's web mapping application NavigateLA. The City of Los Angeles Municipal code states, all public right-of-ways (roads, alleys, etc) are streets, thus all of them have intersections. Note that there are named alleys in the BOE Street Centerline layer. Since the line features for named alleys are stored in the Street Centerline layer, there are no line features for named alleys in those areas that are geographically coincident in the Alley layer. For a named alley , the corresponding record contains the street designation field value of ST_DESIG = 20, and there is a name stored in the STNAME and STSFX fields.<br /><br />List of Fields:<br />SHAPE: Feature geometry.<br />OBJECTID: Internal feature number.<br />DEDRQ: Dedication requirement. Values:<br />     •  1 - Dedication not required<br />     •  3 - Dedication may be required<br />     •  0 - Dedication requirement unknown<br />     •  2 - Dedication required<br />STNAME_A: Street name Alias.<br />ST_SUBTYPE: Street subtype.<br />SV_STATUS: Status of street in service, whether the street is an accessible roadway. Values:<br />     •  Y - Yes<br />     •  N - No<br />TDIR: Street direction. Values:<br />     •  S - South<br />     •  N - North<br />     •  E - East<br />     •  W - West<br />ADLF: From address range, left side.<br />ZIP_R: Zip code right.<br />ADRT: To address range, right side.<br />INT_ID_TO: Street intersection identification number at the line segment's end node. The value relates to the intersection layer attribute table, to the CL_NODE_ID field. The values are assigned automatically and consecutively by the ArcGIS software first to the street centerline data layer and then the intersections data layer, during the creation of new intersection points. Each intersection identification number is a unique value.<br />SECT_ID: Section ID used by the Bureau of Street Services. Values:<br />     •  none - No Section ID value<br />     •  private - Private street<br />     •  closed - Street is closed from service<br />     •  temp - Temporary<br />     •  propose - Proposed construction of a street<br />     •  walk - Street line is a walk or walkway<br />     •  known as - <br />     •  numeric value - A 7 digit numeric value for street resurfacing<br />     •  outside - Street line segment is outside the City of Los Angeles boundary<br />     •  pierce - Street segment type<br />     •  alley - Named alley<br />STSFX_A: Street suffix Alias.<br />SFXDIR: Street direction suffix Values:<br />     •  N - North<br />     •  E - East<br />     •  W - West<br />     •  S - South<br />CRTN_DT: Creation date of the polygon feature.<br />STNAME: Street name.<br />ZIP_L: Zip code left.<br />STSFX: Street suffix. Values:<br />     •  BLVD - Boulevard<br />ADLT: To address range, left side.<br />ID: Unique line segment identifier<br />MAPSHEET: The alpha-numeric mapsheet number, which refers to a valid B-map or A-map number on the Cadastral tract index map. Values:<br />     •  ___B___, ___A___, ___-5A___ - Any of these alpha-numeric combinations are used, whereas the underlined spaces are the numbers.<br />STNUM: Street identification number. This field relates to the Official Street Name table named EASIS, to the corresponding STR_ID field.<br />ASSETID: User-defined feature autonumber.<br />TEMP: This attribute is no longer used. This attribute was used to enter 'R' for reference arc line segments that were added to the spatial data, in coverage format. Reference lines were temporary and not part of the final data layer. After editing the permanent line segments, the user would delete temporary lines given by this attribute.<br />LST_MODF_DT: Last modification date of the polygon feature.<br />REMARKS: This attribute is a combination of remarks about the street centerline. Values include a general remark, the Council File number, which refers the street status, or whether a private street is a private driveway. The Council File number can be researched on the City Clerk's website <a href=\"http://cityclerk.lacity.org/lacityclerkconnect/\" target=\"_blank\">http://cityclerk.lacity.org/lacityclerkconnect/</a><br />INT_ID_FROM: Street intersection identification number at the line segment's start node. The value relates to the intersection layer attribute table, to the CL_NODE_ID field. The values are assigned automatically and consecutively by the ArcGIS software first to the street centerline data layer and then the intersections data layer, during the creation of new intersection points. Each intersection identification number is a unique value.<br />ADRF: From address range, right side.\n",
       "                </p>\n",
       "            </div>\n",
       "        </div>\n",
       "        "
      ],
      "text/plain": [
       "http://geohub.lacity.org/datasets/d3cd48afaacd4913b923fd98c6591276_36\n",
       "Streets (Centerline)\n",
       "This street centerline lines feature class represents current right of way in the City of Los Angeles. It shows the official street names and is related to the official street name data. The Mapping and Land Records Division of the Bureau of Engineering, Department of Public Works provides the most current geographic information of the public right of way. The right of way information is available on NavigateLA, a website hosted by the Bureau of Engineering, Department of Public Works.<br /> <br />Street Centerline layer was created in geographical information systems (GIS) software to display Dedicated street centerlines. The street centerline layer is a feature class in the LACityCenterlineData.gdb Geodatabase dataset. The layer consists of spatial data as a line feature class and attribute data for the features. City of LA District Offices use Street Centerline layer to determine dedication and street improvement requirements. Engineering street standards are followed to dedicate the street for development. The Bureau of Street Services tracks the location of existing streets, who need to maintain that road. Additional information was added to Street Centerline layer. Address range attributes were added make layer useful for geocoding. Section ID values from Bureau of Street Services were added to make layer useful for pavement management. Department of City Planning added street designation attributes taken from Community Plan maps. The street centerline relates to the Official Street Name table named EASIS, Engineering Automated Street Inventory System, which contains data describing the limits of the street segment. A street centerline segment should only be added to the Street Centerline layer if documentation exists, such as a Deed or a Plan approved by the City Council. Paper streets are street lines shown on a recorded plan but have not yet come into existence on the ground. These street centerline segments are in the Street Centerline layer because there is documentation such as a Deed or a Plan for the construction of that street. Previously, some street line features were added although documentation did not exist. Currently, a Deed, Tract, or a Plan must exist in order to add street line features. Many street line features were edited by viewing the Thomas Bros Map's Transportation layer, TRNL_037 coverage, back when the street centerline coverage was created. When TBM and BOE street centerline layers were compared visually, TBM's layer contained many valid streets that BOE layer did not contain. In addition to TBM streets, Planning Department requested adding street line segments they use for reference. When those line features were added to the spatial data, a DEDRQ field value of &quot;Proposed&quot; was added in the attribute data for that record. Further, the street centerline layer features are split where the lines intersect. The intersection point is created and maintained in the Intersection layer. The intersection attributes are used in the Intersection search function on NavigateLA on BOE's web mapping application NavigateLA. The City of Los Angeles Municipal code states, all public right-of-ways (roads, alleys, etc) are streets, thus all of them have intersections. Note that there are named alleys in the BOE Street Centerline layer. Since the line features for named alleys are stored in the Street Centerline layer, there are no line features for named alleys in those areas that are geographically coincident in the Alley layer. For a named alley , the corresponding record contains the street designation field value of ST_DESIG = 20, and there is a name stored in the STNAME and STSFX fields.<br /><br />List of Fields:<br />SHAPE: Feature geometry.<br />OBJECTID: Internal feature number.<br />DEDRQ: Dedication requirement. Values:<br />     •  1 - Dedication not required<br />     •  3 - Dedication may be required<br />     •  0 - Dedication requirement unknown<br />     •  2 - Dedication required<br />STNAME_A: Street name Alias.<br />ST_SUBTYPE: Street subtype.<br />SV_STATUS: Status of street in service, whether the street is an accessible roadway. Values:<br />     •  Y - Yes<br />     •  N - No<br />TDIR: Street direction. Values:<br />     •  S - South<br />     •  N - North<br />     •  E - East<br />     •  W - West<br />ADLF: From address range, left side.<br />ZIP_R: Zip code right.<br />ADRT: To address range, right side.<br />INT_ID_TO: Street intersection identification number at the line segment's end node. The value relates to the intersection layer attribute table, to the CL_NODE_ID field. The values are assigned automatically and consecutively by the ArcGIS software first to the street centerline data layer and then the intersections data layer, during the creation of new intersection points. Each intersection identification number is a unique value.<br />SECT_ID: Section ID used by the Bureau of Street Services. Values:<br />     •  none - No Section ID value<br />     •  private - Private street<br />     •  closed - Street is closed from service<br />     •  temp - Temporary<br />     •  propose - Proposed construction of a street<br />     •  walk - Street line is a walk or walkway<br />     •  known as - <br />     •  numeric value - A 7 digit numeric value for street resurfacing<br />     •  outside - Street line segment is outside the City of Los Angeles boundary<br />     •  pierce - Street segment type<br />     •  alley - Named alley<br />STSFX_A: Street suffix Alias.<br />SFXDIR: Street direction suffix Values:<br />     •  N - North<br />     •  E - East<br />     •  W - West<br />     •  S - South<br />CRTN_DT: Creation date of the polygon feature.<br />STNAME: Street name.<br />ZIP_L: Zip code left.<br />STSFX: Street suffix. Values:<br />     •  BLVD - Boulevard<br />ADLT: To address range, left side.<br />ID: Unique line segment identifier<br />MAPSHEET: The alpha-numeric mapsheet number, which refers to a valid B-map or A-map number on the Cadastral tract index map. Values:<br />     •  ___B___, ___A___, ___-5A___ - Any of these alpha-numeric combinations are used, whereas the underlined spaces are the numbers.<br />STNUM: Street identification number. This field relates to the Official Street Name table named EASIS, to the corresponding STR_ID field.<br />ASSETID: User-defined feature autonumber.<br />TEMP: This attribute is no longer used. This attribute was used to enter 'R' for reference arc line segments that were added to the spatial data, in coverage format. Reference lines were temporary and not part of the final data layer. After editing the permanent line segments, the user would delete temporary lines given by this attribute.<br />LST_MODF_DT: Last modification date of the polygon feature.<br />REMARKS: This attribute is a combination of remarks about the street centerline. Values include a general remark, the Council File number, which refers the street status, or whether a private street is a private driveway. The Council File number can be researched on the City Clerk's website <a href=\"http://cityclerk.lacity.org/lacityclerkconnect/\" target=\"_blank\">http://cityclerk.lacity.org/lacityclerkconnect/</a><br />INT_ID_FROM: Street intersection identification number at the line segment's start node. The value relates to the intersection layer attribute table, to the CL_NODE_ID field. The values are assigned automatically and consecutively by the ArcGIS software first to the street centerline data layer and then the intersections data layer, during the creation of new intersection points. Each intersection identification number is a unique value.<br />ADRF: From address range, right side."
      ]
     },
     "metadata": {},
     "output_type": "display_data"
    },
    {
     "name": "stdout",
     "output_type": "stream",
     "text": [
      "\n",
      "\n",
      "\n"
     ]
    },
    {
     "data": {
      "text/html": [
       "\n",
       "        <h3>Wastewater Collection Districts</h3>\n",
       "        <div style=\"display: flex; flex-direction: row; flex-wrap: wrap; height:256px\">\n",
       "            <div style=\"flex: 0 0 256px; padding-right: 24px\">\n",
       "                \n",
       "            <p><b>ID:</b><a href=\"http://geohub.lacity.org/datasets/920cdb325dac40d786f4cab5adb34670_24\"> http://geohub.lacity.org/datasets/920cdb325dac40d786f4cab5adb34670_24</a></p>\n",
       "            <p><b>Issued:</b> 2015-11-14T01:32:30.000Z</p>\n",
       "            <p><b>Last Modified:</b> 2019-03-26T16:17:15.236Z</p>\n",
       "            <p><b>Publisher:</b> City of Los Angeles Hub</p>\n",
       "            <p><b>License:</b> https://hub.arcgis.com/api/v2/datasets/920cdb325dac40d786f4cab5adb34670_24/license</p>\n",
       "            <p><b>Download URL:</b><a href=\"http://geohub.lacity.org/datasets/920cdb325dac40d786f4cab5adb34670_24.geojson\"> http://geohub.lacity.org/datasets/920cdb325dac40d786f4cab5adb34670_24.geojson</a></p>\n",
       "        \n",
       "            </div>\n",
       "            <div style=\"flex: 1 1 0; height: 100%; overflow: auto\">\n",
       "                <p>\n",
       "                    Maintenance districts for the Bureau of Sanitation \n",
       "                </p>\n",
       "            </div>\n",
       "        </div>\n",
       "        "
      ],
      "text/plain": [
       "http://geohub.lacity.org/datasets/920cdb325dac40d786f4cab5adb34670_24\n",
       "Wastewater Collection Districts\n",
       "Maintenance districts for the Bureau of Sanitation "
      ]
     },
     "metadata": {},
     "output_type": "display_data"
    },
    {
     "name": "stdout",
     "output_type": "stream",
     "text": [
      "\n",
      "\n",
      "\n"
     ]
    },
    {
     "data": {
      "text/html": [
       "\n",
       "        <h3>Schools (LAUSD)</h3>\n",
       "        <div style=\"display: flex; flex-direction: row; flex-wrap: wrap; height:256px\">\n",
       "            <div style=\"flex: 0 0 256px; padding-right: 24px\">\n",
       "                \n",
       "            <p><b>ID:</b><a href=\"http://geohub.lacity.org/datasets/70baf6da243e40298ba9246e9a67409b_0\"> http://geohub.lacity.org/datasets/70baf6da243e40298ba9246e9a67409b_0</a></p>\n",
       "            <p><b>Issued:</b> 2015-11-14T03:29:32.000Z</p>\n",
       "            <p><b>Last Modified:</b> 2019-03-26T16:16:49.758Z</p>\n",
       "            <p><b>Publisher:</b> City of Los Angeles Hub</p>\n",
       "            <p><b>License:</b> https://hub.arcgis.com/api/v2/datasets/70baf6da243e40298ba9246e9a67409b_0/license</p>\n",
       "            <p><b>Download URL:</b><a href=\"http://geohub.lacity.org/datasets/70baf6da243e40298ba9246e9a67409b_0.geojson\"> http://geohub.lacity.org/datasets/70baf6da243e40298ba9246e9a67409b_0.geojson</a></p>\n",
       "        \n",
       "            </div>\n",
       "            <div style=\"flex: 1 1 0; height: 100%; overflow: auto\">\n",
       "                <p>\n",
       "                    Los Angeles Unified School District school locations (points) \n",
       "                </p>\n",
       "            </div>\n",
       "        </div>\n",
       "        "
      ],
      "text/plain": [
       "http://geohub.lacity.org/datasets/70baf6da243e40298ba9246e9a67409b_0\n",
       "Schools (LAUSD)\n",
       "Los Angeles Unified School District school locations (points) "
      ]
     },
     "metadata": {},
     "output_type": "display_data"
    },
    {
     "name": "stdout",
     "output_type": "stream",
     "text": [
      "\n",
      "\n",
      "\n"
     ]
    },
    {
     "data": {
      "text/html": [
       "\n",
       "        <h3>Santa Monica Mountains Open Space Preservation Assessment Districts</h3>\n",
       "        <div style=\"display: flex; flex-direction: row; flex-wrap: wrap; height:256px\">\n",
       "            <div style=\"flex: 0 0 256px; padding-right: 24px\">\n",
       "                \n",
       "            <p><b>ID:</b><a href=\"http://geohub.lacity.org/datasets/4bd9ecdcfb504c5eb71a83d698baadd0_21\"> http://geohub.lacity.org/datasets/4bd9ecdcfb504c5eb71a83d698baadd0_21</a></p>\n",
       "            <p><b>Issued:</b> 2015-11-14T01:30:54.000Z</p>\n",
       "            <p><b>Last Modified:</b> 2019-03-26T16:15:58.192Z</p>\n",
       "            <p><b>Publisher:</b> City of Los Angeles Hub</p>\n",
       "            <p><b>License:</b> https://hub.arcgis.com/api/v2/datasets/4bd9ecdcfb504c5eb71a83d698baadd0_21/license</p>\n",
       "            <p><b>Download URL:</b><a href=\"http://geohub.lacity.org/datasets/4bd9ecdcfb504c5eb71a83d698baadd0_21.geojson\"> http://geohub.lacity.org/datasets/4bd9ecdcfb504c5eb71a83d698baadd0_21.geojson</a></p>\n",
       "        \n",
       "            </div>\n",
       "            <div style=\"flex: 1 1 0; height: 100%; overflow: auto\">\n",
       "                <p>\n",
       "                    Santa Monica Mountains Open Space Preservation Assessment Districts were formed to acquire and preserve open space, wildlife areas and natural lands in the Santa Monica Mountains in the City of Los Angeles.\n",
       "                </p>\n",
       "            </div>\n",
       "        </div>\n",
       "        "
      ],
      "text/plain": [
       "http://geohub.lacity.org/datasets/4bd9ecdcfb504c5eb71a83d698baadd0_21\n",
       "Santa Monica Mountains Open Space Preservation Assessment Districts\n",
       "Santa Monica Mountains Open Space Preservation Assessment Districts were formed to acquire and preserve open space, wildlife areas and natural lands in the Santa Monica Mountains in the City of Los Angeles."
      ]
     },
     "metadata": {},
     "output_type": "display_data"
    },
    {
     "name": "stdout",
     "output_type": "stream",
     "text": [
      "\n",
      "\n",
      "\n"
     ]
    },
    {
     "data": {
      "text/html": [
       "\n",
       "        <h3>Solids Collection Service District Days</h3>\n",
       "        <div style=\"display: flex; flex-direction: row; flex-wrap: wrap; height:256px\">\n",
       "            <div style=\"flex: 0 0 256px; padding-right: 24px\">\n",
       "                \n",
       "            <p><b>ID:</b><a href=\"http://geohub.lacity.org/datasets/803ee5b68546441681922ab5a5a7e1c1_22\"> http://geohub.lacity.org/datasets/803ee5b68546441681922ab5a5a7e1c1_22</a></p>\n",
       "            <p><b>Issued:</b> 2015-11-14T01:31:26.000Z</p>\n",
       "            <p><b>Last Modified:</b> 2019-03-26T16:15:28.974Z</p>\n",
       "            <p><b>Publisher:</b> City of Los Angeles Hub</p>\n",
       "            <p><b>License:</b> https://hub.arcgis.com/api/v2/datasets/803ee5b68546441681922ab5a5a7e1c1_22/license</p>\n",
       "            <p><b>Download URL:</b><a href=\"http://geohub.lacity.org/datasets/803ee5b68546441681922ab5a5a7e1c1_22.geojson\"> http://geohub.lacity.org/datasets/803ee5b68546441681922ab5a5a7e1c1_22.geojson</a></p>\n",
       "        \n",
       "            </div>\n",
       "            <div style=\"flex: 1 1 0; height: 100%; overflow: auto\">\n",
       "                <p>\n",
       "                    This layer indicates the day that trash is collected in the different parts of the city. \n",
       "                </p>\n",
       "            </div>\n",
       "        </div>\n",
       "        "
      ],
      "text/plain": [
       "http://geohub.lacity.org/datasets/803ee5b68546441681922ab5a5a7e1c1_22\n",
       "Solids Collection Service District Days\n",
       "This layer indicates the day that trash is collected in the different parts of the city. "
      ]
     },
     "metadata": {},
     "output_type": "display_data"
    },
    {
     "name": "stdout",
     "output_type": "stream",
     "text": [
      "\n",
      "\n",
      "\n"
     ]
    },
    {
     "data": {
      "text/html": [
       "\n",
       "        <h3>LA City Council Districts (Adopted 2012)</h3>\n",
       "        <div style=\"display: flex; flex-direction: row; flex-wrap: wrap; height:256px\">\n",
       "            <div style=\"flex: 0 0 256px; padding-right: 24px\">\n",
       "                \n",
       "            <p><b>ID:</b><a href=\"http://geohub.lacity.org/datasets/76104f230e384f38871eb3c4782f903d_13\"> http://geohub.lacity.org/datasets/76104f230e384f38871eb3c4782f903d_13</a></p>\n",
       "            <p><b>Issued:</b> 2015-11-14T01:26:36.000Z</p>\n",
       "            <p><b>Last Modified:</b> 2019-03-26T16:15:28.687Z</p>\n",
       "            <p><b>Publisher:</b> City of Los Angeles Hub</p>\n",
       "            <p><b>License:</b> https://hub.arcgis.com/api/v2/datasets/76104f230e384f38871eb3c4782f903d_13/license</p>\n",
       "            <p><b>Download URL:</b><a href=\"http://geohub.lacity.org/datasets/76104f230e384f38871eb3c4782f903d_13.geojson\"> http://geohub.lacity.org/datasets/76104f230e384f38871eb3c4782f903d_13.geojson</a></p>\n",
       "        \n",
       "            </div>\n",
       "            <div style=\"flex: 1 1 0; height: 100%; overflow: auto\">\n",
       "                <p>\n",
       "                    Council Districts \n",
       "                </p>\n",
       "            </div>\n",
       "        </div>\n",
       "        "
      ],
      "text/plain": [
       "http://geohub.lacity.org/datasets/76104f230e384f38871eb3c4782f903d_13\n",
       "LA City Council Districts (Adopted 2012)\n",
       "Council Districts "
      ]
     },
     "metadata": {},
     "output_type": "display_data"
    },
    {
     "name": "stdout",
     "output_type": "stream",
     "text": [
      "\n",
      "\n",
      "\n"
     ]
    },
    {
     "data": {
      "text/html": [
       "\n",
       "        <h3>Connect High Bike/Walk Communities to Job Rich Districts</h3>\n",
       "        <div style=\"display: flex; flex-direction: row; flex-wrap: wrap; height:256px\">\n",
       "            <div style=\"flex: 0 0 256px; padding-right: 24px\">\n",
       "                \n",
       "            <p><b>ID:</b><a href=\"http://geohub.lacity.org/datasets/1abbfb4f99da4f868205b34a72ede241_17\"> http://geohub.lacity.org/datasets/1abbfb4f99da4f868205b34a72ede241_17</a></p>\n",
       "            <p><b>Issued:</b> 2018-01-26T16:41:58.000Z</p>\n",
       "            <p><b>Last Modified:</b> 2019-03-26T16:15:27.802Z</p>\n",
       "            <p><b>Publisher:</b> City of Los Angeles Hub</p>\n",
       "            <p><b>License:</b> https://hub.arcgis.com/api/v2/datasets/1abbfb4f99da4f868205b34a72ede241_17/license</p>\n",
       "            <p><b>Download URL:</b><a href=\"http://geohub.lacity.org/datasets/1abbfb4f99da4f868205b34a72ede241_17.geojson\"> http://geohub.lacity.org/datasets/1abbfb4f99da4f868205b34a72ede241_17.geojson</a></p>\n",
       "        \n",
       "            </div>\n",
       "            <div style=\"flex: 1 1 0; height: 100%; overflow: auto\">\n",
       "                <p>\n",
       "                    <p>The Trust for Public Land's Climate-Smart Cities Program is founded on the principle that to respond to climate change, cities must restore natural functions of the land by weaving green elements into the built environment. The Climate Smart Cities Program helps cities meet the challenges through the development of spatial data and decision support tools that translate the goals from a city’s strategic climate planning into priority sites for green infrastructure development. The Climate Smart Cities Program categorizes these strategies under the climate objectives of Connecting, Cooling, Absorbing, and Protecting.</p><p>Data interpretation:</p><p>5 = Very High Priority for Green Infrastructure</p><p>4 = High Priority for Green Infrastructure</p><p>3 = Medium Priority for Green Infrastructure</p><p>0-2 = Low Value</p><p></p><p>Values 3, 4, and 5 should be used when assessing highest prioritization from the model.</p>\n",
       "                </p>\n",
       "            </div>\n",
       "        </div>\n",
       "        "
      ],
      "text/plain": [
       "http://geohub.lacity.org/datasets/1abbfb4f99da4f868205b34a72ede241_17\n",
       "Connect High Bike/Walk Communities to Job Rich Districts\n",
       "<p>The Trust for Public Land's Climate-Smart Cities Program is founded on the principle that to respond to climate change, cities must restore natural functions of the land by weaving green elements into the built environment. The Climate Smart Cities Program helps cities meet the challenges through the development of spatial data and decision support tools that translate the goals from a city’s strategic climate planning into priority sites for green infrastructure development. The Climate Smart Cities Program categorizes these strategies under the climate objectives of Connecting, Cooling, Absorbing, and Protecting.</p><p>Data interpretation:</p><p>5 = Very High Priority for Green Infrastructure</p><p>4 = High Priority for Green Infrastructure</p><p>3 = Medium Priority for Green Infrastructure</p><p>0-2 = Low Value</p><p></p><p>Values 3, 4, and 5 should be used when assessing highest prioritization from the model.</p>"
      ]
     },
     "metadata": {},
     "output_type": "display_data"
    },
    {
     "name": "stdout",
     "output_type": "stream",
     "text": [
      "\n",
      "\n",
      "\n"
     ]
    },
    {
     "data": {
      "text/html": [
       "\n",
       "        <h3>State Senate District (2011)</h3>\n",
       "        <div style=\"display: flex; flex-direction: row; flex-wrap: wrap; height:256px\">\n",
       "            <div style=\"flex: 0 0 256px; padding-right: 24px\">\n",
       "                \n",
       "            <p><b>ID:</b><a href=\"http://geohub.lacity.org/datasets/766bdc8d97824cdb8402f27e3de1ad21_4\"> http://geohub.lacity.org/datasets/766bdc8d97824cdb8402f27e3de1ad21_4</a></p>\n",
       "            <p><b>Issued:</b> 2015-11-17T02:04:08.000Z</p>\n",
       "            <p><b>Last Modified:</b> 2019-03-26T16:15:13.650Z</p>\n",
       "            <p><b>Publisher:</b> City of Los Angeles Hub</p>\n",
       "            <p><b>License:</b> https://hub.arcgis.com/api/v2/datasets/766bdc8d97824cdb8402f27e3de1ad21_4/license</p>\n",
       "            <p><b>Download URL:</b><a href=\"http://geohub.lacity.org/datasets/766bdc8d97824cdb8402f27e3de1ad21_4.geojson\"> http://geohub.lacity.org/datasets/766bdc8d97824cdb8402f27e3de1ad21_4.geojson</a></p>\n",
       "        \n",
       "            </div>\n",
       "            <div style=\"flex: 1 1 0; height: 100%; overflow: auto\">\n",
       "                <p>\n",
       "                    State Senate District (2011)\n",
       "                </p>\n",
       "            </div>\n",
       "        </div>\n",
       "        "
      ],
      "text/plain": [
       "http://geohub.lacity.org/datasets/766bdc8d97824cdb8402f27e3de1ad21_4\n",
       "State Senate District (2011)\n",
       "State Senate District (2011)"
      ]
     },
     "metadata": {},
     "output_type": "display_data"
    },
    {
     "name": "stdout",
     "output_type": "stream",
     "text": [
      "\n",
      "\n",
      "\n"
     ]
    },
    {
     "data": {
      "text/html": [
       "\n",
       "        <h3>Fire Districts</h3>\n",
       "        <div style=\"display: flex; flex-direction: row; flex-wrap: wrap; height:256px\">\n",
       "            <div style=\"flex: 0 0 256px; padding-right: 24px\">\n",
       "                \n",
       "            <p><b>ID:</b><a href=\"http://geohub.lacity.org/datasets/691409b93f8d4d9e81f9a593c53ed069_3\"> http://geohub.lacity.org/datasets/691409b93f8d4d9e81f9a593c53ed069_3</a></p>\n",
       "            <p><b>Issued:</b> 2015-11-14T02:04:26.000Z</p>\n",
       "            <p><b>Last Modified:</b> 2019-03-26T16:15:01.446Z</p>\n",
       "            <p><b>Publisher:</b> City of Los Angeles Hub</p>\n",
       "            <p><b>License:</b> https://hub.arcgis.com/api/v2/datasets/691409b93f8d4d9e81f9a593c53ed069_3/license</p>\n",
       "            <p><b>Download URL:</b><a href=\"http://geohub.lacity.org/datasets/691409b93f8d4d9e81f9a593c53ed069_3.geojson\"> http://geohub.lacity.org/datasets/691409b93f8d4d9e81f9a593c53ed069_3.geojson</a></p>\n",
       "        \n",
       "            </div>\n",
       "            <div style=\"flex: 1 1 0; height: 100%; overflow: auto\">\n",
       "                <p>\n",
       "                    Fire Districts \n",
       "                </p>\n",
       "            </div>\n",
       "        </div>\n",
       "        "
      ],
      "text/plain": [
       "http://geohub.lacity.org/datasets/691409b93f8d4d9e81f9a593c53ed069_3\n",
       "Fire Districts\n",
       "Fire Districts "
      ]
     },
     "metadata": {},
     "output_type": "display_data"
    },
    {
     "name": "stdout",
     "output_type": "stream",
     "text": [
      "\n",
      "\n",
      "\n"
     ]
    },
    {
     "data": {
      "text/html": [
       "\n",
       "        <h3>School Districts</h3>\n",
       "        <div style=\"display: flex; flex-direction: row; flex-wrap: wrap; height:256px\">\n",
       "            <div style=\"flex: 0 0 256px; padding-right: 24px\">\n",
       "                \n",
       "            <p><b>ID:</b><a href=\"http://geohub.lacity.org/datasets/f9043b7df7864bafa15258900f00e9a1_52\"> http://geohub.lacity.org/datasets/f9043b7df7864bafa15258900f00e9a1_52</a></p>\n",
       "            <p><b>Issued:</b> 2015-11-17T16:58:52.000Z</p>\n",
       "            <p><b>Last Modified:</b> 2019-03-26T16:14:59.176Z</p>\n",
       "            <p><b>Publisher:</b> City of Los Angeles Hub</p>\n",
       "            <p><b>License:</b> https://hub.arcgis.com/api/v2/datasets/f9043b7df7864bafa15258900f00e9a1_52/license</p>\n",
       "            <p><b>Download URL:</b><a href=\"http://geohub.lacity.org/datasets/f9043b7df7864bafa15258900f00e9a1_52.geojson\"> http://geohub.lacity.org/datasets/f9043b7df7864bafa15258900f00e9a1_52.geojson</a></p>\n",
       "        \n",
       "            </div>\n",
       "            <div style=\"flex: 1 1 0; height: 100%; overflow: auto\">\n",
       "                <p>\n",
       "                    Locations of school districts in Los Angeles County<div><div><br /></div><div>This dataset is maintained through the County of Los Angeles Location Management System. The Location Management System is used by the County of Los Angeles GIS Program to maintain a single, comprehensive geographic database of locations countywide.  For more information on the Location Management System, visit <a href=\"http://egis3.lacounty.gov/lms/\" target=\"_blank\">http://egis3.lacounty.gov/lms/</a>.</div></div>\n",
       "                </p>\n",
       "            </div>\n",
       "        </div>\n",
       "        "
      ],
      "text/plain": [
       "http://geohub.lacity.org/datasets/f9043b7df7864bafa15258900f00e9a1_52\n",
       "School Districts\n",
       "Locations of school districts in Los Angeles County<div><div><br /></div><div>This dataset is maintained through the County of Los Angeles Location Management System. The Location Management System is used by the County of Los Angeles GIS Program to maintain a single, comprehensive geographic database of locations countywide.  For more information on the Location Management System, visit <a href=\"http://egis3.lacounty.gov/lms/\" target=\"_blank\">http://egis3.lacounty.gov/lms/</a>.</div></div>"
      ]
     },
     "metadata": {},
     "output_type": "display_data"
    },
    {
     "name": "stdout",
     "output_type": "stream",
     "text": [
      "\n",
      "\n",
      "\n"
     ]
    },
    {
     "data": {
      "text/html": [
       "\n",
       "        <h3>State Assembly District (2011)</h3>\n",
       "        <div style=\"display: flex; flex-direction: row; flex-wrap: wrap; height:256px\">\n",
       "            <div style=\"flex: 0 0 256px; padding-right: 24px\">\n",
       "                \n",
       "            <p><b>ID:</b><a href=\"http://geohub.lacity.org/datasets/28ba5148512445fca25a3a7ddaa0723b_3\"> http://geohub.lacity.org/datasets/28ba5148512445fca25a3a7ddaa0723b_3</a></p>\n",
       "            <p><b>Issued:</b> 2015-11-17T02:03:36.000Z</p>\n",
       "            <p><b>Last Modified:</b> 2019-03-26T16:14:57.176Z</p>\n",
       "            <p><b>Publisher:</b> City of Los Angeles Hub</p>\n",
       "            <p><b>License:</b> https://hub.arcgis.com/api/v2/datasets/28ba5148512445fca25a3a7ddaa0723b_3/license</p>\n",
       "            <p><b>Download URL:</b><a href=\"http://geohub.lacity.org/datasets/28ba5148512445fca25a3a7ddaa0723b_3.geojson\"> http://geohub.lacity.org/datasets/28ba5148512445fca25a3a7ddaa0723b_3.geojson</a></p>\n",
       "        \n",
       "            </div>\n",
       "            <div style=\"flex: 1 1 0; height: 100%; overflow: auto\">\n",
       "                <p>\n",
       "                    State Assembly District (2011)\n",
       "                </p>\n",
       "            </div>\n",
       "        </div>\n",
       "        "
      ],
      "text/plain": [
       "http://geohub.lacity.org/datasets/28ba5148512445fca25a3a7ddaa0723b_3\n",
       "State Assembly District (2011)\n",
       "State Assembly District (2011)"
      ]
     },
     "metadata": {},
     "output_type": "display_data"
    },
    {
     "name": "stdout",
     "output_type": "stream",
     "text": [
      "\n",
      "\n",
      "\n"
     ]
    },
    {
     "data": {
      "text/html": [
       "\n",
       "        <h3>Law Enforcement Reporting Districts</h3>\n",
       "        <div style=\"display: flex; flex-direction: row; flex-wrap: wrap; height:256px\">\n",
       "            <div style=\"flex: 0 0 256px; padding-right: 24px\">\n",
       "                \n",
       "            <p><b>ID:</b><a href=\"http://geohub.lacity.org/datasets/c4d8ab9ba96b461795d65751b41e5172_8\"> http://geohub.lacity.org/datasets/c4d8ab9ba96b461795d65751b41e5172_8</a></p>\n",
       "            <p><b>Issued:</b> 2015-11-17T01:25:41.000Z</p>\n",
       "            <p><b>Last Modified:</b> 2019-03-26T16:14:56.945Z</p>\n",
       "            <p><b>Publisher:</b> City of Los Angeles Hub</p>\n",
       "            <p><b>License:</b> https://hub.arcgis.com/api/v2/datasets/c4d8ab9ba96b461795d65751b41e5172_8/license</p>\n",
       "            <p><b>Download URL:</b><a href=\"http://geohub.lacity.org/datasets/c4d8ab9ba96b461795d65751b41e5172_8.geojson\"> http://geohub.lacity.org/datasets/c4d8ab9ba96b461795d65751b41e5172_8.geojson</a></p>\n",
       "        \n",
       "            </div>\n",
       "            <div style=\"flex: 1 1 0; height: 100%; overflow: auto\">\n",
       "                <p>\n",
       "                    Reporting Districts form the basis of crime reporting, organizing crimes into specific areas.\n",
       "                </p>\n",
       "            </div>\n",
       "        </div>\n",
       "        "
      ],
      "text/plain": [
       "http://geohub.lacity.org/datasets/c4d8ab9ba96b461795d65751b41e5172_8\n",
       "Law Enforcement Reporting Districts\n",
       "Reporting Districts form the basis of crime reporting, organizing crimes into specific areas."
      ]
     },
     "metadata": {},
     "output_type": "display_data"
    },
    {
     "name": "stdout",
     "output_type": "stream",
     "text": [
      "\n",
      "\n",
      "\n"
     ]
    },
    {
     "data": {
      "text/html": [
       "\n",
       "        <h3>Fire District No.1</h3>\n",
       "        <div style=\"display: flex; flex-direction: row; flex-wrap: wrap; height:256px\">\n",
       "            <div style=\"flex: 0 0 256px; padding-right: 24px\">\n",
       "                \n",
       "            <p><b>ID:</b><a href=\"http://geohub.lacity.org/datasets/1921348ff96a41cea648a0ed6e121364_2\"> http://geohub.lacity.org/datasets/1921348ff96a41cea648a0ed6e121364_2</a></p>\n",
       "            <p><b>Issued:</b> 2015-11-14T04:33:41.000Z</p>\n",
       "            <p><b>Last Modified:</b> 2019-03-26T16:14:34.207Z</p>\n",
       "            <p><b>Publisher:</b> City of Los Angeles Hub</p>\n",
       "            <p><b>License:</b> https://hub.arcgis.com/api/v2/datasets/1921348ff96a41cea648a0ed6e121364_2/license</p>\n",
       "            <p><b>Download URL:</b><a href=\"http://geohub.lacity.org/datasets/1921348ff96a41cea648a0ed6e121364_2.geojson\"> http://geohub.lacity.org/datasets/1921348ff96a41cea648a0ed6e121364_2.geojson</a></p>\n",
       "        \n",
       "            </div>\n",
       "            <div style=\"flex: 1 1 0; height: 100%; overflow: auto\">\n",
       "                <p>\n",
       "                    Within Fire District 1 bonds were issued in these areas to finance the installation of fire sprinkler systems in qualifying buildings. \n",
       "                </p>\n",
       "            </div>\n",
       "        </div>\n",
       "        "
      ],
      "text/plain": [
       "http://geohub.lacity.org/datasets/1921348ff96a41cea648a0ed6e121364_2\n",
       "Fire District No.1\n",
       "Within Fire District 1 bonds were issued in these areas to finance the installation of fire sprinkler systems in qualifying buildings. "
      ]
     },
     "metadata": {},
     "output_type": "display_data"
    },
    {
     "name": "stdout",
     "output_type": "stream",
     "text": [
      "\n",
      "\n",
      "\n"
     ]
    },
    {
     "data": {
      "text/html": [
       "\n",
       "        <h3>LADOT Parking Enforcement Districts</h3>\n",
       "        <div style=\"display: flex; flex-direction: row; flex-wrap: wrap; height:256px\">\n",
       "            <div style=\"flex: 0 0 256px; padding-right: 24px\">\n",
       "                \n",
       "            <p><b>ID:</b><a href=\"http://geohub.lacity.org/datasets/00721d6f5cdf4eeeb60e4e3ebaf27509_27\"> http://geohub.lacity.org/datasets/00721d6f5cdf4eeeb60e4e3ebaf27509_27</a></p>\n",
       "            <p><b>Issued:</b> 2015-11-14T02:39:21.000Z</p>\n",
       "            <p><b>Last Modified:</b> 2019-03-26T16:14:33.957Z</p>\n",
       "            <p><b>Publisher:</b> City of Los Angeles Hub</p>\n",
       "            <p><b>License:</b> https://hub.arcgis.com/api/v2/datasets/00721d6f5cdf4eeeb60e4e3ebaf27509_27/license</p>\n",
       "            <p><b>Download URL:</b><a href=\"http://geohub.lacity.org/datasets/00721d6f5cdf4eeeb60e4e3ebaf27509_27.geojson\"> http://geohub.lacity.org/datasets/00721d6f5cdf4eeeb60e4e3ebaf27509_27.geojson</a></p>\n",
       "        \n",
       "            </div>\n",
       "            <div style=\"flex: 1 1 0; height: 100%; overflow: auto\">\n",
       "                <p>\n",
       "                    LADOT parking enforcement districts are the regions of the city that were established for efficient management of parking enforcement officers. \n",
       "                </p>\n",
       "            </div>\n",
       "        </div>\n",
       "        "
      ],
      "text/plain": [
       "http://geohub.lacity.org/datasets/00721d6f5cdf4eeeb60e4e3ebaf27509_27\n",
       "LADOT Parking Enforcement Districts\n",
       "LADOT parking enforcement districts are the regions of the city that were established for efficient management of parking enforcement officers. "
      ]
     },
     "metadata": {},
     "output_type": "display_data"
    },
    {
     "name": "stdout",
     "output_type": "stream",
     "text": [
      "\n",
      "\n",
      "\n"
     ]
    },
    {
     "data": {
      "text/html": [
       "\n",
       "        <h3>Health Districts (2012)</h3>\n",
       "        <div style=\"display: flex; flex-direction: row; flex-wrap: wrap; height:256px\">\n",
       "            <div style=\"flex: 0 0 256px; padding-right: 24px\">\n",
       "                \n",
       "            <p><b>ID:</b><a href=\"http://geohub.lacity.org/datasets/58ddf1ad62514351bbc7ca928524a036_3\"> http://geohub.lacity.org/datasets/58ddf1ad62514351bbc7ca928524a036_3</a></p>\n",
       "            <p><b>Issued:</b> 2015-11-17T01:23:33.000Z</p>\n",
       "            <p><b>Last Modified:</b> 2019-03-26T16:14:22.993Z</p>\n",
       "            <p><b>Publisher:</b> City of Los Angeles Hub</p>\n",
       "            <p><b>License:</b> https://hub.arcgis.com/api/v2/datasets/58ddf1ad62514351bbc7ca928524a036_3/license</p>\n",
       "            <p><b>Download URL:</b><a href=\"http://geohub.lacity.org/datasets/58ddf1ad62514351bbc7ca928524a036_3.geojson\"> http://geohub.lacity.org/datasets/58ddf1ad62514351bbc7ca928524a036_3.geojson</a></p>\n",
       "        \n",
       "            </div>\n",
       "            <div style=\"flex: 1 1 0; height: 100%; overflow: auto\">\n",
       "                <p>\n",
       "                    The Provisional Health District Layer contains Department of Public Health Health Districts as of 2011, which are aggregates of 2010 Census Tracts. Furthermore, Health Districts comprise the building blocks of Los Angeles County Service Planning Areas (SPAs). The Provisional Health Districts were created by the Los Angeles County Department of Public Health for planning purposes and are subject to change.\n",
       "                </p>\n",
       "            </div>\n",
       "        </div>\n",
       "        "
      ],
      "text/plain": [
       "http://geohub.lacity.org/datasets/58ddf1ad62514351bbc7ca928524a036_3\n",
       "Health Districts (2012)\n",
       "The Provisional Health District Layer contains Department of Public Health Health Districts as of 2011, which are aggregates of 2010 Census Tracts. Furthermore, Health Districts comprise the building blocks of Los Angeles County Service Planning Areas (SPAs). The Provisional Health Districts were created by the Los Angeles County Department of Public Health for planning purposes and are subject to change."
      ]
     },
     "metadata": {},
     "output_type": "display_data"
    },
    {
     "name": "stdout",
     "output_type": "stream",
     "text": [
      "\n",
      "\n",
      "\n"
     ]
    },
    {
     "data": {
      "text/html": [
       "\n",
       "        <h3>Supervisorial Districts (1991)</h3>\n",
       "        <div style=\"display: flex; flex-direction: row; flex-wrap: wrap; height:256px\">\n",
       "            <div style=\"flex: 0 0 256px; padding-right: 24px\">\n",
       "                \n",
       "            <p><b>ID:</b><a href=\"http://geohub.lacity.org/datasets/8d61b9c446a7456187fd545b6c9c6049_14\"> http://geohub.lacity.org/datasets/8d61b9c446a7456187fd545b6c9c6049_14</a></p>\n",
       "            <p><b>Issued:</b> 2015-11-17T02:08:34.000Z</p>\n",
       "            <p><b>Last Modified:</b> 2019-03-26T16:14:22.939Z</p>\n",
       "            <p><b>Publisher:</b> City of Los Angeles Hub</p>\n",
       "            <p><b>License:</b> https://hub.arcgis.com/api/v2/datasets/8d61b9c446a7456187fd545b6c9c6049_14/license</p>\n",
       "            <p><b>Download URL:</b><a href=\"http://geohub.lacity.org/datasets/8d61b9c446a7456187fd545b6c9c6049_14.geojson\"> http://geohub.lacity.org/datasets/8d61b9c446a7456187fd545b6c9c6049_14.geojson</a></p>\n",
       "        \n",
       "            </div>\n",
       "            <div style=\"flex: 1 1 0; height: 100%; overflow: auto\">\n",
       "                <p>\n",
       "                    Supervisorial Districts (1991)\n",
       "                </p>\n",
       "            </div>\n",
       "        </div>\n",
       "        "
      ],
      "text/plain": [
       "http://geohub.lacity.org/datasets/8d61b9c446a7456187fd545b6c9c6049_14\n",
       "Supervisorial Districts (1991)\n",
       "Supervisorial Districts (1991)"
      ]
     },
     "metadata": {},
     "output_type": "display_data"
    },
    {
     "name": "stdout",
     "output_type": "stream",
     "text": [
      "\n",
      "\n",
      "\n"
     ]
    },
    {
     "data": {
      "text/html": [
       "\n",
       "        <h3>Board of Supervisors</h3>\n",
       "        <div style=\"display: flex; flex-direction: row; flex-wrap: wrap; height:256px\">\n",
       "            <div style=\"flex: 0 0 256px; padding-right: 24px\">\n",
       "                \n",
       "            <p><b>ID:</b><a href=\"http://geohub.lacity.org/datasets/2f05c7ab941249a9b7bbeecd968c0134_4\"> http://geohub.lacity.org/datasets/2f05c7ab941249a9b7bbeecd968c0134_4</a></p>\n",
       "            <p><b>Issued:</b> 2015-11-14T01:21:46.000Z</p>\n",
       "            <p><b>Last Modified:</b> 2019-03-26T16:14:20.779Z</p>\n",
       "            <p><b>Publisher:</b> City of Los Angeles Hub</p>\n",
       "            <p><b>License:</b> https://hub.arcgis.com/api/v2/datasets/2f05c7ab941249a9b7bbeecd968c0134_4/license</p>\n",
       "            <p><b>Download URL:</b><a href=\"http://geohub.lacity.org/datasets/2f05c7ab941249a9b7bbeecd968c0134_4.geojson\"> http://geohub.lacity.org/datasets/2f05c7ab941249a9b7bbeecd968c0134_4.geojson</a></p>\n",
       "        \n",
       "            </div>\n",
       "            <div style=\"flex: 1 1 0; height: 100%; overflow: auto\">\n",
       "                <p>\n",
       "                    District boundaries for the Los Angeles County Board of Supervisors \n",
       "                </p>\n",
       "            </div>\n",
       "        </div>\n",
       "        "
      ],
      "text/plain": [
       "http://geohub.lacity.org/datasets/2f05c7ab941249a9b7bbeecd968c0134_4\n",
       "Board of Supervisors\n",
       "District boundaries for the Los Angeles County Board of Supervisors "
      ]
     },
     "metadata": {},
     "output_type": "display_data"
    },
    {
     "name": "stdout",
     "output_type": "stream",
     "text": [
      "\n",
      "\n",
      "\n"
     ]
    },
    {
     "data": {
      "text/html": [
       "\n",
       "        <h3>Connect Low-income Communities to Job Rich Districts</h3>\n",
       "        <div style=\"display: flex; flex-direction: row; flex-wrap: wrap; height:256px\">\n",
       "            <div style=\"flex: 0 0 256px; padding-right: 24px\">\n",
       "                \n",
       "            <p><b>ID:</b><a href=\"http://geohub.lacity.org/datasets/1abbfb4f99da4f868205b34a72ede241_14\"> http://geohub.lacity.org/datasets/1abbfb4f99da4f868205b34a72ede241_14</a></p>\n",
       "            <p><b>Issued:</b> 2018-01-26T16:41:58.000Z</p>\n",
       "            <p><b>Last Modified:</b> 2019-03-26T16:13:56.362Z</p>\n",
       "            <p><b>Publisher:</b> City of Los Angeles Hub</p>\n",
       "            <p><b>License:</b> https://hub.arcgis.com/api/v2/datasets/1abbfb4f99da4f868205b34a72ede241_14/license</p>\n",
       "            <p><b>Download URL:</b><a href=\"http://geohub.lacity.org/datasets/1abbfb4f99da4f868205b34a72ede241_14.geojson\"> http://geohub.lacity.org/datasets/1abbfb4f99da4f868205b34a72ede241_14.geojson</a></p>\n",
       "        \n",
       "            </div>\n",
       "            <div style=\"flex: 1 1 0; height: 100%; overflow: auto\">\n",
       "                <p>\n",
       "                    <p>The Trust for Public Land's Climate-Smart Cities Program is founded on the principle that to respond to climate change, cities must restore natural functions of the land by weaving green elements into the built environment. The Climate Smart Cities Program helps cities meet the challenges through the development of spatial data and decision support tools that translate the goals from a city’s strategic climate planning into priority sites for green infrastructure development. The Climate Smart Cities Program categorizes these strategies under the climate objectives of Connecting, Cooling, Absorbing, and Protecting.</p><p>Data interpretation:</p><p>5 = Very High Priority for Green Infrastructure</p><p>4 = High Priority for Green Infrastructure</p><p>3 = Medium Priority for Green Infrastructure</p><p>0-2 = Low Value</p><p></p><p>Values 3, 4, and 5 should be used when assessing highest prioritization from the model.</p>\n",
       "                </p>\n",
       "            </div>\n",
       "        </div>\n",
       "        "
      ],
      "text/plain": [
       "http://geohub.lacity.org/datasets/1abbfb4f99da4f868205b34a72ede241_14\n",
       "Connect Low-income Communities to Job Rich Districts\n",
       "<p>The Trust for Public Land's Climate-Smart Cities Program is founded on the principle that to respond to climate change, cities must restore natural functions of the land by weaving green elements into the built environment. The Climate Smart Cities Program helps cities meet the challenges through the development of spatial data and decision support tools that translate the goals from a city’s strategic climate planning into priority sites for green infrastructure development. The Climate Smart Cities Program categorizes these strategies under the climate objectives of Connecting, Cooling, Absorbing, and Protecting.</p><p>Data interpretation:</p><p>5 = Very High Priority for Green Infrastructure</p><p>4 = High Priority for Green Infrastructure</p><p>3 = Medium Priority for Green Infrastructure</p><p>0-2 = Low Value</p><p></p><p>Values 3, 4, and 5 should be used when assessing highest prioritization from the model.</p>"
      ]
     },
     "metadata": {},
     "output_type": "display_data"
    },
    {
     "name": "stdout",
     "output_type": "stream",
     "text": [
      "\n",
      "\n",
      "\n"
     ]
    },
    {
     "data": {
      "text/html": [
       "\n",
       "        <h3>State Senate Districts (2001)</h3>\n",
       "        <div style=\"display: flex; flex-direction: row; flex-wrap: wrap; height:256px\">\n",
       "            <div style=\"flex: 0 0 256px; padding-right: 24px\">\n",
       "                \n",
       "            <p><b>ID:</b><a href=\"http://geohub.lacity.org/datasets/257ca9f559524042a5af5c7ed359ffe3_11\"> http://geohub.lacity.org/datasets/257ca9f559524042a5af5c7ed359ffe3_11</a></p>\n",
       "            <p><b>Issued:</b> 2015-11-17T02:07:27.000Z</p>\n",
       "            <p><b>Last Modified:</b> 2019-03-26T16:13:41.313Z</p>\n",
       "            <p><b>Publisher:</b> City of Los Angeles Hub</p>\n",
       "            <p><b>License:</b> https://hub.arcgis.com/api/v2/datasets/257ca9f559524042a5af5c7ed359ffe3_11/license</p>\n",
       "            <p><b>Download URL:</b><a href=\"http://geohub.lacity.org/datasets/257ca9f559524042a5af5c7ed359ffe3_11.geojson\"> http://geohub.lacity.org/datasets/257ca9f559524042a5af5c7ed359ffe3_11.geojson</a></p>\n",
       "        \n",
       "            </div>\n",
       "            <div style=\"flex: 1 1 0; height: 100%; overflow: auto\">\n",
       "                <p>\n",
       "                    The State Senate Districts layer contains polygons for California State Senate Districts. The source for the information in this layer is the Los Angeles Registrar/Recorder's Precinct Information File (PIF), which is designed to match the Thomas Brothers TRNL (road network) layer.\n",
       "Where boundaries are defined by streets, water, city boundaries, or other features, those arc segments are copied to the districts layer, so that the boundaries and other layer features match perfectly.\n",
       "                </p>\n",
       "            </div>\n",
       "        </div>\n",
       "        "
      ],
      "text/plain": [
       "http://geohub.lacity.org/datasets/257ca9f559524042a5af5c7ed359ffe3_11\n",
       "State Senate Districts (2001)\n",
       "The State Senate Districts layer contains polygons for California State Senate Districts. The source for the information in this layer is the Los Angeles Registrar/Recorder's Precinct Information File (PIF), which is designed to match the Thomas Brothers TRNL (road network) layer.\n",
       "Where boundaries are defined by streets, water, city boundaries, or other features, those arc segments are copied to the districts layer, so that the boundaries and other layer features match perfectly."
      ]
     },
     "metadata": {},
     "output_type": "display_data"
    },
    {
     "name": "stdout",
     "output_type": "stream",
     "text": [
      "\n",
      "\n",
      "\n"
     ]
    },
    {
     "data": {
      "text/html": [
       "\n",
       "        <h3>Pedestrian Oriented Districts</h3>\n",
       "        <div style=\"display: flex; flex-direction: row; flex-wrap: wrap; height:256px\">\n",
       "            <div style=\"flex: 0 0 256px; padding-right: 24px\">\n",
       "                \n",
       "            <p><b>ID:</b><a href=\"http://geohub.lacity.org/datasets/81f2886e58d148cf91bc502cea6129ed_15\"> http://geohub.lacity.org/datasets/81f2886e58d148cf91bc502cea6129ed_15</a></p>\n",
       "            <p><b>Issued:</b> 2015-11-14T01:57:58.000Z</p>\n",
       "            <p><b>Last Modified:</b> 2019-03-26T16:13:38.748Z</p>\n",
       "            <p><b>Publisher:</b> City of Los Angeles Hub</p>\n",
       "            <p><b>License:</b> https://hub.arcgis.com/api/v2/datasets/81f2886e58d148cf91bc502cea6129ed_15/license</p>\n",
       "            <p><b>Download URL:</b><a href=\"http://geohub.lacity.org/datasets/81f2886e58d148cf91bc502cea6129ed_15.geojson\"> http://geohub.lacity.org/datasets/81f2886e58d148cf91bc502cea6129ed_15.geojson</a></p>\n",
       "        \n",
       "            </div>\n",
       "            <div style=\"flex: 1 1 0; height: 100%; overflow: auto\">\n",
       "                <p>\n",
       "                    Pedestrian Oriented Districts \n",
       "                </p>\n",
       "            </div>\n",
       "        </div>\n",
       "        "
      ],
      "text/plain": [
       "http://geohub.lacity.org/datasets/81f2886e58d148cf91bc502cea6129ed_15\n",
       "Pedestrian Oriented Districts\n",
       "Pedestrian Oriented Districts "
      ]
     },
     "metadata": {},
     "output_type": "display_data"
    },
    {
     "name": "stdout",
     "output_type": "stream",
     "text": [
      "\n",
      "\n",
      "\n"
     ]
    },
    {
     "data": {
      "text/html": [
       "\n",
       "        <h3>Downtown Parking District</h3>\n",
       "        <div style=\"display: flex; flex-direction: row; flex-wrap: wrap; height:256px\">\n",
       "            <div style=\"flex: 0 0 256px; padding-right: 24px\">\n",
       "                \n",
       "            <p><b>ID:</b><a href=\"http://geohub.lacity.org/datasets/3f133dd96b854432ac53eb3a05556dda_24\"> http://geohub.lacity.org/datasets/3f133dd96b854432ac53eb3a05556dda_24</a></p>\n",
       "            <p><b>Issued:</b> 2015-11-14T02:38:17.000Z</p>\n",
       "            <p><b>Last Modified:</b> 2019-03-26T16:13:38.063Z</p>\n",
       "            <p><b>Publisher:</b> City of Los Angeles Hub</p>\n",
       "            <p><b>License:</b> https://hub.arcgis.com/api/v2/datasets/3f133dd96b854432ac53eb3a05556dda_24/license</p>\n",
       "            <p><b>Download URL:</b><a href=\"http://geohub.lacity.org/datasets/3f133dd96b854432ac53eb3a05556dda_24.geojson\"> http://geohub.lacity.org/datasets/3f133dd96b854432ac53eb3a05556dda_24.geojson</a></p>\n",
       "        \n",
       "            </div>\n",
       "            <div style=\"flex: 1 1 0; height: 100%; overflow: auto\">\n",
       "                <p>\n",
       "                    Within the Downtown Parking District the municipal code sets the number of parking spaces required for residential and business properties in this area. \n",
       "                </p>\n",
       "            </div>\n",
       "        </div>\n",
       "        "
      ],
      "text/plain": [
       "http://geohub.lacity.org/datasets/3f133dd96b854432ac53eb3a05556dda_24\n",
       "Downtown Parking District\n",
       "Within the Downtown Parking District the municipal code sets the number of parking spaces required for residential and business properties in this area. "
      ]
     },
     "metadata": {},
     "output_type": "display_data"
    },
    {
     "name": "stdout",
     "output_type": "stream",
     "text": [
      "\n",
      "\n",
      "\n"
     ]
    },
    {
     "data": {
      "text/html": [
       "\n",
       "        <h3>LAUSD Board of Education Districts</h3>\n",
       "        <div style=\"display: flex; flex-direction: row; flex-wrap: wrap; height:256px\">\n",
       "            <div style=\"flex: 0 0 256px; padding-right: 24px\">\n",
       "                \n",
       "            <p><b>ID:</b><a href=\"http://geohub.lacity.org/datasets/43e151ee9d054d8c8c663f66208cff3e_7\"> http://geohub.lacity.org/datasets/43e151ee9d054d8c8c663f66208cff3e_7</a></p>\n",
       "            <p><b>Issued:</b> 2015-11-14T03:32:51.000Z</p>\n",
       "            <p><b>Last Modified:</b> 2019-03-26T16:13:32.466Z</p>\n",
       "            <p><b>Publisher:</b> City of Los Angeles Hub</p>\n",
       "            <p><b>License:</b> https://hub.arcgis.com/api/v2/datasets/43e151ee9d054d8c8c663f66208cff3e_7/license</p>\n",
       "            <p><b>Download URL:</b><a href=\"http://geohub.lacity.org/datasets/43e151ee9d054d8c8c663f66208cff3e_7.geojson\"> http://geohub.lacity.org/datasets/43e151ee9d054d8c8c663f66208cff3e_7.geojson</a></p>\n",
       "        \n",
       "            </div>\n",
       "            <div style=\"flex: 1 1 0; height: 100%; overflow: auto\">\n",
       "                <p>\n",
       "                    LAUSD Board of Education Districts \n",
       "                </p>\n",
       "            </div>\n",
       "        </div>\n",
       "        "
      ],
      "text/plain": [
       "http://geohub.lacity.org/datasets/43e151ee9d054d8c8c663f66208cff3e_7\n",
       "LAUSD Board of Education Districts\n",
       "LAUSD Board of Education Districts "
      ]
     },
     "metadata": {},
     "output_type": "display_data"
    },
    {
     "name": "stdout",
     "output_type": "stream",
     "text": [
      "\n",
      "\n",
      "\n"
     ]
    },
    {
     "data": {
      "text/html": [
       "\n",
       "        <h3>LAUSD Local Districts</h3>\n",
       "        <div style=\"display: flex; flex-direction: row; flex-wrap: wrap; height:256px\">\n",
       "            <div style=\"flex: 0 0 256px; padding-right: 24px\">\n",
       "                \n",
       "            <p><b>ID:</b><a href=\"http://geohub.lacity.org/datasets/de0e7b572e2b4c9ba3c1f62227b88a96_8\"> http://geohub.lacity.org/datasets/de0e7b572e2b4c9ba3c1f62227b88a96_8</a></p>\n",
       "            <p><b>Issued:</b> 2015-11-14T03:33:28.000Z</p>\n",
       "            <p><b>Last Modified:</b> 2019-03-26T16:13:32.215Z</p>\n",
       "            <p><b>Publisher:</b> City of Los Angeles Hub</p>\n",
       "            <p><b>License:</b> https://hub.arcgis.com/api/v2/datasets/de0e7b572e2b4c9ba3c1f62227b88a96_8/license</p>\n",
       "            <p><b>Download URL:</b><a href=\"http://geohub.lacity.org/datasets/de0e7b572e2b4c9ba3c1f62227b88a96_8.geojson\"> http://geohub.lacity.org/datasets/de0e7b572e2b4c9ba3c1f62227b88a96_8.geojson</a></p>\n",
       "        \n",
       "            </div>\n",
       "            <div style=\"flex: 1 1 0; height: 100%; overflow: auto\">\n",
       "                <p>\n",
       "                    LAUSD Local Districts \n",
       "                </p>\n",
       "            </div>\n",
       "        </div>\n",
       "        "
      ],
      "text/plain": [
       "http://geohub.lacity.org/datasets/de0e7b572e2b4c9ba3c1f62227b88a96_8\n",
       "LAUSD Local Districts\n",
       "LAUSD Local Districts "
      ]
     },
     "metadata": {},
     "output_type": "display_data"
    },
    {
     "name": "stdout",
     "output_type": "stream",
     "text": [
      "\n",
      "\n",
      "\n"
     ]
    },
    {
     "data": {
      "text/html": [
       "\n",
       "        <h3>District Attorney</h3>\n",
       "        <div style=\"display: flex; flex-direction: row; flex-wrap: wrap; height:256px\">\n",
       "            <div style=\"flex: 0 0 256px; padding-right: 24px\">\n",
       "                \n",
       "            <p><b>ID:</b><a href=\"http://geohub.lacity.org/datasets/5b4a3fb4388249f8a4671063e5277d9d_135\"> http://geohub.lacity.org/datasets/5b4a3fb4388249f8a4671063e5277d9d_135</a></p>\n",
       "            <p><b>Issued:</b> 2015-11-17T17:39:05.000Z</p>\n",
       "            <p><b>Last Modified:</b> 2019-03-26T16:13:13.388Z</p>\n",
       "            <p><b>Publisher:</b> City of Los Angeles Hub</p>\n",
       "            <p><b>License:</b> https://hub.arcgis.com/api/v2/datasets/5b4a3fb4388249f8a4671063e5277d9d_135/license</p>\n",
       "            <p><b>Download URL:</b><a href=\"http://geohub.lacity.org/datasets/5b4a3fb4388249f8a4671063e5277d9d_135.geojson\"> http://geohub.lacity.org/datasets/5b4a3fb4388249f8a4671063e5277d9d_135.geojson</a></p>\n",
       "        \n",
       "            </div>\n",
       "            <div style=\"flex: 1 1 0; height: 100%; overflow: auto\">\n",
       "                <p>\n",
       "                    Locations of district attorneys in Los Angeles County<div><div><br /></div><div>This dataset is maintained through the County of Los Angeles Location Management System. The Location Management System is used by the County of Los Angeles GIS Program to maintain a single, comprehensive geographic database of locations countywide.  For more information on the Location Management System, visit <a href=\"http://egis3.lacounty.gov/lms/\" target=\"_blank\">http://egis3.lacounty.gov/lms/</a>.</div></div>\n",
       "                </p>\n",
       "            </div>\n",
       "        </div>\n",
       "        "
      ],
      "text/plain": [
       "http://geohub.lacity.org/datasets/5b4a3fb4388249f8a4671063e5277d9d_135\n",
       "District Attorney\n",
       "Locations of district attorneys in Los Angeles County<div><div><br /></div><div>This dataset is maintained through the County of Los Angeles Location Management System. The Location Management System is used by the County of Los Angeles GIS Program to maintain a single, comprehensive geographic database of locations countywide.  For more information on the Location Management System, visit <a href=\"http://egis3.lacounty.gov/lms/\" target=\"_blank\">http://egis3.lacounty.gov/lms/</a>.</div></div>"
      ]
     },
     "metadata": {},
     "output_type": "display_data"
    },
    {
     "name": "stdout",
     "output_type": "stream",
     "text": [
      "\n",
      "\n",
      "\n"
     ]
    },
    {
     "data": {
      "text/html": [
       "\n",
       "        <h3>Census Block Groups in LA County</h3>\n",
       "        <div style=\"display: flex; flex-direction: row; flex-wrap: wrap; height:256px\">\n",
       "            <div style=\"flex: 0 0 256px; padding-right: 24px\">\n",
       "                \n",
       "            <p><b>ID:</b><a href=\"http://geohub.lacity.org/datasets/5cdbdf3e8fac4b008c62bce19eb893cb_0\"> http://geohub.lacity.org/datasets/5cdbdf3e8fac4b008c62bce19eb893cb_0</a></p>\n",
       "            <p><b>Issued:</b> 2017-10-13T00:39:30.000Z</p>\n",
       "            <p><b>Last Modified:</b> 2019-03-27T20:01:35.288Z</p>\n",
       "            <p><b>Publisher:</b> City of Los Angeles Hub</p>\n",
       "            <p><b>License:</b> https://hub.arcgis.com/api/v2/datasets/5cdbdf3e8fac4b008c62bce19eb893cb_0/license</p>\n",
       "            <p><b>Download URL:</b><a href=\"http://geohub.lacity.org/datasets/5cdbdf3e8fac4b008c62bce19eb893cb_0.geojson\"> http://geohub.lacity.org/datasets/5cdbdf3e8fac4b008c62bce19eb893cb_0.geojson</a></p>\n",
       "        \n",
       "            </div>\n",
       "            <div style=\"flex: 1 1 0; height: 100%; overflow: auto\">\n",
       "                <p>\n",
       "                    This layer presents the census block groups of the United States in the 50 states, the District of Columbia, and Puerto Rico. It provides detailed boundaries that are consistent with the tract, county, and state data sets and are effective at regional and state levels.  This layer can be used for visualization and spatial analysis.  This layer will be updated on an annual basis with the latest available data from TomTom.<div><br /><div><div><div><b>Source Data</b>: access the source data for this layer to use or publish and share.</div><div><ul><li><a href=\"http://www.arcgis.com/home/item.html?id=1c924a53319a491ab43d5cb1d55d8561\" target=\"_blank\">USA Block Groups Layer Package</a><br /></li></ul></div></div></div></div>\n",
       "                </p>\n",
       "            </div>\n",
       "        </div>\n",
       "        "
      ],
      "text/plain": [
       "http://geohub.lacity.org/datasets/5cdbdf3e8fac4b008c62bce19eb893cb_0\n",
       "Census Block Groups in LA County\n",
       "This layer presents the census block groups of the United States in the 50 states, the District of Columbia, and Puerto Rico. It provides detailed boundaries that are consistent with the tract, county, and state data sets and are effective at regional and state levels.  This layer can be used for visualization and spatial analysis.  This layer will be updated on an annual basis with the latest available data from TomTom.<div><br /><div><div><div><b>Source Data</b>: access the source data for this layer to use or publish and share.</div><div><ul><li><a href=\"http://www.arcgis.com/home/item.html?id=1c924a53319a491ab43d5cb1d55d8561\" target=\"_blank\">USA Block Groups Layer Package</a><br /></li></ul></div></div></div></div>"
      ]
     },
     "metadata": {},
     "output_type": "display_data"
    },
    {
     "name": "stdout",
     "output_type": "stream",
     "text": [
      "\n",
      "\n",
      "\n"
     ]
    },
    {
     "data": {
      "text/html": [
       "\n",
       "        <h3>Demographics of Neighborhood Councils</h3>\n",
       "        <div style=\"display: flex; flex-direction: row; flex-wrap: wrap; height:256px\">\n",
       "            <div style=\"flex: 0 0 256px; padding-right: 24px\">\n",
       "                \n",
       "            <p><b>ID:</b><a href=\"http://geohub.lacity.org/datasets/2f11013d1302419aac243d6e1c56568f_0\"> http://geohub.lacity.org/datasets/2f11013d1302419aac243d6e1c56568f_0</a></p>\n",
       "            <p><b>Issued:</b> 2018-01-31T19:25:11.000Z</p>\n",
       "            <p><b>Last Modified:</b> 2019-03-26T16:08:45.858Z</p>\n",
       "            <p><b>Publisher:</b> City of Los Angeles Hub</p>\n",
       "            <p><b>License:</b> https://hub.arcgis.com/api/v2/datasets/2f11013d1302419aac243d6e1c56568f_0/license</p>\n",
       "            <p><b>Download URL:</b><a href=\"http://geohub.lacity.org/datasets/2f11013d1302419aac243d6e1c56568f_0.geojson\"> http://geohub.lacity.org/datasets/2f11013d1302419aac243d6e1c56568f_0.geojson</a></p>\n",
       "        \n",
       "            </div>\n",
       "            <div style=\"flex: 1 1 0; height: 100%; overflow: auto\">\n",
       "                <p>\n",
       "                    <div>2016 5-Year ACS Estimates used for demographic and population data. Errors in population count may be due to the weighting process used to reconcile census block data at the neighborhood council district level. Please see American FactFinder for the source of the demographic data. This data is meant to make available the data on characteristics of the neighborhood councils in Los Angeles City. This data is meant to empower the citizens of each neighborhood council district with knowledge about the characteristics of their neighborhood council. This data is also meant to spur curiosity and interest in using open data to further the knowledge of the demographics and characteristics of each neighborhood council. Additional demographic data for the neighborhood councils may be added later to the layer. *note: all totals and counts are estimates, as detailed by the American Community Survey* </div><div>-----------------------------------------------------------------------------------------------------------------------------------------------------------------------------------</div><div></div><div></div><div>Methodology for obtaining/formatting the data and joining to Neighborhood Council shapefile:</div><div>https://docs.google.com/document/d/18DugqyuQqkmaU1vMQ-Z_eImEMrsTy2ersG2KKd0ADG0/edit?usp=sharing</div><div>-----------------------------------------------------------------------------------------------------------------------------------------------------------------------------------</div><div>Metadata for demographic variable names:</div><div>https://docs.google.com/spreadsheets/d/1iBJjYoO_sC6tlReDIs2pO9rDkqhseEURtKy6-sYo7Cc/edit?usp=sharing</div>\n",
       "                </p>\n",
       "            </div>\n",
       "        </div>\n",
       "        "
      ],
      "text/plain": [
       "http://geohub.lacity.org/datasets/2f11013d1302419aac243d6e1c56568f_0\n",
       "Demographics of Neighborhood Councils\n",
       "<div>2016 5-Year ACS Estimates used for demographic and population data. Errors in population count may be due to the weighting process used to reconcile census block data at the neighborhood council district level. Please see American FactFinder for the source of the demographic data. This data is meant to make available the data on characteristics of the neighborhood councils in Los Angeles City. This data is meant to empower the citizens of each neighborhood council district with knowledge about the characteristics of their neighborhood council. This data is also meant to spur curiosity and interest in using open data to further the knowledge of the demographics and characteristics of each neighborhood council. Additional demographic data for the neighborhood councils may be added later to the layer. *note: all totals and counts are estimates, as detailed by the American Community Survey* </div><div>-----------------------------------------------------------------------------------------------------------------------------------------------------------------------------------</div><div></div><div></div><div>Methodology for obtaining/formatting the data and joining to Neighborhood Council shapefile:</div><div>https://docs.google.com/document/d/18DugqyuQqkmaU1vMQ-Z_eImEMrsTy2ersG2KKd0ADG0/edit?usp=sharing</div><div>-----------------------------------------------------------------------------------------------------------------------------------------------------------------------------------</div><div>Metadata for demographic variable names:</div><div>https://docs.google.com/spreadsheets/d/1iBJjYoO_sC6tlReDIs2pO9rDkqhseEURtKy6-sYo7Cc/edit?usp=sharing</div>"
      ]
     },
     "metadata": {},
     "output_type": "display_data"
    },
    {
     "name": "stdout",
     "output_type": "stream",
     "text": [
      "\n",
      "\n",
      "\n"
     ]
    },
    {
     "data": {
      "text/html": [
       "\n",
       "        <h3>Homeless Count by Council District - 2018</h3>\n",
       "        <div style=\"display: flex; flex-direction: row; flex-wrap: wrap; height:256px\">\n",
       "            <div style=\"flex: 0 0 256px; padding-right: 24px\">\n",
       "                \n",
       "            <p><b>ID:</b><a href=\"http://geohub.lacity.org/datasets/c8e6c2f2b6434c67a33a7b189f53f2b4_0\"> http://geohub.lacity.org/datasets/c8e6c2f2b6434c67a33a7b189f53f2b4_0</a></p>\n",
       "            <p><b>Issued:</b> 2018-09-05T15:38:31.000Z</p>\n",
       "            <p><b>Last Modified:</b> 2019-03-26T16:08:44.872Z</p>\n",
       "            <p><b>Publisher:</b> City of Los Angeles Hub</p>\n",
       "            <p><b>License:</b> https://hub.arcgis.com/api/v2/datasets/c8e6c2f2b6434c67a33a7b189f53f2b4_0/license</p>\n",
       "            <p><b>Download URL:</b><a href=\"http://geohub.lacity.org/datasets/c8e6c2f2b6434c67a33a7b189f53f2b4_0.geojson\"> http://geohub.lacity.org/datasets/c8e6c2f2b6434c67a33a7b189f53f2b4_0.geojson</a></p>\n",
       "        \n",
       "            </div>\n",
       "            <div style=\"flex: 1 1 0; height: 100%; overflow: auto\">\n",
       "                <p>\n",
       "                    <p>Data Prepared by Los Angeles Homeless Services Authority</p><p>September 5  2018</p><p><br /></p><p></p><p>Components of the Homeless Count</p><p></p><p>Street Count (all census tracts): Captures a point in time estimate of the unsheltered population.</p><p></p><p>Shelter Count (from Homeless Management Integration System): Captures the homeless population in emergency shelters, transitional housing, safe havens and vouchered motels/hotels.</p><p></p><p>Youth Count (sample census tracts): Collaborative process with youth stakeholders to better understand and identify homeless youth.</p><p></p><p>Demographic Survey (sample census tracts): Captures the demographic characteristics of the unsheltered homeless population.</p><p><br /></p><p></p><p>Notes</p><p></p><p>Street Count data includes homeless persons found outside, including persons found residing in cars, vans, campers/RVs, tents and makeshift shelters. The following conversion factors were used to estimate the number of persons living in cars, vans, campers/RVs, tents and makeshift shelters if enumerators encountered homeless persons living in these environments. Individuals: Cars = 1.54, Vans = 1.62, RV's = 1.76, Tents = 1.52 and Makeshift Shelters = 1.67. Family Members: Cars = 2.96, Vans = 2.43, RV's = 3.45, Tents = 2.75 and Makeshift Shelters = 2.42. Demographic survey interviews conducted with 4,934 homeless persons from December 2017 to March 2018 determined these conversion factors for the average number of homeless persons in cars, vans, campers/RVs, tents and makeshift shelters.</p><p> </p><p>Please visit https://www.lahsa.org/homeless-count/home to view and download data.</p><p></p><p>Last updated 9/5/2018</p>\n",
       "                </p>\n",
       "            </div>\n",
       "        </div>\n",
       "        "
      ],
      "text/plain": [
       "http://geohub.lacity.org/datasets/c8e6c2f2b6434c67a33a7b189f53f2b4_0\n",
       "Homeless Count by Council District - 2018\n",
       "<p>Data Prepared by Los Angeles Homeless Services Authority</p><p>September 5  2018</p><p><br /></p><p></p><p>Components of the Homeless Count</p><p></p><p>Street Count (all census tracts): Captures a point in time estimate of the unsheltered population.</p><p></p><p>Shelter Count (from Homeless Management Integration System): Captures the homeless population in emergency shelters, transitional housing, safe havens and vouchered motels/hotels.</p><p></p><p>Youth Count (sample census tracts): Collaborative process with youth stakeholders to better understand and identify homeless youth.</p><p></p><p>Demographic Survey (sample census tracts): Captures the demographic characteristics of the unsheltered homeless population.</p><p><br /></p><p></p><p>Notes</p><p></p><p>Street Count data includes homeless persons found outside, including persons found residing in cars, vans, campers/RVs, tents and makeshift shelters. The following conversion factors were used to estimate the number of persons living in cars, vans, campers/RVs, tents and makeshift shelters if enumerators encountered homeless persons living in these environments. Individuals: Cars = 1.54, Vans = 1.62, RV's = 1.76, Tents = 1.52 and Makeshift Shelters = 1.67. Family Members: Cars = 2.96, Vans = 2.43, RV's = 3.45, Tents = 2.75 and Makeshift Shelters = 2.42. Demographic survey interviews conducted with 4,934 homeless persons from December 2017 to March 2018 determined these conversion factors for the average number of homeless persons in cars, vans, campers/RVs, tents and makeshift shelters.</p><p> </p><p>Please visit https://www.lahsa.org/homeless-count/home to view and download data.</p><p></p><p>Last updated 9/5/2018</p>"
      ]
     },
     "metadata": {},
     "output_type": "display_data"
    },
    {
     "name": "stdout",
     "output_type": "stream",
     "text": [
      "\n",
      "\n",
      "\n"
     ]
    },
    {
     "data": {
      "text/html": [
       "\n",
       "        <h3>2010 Census Tracts by Council District</h3>\n",
       "        <div style=\"display: flex; flex-direction: row; flex-wrap: wrap; height:256px\">\n",
       "            <div style=\"flex: 0 0 256px; padding-right: 24px\">\n",
       "                \n",
       "            <p><b>ID:</b><a href=\"http://geohub.lacity.org/datasets/3d41239eaa564ca699b17dbefd5d2981_0\"> http://geohub.lacity.org/datasets/3d41239eaa564ca699b17dbefd5d2981_0</a></p>\n",
       "            <p><b>Issued:</b> 2016-02-17T03:58:21.000Z</p>\n",
       "            <p><b>Last Modified:</b> 2019-03-26T16:08:17.464Z</p>\n",
       "            <p><b>Publisher:</b> City of Los Angeles Hub</p>\n",
       "            <p><b>License:</b> https://hub.arcgis.com/api/v2/datasets/3d41239eaa564ca699b17dbefd5d2981_0/license</p>\n",
       "            <p><b>Download URL:</b><a href=\"http://geohub.lacity.org/datasets/3d41239eaa564ca699b17dbefd5d2981_0.geojson\"> http://geohub.lacity.org/datasets/3d41239eaa564ca699b17dbefd5d2981_0.geojson</a></p>\n",
       "        \n",
       "            </div>\n",
       "            <div style=\"flex: 1 1 0; height: 100%; overflow: auto\">\n",
       "                <p>\n",
       "                    This dataset has the census tracts within the City of LA, joined with Council Districts. \n",
       "                </p>\n",
       "            </div>\n",
       "        </div>\n",
       "        "
      ],
      "text/plain": [
       "http://geohub.lacity.org/datasets/3d41239eaa564ca699b17dbefd5d2981_0\n",
       "2010 Census Tracts by Council District\n",
       "This dataset has the census tracts within the City of LA, joined with Council Districts. "
      ]
     },
     "metadata": {},
     "output_type": "display_data"
    },
    {
     "name": "stdout",
     "output_type": "stream",
     "text": [
      "\n",
      "\n",
      "\n"
     ]
    },
    {
     "data": {
      "text/html": [
       "\n",
       "        <h3>Business Improvement Districts (BID)</h3>\n",
       "        <div style=\"display: flex; flex-direction: row; flex-wrap: wrap; height:256px\">\n",
       "            <div style=\"flex: 0 0 256px; padding-right: 24px\">\n",
       "                \n",
       "            <p><b>ID:</b><a href=\"http://geohub.lacity.org/datasets/8bbeb6b86a2f4e06a44e245add92a1c1_0\"> http://geohub.lacity.org/datasets/8bbeb6b86a2f4e06a44e245add92a1c1_0</a></p>\n",
       "            <p><b>Issued:</b> 2018-10-26T18:22:56.000Z</p>\n",
       "            <p><b>Last Modified:</b> 2019-03-26T16:07:41.679Z</p>\n",
       "            <p><b>Publisher:</b> City of Los Angeles Hub</p>\n",
       "            <p><b>License:</b> https://hub.arcgis.com/api/v2/datasets/8bbeb6b86a2f4e06a44e245add92a1c1_0/license</p>\n",
       "            <p><b>Download URL:</b><a href=\"http://geohub.lacity.org/datasets/8bbeb6b86a2f4e06a44e245add92a1c1_0.geojson\"> http://geohub.lacity.org/datasets/8bbeb6b86a2f4e06a44e245add92a1c1_0.geojson</a></p>\n",
       "        \n",
       "            </div>\n",
       "            <div style=\"flex: 1 1 0; height: 100%; overflow: auto\">\n",
       "                <p>\n",
       "                    A business improvement district is a geographically defined area within the City of Los Angeles, in which services, activities and programs are paid for through a special assessment which is charged to all members within the district in order to equitably distribute the benefits received and the costs incurred to provide the agreed-upon services, activities and programs. Because the assessment funds collected in a given district cannot legally be spent outside of that BID, the City creates a trust fund for each BID, with funds periodically released to support operations. Additional information can be referenced from the Office of the City Clerk's BID <a href=\"http://clerk.lacity.org/business-improvement-districts\" target=\"_blank\">website</a>.<div><br /></div><div>The Neighborhood and Business Improvement District Division of the Office of the City Clerk manages the Business Improvement District Program and provides various types of assistance and information to interested parties. For more information about these services click on this <a href=\"http://www.clerk.lacity.org/sites/g/files/wph606/f/lacityp_025725.pdf\" target=\"_blank\">link</a>.<br /></div><div><br /></div><div><div>Refresh Rate: As Needed</div><div>Last Updated: Oct 26, 2018</div></div>\n",
       "                </p>\n",
       "            </div>\n",
       "        </div>\n",
       "        "
      ],
      "text/plain": [
       "http://geohub.lacity.org/datasets/8bbeb6b86a2f4e06a44e245add92a1c1_0\n",
       "Business Improvement Districts (BID)\n",
       "A business improvement district is a geographically defined area within the City of Los Angeles, in which services, activities and programs are paid for through a special assessment which is charged to all members within the district in order to equitably distribute the benefits received and the costs incurred to provide the agreed-upon services, activities and programs. Because the assessment funds collected in a given district cannot legally be spent outside of that BID, the City creates a trust fund for each BID, with funds periodically released to support operations. Additional information can be referenced from the Office of the City Clerk's BID <a href=\"http://clerk.lacity.org/business-improvement-districts\" target=\"_blank\">website</a>.<div><br /></div><div>The Neighborhood and Business Improvement District Division of the Office of the City Clerk manages the Business Improvement District Program and provides various types of assistance and information to interested parties. For more information about these services click on this <a href=\"http://www.clerk.lacity.org/sites/g/files/wph606/f/lacityp_025725.pdf\" target=\"_blank\">link</a>.<br /></div><div><br /></div><div><div>Refresh Rate: As Needed</div><div>Last Updated: Oct 26, 2018</div></div>"
      ]
     },
     "metadata": {},
     "output_type": "display_data"
    },
    {
     "name": "stdout",
     "output_type": "stream",
     "text": [
      "\n",
      "\n",
      "\n"
     ]
    },
    {
     "data": {
      "text/html": [
       "\n",
       "        <h3>Wye Connectors</h3>\n",
       "        <div style=\"display: flex; flex-direction: row; flex-wrap: wrap; height:256px\">\n",
       "            <div style=\"flex: 0 0 256px; padding-right: 24px\">\n",
       "                \n",
       "            <p><b>ID:</b><a href=\"http://geohub.lacity.org/datasets/0102a08ceeb24426840de0e3f5cd3a19_2\"> http://geohub.lacity.org/datasets/0102a08ceeb24426840de0e3f5cd3a19_2</a></p>\n",
       "            <p><b>Issued:</b> 2015-11-14T04:24:45.000Z</p>\n",
       "            <p><b>Last Modified:</b> 2019-03-25T16:10:08.326Z</p>\n",
       "            <p><b>Publisher:</b> City of Los Angeles Hub</p>\n",
       "            <p><b>License:</b> https://hub.arcgis.com/api/v2/datasets/0102a08ceeb24426840de0e3f5cd3a19_2/license</p>\n",
       "            <p><b>Download URL:</b><a href=\"http://geohub.lacity.org/datasets/0102a08ceeb24426840de0e3f5cd3a19_2.geojson\"> http://geohub.lacity.org/datasets/0102a08ceeb24426840de0e3f5cd3a19_2.geojson</a></p>\n",
       "        \n",
       "            </div>\n",
       "            <div style=\"flex: 1 1 0; height: 100%; overflow: auto\">\n",
       "                <p>\n",
       "                    This connector wye feature class represents current wastewater information in the City of Los Angeles. The connector wye is the location of a chimney. The Mapping and Land Records Division of the Bureau of Engineering, Department of Public Works provides the most rigorous geographic information of the sanitary sewer system using a geometric network model, to ensure that its sewers reflect current ground conditions. The sanitary sewer system, pump plants, wyes, maintenance holes, and other structures represent the sewer infrastructure in the City of Los Angeles. Wye and sewer information is available on NavigateLA, a website hosted by the Bureau of Engineering, Department of Public Works.For a complete list of attribute values, please refer to (TBA Wastewater data dictionary). <br /> <br />Wastewater Connector Wye points layer was created in geographical information systems (GIS) software to display the location of wastewater connection points at the wye pipe lines. The connector wye layer is a feature class in the LACityWastewaterData.gdb Geodatabase dataset. The layer consists of spatial data as a point feature class and attribute data for the features. The connector wye points are entered when the wye pipe lines are edited based on wastewater sewer maps and BOE standard plans, and information about the points is entered into attributes. The connector wye is a structure connected to the wye pipe line. Reference the WYE_SUBTYPE field for the type of structure. The WYE_ID field value is the unique ID. The WYE_ID field relates to the Sewer Permit tables. The wastewater connector wye points are inherited from sewer spatial data originally created by the City's Wastewater program. The database was known as SIMMS, Sewer Inventory and Maintenance Management System. Wye pipe information should only be added to the Wastewater wye pipes layer if documentation exists, such as a wastewater map approved by the City Engineer. Sewers plans and specifications proposed under private development are reviewed and approved by Bureau of Engineering. The Department of Public Works, Bureau of Engineering's, Brown Book (current as of 2010) outlines standard specifications for public works construction. For more information on sewer materials and structures, look at the Bureau of Engineering Manual, Part F, Sewer Design, F 400 Sewer Materials and Structures section, and a copy can be viewed at <a href=\"http://eng.lacity.org/techdocs/sewer-ma/f400.pdf\" target=\"_blank\">http://eng.lacity.org/techdocs/sewer-ma/f400.pdf</a>.<br /><br />List of Fields:<br />REHAB: This attribute indicates if the pipe has been rehabilitated.<br />BOTTOM: When a chimney is present, this is the depth at the bottom of the chimney.<br />TOP_: When a chimney is present, this is the depth at the top of the chimney.<br />PL_DEPTH: This value is the depth of the service connection at the property line.<br />TYPE: This is the old wye status and is no longer referenced.<br />SHAPE: Feature geometry.<br />LAST_UPDATE: Date of last update of the point feature.<br />USER_ID: The name of the user carrying out the edits of the wye data.<br />SPECIAL_STRUCT: This describes the special structure. The design of the special structure doesn't follow the BOE Standard Plans.<br />PIPE_ID: The value is a combination of the values in the UP_STRUCT, DN_STRUCT, and PIPE_LABEL fields. This is the 17 digit identifier of each pipe segment and is a key attribute of the pipe line data layer. This field named PIPE_ID relates to the field in the Annotation Pipe and to the field named PIPE_ID in the Pipe line feature class data layers.<br />WYE_NO: This value is the number of the line segment for the wye structure located along the pipe segment. This is a 2 digit value. The number starts at 1 for the first wye connected to a pipe. The numbers increase sequentially with each wye being unique.<br />C_HUNDS: This value is the hundreds portion of the stationing at the curb line.<br />DEPTH: This value is the depth of the Wye from the surface in feet.<br />STAT_TENS: This value is the tens portion of the stationing.<br />WYE_SUBTYPE: This value is the type of sewer connection. Values:<br />     •  1 - Vertical tee.<br />     •  7 - .<br />     •  3 - Offset Chimney.<br />     •  4 - .<br />     •  2 - Chimney.<br />ENABLED: Internal feature number.<br />PL_TENS: This value is the tens portion of the stationing at the property line.<br />SIDE: The side of the pipe looking up stream to which structure attaches. Values:<br />     •  R - Right.<br />     •  L - Left.<br />     •  C - Centered.<br />     •  U - Unknown.<br />ENG_DIST: LA City Engineering District. The boundaries are displayed in the Engineering Districts index map. Values:<br />     •  H - Harbor Engineering District.<br />     •  C - Central Engineering District.<br />     •  V - Valley Engineering District.<br />     •  W - West LA Engineering District.<br />STATUS: This value is the active or inactive status of the connector wye. Values:<br />     •  INACT - Inactive.<br />     •  ABAN - Abandoned.<br />     •  ACT - Active.<br />     •  PROP_ACT - Proposed Active.<br />     •  ABAN - Proposed Inactive.<br />BASIN: This attribute is the basin number.<br />OBJECTID: Internal feature number.<br />C_TENS: This value is the tens portion of the stationing at the curb line.<br />STAT_HUND: This value is the hundreds portion of the stationing.<br />SERVICEID: User-defined unique feature number that is automatically generated.<br />CRTN_DT: Creation date of the point feature.<br />WYE_ID: The value is a combination of PIPE_ID and WYE_NO fields, forming a unique number. This 19 digit value is a key attribute of the wye lines data layer. This field relates to the Permit tables.<br />PL_HUNDS: This value is the hundreds portion of the stationing at the property line.<br />REMARKS: This attribute contains additional comments regarding the wye line segment, such as a line through in all caps when lined out on wye maps.<br />ASSETID: User-defined unique feature number that is automatically generated.<br />C_DEPTH: This value is the depth of the service connection at the curb line.\n",
       "                </p>\n",
       "            </div>\n",
       "        </div>\n",
       "        "
      ],
      "text/plain": [
       "http://geohub.lacity.org/datasets/0102a08ceeb24426840de0e3f5cd3a19_2\n",
       "Wye Connectors\n",
       "This connector wye feature class represents current wastewater information in the City of Los Angeles. The connector wye is the location of a chimney. The Mapping and Land Records Division of the Bureau of Engineering, Department of Public Works provides the most rigorous geographic information of the sanitary sewer system using a geometric network model, to ensure that its sewers reflect current ground conditions. The sanitary sewer system, pump plants, wyes, maintenance holes, and other structures represent the sewer infrastructure in the City of Los Angeles. Wye and sewer information is available on NavigateLA, a website hosted by the Bureau of Engineering, Department of Public Works.For a complete list of attribute values, please refer to (TBA Wastewater data dictionary). <br /> <br />Wastewater Connector Wye points layer was created in geographical information systems (GIS) software to display the location of wastewater connection points at the wye pipe lines. The connector wye layer is a feature class in the LACityWastewaterData.gdb Geodatabase dataset. The layer consists of spatial data as a point feature class and attribute data for the features. The connector wye points are entered when the wye pipe lines are edited based on wastewater sewer maps and BOE standard plans, and information about the points is entered into attributes. The connector wye is a structure connected to the wye pipe line. Reference the WYE_SUBTYPE field for the type of structure. The WYE_ID field value is the unique ID. The WYE_ID field relates to the Sewer Permit tables. The wastewater connector wye points are inherited from sewer spatial data originally created by the City's Wastewater program. The database was known as SIMMS, Sewer Inventory and Maintenance Management System. Wye pipe information should only be added to the Wastewater wye pipes layer if documentation exists, such as a wastewater map approved by the City Engineer. Sewers plans and specifications proposed under private development are reviewed and approved by Bureau of Engineering. The Department of Public Works, Bureau of Engineering's, Brown Book (current as of 2010) outlines standard specifications for public works construction. For more information on sewer materials and structures, look at the Bureau of Engineering Manual, Part F, Sewer Design, F 400 Sewer Materials and Structures section, and a copy can be viewed at <a href=\"http://eng.lacity.org/techdocs/sewer-ma/f400.pdf\" target=\"_blank\">http://eng.lacity.org/techdocs/sewer-ma/f400.pdf</a>.<br /><br />List of Fields:<br />REHAB: This attribute indicates if the pipe has been rehabilitated.<br />BOTTOM: When a chimney is present, this is the depth at the bottom of the chimney.<br />TOP_: When a chimney is present, this is the depth at the top of the chimney.<br />PL_DEPTH: This value is the depth of the service connection at the property line.<br />TYPE: This is the old wye status and is no longer referenced.<br />SHAPE: Feature geometry.<br />LAST_UPDATE: Date of last update of the point feature.<br />USER_ID: The name of the user carrying out the edits of the wye data.<br />SPECIAL_STRUCT: This describes the special structure. The design of the special structure doesn't follow the BOE Standard Plans.<br />PIPE_ID: The value is a combination of the values in the UP_STRUCT, DN_STRUCT, and PIPE_LABEL fields. This is the 17 digit identifier of each pipe segment and is a key attribute of the pipe line data layer. This field named PIPE_ID relates to the field in the Annotation Pipe and to the field named PIPE_ID in the Pipe line feature class data layers.<br />WYE_NO: This value is the number of the line segment for the wye structure located along the pipe segment. This is a 2 digit value. The number starts at 1 for the first wye connected to a pipe. The numbers increase sequentially with each wye being unique.<br />C_HUNDS: This value is the hundreds portion of the stationing at the curb line.<br />DEPTH: This value is the depth of the Wye from the surface in feet.<br />STAT_TENS: This value is the tens portion of the stationing.<br />WYE_SUBTYPE: This value is the type of sewer connection. Values:<br />     •  1 - Vertical tee.<br />     •  7 - .<br />     •  3 - Offset Chimney.<br />     •  4 - .<br />     •  2 - Chimney.<br />ENABLED: Internal feature number.<br />PL_TENS: This value is the tens portion of the stationing at the property line.<br />SIDE: The side of the pipe looking up stream to which structure attaches. Values:<br />     •  R - Right.<br />     •  L - Left.<br />     •  C - Centered.<br />     •  U - Unknown.<br />ENG_DIST: LA City Engineering District. The boundaries are displayed in the Engineering Districts index map. Values:<br />     •  H - Harbor Engineering District.<br />     •  C - Central Engineering District.<br />     •  V - Valley Engineering District.<br />     •  W - West LA Engineering District.<br />STATUS: This value is the active or inactive status of the connector wye. Values:<br />     •  INACT - Inactive.<br />     •  ABAN - Abandoned.<br />     •  ACT - Active.<br />     •  PROP_ACT - Proposed Active.<br />     •  ABAN - Proposed Inactive.<br />BASIN: This attribute is the basin number.<br />OBJECTID: Internal feature number.<br />C_TENS: This value is the tens portion of the stationing at the curb line.<br />STAT_HUND: This value is the hundreds portion of the stationing.<br />SERVICEID: User-defined unique feature number that is automatically generated.<br />CRTN_DT: Creation date of the point feature.<br />WYE_ID: The value is a combination of PIPE_ID and WYE_NO fields, forming a unique number. This 19 digit value is a key attribute of the wye lines data layer. This field relates to the Permit tables.<br />PL_HUNDS: This value is the hundreds portion of the stationing at the property line.<br />REMARKS: This attribute contains additional comments regarding the wye line segment, such as a line through in all caps when lined out on wye maps.<br />ASSETID: User-defined unique feature number that is automatically generated.<br />C_DEPTH: This value is the depth of the service connection at the curb line."
      ]
     },
     "metadata": {},
     "output_type": "display_data"
    },
    {
     "name": "stdout",
     "output_type": "stream",
     "text": [
      "\n",
      "\n",
      "\n"
     ]
    },
    {
     "data": {
      "text/html": [
       "\n",
       "        <h3>LAFD First In Districts</h3>\n",
       "        <div style=\"display: flex; flex-direction: row; flex-wrap: wrap; height:256px\">\n",
       "            <div style=\"flex: 0 0 256px; padding-right: 24px\">\n",
       "                \n",
       "            <p><b>ID:</b><a href=\"http://geohub.lacity.org/datasets/e9bfde4b3cc04ef48a0fc4d8ec0d16bd_0\"> http://geohub.lacity.org/datasets/e9bfde4b3cc04ef48a0fc4d8ec0d16bd_0</a></p>\n",
       "            <p><b>Issued:</b> 2017-04-19T18:50:07.000Z</p>\n",
       "            <p><b>Last Modified:</b> 2019-03-25T16:02:24.108Z</p>\n",
       "            <p><b>Publisher:</b> City of Los Angeles Hub</p>\n",
       "            <p><b>License:</b> https://hub.arcgis.com/api/v2/datasets/e9bfde4b3cc04ef48a0fc4d8ec0d16bd_0/license</p>\n",
       "            <p><b>Download URL:</b><a href=\"http://geohub.lacity.org/datasets/e9bfde4b3cc04ef48a0fc4d8ec0d16bd_0.geojson\"> http://geohub.lacity.org/datasets/e9bfde4b3cc04ef48a0fc4d8ec0d16bd_0.geojson</a></p>\n",
       "        \n",
       "            </div>\n",
       "            <div style=\"flex: 1 1 0; height: 100%; overflow: auto\">\n",
       "                <p>\n",
       "                    Primary response area for Fire Station within the district boundary.<div>First In boundaries are a static data set. Changes only occur if a Fire Station is added, deleted or moved.<br /></div><div>First Ins Districts are a static data set and are only updated when there is a operational need to change the structure.<br /></div><div>There is no planned change.</div><div>This is the authoritative source for LAFD First In Districts.<br /></div>\n",
       "                </p>\n",
       "            </div>\n",
       "        </div>\n",
       "        "
      ],
      "text/plain": [
       "http://geohub.lacity.org/datasets/e9bfde4b3cc04ef48a0fc4d8ec0d16bd_0\n",
       "LAFD First In Districts\n",
       "Primary response area for Fire Station within the district boundary.<div>First In boundaries are a static data set. Changes only occur if a Fire Station is added, deleted or moved.<br /></div><div>First Ins Districts are a static data set and are only updated when there is a operational need to change the structure.<br /></div><div>There is no planned change.</div><div>This is the authoritative source for LAFD First In Districts.<br /></div>"
      ]
     },
     "metadata": {},
     "output_type": "display_data"
    },
    {
     "name": "stdout",
     "output_type": "stream",
     "text": [
      "\n",
      "\n",
      "\n"
     ]
    },
    {
     "data": {
      "text/html": [
       "\n",
       "        <h3>LAPD Reporting Districts</h3>\n",
       "        <div style=\"display: flex; flex-direction: row; flex-wrap: wrap; height:256px\">\n",
       "            <div style=\"flex: 0 0 256px; padding-right: 24px\">\n",
       "                \n",
       "            <p><b>ID:</b><a href=\"http://geohub.lacity.org/datasets/4398360b1a0242b78904f46b3786ae73_0\"> http://geohub.lacity.org/datasets/4398360b1a0242b78904f46b3786ae73_0</a></p>\n",
       "            <p><b>Issued:</b> 2018-02-21T18:05:04.000Z</p>\n",
       "            <p><b>Last Modified:</b> 2019-03-25T16:02:12.848Z</p>\n",
       "            <p><b>Publisher:</b> City of Los Angeles Hub</p>\n",
       "            <p><b>License:</b> https://hub.arcgis.com/api/v2/datasets/4398360b1a0242b78904f46b3786ae73_0/license</p>\n",
       "            <p><b>Download URL:</b><a href=\"http://geohub.lacity.org/datasets/4398360b1a0242b78904f46b3786ae73_0.geojson\"> http://geohub.lacity.org/datasets/4398360b1a0242b78904f46b3786ae73_0.geojson</a></p>\n",
       "        \n",
       "            </div>\n",
       "            <div style=\"flex: 1 1 0; height: 100%; overflow: auto\">\n",
       "                <p>\n",
       "                    This data displays the LAPD Reporting Districts.\n",
       "                </p>\n",
       "            </div>\n",
       "        </div>\n",
       "        "
      ],
      "text/plain": [
       "http://geohub.lacity.org/datasets/4398360b1a0242b78904f46b3786ae73_0\n",
       "LAPD Reporting Districts\n",
       "This data displays the LAPD Reporting Districts."
      ]
     },
     "metadata": {},
     "output_type": "display_data"
    },
    {
     "name": "stdout",
     "output_type": "stream",
     "text": [
      "\n",
      "\n",
      "\n"
     ]
    },
    {
     "data": {
      "text/html": [
       "\n",
       "        <h3>Historic Cultural Monuments (HCM)</h3>\n",
       "        <div style=\"display: flex; flex-direction: row; flex-wrap: wrap; height:256px\">\n",
       "            <div style=\"flex: 0 0 256px; padding-right: 24px\">\n",
       "                \n",
       "            <p><b>ID:</b><a href=\"http://geohub.lacity.org/datasets/0d77d18299a74783b892f7cb3f7291d6_0\"> http://geohub.lacity.org/datasets/0d77d18299a74783b892f7cb3f7291d6_0</a></p>\n",
       "            <p><b>Issued:</b> 2018-01-31T23:59:11.000Z</p>\n",
       "            <p><b>Last Modified:</b> 2019-03-19T17:00:15.751Z</p>\n",
       "            <p><b>Publisher:</b> City of Los Angeles Hub</p>\n",
       "            <p><b>License:</b> https://hub.arcgis.com/api/v2/datasets/0d77d18299a74783b892f7cb3f7291d6_0/license</p>\n",
       "            <p><b>Download URL:</b><a href=\"http://geohub.lacity.org/datasets/0d77d18299a74783b892f7cb3f7291d6_0.geojson\"> http://geohub.lacity.org/datasets/0d77d18299a74783b892f7cb3f7291d6_0.geojson</a></p>\n",
       "        \n",
       "            </div>\n",
       "            <div style=\"flex: 1 1 0; height: 100%; overflow: auto\">\n",
       "                <p>\n",
       "                    In 1962, The <a href=\"https://www.lacity.org/\" target=\"_blank\">City of Los Angeles</a> Cultural Heritage Ordinance was enacted and made possible the designation of buildings and sites as individual local landmarks, called “<a href=\"https://preservation.lacity.org/commission/designated-historic-cultural-monuments\" target=\"_blank\">Historic-Cultural Monuments</a>” in Los Angeles. The City currently has over <a href=\"https://preservation.lacity.org/sites/default/files/HCMDatabase%23110717.pdf\" target=\"_blank\">1,000 Historic-Cultural Monuments</a>, providing official recognition and protection for Los Angeles’ most significant and cherished historic resources.<div><br /></div><div><div>Historic-Cultural Monument designation is reserved for those resources that have a special aesthetic, architectural, or engineering interest or value of a historic nature. The <a href=\"https://preservation.lacity.org/commission/cultural-heritage-ordinance\" target=\"_blank\">Cultural Heritage Ordinance</a> establishes criteria for designation; these criteria are contained in the definition of a Monument in the Ordinance. A historical or cultural monument is any site (including significant trees or other plant life located thereon), building, or structure of particular historical or cultural significance to the City of Los Angeles, such as historic structures or sites:</div><div><ul><li><div>in which the broad cultural, political, economic, or social history of the nation, state, or community is reflected or exemplified; or</div></li><li><div>which are identified with historic personages or with important events in the main currents of national, state, or local history; or<br /></div></li><li><div>which embody the distinguishing characteristics of an architectural-type specimen, inherently valuable for a study of a period, style, or method of construction; or<br /></div></li><li><div>which are a notable work of a master builder, designer, or architect whose individual genius influenced his or her age.<br /></div></li></ul></div><div>A proposed resource may be eligible for designation if it meets at least one of the criteria above.<br /></div><div><br /></div><div>Designation as an Historic-Cultural Monument:<br /></div><div><div><ul><li>Recognizes the building, structure, site, or plant life as important to the history of the city, state, or nation;<br /></li><li>Provides eligibility for the <a href=\"https://preservation.lacity.org/incentives/mills-act-historical-property-contract-program\" target=\"_blank\">Mills Act program</a>, providing a Historical Property Contract that can result in a property tax reduction;<br /></li><li>Permits use of the <a href=\"http://ohp.parks.ca.gov/?page_id=21410\" target=\"_blank\">California Historical Building Code</a>;<br /></li><li>Allows property owners to purchase and display a <a href=\"https://preservation.lacity.org/commission/guide-bronze-plaque-program-historic-cultural-monuments\" target=\"_blank\">plaque</a> showing that the property has Historic-Cultural Monument status;<br /></li><li><div>Requires <a href=\"https://preservation.lacity.org/commission/cultural-heritage-commission\" target=\"_blank\">Cultural Heritage Commission</a> review for proposed exterior and interior alterations in accordance with the Secretary of the Interior’s Standards for Rehabilitation, the nationally accepted criteria for evaluating change to historic properties;<br /></div></li><li><div><div>Allows the Cultural Heritage Commission to object to the issuance of a demolition permit for 180 days, with an additional 180 day extension possible upon approval of the City Council, thereby granting up to 360 days stay of demolition in order to evaluate preservation alternatives;<br /></div></div></li><li><div><div>Activates the California Environmental Quality Act (CEQA) which protects historic buildings from adverse impacts without environmental review (see the State Office of Historic Preservation document on CEQA and historical resources)</div></div></li><li><div><div>Entitles Historic-Cultural Monument owners to technical assistance in complying with the<a href=\"https://www.nps.gov/tps/standards.htm\" target=\"_blank\"> Secretary of the Interior’s Standards for the Treatment of Historic Properties</a>;<br /></div></div></li><li><div>Fosters civic pride in neighborhoods and business districts and helps develop a sense of place and time.</div></li></ul><div>For additional information, please visit the Office of Historic Resources <a href=\"https://preservation.lacity.org/commission\" target=\"_blank\">website</a>.</div></div></div></div><div><br /></div><div><div>Refresh Rate: Monthly</div><div>Last Updated: Mar 19, 2019</div></div>\n",
       "                </p>\n",
       "            </div>\n",
       "        </div>\n",
       "        "
      ],
      "text/plain": [
       "http://geohub.lacity.org/datasets/0d77d18299a74783b892f7cb3f7291d6_0\n",
       "Historic Cultural Monuments (HCM)\n",
       "In 1962, The <a href=\"https://www.lacity.org/\" target=\"_blank\">City of Los Angeles</a> Cultural Heritage Ordinance was enacted and made possible the designation of buildings and sites as individual local landmarks, called “<a href=\"https://preservation.lacity.org/commission/designated-historic-cultural-monuments\" target=\"_blank\">Historic-Cultural Monuments</a>” in Los Angeles. The City currently has over <a href=\"https://preservation.lacity.org/sites/default/files/HCMDatabase%23110717.pdf\" target=\"_blank\">1,000 Historic-Cultural Monuments</a>, providing official recognition and protection for Los Angeles’ most significant and cherished historic resources.<div><br /></div><div><div>Historic-Cultural Monument designation is reserved for those resources that have a special aesthetic, architectural, or engineering interest or value of a historic nature. The <a href=\"https://preservation.lacity.org/commission/cultural-heritage-ordinance\" target=\"_blank\">Cultural Heritage Ordinance</a> establishes criteria for designation; these criteria are contained in the definition of a Monument in the Ordinance. A historical or cultural monument is any site (including significant trees or other plant life located thereon), building, or structure of particular historical or cultural significance to the City of Los Angeles, such as historic structures or sites:</div><div><ul><li><div>in which the broad cultural, political, economic, or social history of the nation, state, or community is reflected or exemplified; or</div></li><li><div>which are identified with historic personages or with important events in the main currents of national, state, or local history; or<br /></div></li><li><div>which embody the distinguishing characteristics of an architectural-type specimen, inherently valuable for a study of a period, style, or method of construction; or<br /></div></li><li><div>which are a notable work of a master builder, designer, or architect whose individual genius influenced his or her age.<br /></div></li></ul></div><div>A proposed resource may be eligible for designation if it meets at least one of the criteria above.<br /></div><div><br /></div><div>Designation as an Historic-Cultural Monument:<br /></div><div><div><ul><li>Recognizes the building, structure, site, or plant life as important to the history of the city, state, or nation;<br /></li><li>Provides eligibility for the <a href=\"https://preservation.lacity.org/incentives/mills-act-historical-property-contract-program\" target=\"_blank\">Mills Act program</a>, providing a Historical Property Contract that can result in a property tax reduction;<br /></li><li>Permits use of the <a href=\"http://ohp.parks.ca.gov/?page_id=21410\" target=\"_blank\">California Historical Building Code</a>;<br /></li><li>Allows property owners to purchase and display a <a href=\"https://preservation.lacity.org/commission/guide-bronze-plaque-program-historic-cultural-monuments\" target=\"_blank\">plaque</a> showing that the property has Historic-Cultural Monument status;<br /></li><li><div>Requires <a href=\"https://preservation.lacity.org/commission/cultural-heritage-commission\" target=\"_blank\">Cultural Heritage Commission</a> review for proposed exterior and interior alterations in accordance with the Secretary of the Interior’s Standards for Rehabilitation, the nationally accepted criteria for evaluating change to historic properties;<br /></div></li><li><div><div>Allows the Cultural Heritage Commission to object to the issuance of a demolition permit for 180 days, with an additional 180 day extension possible upon approval of the City Council, thereby granting up to 360 days stay of demolition in order to evaluate preservation alternatives;<br /></div></div></li><li><div><div>Activates the California Environmental Quality Act (CEQA) which protects historic buildings from adverse impacts without environmental review (see the State Office of Historic Preservation document on CEQA and historical resources)</div></div></li><li><div><div>Entitles Historic-Cultural Monument owners to technical assistance in complying with the<a href=\"https://www.nps.gov/tps/standards.htm\" target=\"_blank\"> Secretary of the Interior’s Standards for the Treatment of Historic Properties</a>;<br /></div></div></li><li><div>Fosters civic pride in neighborhoods and business districts and helps develop a sense of place and time.</div></li></ul><div>For additional information, please visit the Office of Historic Resources <a href=\"https://preservation.lacity.org/commission\" target=\"_blank\">website</a>.</div></div></div></div><div><br /></div><div><div>Refresh Rate: Monthly</div><div>Last Updated: Mar 19, 2019</div></div>"
      ]
     },
     "metadata": {},
     "output_type": "display_data"
    },
    {
     "name": "stdout",
     "output_type": "stream",
     "text": [
      "\n",
      "\n",
      "\n"
     ]
    },
    {
     "data": {
      "text/html": [
       "\n",
       "        <h3>District Attorney</h3>\n",
       "        <div style=\"display: flex; flex-direction: row; flex-wrap: wrap; height:256px\">\n",
       "            <div style=\"flex: 0 0 256px; padding-right: 24px\">\n",
       "                \n",
       "            <p><b>ID:</b><a href=\"http://geohub.lacity.org/datasets/c493f3d44e97482e90ce9355019b1349_135\"> http://geohub.lacity.org/datasets/c493f3d44e97482e90ce9355019b1349_135</a></p>\n",
       "            <p><b>Issued:</b> 2018-08-01T23:17:34.000Z</p>\n",
       "            <p><b>Last Modified:</b> 2019-03-14T21:47:48.217Z</p>\n",
       "            <p><b>Publisher:</b> City of Los Angeles Hub</p>\n",
       "            <p><b>License:</b> https://hub.arcgis.com/api/v2/datasets/c493f3d44e97482e90ce9355019b1349_135/license</p>\n",
       "            <p><b>Download URL:</b><a href=\"http://geohub.lacity.org/datasets/c493f3d44e97482e90ce9355019b1349_135.geojson\"> http://geohub.lacity.org/datasets/c493f3d44e97482e90ce9355019b1349_135.geojson</a></p>\n",
       "        \n",
       "            </div>\n",
       "            <div style=\"flex: 1 1 0; height: 100%; overflow: auto\">\n",
       "                <p>\n",
       "                    <p>Location Management System (LMS) is County of Los Angeles GIS Program to maintain a single, comprehensive geographic database of locations countywide.  The scope of this information is broad, including locations of services, points of interest, physical features, to name a few.  The goal is that maintenance of the information will be done by the jurisdiction (city, department, agency) that provides the service.</p><p>A standard set of information about each location will be maintained and accessed by agencies and the public through all of the applications and maps that the County develops.</p>\n",
       "                </p>\n",
       "            </div>\n",
       "        </div>\n",
       "        "
      ],
      "text/plain": [
       "http://geohub.lacity.org/datasets/c493f3d44e97482e90ce9355019b1349_135\n",
       "District Attorney\n",
       "<p>Location Management System (LMS) is County of Los Angeles GIS Program to maintain a single, comprehensive geographic database of locations countywide.  The scope of this information is broad, including locations of services, points of interest, physical features, to name a few.  The goal is that maintenance of the information will be done by the jurisdiction (city, department, agency) that provides the service.</p><p>A standard set of information about each location will be maintained and accessed by agencies and the public through all of the applications and maps that the County develops.</p>"
      ]
     },
     "metadata": {},
     "output_type": "display_data"
    },
    {
     "name": "stdout",
     "output_type": "stream",
     "text": [
      "\n",
      "\n",
      "\n"
     ]
    },
    {
     "data": {
      "text/html": [
       "\n",
       "        <h3>School Districts</h3>\n",
       "        <div style=\"display: flex; flex-direction: row; flex-wrap: wrap; height:256px\">\n",
       "            <div style=\"flex: 0 0 256px; padding-right: 24px\">\n",
       "                \n",
       "            <p><b>ID:</b><a href=\"http://geohub.lacity.org/datasets/c493f3d44e97482e90ce9355019b1349_52\"> http://geohub.lacity.org/datasets/c493f3d44e97482e90ce9355019b1349_52</a></p>\n",
       "            <p><b>Issued:</b> 2018-08-01T23:17:34.000Z</p>\n",
       "            <p><b>Last Modified:</b> 2019-03-14T21:10:15.093Z</p>\n",
       "            <p><b>Publisher:</b> City of Los Angeles Hub</p>\n",
       "            <p><b>License:</b> https://hub.arcgis.com/api/v2/datasets/c493f3d44e97482e90ce9355019b1349_52/license</p>\n",
       "            <p><b>Download URL:</b><a href=\"http://geohub.lacity.org/datasets/c493f3d44e97482e90ce9355019b1349_52.geojson\"> http://geohub.lacity.org/datasets/c493f3d44e97482e90ce9355019b1349_52.geojson</a></p>\n",
       "        \n",
       "            </div>\n",
       "            <div style=\"flex: 1 1 0; height: 100%; overflow: auto\">\n",
       "                <p>\n",
       "                    <p>Location Management System (LMS) is County of Los Angeles GIS Program to maintain a single, comprehensive geographic database of locations countywide.  The scope of this information is broad, including locations of services, points of interest, physical features, to name a few.  The goal is that maintenance of the information will be done by the jurisdiction (city, department, agency) that provides the service.</p><p>A standard set of information about each location will be maintained and accessed by agencies and the public through all of the applications and maps that the County develops.</p>\n",
       "                </p>\n",
       "            </div>\n",
       "        </div>\n",
       "        "
      ],
      "text/plain": [
       "http://geohub.lacity.org/datasets/c493f3d44e97482e90ce9355019b1349_52\n",
       "School Districts\n",
       "<p>Location Management System (LMS) is County of Los Angeles GIS Program to maintain a single, comprehensive geographic database of locations countywide.  The scope of this information is broad, including locations of services, points of interest, physical features, to name a few.  The goal is that maintenance of the information will be done by the jurisdiction (city, department, agency) that provides the service.</p><p>A standard set of information about each location will be maintained and accessed by agencies and the public through all of the applications and maps that the County develops.</p>"
      ]
     },
     "metadata": {},
     "output_type": "display_data"
    },
    {
     "name": "stdout",
     "output_type": "stream",
     "text": [
      "\n",
      "\n",
      "\n"
     ]
    },
    {
     "data": {
      "text/html": [
       "\n",
       "        <h3>SRTS TOP 100 Middle School Attendance Boundaries 2018-19</h3>\n",
       "        <div style=\"display: flex; flex-direction: row; flex-wrap: wrap; height:256px\">\n",
       "            <div style=\"flex: 0 0 256px; padding-right: 24px\">\n",
       "                \n",
       "            <p><b>ID:</b><a href=\"http://geohub.lacity.org/datasets/9c326ff05b614c4c893739e1501d5af4_3\"> http://geohub.lacity.org/datasets/9c326ff05b614c4c893739e1501d5af4_3</a></p>\n",
       "            <p><b>Issued:</b> 2018-12-05T21:06:25.000Z</p>\n",
       "            <p><b>Last Modified:</b> 2019-03-14T20:30:31.031Z</p>\n",
       "            <p><b>Publisher:</b> City of Los Angeles Hub</p>\n",
       "            <p><b>License:</b> https://hub.arcgis.com/api/v2/datasets/9c326ff05b614c4c893739e1501d5af4_3/license</p>\n",
       "            <p><b>Download URL:</b><a href=\"http://geohub.lacity.org/datasets/9c326ff05b614c4c893739e1501d5af4_3.geojson\"> http://geohub.lacity.org/datasets/9c326ff05b614c4c893739e1501d5af4_3.geojson</a></p>\n",
       "        \n",
       "            </div>\n",
       "            <div style=\"flex: 1 1 0; height: 100%; overflow: auto\">\n",
       "                <p>\n",
       "                    This map features the top 100 SRTS school sites (Safe Route to School), school based attendance boundaries of the Los Angeles Unified School District. High school boundaries are shown in green, middle school boundaries are shown in blue, and elementary school boundaries are shown in red.  This map may be used to locate an address, and in turn identify the Top 100 SRTS (Safe Route to School) elementary, middle, and high school assignment associated with that address, given that the subject address is located within LAUSD's boundary.\n",
       "                </p>\n",
       "            </div>\n",
       "        </div>\n",
       "        "
      ],
      "text/plain": [
       "http://geohub.lacity.org/datasets/9c326ff05b614c4c893739e1501d5af4_3\n",
       "SRTS TOP 100 Middle School Attendance Boundaries 2018-19\n",
       "This map features the top 100 SRTS school sites (Safe Route to School), school based attendance boundaries of the Los Angeles Unified School District. High school boundaries are shown in green, middle school boundaries are shown in blue, and elementary school boundaries are shown in red.  This map may be used to locate an address, and in turn identify the Top 100 SRTS (Safe Route to School) elementary, middle, and high school assignment associated with that address, given that the subject address is located within LAUSD's boundary."
      ]
     },
     "metadata": {},
     "output_type": "display_data"
    },
    {
     "name": "stdout",
     "output_type": "stream",
     "text": [
      "\n",
      "\n",
      "\n"
     ]
    },
    {
     "data": {
      "text/html": [
       "\n",
       "        <h3>LACity Boundary</h3>\n",
       "        <div style=\"display: flex; flex-direction: row; flex-wrap: wrap; height:256px\">\n",
       "            <div style=\"flex: 0 0 256px; padding-right: 24px\">\n",
       "                \n",
       "            <p><b>ID:</b><a href=\"http://geohub.lacity.org/datasets/3b022cced9704108af157d3d5eedb268_3\"> http://geohub.lacity.org/datasets/3b022cced9704108af157d3d5eedb268_3</a></p>\n",
       "            <p><b>Issued:</b> 2018-11-26T21:31:23.000Z</p>\n",
       "            <p><b>Last Modified:</b> 2019-03-14T20:30:30.270Z</p>\n",
       "            <p><b>Publisher:</b> City of Los Angeles Hub</p>\n",
       "            <p><b>License:</b> https://hub.arcgis.com/api/v2/datasets/3b022cced9704108af157d3d5eedb268_3/license</p>\n",
       "            <p><b>Download URL:</b><a href=\"http://geohub.lacity.org/datasets/3b022cced9704108af157d3d5eedb268_3.geojson\"> http://geohub.lacity.org/datasets/3b022cced9704108af157d3d5eedb268_3.geojson</a></p>\n",
       "        \n",
       "            </div>\n",
       "            <div style=\"flex: 1 1 0; height: 100%; overflow: auto\">\n",
       "                <p>\n",
       "                    Bike Corrals on-street bicycle parking facility that can accommodate many more bicycles than a typical sidewalk rack. \n",
       "\n",
       "Bike Racks installed where possible in the public right-of-way bike parking as close to building entrances as possible to increase security and make travelling by bike convenient. \n",
       "\n",
       "Bike Repair stations provide basic bicycle repair capability to business districts and corridors that cater to bicyclists. Repair Stations feature a stand to mount a bicycle and contain the basic tools needed to perform do-it-yourself bicycle repair including screwdrivers, wrenches, and hex tools. Repair stations also feature a heavy duty bicycle pump with a pump head for both schrader and presta valves and connect users to detailed instructions for a wide variety of bicycle repairs-just a smart phone scan away.\n",
       "                </p>\n",
       "            </div>\n",
       "        </div>\n",
       "        "
      ],
      "text/plain": [
       "http://geohub.lacity.org/datasets/3b022cced9704108af157d3d5eedb268_3\n",
       "LACity Boundary\n",
       "Bike Corrals on-street bicycle parking facility that can accommodate many more bicycles than a typical sidewalk rack. \n",
       "\n",
       "Bike Racks installed where possible in the public right-of-way bike parking as close to building entrances as possible to increase security and make travelling by bike convenient. \n",
       "\n",
       "Bike Repair stations provide basic bicycle repair capability to business districts and corridors that cater to bicyclists. Repair Stations feature a stand to mount a bicycle and contain the basic tools needed to perform do-it-yourself bicycle repair including screwdrivers, wrenches, and hex tools. Repair stations also feature a heavy duty bicycle pump with a pump head for both schrader and presta valves and connect users to detailed instructions for a wide variety of bicycle repairs-just a smart phone scan away."
      ]
     },
     "metadata": {},
     "output_type": "display_data"
    },
    {
     "name": "stdout",
     "output_type": "stream",
     "text": [
      "\n",
      "\n",
      "\n"
     ]
    },
    {
     "data": {
      "text/html": [
       "\n",
       "        <h3>Bike Racks</h3>\n",
       "        <div style=\"display: flex; flex-direction: row; flex-wrap: wrap; height:256px\">\n",
       "            <div style=\"flex: 0 0 256px; padding-right: 24px\">\n",
       "                \n",
       "            <p><b>ID:</b><a href=\"http://geohub.lacity.org/datasets/3b022cced9704108af157d3d5eedb268_2\"> http://geohub.lacity.org/datasets/3b022cced9704108af157d3d5eedb268_2</a></p>\n",
       "            <p><b>Issued:</b> 2018-11-26T21:31:23.000Z</p>\n",
       "            <p><b>Last Modified:</b> 2019-03-14T20:29:57.052Z</p>\n",
       "            <p><b>Publisher:</b> City of Los Angeles Hub</p>\n",
       "            <p><b>License:</b> https://hub.arcgis.com/api/v2/datasets/3b022cced9704108af157d3d5eedb268_2/license</p>\n",
       "            <p><b>Download URL:</b><a href=\"http://geohub.lacity.org/datasets/3b022cced9704108af157d3d5eedb268_2.geojson\"> http://geohub.lacity.org/datasets/3b022cced9704108af157d3d5eedb268_2.geojson</a></p>\n",
       "        \n",
       "            </div>\n",
       "            <div style=\"flex: 1 1 0; height: 100%; overflow: auto\">\n",
       "                <p>\n",
       "                    Bike Corrals on-street bicycle parking facility that can accommodate many more bicycles than a typical sidewalk rack. \n",
       "\n",
       "Bike Racks installed where possible in the public right-of-way bike parking as close to building entrances as possible to increase security and make travelling by bike convenient. \n",
       "\n",
       "Bike Repair stations provide basic bicycle repair capability to business districts and corridors that cater to bicyclists. Repair Stations feature a stand to mount a bicycle and contain the basic tools needed to perform do-it-yourself bicycle repair including screwdrivers, wrenches, and hex tools. Repair stations also feature a heavy duty bicycle pump with a pump head for both schrader and presta valves and connect users to detailed instructions for a wide variety of bicycle repairs-just a smart phone scan away.\n",
       "                </p>\n",
       "            </div>\n",
       "        </div>\n",
       "        "
      ],
      "text/plain": [
       "http://geohub.lacity.org/datasets/3b022cced9704108af157d3d5eedb268_2\n",
       "Bike Racks\n",
       "Bike Corrals on-street bicycle parking facility that can accommodate many more bicycles than a typical sidewalk rack. \n",
       "\n",
       "Bike Racks installed where possible in the public right-of-way bike parking as close to building entrances as possible to increase security and make travelling by bike convenient. \n",
       "\n",
       "Bike Repair stations provide basic bicycle repair capability to business districts and corridors that cater to bicyclists. Repair Stations feature a stand to mount a bicycle and contain the basic tools needed to perform do-it-yourself bicycle repair including screwdrivers, wrenches, and hex tools. Repair stations also feature a heavy duty bicycle pump with a pump head for both schrader and presta valves and connect users to detailed instructions for a wide variety of bicycle repairs-just a smart phone scan away."
      ]
     },
     "metadata": {},
     "output_type": "display_data"
    },
    {
     "name": "stdout",
     "output_type": "stream",
     "text": [
      "\n",
      "\n",
      "\n"
     ]
    },
    {
     "data": {
      "text/html": [
       "\n",
       "        <h3>SRTS TOP 100 Elementary School Attendance Boundaries 2018-19</h3>\n",
       "        <div style=\"display: flex; flex-direction: row; flex-wrap: wrap; height:256px\">\n",
       "            <div style=\"flex: 0 0 256px; padding-right: 24px\">\n",
       "                \n",
       "            <p><b>ID:</b><a href=\"http://geohub.lacity.org/datasets/9c326ff05b614c4c893739e1501d5af4_2\"> http://geohub.lacity.org/datasets/9c326ff05b614c4c893739e1501d5af4_2</a></p>\n",
       "            <p><b>Issued:</b> 2018-12-05T21:06:25.000Z</p>\n",
       "            <p><b>Last Modified:</b> 2019-03-14T20:29:56.769Z</p>\n",
       "            <p><b>Publisher:</b> City of Los Angeles Hub</p>\n",
       "            <p><b>License:</b> https://hub.arcgis.com/api/v2/datasets/9c326ff05b614c4c893739e1501d5af4_2/license</p>\n",
       "            <p><b>Download URL:</b><a href=\"http://geohub.lacity.org/datasets/9c326ff05b614c4c893739e1501d5af4_2.geojson\"> http://geohub.lacity.org/datasets/9c326ff05b614c4c893739e1501d5af4_2.geojson</a></p>\n",
       "        \n",
       "            </div>\n",
       "            <div style=\"flex: 1 1 0; height: 100%; overflow: auto\">\n",
       "                <p>\n",
       "                    This map features the top 100 SRTS school sites (Safe Route to School), school based attendance boundaries of the Los Angeles Unified School District. High school boundaries are shown in green, middle school boundaries are shown in blue, and elementary school boundaries are shown in red.  This map may be used to locate an address, and in turn identify the Top 100 SRTS (Safe Route to School) elementary, middle, and high school assignment associated with that address, given that the subject address is located within LAUSD's boundary.\n",
       "                </p>\n",
       "            </div>\n",
       "        </div>\n",
       "        "
      ],
      "text/plain": [
       "http://geohub.lacity.org/datasets/9c326ff05b614c4c893739e1501d5af4_2\n",
       "SRTS TOP 100 Elementary School Attendance Boundaries 2018-19\n",
       "This map features the top 100 SRTS school sites (Safe Route to School), school based attendance boundaries of the Los Angeles Unified School District. High school boundaries are shown in green, middle school boundaries are shown in blue, and elementary school boundaries are shown in red.  This map may be used to locate an address, and in turn identify the Top 100 SRTS (Safe Route to School) elementary, middle, and high school assignment associated with that address, given that the subject address is located within LAUSD's boundary."
      ]
     },
     "metadata": {},
     "output_type": "display_data"
    },
    {
     "name": "stdout",
     "output_type": "stream",
     "text": [
      "\n",
      "\n",
      "\n"
     ]
    },
    {
     "data": {
      "text/html": [
       "\n",
       "        <h3>Bike Repairs</h3>\n",
       "        <div style=\"display: flex; flex-direction: row; flex-wrap: wrap; height:256px\">\n",
       "            <div style=\"flex: 0 0 256px; padding-right: 24px\">\n",
       "                \n",
       "            <p><b>ID:</b><a href=\"http://geohub.lacity.org/datasets/3b022cced9704108af157d3d5eedb268_1\"> http://geohub.lacity.org/datasets/3b022cced9704108af157d3d5eedb268_1</a></p>\n",
       "            <p><b>Issued:</b> 2018-11-26T21:31:23.000Z</p>\n",
       "            <p><b>Last Modified:</b> 2019-03-14T20:29:33.465Z</p>\n",
       "            <p><b>Publisher:</b> City of Los Angeles Hub</p>\n",
       "            <p><b>License:</b> https://hub.arcgis.com/api/v2/datasets/3b022cced9704108af157d3d5eedb268_1/license</p>\n",
       "            <p><b>Download URL:</b><a href=\"http://geohub.lacity.org/datasets/3b022cced9704108af157d3d5eedb268_1.geojson\"> http://geohub.lacity.org/datasets/3b022cced9704108af157d3d5eedb268_1.geojson</a></p>\n",
       "        \n",
       "            </div>\n",
       "            <div style=\"flex: 1 1 0; height: 100%; overflow: auto\">\n",
       "                <p>\n",
       "                    Bike Corrals on-street bicycle parking facility that can accommodate many more bicycles than a typical sidewalk rack. \n",
       "\n",
       "Bike Racks installed where possible in the public right-of-way bike parking as close to building entrances as possible to increase security and make travelling by bike convenient. \n",
       "\n",
       "Bike Repair stations provide basic bicycle repair capability to business districts and corridors that cater to bicyclists. Repair Stations feature a stand to mount a bicycle and contain the basic tools needed to perform do-it-yourself bicycle repair including screwdrivers, wrenches, and hex tools. Repair stations also feature a heavy duty bicycle pump with a pump head for both schrader and presta valves and connect users to detailed instructions for a wide variety of bicycle repairs-just a smart phone scan away.\n",
       "                </p>\n",
       "            </div>\n",
       "        </div>\n",
       "        "
      ],
      "text/plain": [
       "http://geohub.lacity.org/datasets/3b022cced9704108af157d3d5eedb268_1\n",
       "Bike Repairs\n",
       "Bike Corrals on-street bicycle parking facility that can accommodate many more bicycles than a typical sidewalk rack. \n",
       "\n",
       "Bike Racks installed where possible in the public right-of-way bike parking as close to building entrances as possible to increase security and make travelling by bike convenient. \n",
       "\n",
       "Bike Repair stations provide basic bicycle repair capability to business districts and corridors that cater to bicyclists. Repair Stations feature a stand to mount a bicycle and contain the basic tools needed to perform do-it-yourself bicycle repair including screwdrivers, wrenches, and hex tools. Repair stations also feature a heavy duty bicycle pump with a pump head for both schrader and presta valves and connect users to detailed instructions for a wide variety of bicycle repairs-just a smart phone scan away."
      ]
     },
     "metadata": {},
     "output_type": "display_data"
    },
    {
     "name": "stdout",
     "output_type": "stream",
     "text": [
      "\n",
      "\n",
      "\n"
     ]
    },
    {
     "data": {
      "text/html": [
       "\n",
       "        <h3>SRTS Top51to100</h3>\n",
       "        <div style=\"display: flex; flex-direction: row; flex-wrap: wrap; height:256px\">\n",
       "            <div style=\"flex: 0 0 256px; padding-right: 24px\">\n",
       "                \n",
       "            <p><b>ID:</b><a href=\"http://geohub.lacity.org/datasets/9c326ff05b614c4c893739e1501d5af4_1\"> http://geohub.lacity.org/datasets/9c326ff05b614c4c893739e1501d5af4_1</a></p>\n",
       "            <p><b>Issued:</b> 2018-12-05T21:06:25.000Z</p>\n",
       "            <p><b>Last Modified:</b> 2019-03-14T20:29:28.371Z</p>\n",
       "            <p><b>Publisher:</b> City of Los Angeles Hub</p>\n",
       "            <p><b>License:</b> https://hub.arcgis.com/api/v2/datasets/9c326ff05b614c4c893739e1501d5af4_1/license</p>\n",
       "            <p><b>Download URL:</b><a href=\"http://geohub.lacity.org/datasets/9c326ff05b614c4c893739e1501d5af4_1.geojson\"> http://geohub.lacity.org/datasets/9c326ff05b614c4c893739e1501d5af4_1.geojson</a></p>\n",
       "        \n",
       "            </div>\n",
       "            <div style=\"flex: 1 1 0; height: 100%; overflow: auto\">\n",
       "                <p>\n",
       "                    This map features the top 100 SRTS school sites (Safe Route to School), school based attendance boundaries of the Los Angeles Unified School District. High school boundaries are shown in green, middle school boundaries are shown in blue, and elementary school boundaries are shown in red.  This map may be used to locate an address, and in turn identify the Top 100 SRTS (Safe Route to School) elementary, middle, and high school assignment associated with that address, given that the subject address is located within LAUSD's boundary.\n",
       "                </p>\n",
       "            </div>\n",
       "        </div>\n",
       "        "
      ],
      "text/plain": [
       "http://geohub.lacity.org/datasets/9c326ff05b614c4c893739e1501d5af4_1\n",
       "SRTS Top51to100\n",
       "This map features the top 100 SRTS school sites (Safe Route to School), school based attendance boundaries of the Los Angeles Unified School District. High school boundaries are shown in green, middle school boundaries are shown in blue, and elementary school boundaries are shown in red.  This map may be used to locate an address, and in turn identify the Top 100 SRTS (Safe Route to School) elementary, middle, and high school assignment associated with that address, given that the subject address is located within LAUSD's boundary."
      ]
     },
     "metadata": {},
     "output_type": "display_data"
    },
    {
     "name": "stdout",
     "output_type": "stream",
     "text": [
      "\n",
      "\n",
      "\n"
     ]
    },
    {
     "data": {
      "text/html": [
       "\n",
       "        <h3>Neighborhoods Without Walking Paths or Access to Open Space (2011 &amp; 2015)</h3>\n",
       "        <div style=\"display: flex; flex-direction: row; flex-wrap: wrap; height:256px\">\n",
       "            <div style=\"flex: 0 0 256px; padding-right: 24px\">\n",
       "                \n",
       "            <p><b>ID:</b><a href=\"http://geohub.lacity.org/datasets/a99c22c5bca44f4595bffed723d058f3_0\"> http://geohub.lacity.org/datasets/a99c22c5bca44f4595bffed723d058f3_0</a></p>\n",
       "            <p><b>Issued:</b> 2016-08-03T20:40:49.000Z</p>\n",
       "            <p><b>Last Modified:</b> 2019-03-14T20:29:09.721Z</p>\n",
       "            <p><b>Publisher:</b> City of Los Angeles Hub</p>\n",
       "            <p><b>License:</b> https://hub.arcgis.com/api/v2/datasets/a99c22c5bca44f4595bffed723d058f3_0/license</p>\n",
       "            <p><b>Download URL:</b><a href=\"http://geohub.lacity.org/datasets/a99c22c5bca44f4595bffed723d058f3_0.geojson\"> http://geohub.lacity.org/datasets/a99c22c5bca44f4595bffed723d058f3_0.geojson</a></p>\n",
       "        \n",
       "            </div>\n",
       "            <div style=\"flex: 1 1 0; height: 100%; overflow: auto\">\n",
       "                <p>\n",
       "                    <p>Percent of adults (18+ years old) who reported that their neighborhoods do not have walking paths, parks, playgrounds, or sports fields</p><p> </p><p>Data Source: 2011 &amp; 2015 Los Angeles County Health Survey; Office of Health Assessment and Epidemiology, Los Angeles County Department of Public Health.</p><p> </p><p>FAQS</p><p> </p><p>1) What is the Los Angeles County Health Survey (LACHS)?</p><p> </p><p>The Los Angeles County Health Survey is a population based telephone survey that provides information concerning the health of Los Angeles County residents. The data are used for assessing health-related needs of the population, for program planning and policy development, and for program evaluation. The relatively large sample size allows users to obtain health indicator data for large demographic subgroups and across geographic regions of the County, including Service Planning Areas and Health Districts. </p><p> </p><p>Produced by Los Angeles County Department of Public Health, Office of Health Assessment and Epidemiology (OHAE) www.publichealth.lacounty.gov/ha</p><p> </p><p>2) What are the sample sizes of the 2011 and 2015 LACHS?</p><p> </p><p>Estimates are based on self-reported data by random samples of 8,036 (from 2011 survey) and 8,008 (from 2015 survey) Los Angeles County adults, representative of the adult population in Los Angeles County.</p><p> </p><p>3) What does the 95% CI mean?</p><p> </p><p>The 95% confidence intervals (CI) represent the variability in the estimate due to sampling; the actual prevalence in the population, 95 out of 100 times sampled, would fall within the range provided.</p><p> </p><p>4) What is the prevalence and confidence intervals (CIs) for Los Angeles County and the City of Los Angeles?</p><p> </p><p>Findings for the County of Los Angeles: (14.7%; 95% CI=14.0-15.5)</p><p>Findings for the City of Los Angeles: (18.0%; 95% CI=16.7-19.3)</p><p> </p><p> </p><p>&quot;Field Name&quot; = Field Definition</p><p><br /></p><p>&quot;CPA_NUM&quot; =  Unique identifier for each Community Plan Area</p><p><br /></p><p>&quot;NAME_ALF&quot; =  the 35 Community Plan Areas, LAX Plan Area, and the Port of Los Angeles Plan Area</p><p> </p><p>&quot;Stable_est&quot;  =  (Yes) the estimate is statistically stable (relative standard error ≤ 30%) (No) the estimate is statistically unstable (relative standard error &gt;30%) and therefore may not be appropriate to use for planning or policy purposes</p><p> </p><p>&quot;LowerCL&quot;  =  the lower 95% confidence limit represents the lower margin of error that occurs with statistical sampling</p><p> </p><p>&quot;UpperCL&quot;  =  the upper 95% confidence limit  represents the upper margin of error that occurs in statistical sampling</p><p><br /></p><p>&quot;Percent&quot;  = percentage of adults (18+ years old) whose neighborhoods do not have walking paths, parks, playgrounds, or sports fields<br /></p><div><br /></div>\n",
       "                </p>\n",
       "            </div>\n",
       "        </div>\n",
       "        "
      ],
      "text/plain": [
       "http://geohub.lacity.org/datasets/a99c22c5bca44f4595bffed723d058f3_0\n",
       "Neighborhoods Without Walking Paths or Access to Open Space (2011 &amp; 2015)\n",
       "<p>Percent of adults (18+ years old) who reported that their neighborhoods do not have walking paths, parks, playgrounds, or sports fields</p><p> </p><p>Data Source: 2011 &amp; 2015 Los Angeles County Health Survey; Office of Health Assessment and Epidemiology, Los Angeles County Department of Public Health.</p><p> </p><p>FAQS</p><p> </p><p>1) What is the Los Angeles County Health Survey (LACHS)?</p><p> </p><p>The Los Angeles County Health Survey is a population based telephone survey that provides information concerning the health of Los Angeles County residents. The data are used for assessing health-related needs of the population, for program planning and policy development, and for program evaluation. The relatively large sample size allows users to obtain health indicator data for large demographic subgroups and across geographic regions of the County, including Service Planning Areas and Health Districts. </p><p> </p><p>Produced by Los Angeles County Department of Public Health, Office of Health Assessment and Epidemiology (OHAE) www.publichealth.lacounty.gov/ha</p><p> </p><p>2) What are the sample sizes of the 2011 and 2015 LACHS?</p><p> </p><p>Estimates are based on self-reported data by random samples of 8,036 (from 2011 survey) and 8,008 (from 2015 survey) Los Angeles County adults, representative of the adult population in Los Angeles County.</p><p> </p><p>3) What does the 95% CI mean?</p><p> </p><p>The 95% confidence intervals (CI) represent the variability in the estimate due to sampling; the actual prevalence in the population, 95 out of 100 times sampled, would fall within the range provided.</p><p> </p><p>4) What is the prevalence and confidence intervals (CIs) for Los Angeles County and the City of Los Angeles?</p><p> </p><p>Findings for the County of Los Angeles: (14.7%; 95% CI=14.0-15.5)</p><p>Findings for the City of Los Angeles: (18.0%; 95% CI=16.7-19.3)</p><p> </p><p> </p><p>&quot;Field Name&quot; = Field Definition</p><p><br /></p><p>&quot;CPA_NUM&quot; =  Unique identifier for each Community Plan Area</p><p><br /></p><p>&quot;NAME_ALF&quot; =  the 35 Community Plan Areas, LAX Plan Area, and the Port of Los Angeles Plan Area</p><p> </p><p>&quot;Stable_est&quot;  =  (Yes) the estimate is statistically stable (relative standard error ≤ 30%) (No) the estimate is statistically unstable (relative standard error &gt;30%) and therefore may not be appropriate to use for planning or policy purposes</p><p> </p><p>&quot;LowerCL&quot;  =  the lower 95% confidence limit represents the lower margin of error that occurs with statistical sampling</p><p> </p><p>&quot;UpperCL&quot;  =  the upper 95% confidence limit  represents the upper margin of error that occurs in statistical sampling</p><p><br /></p><p>&quot;Percent&quot;  = percentage of adults (18+ years old) whose neighborhoods do not have walking paths, parks, playgrounds, or sports fields<br /></p><div><br /></div>"
      ]
     },
     "metadata": {},
     "output_type": "display_data"
    },
    {
     "name": "stdout",
     "output_type": "stream",
     "text": [
      "\n",
      "\n",
      "\n"
     ]
    },
    {
     "data": {
      "text/html": [
       "\n",
       "        <h3>Bike Corrals</h3>\n",
       "        <div style=\"display: flex; flex-direction: row; flex-wrap: wrap; height:256px\">\n",
       "            <div style=\"flex: 0 0 256px; padding-right: 24px\">\n",
       "                \n",
       "            <p><b>ID:</b><a href=\"http://geohub.lacity.org/datasets/3b022cced9704108af157d3d5eedb268_0\"> http://geohub.lacity.org/datasets/3b022cced9704108af157d3d5eedb268_0</a></p>\n",
       "            <p><b>Issued:</b> 2018-11-26T21:31:23.000Z</p>\n",
       "            <p><b>Last Modified:</b> 2019-03-14T20:29:09.685Z</p>\n",
       "            <p><b>Publisher:</b> City of Los Angeles Hub</p>\n",
       "            <p><b>License:</b> https://hub.arcgis.com/api/v2/datasets/3b022cced9704108af157d3d5eedb268_0/license</p>\n",
       "            <p><b>Download URL:</b><a href=\"http://geohub.lacity.org/datasets/3b022cced9704108af157d3d5eedb268_0.geojson\"> http://geohub.lacity.org/datasets/3b022cced9704108af157d3d5eedb268_0.geojson</a></p>\n",
       "        \n",
       "            </div>\n",
       "            <div style=\"flex: 1 1 0; height: 100%; overflow: auto\">\n",
       "                <p>\n",
       "                    Bike Corrals on-street bicycle parking facility that can accommodate many more bicycles than a typical sidewalk rack. \n",
       "\n",
       "Bike Racks installed where possible in the public right-of-way bike parking as close to building entrances as possible to increase security and make travelling by bike convenient. \n",
       "\n",
       "Bike Repair stations provide basic bicycle repair capability to business districts and corridors that cater to bicyclists. Repair Stations feature a stand to mount a bicycle and contain the basic tools needed to perform do-it-yourself bicycle repair including screwdrivers, wrenches, and hex tools. Repair stations also feature a heavy duty bicycle pump with a pump head for both schrader and presta valves and connect users to detailed instructions for a wide variety of bicycle repairs-just a smart phone scan away.\n",
       "                </p>\n",
       "            </div>\n",
       "        </div>\n",
       "        "
      ],
      "text/plain": [
       "http://geohub.lacity.org/datasets/3b022cced9704108af157d3d5eedb268_0\n",
       "Bike Corrals\n",
       "Bike Corrals on-street bicycle parking facility that can accommodate many more bicycles than a typical sidewalk rack. \n",
       "\n",
       "Bike Racks installed where possible in the public right-of-way bike parking as close to building entrances as possible to increase security and make travelling by bike convenient. \n",
       "\n",
       "Bike Repair stations provide basic bicycle repair capability to business districts and corridors that cater to bicyclists. Repair Stations feature a stand to mount a bicycle and contain the basic tools needed to perform do-it-yourself bicycle repair including screwdrivers, wrenches, and hex tools. Repair stations also feature a heavy duty bicycle pump with a pump head for both schrader and presta valves and connect users to detailed instructions for a wide variety of bicycle repairs-just a smart phone scan away."
      ]
     },
     "metadata": {},
     "output_type": "display_data"
    },
    {
     "name": "stdout",
     "output_type": "stream",
     "text": [
      "\n",
      "\n",
      "\n"
     ]
    },
    {
     "data": {
      "text/html": [
       "\n",
       "        <h3>Neighborhoods Considered Safe from Crime (2011 &amp; 2015)</h3>\n",
       "        <div style=\"display: flex; flex-direction: row; flex-wrap: wrap; height:256px\">\n",
       "            <div style=\"flex: 0 0 256px; padding-right: 24px\">\n",
       "                \n",
       "            <p><b>ID:</b><a href=\"http://geohub.lacity.org/datasets/98b2af87ded940ba8915b4e33f64fceb_1\"> http://geohub.lacity.org/datasets/98b2af87ded940ba8915b4e33f64fceb_1</a></p>\n",
       "            <p><b>Issued:</b> 2016-07-28T21:19:53.000Z</p>\n",
       "            <p><b>Last Modified:</b> 2019-03-14T20:29:09.350Z</p>\n",
       "            <p><b>Publisher:</b> City of Los Angeles Hub</p>\n",
       "            <p><b>License:</b> https://hub.arcgis.com/api/v2/datasets/98b2af87ded940ba8915b4e33f64fceb_1/license</p>\n",
       "            <p><b>Download URL:</b><a href=\"http://geohub.lacity.org/datasets/98b2af87ded940ba8915b4e33f64fceb_1.geojson\"> http://geohub.lacity.org/datasets/98b2af87ded940ba8915b4e33f64fceb_1.geojson</a></p>\n",
       "        \n",
       "            </div>\n",
       "            <div style=\"flex: 1 1 0; height: 100%; overflow: auto\">\n",
       "                <p>\n",
       "                    <p>Percent of adults (18+ years old) who reported considering their neighborhood to be safe from crime </p><p> </p><p>Data Source: 2011 &amp; 2015 Los Angeles County Health Survey; Office of Health Assessment and Epidemiology, Los Angeles County Department of Public Health.</p><p> </p><p>FAQS</p><p> </p><p>1) What is the Los Angeles County Health Survey (LACHS)?</p><p> </p><p>The Los Angeles County Health Survey is a population based telephone survey that provides information concerning the health of Los Angeles County residents. The data are used for assessing health-related needs of the population, for program planning and policy development, and for program evaluation. The relatively large sample size allows users to obtain health indicator data for large demographic subgroups and across geographic regions of the County, including Service Planning Areas and Health Districts. </p><p> </p><p>Produced by Los Angeles County Department of Public Health, Office of Health Assessment and Epidemiology (OHAE) <a href=\"http://www.publichealth.lacounty.gov/ha\">www.publichealth.lacounty.gov/ha</a></p><p> </p><p>2) What are the sample sizes of the 2011 and 2015 LACHS?</p><p> </p><p>Estimates are based on self-reported data by random samples of 8,036 (from 2011 survey) and 8,008 (from 2015 survey) Los Angeles County adults, representative of the adult population in Los Angeles County.</p><p> </p><p>3) What does the 95% CI mean?</p><p> </p><p>The 95% confidence intervals (CI) represent the variability in the estimate due to sampling; the actual prevalence in the population, 95 out of 100 times sampled, would fall within the range provided.</p><p> </p><p>4) What is the prevalence and confidence intervals (CIs) for Los Angeles County and Los Angeles City?</p><p> </p><p>Findings for the County of Los Angeles: (84.1%; 95% CI=81.8-86.5)</p><p>Findings for the City of Los Angeles: (79.9%; 95% CI=75.9-84.0)</p><p> </p><p> </p><p>Note:</p><p>For purposes of confidentiality, Community Plan Area results with cell sizes less than 5 are not reported and are excluded from the map display.</p><p> </p><p> </p><p>&quot;Field Name&quot; = Field Definition</p><p> </p><p>“CPA_NUM” = Unique identifier for each Community Plan Area</p><p> </p><p> &quot;NAME_ALF&quot; =  the 35 Community Plan Areas, LAX Plan Area, and the Port of Los Angeles Plan Area</p><p> </p><p>&quot;Percent&quot;  = percentage of adults (18+ years old) whose reported considering their neighborhood to be safe from crime</p><p> </p><p>&quot;Stable_est&quot;  =  (Yes) the estimate is statistically stable (relative standard error ≤ 30%) (No) the estimate is statistically unstable (relative standard error &gt;30%) and therefore may not be appropriate to use for planning or policy purposes</p><p> </p><p>&quot;LowerCL&quot;  =  the lower 95% confidence limit represents the lower margin of error that occurs with statistical sampling</p><p> </p><p></p><p>&quot;UpperCL&quot;  =  the upper 95% confidence limit  represents the upper margin of error that occurs in statistical sampling</p><div><br /></div>\n",
       "                </p>\n",
       "            </div>\n",
       "        </div>\n",
       "        "
      ],
      "text/plain": [
       "http://geohub.lacity.org/datasets/98b2af87ded940ba8915b4e33f64fceb_1\n",
       "Neighborhoods Considered Safe from Crime (2011 &amp; 2015)\n",
       "<p>Percent of adults (18+ years old) who reported considering their neighborhood to be safe from crime </p><p> </p><p>Data Source: 2011 &amp; 2015 Los Angeles County Health Survey; Office of Health Assessment and Epidemiology, Los Angeles County Department of Public Health.</p><p> </p><p>FAQS</p><p> </p><p>1) What is the Los Angeles County Health Survey (LACHS)?</p><p> </p><p>The Los Angeles County Health Survey is a population based telephone survey that provides information concerning the health of Los Angeles County residents. The data are used for assessing health-related needs of the population, for program planning and policy development, and for program evaluation. The relatively large sample size allows users to obtain health indicator data for large demographic subgroups and across geographic regions of the County, including Service Planning Areas and Health Districts. </p><p> </p><p>Produced by Los Angeles County Department of Public Health, Office of Health Assessment and Epidemiology (OHAE) <a href=\"http://www.publichealth.lacounty.gov/ha\">www.publichealth.lacounty.gov/ha</a></p><p> </p><p>2) What are the sample sizes of the 2011 and 2015 LACHS?</p><p> </p><p>Estimates are based on self-reported data by random samples of 8,036 (from 2011 survey) and 8,008 (from 2015 survey) Los Angeles County adults, representative of the adult population in Los Angeles County.</p><p> </p><p>3) What does the 95% CI mean?</p><p> </p><p>The 95% confidence intervals (CI) represent the variability in the estimate due to sampling; the actual prevalence in the population, 95 out of 100 times sampled, would fall within the range provided.</p><p> </p><p>4) What is the prevalence and confidence intervals (CIs) for Los Angeles County and Los Angeles City?</p><p> </p><p>Findings for the County of Los Angeles: (84.1%; 95% CI=81.8-86.5)</p><p>Findings for the City of Los Angeles: (79.9%; 95% CI=75.9-84.0)</p><p> </p><p> </p><p>Note:</p><p>For purposes of confidentiality, Community Plan Area results with cell sizes less than 5 are not reported and are excluded from the map display.</p><p> </p><p> </p><p>&quot;Field Name&quot; = Field Definition</p><p> </p><p>“CPA_NUM” = Unique identifier for each Community Plan Area</p><p> </p><p> &quot;NAME_ALF&quot; =  the 35 Community Plan Areas, LAX Plan Area, and the Port of Los Angeles Plan Area</p><p> </p><p>&quot;Percent&quot;  = percentage of adults (18+ years old) whose reported considering their neighborhood to be safe from crime</p><p> </p><p>&quot;Stable_est&quot;  =  (Yes) the estimate is statistically stable (relative standard error ≤ 30%) (No) the estimate is statistically unstable (relative standard error &gt;30%) and therefore may not be appropriate to use for planning or policy purposes</p><p> </p><p>&quot;LowerCL&quot;  =  the lower 95% confidence limit represents the lower margin of error that occurs with statistical sampling</p><p> </p><p></p><p>&quot;UpperCL&quot;  =  the upper 95% confidence limit  represents the upper margin of error that occurs in statistical sampling</p><div><br /></div>"
      ]
     },
     "metadata": {},
     "output_type": "display_data"
    },
    {
     "name": "stdout",
     "output_type": "stream",
     "text": [
      "\n",
      "\n",
      "\n"
     ]
    },
    {
     "data": {
      "text/html": [
       "\n",
       "        <h3>SRTS Top50</h3>\n",
       "        <div style=\"display: flex; flex-direction: row; flex-wrap: wrap; height:256px\">\n",
       "            <div style=\"flex: 0 0 256px; padding-right: 24px\">\n",
       "                \n",
       "            <p><b>ID:</b><a href=\"http://geohub.lacity.org/datasets/9c326ff05b614c4c893739e1501d5af4_0\"> http://geohub.lacity.org/datasets/9c326ff05b614c4c893739e1501d5af4_0</a></p>\n",
       "            <p><b>Issued:</b> 2018-12-05T21:06:25.000Z</p>\n",
       "            <p><b>Last Modified:</b> 2019-03-14T20:29:09.017Z</p>\n",
       "            <p><b>Publisher:</b> City of Los Angeles Hub</p>\n",
       "            <p><b>License:</b> https://hub.arcgis.com/api/v2/datasets/9c326ff05b614c4c893739e1501d5af4_0/license</p>\n",
       "            <p><b>Download URL:</b><a href=\"http://geohub.lacity.org/datasets/9c326ff05b614c4c893739e1501d5af4_0.geojson\"> http://geohub.lacity.org/datasets/9c326ff05b614c4c893739e1501d5af4_0.geojson</a></p>\n",
       "        \n",
       "            </div>\n",
       "            <div style=\"flex: 1 1 0; height: 100%; overflow: auto\">\n",
       "                <p>\n",
       "                    This map features the top 100 SRTS school sites (Safe Route to School), school based attendance boundaries of the Los Angeles Unified School District. High school boundaries are shown in green, middle school boundaries are shown in blue, and elementary school boundaries are shown in red.  This map may be used to locate an address, and in turn identify the Top 100 SRTS (Safe Route to School) elementary, middle, and high school assignment associated with that address, given that the subject address is located within LAUSD's boundary.\n",
       "                </p>\n",
       "            </div>\n",
       "        </div>\n",
       "        "
      ],
      "text/plain": [
       "http://geohub.lacity.org/datasets/9c326ff05b614c4c893739e1501d5af4_0\n",
       "SRTS Top50\n",
       "This map features the top 100 SRTS school sites (Safe Route to School), school based attendance boundaries of the Los Angeles Unified School District. High school boundaries are shown in green, middle school boundaries are shown in blue, and elementary school boundaries are shown in red.  This map may be used to locate an address, and in turn identify the Top 100 SRTS (Safe Route to School) elementary, middle, and high school assignment associated with that address, given that the subject address is located within LAUSD's boundary."
      ]
     },
     "metadata": {},
     "output_type": "display_data"
    },
    {
     "name": "stdout",
     "output_type": "stream",
     "text": [
      "\n",
      "\n",
      "\n"
     ]
    },
    {
     "data": {
      "text/html": [
       "\n",
       "        <h3>LAUSD Boundary</h3>\n",
       "        <div style=\"display: flex; flex-direction: row; flex-wrap: wrap; height:256px\">\n",
       "            <div style=\"flex: 0 0 256px; padding-right: 24px\">\n",
       "                \n",
       "            <p><b>ID:</b><a href=\"http://geohub.lacity.org/datasets/9c326ff05b614c4c893739e1501d5af4_9\"> http://geohub.lacity.org/datasets/9c326ff05b614c4c893739e1501d5af4_9</a></p>\n",
       "            <p><b>Issued:</b> 2018-12-05T21:06:25.000Z</p>\n",
       "            <p><b>Last Modified:</b> 2018-12-05T21:06:43.171Z</p>\n",
       "            <p><b>Publisher:</b> City of Los Angeles Hub</p>\n",
       "            <p><b>License:</b> https://hub.arcgis.com/api/v2/datasets/9c326ff05b614c4c893739e1501d5af4_9/license</p>\n",
       "            <p><b>Download URL:</b><a href=\"http://geohub.lacity.org/datasets/9c326ff05b614c4c893739e1501d5af4_9.geojson\"> http://geohub.lacity.org/datasets/9c326ff05b614c4c893739e1501d5af4_9.geojson</a></p>\n",
       "        \n",
       "            </div>\n",
       "            <div style=\"flex: 1 1 0; height: 100%; overflow: auto\">\n",
       "                <p>\n",
       "                    This map features the top 100 SRTS school sites (Safe Route to School), school based attendance boundaries of the Los Angeles Unified School District. High school boundaries are shown in green, middle school boundaries are shown in blue, and elementary school boundaries are shown in red.  This map may be used to locate an address, and in turn identify the Top 100 SRTS (Safe Route to School) elementary, middle, and high school assignment associated with that address, given that the subject address is located within LAUSD's boundary.\n",
       "                </p>\n",
       "            </div>\n",
       "        </div>\n",
       "        "
      ],
      "text/plain": [
       "http://geohub.lacity.org/datasets/9c326ff05b614c4c893739e1501d5af4_9\n",
       "LAUSD Boundary\n",
       "This map features the top 100 SRTS school sites (Safe Route to School), school based attendance boundaries of the Los Angeles Unified School District. High school boundaries are shown in green, middle school boundaries are shown in blue, and elementary school boundaries are shown in red.  This map may be used to locate an address, and in turn identify the Top 100 SRTS (Safe Route to School) elementary, middle, and high school assignment associated with that address, given that the subject address is located within LAUSD's boundary."
      ]
     },
     "metadata": {},
     "output_type": "display_data"
    },
    {
     "name": "stdout",
     "output_type": "stream",
     "text": [
      "\n",
      "\n",
      "\n"
     ]
    },
    {
     "data": {
      "text/html": [
       "\n",
       "        <h3>Lausd Board  of Education Districts</h3>\n",
       "        <div style=\"display: flex; flex-direction: row; flex-wrap: wrap; height:256px\">\n",
       "            <div style=\"flex: 0 0 256px; padding-right: 24px\">\n",
       "                \n",
       "            <p><b>ID:</b><a href=\"http://geohub.lacity.org/datasets/9c326ff05b614c4c893739e1501d5af4_8\"> http://geohub.lacity.org/datasets/9c326ff05b614c4c893739e1501d5af4_8</a></p>\n",
       "            <p><b>Issued:</b> 2018-12-05T21:06:25.000Z</p>\n",
       "            <p><b>Last Modified:</b> 2018-12-05T21:06:42.965Z</p>\n",
       "            <p><b>Publisher:</b> City of Los Angeles Hub</p>\n",
       "            <p><b>License:</b> https://hub.arcgis.com/api/v2/datasets/9c326ff05b614c4c893739e1501d5af4_8/license</p>\n",
       "            <p><b>Download URL:</b><a href=\"http://geohub.lacity.org/datasets/9c326ff05b614c4c893739e1501d5af4_8.geojson\"> http://geohub.lacity.org/datasets/9c326ff05b614c4c893739e1501d5af4_8.geojson</a></p>\n",
       "        \n",
       "            </div>\n",
       "            <div style=\"flex: 1 1 0; height: 100%; overflow: auto\">\n",
       "                <p>\n",
       "                    This map features the top 100 SRTS school sites (Safe Route to School), school based attendance boundaries of the Los Angeles Unified School District. High school boundaries are shown in green, middle school boundaries are shown in blue, and elementary school boundaries are shown in red.  This map may be used to locate an address, and in turn identify the Top 100 SRTS (Safe Route to School) elementary, middle, and high school assignment associated with that address, given that the subject address is located within LAUSD's boundary.\n",
       "                </p>\n",
       "            </div>\n",
       "        </div>\n",
       "        "
      ],
      "text/plain": [
       "http://geohub.lacity.org/datasets/9c326ff05b614c4c893739e1501d5af4_8\n",
       "Lausd Board  of Education Districts\n",
       "This map features the top 100 SRTS school sites (Safe Route to School), school based attendance boundaries of the Los Angeles Unified School District. High school boundaries are shown in green, middle school boundaries are shown in blue, and elementary school boundaries are shown in red.  This map may be used to locate an address, and in turn identify the Top 100 SRTS (Safe Route to School) elementary, middle, and high school assignment associated with that address, given that the subject address is located within LAUSD's boundary."
      ]
     },
     "metadata": {},
     "output_type": "display_data"
    },
    {
     "name": "stdout",
     "output_type": "stream",
     "text": [
      "\n",
      "\n",
      "\n"
     ]
    },
    {
     "data": {
      "text/html": [
       "\n",
       "        <h3>Lausd Local Districts</h3>\n",
       "        <div style=\"display: flex; flex-direction: row; flex-wrap: wrap; height:256px\">\n",
       "            <div style=\"flex: 0 0 256px; padding-right: 24px\">\n",
       "                \n",
       "            <p><b>ID:</b><a href=\"http://geohub.lacity.org/datasets/9c326ff05b614c4c893739e1501d5af4_7\"> http://geohub.lacity.org/datasets/9c326ff05b614c4c893739e1501d5af4_7</a></p>\n",
       "            <p><b>Issued:</b> 2018-12-05T21:06:25.000Z</p>\n",
       "            <p><b>Last Modified:</b> 2018-12-05T21:06:38.994Z</p>\n",
       "            <p><b>Publisher:</b> City of Los Angeles Hub</p>\n",
       "            <p><b>License:</b> https://hub.arcgis.com/api/v2/datasets/9c326ff05b614c4c893739e1501d5af4_7/license</p>\n",
       "            <p><b>Download URL:</b><a href=\"http://geohub.lacity.org/datasets/9c326ff05b614c4c893739e1501d5af4_7.geojson\"> http://geohub.lacity.org/datasets/9c326ff05b614c4c893739e1501d5af4_7.geojson</a></p>\n",
       "        \n",
       "            </div>\n",
       "            <div style=\"flex: 1 1 0; height: 100%; overflow: auto\">\n",
       "                <p>\n",
       "                    This map features the top 100 SRTS school sites (Safe Route to School), school based attendance boundaries of the Los Angeles Unified School District. High school boundaries are shown in green, middle school boundaries are shown in blue, and elementary school boundaries are shown in red.  This map may be used to locate an address, and in turn identify the Top 100 SRTS (Safe Route to School) elementary, middle, and high school assignment associated with that address, given that the subject address is located within LAUSD's boundary.\n",
       "                </p>\n",
       "            </div>\n",
       "        </div>\n",
       "        "
      ],
      "text/plain": [
       "http://geohub.lacity.org/datasets/9c326ff05b614c4c893739e1501d5af4_7\n",
       "Lausd Local Districts\n",
       "This map features the top 100 SRTS school sites (Safe Route to School), school based attendance boundaries of the Los Angeles Unified School District. High school boundaries are shown in green, middle school boundaries are shown in blue, and elementary school boundaries are shown in red.  This map may be used to locate an address, and in turn identify the Top 100 SRTS (Safe Route to School) elementary, middle, and high school assignment associated with that address, given that the subject address is located within LAUSD's boundary."
      ]
     },
     "metadata": {},
     "output_type": "display_data"
    },
    {
     "name": "stdout",
     "output_type": "stream",
     "text": [
      "\n",
      "\n",
      "\n"
     ]
    },
    {
     "data": {
      "text/html": [
       "\n",
       "        <h3>Crossing Guard Boundaries</h3>\n",
       "        <div style=\"display: flex; flex-direction: row; flex-wrap: wrap; height:256px\">\n",
       "            <div style=\"flex: 0 0 256px; padding-right: 24px\">\n",
       "                \n",
       "            <p><b>ID:</b><a href=\"http://geohub.lacity.org/datasets/9c326ff05b614c4c893739e1501d5af4_6\"> http://geohub.lacity.org/datasets/9c326ff05b614c4c893739e1501d5af4_6</a></p>\n",
       "            <p><b>Issued:</b> 2018-12-05T21:06:25.000Z</p>\n",
       "            <p><b>Last Modified:</b> 2018-12-05T21:06:38.822Z</p>\n",
       "            <p><b>Publisher:</b> City of Los Angeles Hub</p>\n",
       "            <p><b>License:</b> https://hub.arcgis.com/api/v2/datasets/9c326ff05b614c4c893739e1501d5af4_6/license</p>\n",
       "            <p><b>Download URL:</b><a href=\"http://geohub.lacity.org/datasets/9c326ff05b614c4c893739e1501d5af4_6.geojson\"> http://geohub.lacity.org/datasets/9c326ff05b614c4c893739e1501d5af4_6.geojson</a></p>\n",
       "        \n",
       "            </div>\n",
       "            <div style=\"flex: 1 1 0; height: 100%; overflow: auto\">\n",
       "                <p>\n",
       "                    This map features the top 100 SRTS school sites (Safe Route to School), school based attendance boundaries of the Los Angeles Unified School District. High school boundaries are shown in green, middle school boundaries are shown in blue, and elementary school boundaries are shown in red.  This map may be used to locate an address, and in turn identify the Top 100 SRTS (Safe Route to School) elementary, middle, and high school assignment associated with that address, given that the subject address is located within LAUSD's boundary.\n",
       "                </p>\n",
       "            </div>\n",
       "        </div>\n",
       "        "
      ],
      "text/plain": [
       "http://geohub.lacity.org/datasets/9c326ff05b614c4c893739e1501d5af4_6\n",
       "Crossing Guard Boundaries\n",
       "This map features the top 100 SRTS school sites (Safe Route to School), school based attendance boundaries of the Los Angeles Unified School District. High school boundaries are shown in green, middle school boundaries are shown in blue, and elementary school boundaries are shown in red.  This map may be used to locate an address, and in turn identify the Top 100 SRTS (Safe Route to School) elementary, middle, and high school assignment associated with that address, given that the subject address is located within LAUSD's boundary."
      ]
     },
     "metadata": {},
     "output_type": "display_data"
    },
    {
     "name": "stdout",
     "output_type": "stream",
     "text": [
      "\n",
      "\n",
      "\n"
     ]
    },
    {
     "data": {
      "text/html": [
       "\n",
       "        <h3>SRTS Top 100 1/4 Mile Buffer</h3>\n",
       "        <div style=\"display: flex; flex-direction: row; flex-wrap: wrap; height:256px\">\n",
       "            <div style=\"flex: 0 0 256px; padding-right: 24px\">\n",
       "                \n",
       "            <p><b>ID:</b><a href=\"http://geohub.lacity.org/datasets/9c326ff05b614c4c893739e1501d5af4_5\"> http://geohub.lacity.org/datasets/9c326ff05b614c4c893739e1501d5af4_5</a></p>\n",
       "            <p><b>Issued:</b> 2018-12-05T21:06:25.000Z</p>\n",
       "            <p><b>Last Modified:</b> 2018-12-05T21:06:38.510Z</p>\n",
       "            <p><b>Publisher:</b> City of Los Angeles Hub</p>\n",
       "            <p><b>License:</b> https://hub.arcgis.com/api/v2/datasets/9c326ff05b614c4c893739e1501d5af4_5/license</p>\n",
       "            <p><b>Download URL:</b><a href=\"http://geohub.lacity.org/datasets/9c326ff05b614c4c893739e1501d5af4_5.geojson\"> http://geohub.lacity.org/datasets/9c326ff05b614c4c893739e1501d5af4_5.geojson</a></p>\n",
       "        \n",
       "            </div>\n",
       "            <div style=\"flex: 1 1 0; height: 100%; overflow: auto\">\n",
       "                <p>\n",
       "                    This map features the top 100 SRTS school sites (Safe Route to School), school based attendance boundaries of the Los Angeles Unified School District. High school boundaries are shown in green, middle school boundaries are shown in blue, and elementary school boundaries are shown in red.  This map may be used to locate an address, and in turn identify the Top 100 SRTS (Safe Route to School) elementary, middle, and high school assignment associated with that address, given that the subject address is located within LAUSD's boundary.\n",
       "                </p>\n",
       "            </div>\n",
       "        </div>\n",
       "        "
      ],
      "text/plain": [
       "http://geohub.lacity.org/datasets/9c326ff05b614c4c893739e1501d5af4_5\n",
       "SRTS Top 100 1/4 Mile Buffer\n",
       "This map features the top 100 SRTS school sites (Safe Route to School), school based attendance boundaries of the Los Angeles Unified School District. High school boundaries are shown in green, middle school boundaries are shown in blue, and elementary school boundaries are shown in red.  This map may be used to locate an address, and in turn identify the Top 100 SRTS (Safe Route to School) elementary, middle, and high school assignment associated with that address, given that the subject address is located within LAUSD's boundary."
      ]
     },
     "metadata": {},
     "output_type": "display_data"
    },
    {
     "name": "stdout",
     "output_type": "stream",
     "text": [
      "\n",
      "\n",
      "\n"
     ]
    },
    {
     "data": {
      "text/html": [
       "\n",
       "        <h3>SRTS TOP 100 High School Attendance Boundaries 2018-19</h3>\n",
       "        <div style=\"display: flex; flex-direction: row; flex-wrap: wrap; height:256px\">\n",
       "            <div style=\"flex: 0 0 256px; padding-right: 24px\">\n",
       "                \n",
       "            <p><b>ID:</b><a href=\"http://geohub.lacity.org/datasets/9c326ff05b614c4c893739e1501d5af4_4\"> http://geohub.lacity.org/datasets/9c326ff05b614c4c893739e1501d5af4_4</a></p>\n",
       "            <p><b>Issued:</b> 2018-12-05T21:06:25.000Z</p>\n",
       "            <p><b>Last Modified:</b> 2018-12-05T21:06:38.119Z</p>\n",
       "            <p><b>Publisher:</b> City of Los Angeles Hub</p>\n",
       "            <p><b>License:</b> https://hub.arcgis.com/api/v2/datasets/9c326ff05b614c4c893739e1501d5af4_4/license</p>\n",
       "            <p><b>Download URL:</b><a href=\"http://geohub.lacity.org/datasets/9c326ff05b614c4c893739e1501d5af4_4.geojson\"> http://geohub.lacity.org/datasets/9c326ff05b614c4c893739e1501d5af4_4.geojson</a></p>\n",
       "        \n",
       "            </div>\n",
       "            <div style=\"flex: 1 1 0; height: 100%; overflow: auto\">\n",
       "                <p>\n",
       "                    This map features the top 100 SRTS school sites (Safe Route to School), school based attendance boundaries of the Los Angeles Unified School District. High school boundaries are shown in green, middle school boundaries are shown in blue, and elementary school boundaries are shown in red.  This map may be used to locate an address, and in turn identify the Top 100 SRTS (Safe Route to School) elementary, middle, and high school assignment associated with that address, given that the subject address is located within LAUSD's boundary.\n",
       "                </p>\n",
       "            </div>\n",
       "        </div>\n",
       "        "
      ],
      "text/plain": [
       "http://geohub.lacity.org/datasets/9c326ff05b614c4c893739e1501d5af4_4\n",
       "SRTS TOP 100 High School Attendance Boundaries 2018-19\n",
       "This map features the top 100 SRTS school sites (Safe Route to School), school based attendance boundaries of the Los Angeles Unified School District. High school boundaries are shown in green, middle school boundaries are shown in blue, and elementary school boundaries are shown in red.  This map may be used to locate an address, and in turn identify the Top 100 SRTS (Safe Route to School) elementary, middle, and high school assignment associated with that address, given that the subject address is located within LAUSD's boundary."
      ]
     },
     "metadata": {},
     "output_type": "display_data"
    },
    {
     "name": "stdout",
     "output_type": "stream",
     "text": [
      "\n",
      "\n",
      "\n"
     ]
    },
    {
     "data": {
      "text/html": [
       "\n",
       "        <h3>LAFD Battalions</h3>\n",
       "        <div style=\"display: flex; flex-direction: row; flex-wrap: wrap; height:256px\">\n",
       "            <div style=\"flex: 0 0 256px; padding-right: 24px\">\n",
       "                \n",
       "            <p><b>ID:</b><a href=\"http://geohub.lacity.org/datasets/3fbda9548f6641acbd7a8dcb88366c89_0\"> http://geohub.lacity.org/datasets/3fbda9548f6641acbd7a8dcb88366c89_0</a></p>\n",
       "            <p><b>Issued:</b> 2017-04-19T18:31:59.000Z</p>\n",
       "            <p><b>Last Modified:</b> 2018-11-29T20:31:08.862Z</p>\n",
       "            <p><b>Publisher:</b> City of Los Angeles Hub</p>\n",
       "            <p><b>License:</b> https://hub.arcgis.com/api/v2/datasets/3fbda9548f6641acbd7a8dcb88366c89_0/license</p>\n",
       "            <p><b>Download URL:</b><a href=\"http://geohub.lacity.org/datasets/3fbda9548f6641acbd7a8dcb88366c89_0.geojson\"> http://geohub.lacity.org/datasets/3fbda9548f6641acbd7a8dcb88366c89_0.geojson</a></p>\n",
       "        \n",
       "            </div>\n",
       "            <div style=\"flex: 1 1 0; height: 100%; overflow: auto\">\n",
       "                <p>\n",
       "                    There are 14 fire operational battalions. A battalion is a collection of fire station First-in districts. Fire Battalions areas are a static data set and are only updated when there is a operational need to change the structure.<div>There is no planned change for this layer.</div><div>This is the authoritative source for LAFD Battalions.<br /></div>\n",
       "                </p>\n",
       "            </div>\n",
       "        </div>\n",
       "        "
      ],
      "text/plain": [
       "http://geohub.lacity.org/datasets/3fbda9548f6641acbd7a8dcb88366c89_0\n",
       "LAFD Battalions\n",
       "There are 14 fire operational battalions. A battalion is a collection of fire station First-in districts. Fire Battalions areas are a static data set and are only updated when there is a operational need to change the structure.<div>There is no planned change for this layer.</div><div>This is the authoritative source for LAFD Battalions.<br /></div>"
      ]
     },
     "metadata": {},
     "output_type": "display_data"
    },
    {
     "name": "stdout",
     "output_type": "stream",
     "text": [
      "\n",
      "\n",
      "\n"
     ]
    },
    {
     "data": {
      "text/html": [
       "\n",
       "        <h3>LAFD Fire Bureaus</h3>\n",
       "        <div style=\"display: flex; flex-direction: row; flex-wrap: wrap; height:256px\">\n",
       "            <div style=\"flex: 0 0 256px; padding-right: 24px\">\n",
       "                \n",
       "            <p><b>ID:</b><a href=\"http://geohub.lacity.org/datasets/f7be10c7e5904a9da1c30920afc37a15_0\"> http://geohub.lacity.org/datasets/f7be10c7e5904a9da1c30920afc37a15_0</a></p>\n",
       "            <p><b>Issued:</b> 2017-04-19T18:34:53.000Z</p>\n",
       "            <p><b>Last Modified:</b> 2018-11-29T20:23:02.010Z</p>\n",
       "            <p><b>Publisher:</b> City of Los Angeles Hub</p>\n",
       "            <p><b>License:</b> https://hub.arcgis.com/api/v2/datasets/f7be10c7e5904a9da1c30920afc37a15_0/license</p>\n",
       "            <p><b>Download URL:</b><a href=\"http://geohub.lacity.org/datasets/f7be10c7e5904a9da1c30920afc37a15_0.geojson\"> http://geohub.lacity.org/datasets/f7be10c7e5904a9da1c30920afc37a15_0.geojson</a></p>\n",
       "        \n",
       "            </div>\n",
       "            <div style=\"flex: 1 1 0; height: 100%; overflow: auto\">\n",
       "                <p>\n",
       "                    There\n",
       "are 4 fire operational bureaus; Central, South, Valley and West. A bureau is a\n",
       "collection of battalions. A battalion is a collection of fire station First-in\n",
       "districts. Fire Bureau areas are a static data set  and are only updated when there is a operational need to change the structure.<div>This is the authoritative source for LAFD Bureaus.<br /></div>\n",
       "                </p>\n",
       "            </div>\n",
       "        </div>\n",
       "        "
      ],
      "text/plain": [
       "http://geohub.lacity.org/datasets/f7be10c7e5904a9da1c30920afc37a15_0\n",
       "LAFD Fire Bureaus\n",
       "There\n",
       "are 4 fire operational bureaus; Central, South, Valley and West. A bureau is a\n",
       "collection of battalions. A battalion is a collection of fire station First-in\n",
       "districts. Fire Bureau areas are a static data set  and are only updated when there is a operational need to change the structure.<div>This is the authoritative source for LAFD Bureaus.<br /></div>"
      ]
     },
     "metadata": {},
     "output_type": "display_data"
    },
    {
     "name": "stdout",
     "output_type": "stream",
     "text": [
      "\n",
      "\n",
      "\n"
     ]
    },
    {
     "data": {
      "text/html": [
       "\n",
       "        <h3>Supplemental Use Districts (SUD)</h3>\n",
       "        <div style=\"display: flex; flex-direction: row; flex-wrap: wrap; height:256px\">\n",
       "            <div style=\"flex: 0 0 256px; padding-right: 24px\">\n",
       "                \n",
       "            <p><b>ID:</b><a href=\"http://geohub.lacity.org/datasets/78b5c74b2a214cf888e928c6ae8eeb4a_0\"> http://geohub.lacity.org/datasets/78b5c74b2a214cf888e928c6ae8eeb4a_0</a></p>\n",
       "            <p><b>Issued:</b> 2018-11-20T16:09:05.000Z</p>\n",
       "            <p><b>Last Modified:</b> 2018-11-20T16:43:00.223Z</p>\n",
       "            <p><b>Publisher:</b> City of Los Angeles Hub</p>\n",
       "            <p><b>License:</b> https://hub.arcgis.com/api/v2/datasets/78b5c74b2a214cf888e928c6ae8eeb4a_0/license</p>\n",
       "            <p><b>Download URL:</b><a href=\"http://geohub.lacity.org/datasets/78b5c74b2a214cf888e928c6ae8eeb4a_0.geojson\"> http://geohub.lacity.org/datasets/78b5c74b2a214cf888e928c6ae8eeb4a_0.geojson</a></p>\n",
       "        \n",
       "            </div>\n",
       "            <div style=\"flex: 1 1 0; height: 100%; overflow: auto\">\n",
       "                <p>\n",
       "                    <div><b>PURPOSE</b><br /></div><div><b><br /></b></div><div>The purpose of Supplemental Use Districts is to regulate and restrict the location of certain types of uses whose requirements are difficult to anticipate and cannot adequately be provided for in the &quot;Comprehensive Zoning Plan&quot;. These uses, the boundaries of the districts where they are permitted, the limitations governing their operations, and the procedure for the establishment of new districts, are provided for in <a href=\"https://bit.ly/2S5iIpd\" target=\"_blank\">Article 3 of the Zoning Code</a>. Except for the &quot;Supplemental Uses&quot; permitted by Article 3 of the Zoning Code, all property within the districts hereby established is subject to the provisions of the &quot;Comprehensive Zoning Plan&quot;.</div><div><br /></div><div><b>DISTRICTS</b></div><div><ul><li>Oil Drilling District (O)</li><li>Animal Slaughtering District (S)</li><li>Surface Mining District (G)</li><li>Residential Planning Development District (RPD)</li><li>Equinekeeping District (K)</li><li>Commercial and Artcraft District (CA)</li><li>Pedestrian Oriented District (POD)</li><li>Community Design Overlay District (CDO)</li><li>Mixed Use District (MU)</li><li>Fence Height District (FH)</li><li>Sign District (SN)</li><li>Residential Floor Area District (RFA)</li><li>Neighborhood Stabilization Overlay District (NSO)</li><li>Community Plan Implementation Overlay District (CPIO)</li><li>Hillside Standards Overlay District (HS)</li><li>Modified Parking Requirement District (MPR)</li><li>River Improvement Overlay District (RIO)</li><li>Clean Up Green Up Overlay District (CUGU)</li><li>Rear Detached Garage District (RG)</li><li>Hillside Construction Regulation District (HCR)</li></ul>These districts and their boundaries are shown on portions of the &quot;Zoning Map&quot; as provided for in <a href=\"https://bit.ly/2PD2wip\" target=\"_blank\">Section 12.04</a> and made a part thereof by a combination of the zone and district symbols. This map, notations, references, and other information shown on it which pertain to the boundaries of these districts are made a part of this article as if fully described here. Reference is hereby made to those maps, notations, references and other information for full particulars.<br /></div><div><br /></div><div>Refresh Rate: As Needed</div><div>Last Updated: Nov 16, 2018</div>\n",
       "                </p>\n",
       "            </div>\n",
       "        </div>\n",
       "        "
      ],
      "text/plain": [
       "http://geohub.lacity.org/datasets/78b5c74b2a214cf888e928c6ae8eeb4a_0\n",
       "Supplemental Use Districts (SUD)\n",
       "<div><b>PURPOSE</b><br /></div><div><b><br /></b></div><div>The purpose of Supplemental Use Districts is to regulate and restrict the location of certain types of uses whose requirements are difficult to anticipate and cannot adequately be provided for in the &quot;Comprehensive Zoning Plan&quot;. These uses, the boundaries of the districts where they are permitted, the limitations governing their operations, and the procedure for the establishment of new districts, are provided for in <a href=\"https://bit.ly/2S5iIpd\" target=\"_blank\">Article 3 of the Zoning Code</a>. Except for the &quot;Supplemental Uses&quot; permitted by Article 3 of the Zoning Code, all property within the districts hereby established is subject to the provisions of the &quot;Comprehensive Zoning Plan&quot;.</div><div><br /></div><div><b>DISTRICTS</b></div><div><ul><li>Oil Drilling District (O)</li><li>Animal Slaughtering District (S)</li><li>Surface Mining District (G)</li><li>Residential Planning Development District (RPD)</li><li>Equinekeeping District (K)</li><li>Commercial and Artcraft District (CA)</li><li>Pedestrian Oriented District (POD)</li><li>Community Design Overlay District (CDO)</li><li>Mixed Use District (MU)</li><li>Fence Height District (FH)</li><li>Sign District (SN)</li><li>Residential Floor Area District (RFA)</li><li>Neighborhood Stabilization Overlay District (NSO)</li><li>Community Plan Implementation Overlay District (CPIO)</li><li>Hillside Standards Overlay District (HS)</li><li>Modified Parking Requirement District (MPR)</li><li>River Improvement Overlay District (RIO)</li><li>Clean Up Green Up Overlay District (CUGU)</li><li>Rear Detached Garage District (RG)</li><li>Hillside Construction Regulation District (HCR)</li></ul>These districts and their boundaries are shown on portions of the &quot;Zoning Map&quot; as provided for in <a href=\"https://bit.ly/2PD2wip\" target=\"_blank\">Section 12.04</a> and made a part thereof by a combination of the zone and district symbols. This map, notations, references, and other information shown on it which pertain to the boundaries of these districts are made a part of this article as if fully described here. Reference is hereby made to those maps, notations, references and other information for full particulars.<br /></div><div><br /></div><div>Refresh Rate: As Needed</div><div>Last Updated: Nov 16, 2018</div>"
      ]
     },
     "metadata": {},
     "output_type": "display_data"
    },
    {
     "name": "stdout",
     "output_type": "stream",
     "text": [
      "\n",
      "\n",
      "\n"
     ]
    },
    {
     "data": {
      "text/html": [
       "\n",
       "        <h3>LA City Parcels</h3>\n",
       "        <div style=\"display: flex; flex-direction: row; flex-wrap: wrap; height:256px\">\n",
       "            <div style=\"flex: 0 0 256px; padding-right: 24px\">\n",
       "                \n",
       "            <p><b>ID:</b><a href=\"http://geohub.lacity.org/datasets/3b9f7696cd444b168ca6cf1726ae8420_5\"> http://geohub.lacity.org/datasets/3b9f7696cd444b168ca6cf1726ae8420_5</a></p>\n",
       "            <p><b>Issued:</b> 2015-11-14T02:44:48.000Z</p>\n",
       "            <p><b>Last Modified:</b> 2018-05-08T16:27:18.000Z</p>\n",
       "            <p><b>Publisher:</b> City of Los Angeles Hub</p>\n",
       "            <p><b>License:</b> https://hub.arcgis.com/api/v2/datasets/3b9f7696cd444b168ca6cf1726ae8420_5/license</p>\n",
       "            <p><b>Download URL:</b><a href=\"http://geohub.lacity.org/datasets/3b9f7696cd444b168ca6cf1726ae8420_5.geojson\"> http://geohub.lacity.org/datasets/3b9f7696cd444b168ca6cf1726ae8420_5.geojson</a></p>\n",
       "        \n",
       "            </div>\n",
       "            <div style=\"flex: 1 1 0; height: 100%; overflow: auto\">\n",
       "                <p>\n",
       "                    This parcels polygons feature class represents current city parcels within the City of Los Angeles. It shares topology with the Landbase parcel lines feature class. The Mapping and Land Records Division of the Bureau of Engineering, Department of Public Works provides the most current geographic information of the public right of way, ownership and land record information. The legal boundaries are determined on the ground by license surveyors in the State of California, and by recorded documents from the Los Angeles County Recorder's office and the City Clerk's office of the City of Los Angeles. Parcel and ownership information are available on NavigateLA, a website hosted by the Bureau of Engineering, Department of Public Works.Associated information about the landbase parcels is entered into attributes. Principal attributes include:PIN and PIND: represents the unique auto-generated parcel identifier and key to related features and tables. This field is related to the LA_LEGAL, LA_APN and LA_HSE_NBR tables. PIN contains spaces and PIND replaces those spaces with a dash (-).LA_LEGAL - Table attributes containing legal description. Principal attributes include the following:TRACT: The subdivision tract number as recorded by the County of Los AngelesMAP_REF: Identifies the subdivision map book reference as recorded by the County of Los Angeles.LOT: The subdivision lot number as recorded by the County of Los Angeles.ENG_DIST: The four engineering Districts (W=Westla, C=Central, V= Valley and H=Harbor).CNCL_DIST: Council Districts 1-15 of the City of Los Angeles. OUTLA means parcel is outside the City.LA_APN- Table attributes containing County of Los Angeles Assessors information. Principal attributes include the following:BPP: The Book, Page and Parcel from the Los Angeles County Assessors office. SITUS*: Address for the property.LA_HSE_NBR - Table attributes containing housenumber information. Principal attributes include the following:HSE_ID: Unique id of each housenumber record.HSE_NBR: housenumber numerical valueSTR_*: Official housenumber addressFor a complete list of attribute values, please refer to Landbase_parcel_polygons_data_dictionary.<br /><br />Landbase parcels polygons data layer was created in geographical information systems (GIS) software to display the location of the right of way. The parcels polygons layer delineates the right of way from Landbase parcels lots. The parcels polygons layer is a feature class in the LACityLandbaseData.gdb Geodatabase dataset. The layer consists of spatial data as a polygon feature class and attribute data for the features. The area inside a polygon feature is a parcel lot. The area outside of the parcel polygon feature is the right of way. Several polygon features are adjacent, sharing one line between two polygons. For each parcel, there is a unique identifier in the PIND and PIN fields. The only difference is PIND has a dash and PIN does not. The types of edits include new subdivisions and lot cuts. Associated legal information about the landbase parcels lots is entered into attributes. The landbase parcels layer is vital to other City of LA Departments, by supporting property and land record operations and identifying legal information for City of Los Angeles. The landbase parcels polygons are inherited from a database originally created by the City's Survey and Mapping Division. Parcel information should only be added to the Landbase Parcels layer if documentation exists, such as a Deed or a Plan approved by the City Council. When seeking the definitive description of real property, consult the recorded Deed or Plan.<br /><br />List of Fields:<br />ID: A unique numeric identifier of the polygon. The ID value is the last part of the PIN field value.<br />ASSETID: User-defined feature autonumber.<br />MAPSHEET: The alpha-numeric mapsheet number, which refers to a valid B-map or A-map number on the Cadastral grid index map. Values:<br />     •  ___B___, ___A___, ___-5A___ - Any of these alpha-numeric combinations are used, whereas the underlined spaces are the numbers. An A-map is the smallest grid in the index map and is used when there is a large amount of spatial information in the map display. There are more parcel lines and annotation than can fit in the B-map, and thus, an A-map is used. There are 4 A-maps in a B-map. In areas where parcel lines and annotation can fit comfortably in an index map, a B-map is used. The B-maps are at a scale of 100 feet, and A-maps are at a scale of 50 feet.<br />OBJECTID: Internal feature number.<br />BPP<br />MAP_REF<br />TRACT<br />BLOCK<br />MOD<br />LOT<br />ARB<br />CNCL_DIST: LA City Council District. Values:<br />     •  (numbers 1-15) - Current City Council Member for that District can be found on the mapping website http://navigatela.lacity.org/navigatela, click Council Districts layer name, under Boundaries layer group.<br />SHAPE: Feature geometry.<br />BOOK<br />PAGE<br />PARCEL<br />PIND: The value is a combination of MAPSHEET and ID fields, creating a unique value for each parcel. The D in the field name PIND, means &quot;dash&quot;, and there is a dash between the MAPSHEET and ID field values. This is a key attribute of the LANDBASE data layer. This field is related to the APN and HSE_NBR tables.<br />ENG_DIST: LA City Engineering District. The boundaries are displayed in the Engineering Districts index map. Values:<br />     •  H - Harbor Engineering District.<br />     •  C - Central Engineering District.<br />     •  V - Valley Engineering District.<br />     •  W - West LA Engineering District.<br />PIN: The value is a combination of MAPSHEET and ID fields, creating a unique value for each parcel. There are spaces between the MAPSHEET and ID field values. This is a key attribute of the LANDBASE data layer. This field is related to the APN and HSE_NBR tables.\n",
       "                </p>\n",
       "            </div>\n",
       "        </div>\n",
       "        "
      ],
      "text/plain": [
       "http://geohub.lacity.org/datasets/3b9f7696cd444b168ca6cf1726ae8420_5\n",
       "LA City Parcels\n",
       "This parcels polygons feature class represents current city parcels within the City of Los Angeles. It shares topology with the Landbase parcel lines feature class. The Mapping and Land Records Division of the Bureau of Engineering, Department of Public Works provides the most current geographic information of the public right of way, ownership and land record information. The legal boundaries are determined on the ground by license surveyors in the State of California, and by recorded documents from the Los Angeles County Recorder's office and the City Clerk's office of the City of Los Angeles. Parcel and ownership information are available on NavigateLA, a website hosted by the Bureau of Engineering, Department of Public Works.Associated information about the landbase parcels is entered into attributes. Principal attributes include:PIN and PIND: represents the unique auto-generated parcel identifier and key to related features and tables. This field is related to the LA_LEGAL, LA_APN and LA_HSE_NBR tables. PIN contains spaces and PIND replaces those spaces with a dash (-).LA_LEGAL - Table attributes containing legal description. Principal attributes include the following:TRACT: The subdivision tract number as recorded by the County of Los AngelesMAP_REF: Identifies the subdivision map book reference as recorded by the County of Los Angeles.LOT: The subdivision lot number as recorded by the County of Los Angeles.ENG_DIST: The four engineering Districts (W=Westla, C=Central, V= Valley and H=Harbor).CNCL_DIST: Council Districts 1-15 of the City of Los Angeles. OUTLA means parcel is outside the City.LA_APN- Table attributes containing County of Los Angeles Assessors information. Principal attributes include the following:BPP: The Book, Page and Parcel from the Los Angeles County Assessors office. SITUS*: Address for the property.LA_HSE_NBR - Table attributes containing housenumber information. Principal attributes include the following:HSE_ID: Unique id of each housenumber record.HSE_NBR: housenumber numerical valueSTR_*: Official housenumber addressFor a complete list of attribute values, please refer to Landbase_parcel_polygons_data_dictionary.<br /><br />Landbase parcels polygons data layer was created in geographical information systems (GIS) software to display the location of the right of way. The parcels polygons layer delineates the right of way from Landbase parcels lots. The parcels polygons layer is a feature class in the LACityLandbaseData.gdb Geodatabase dataset. The layer consists of spatial data as a polygon feature class and attribute data for the features. The area inside a polygon feature is a parcel lot. The area outside of the parcel polygon feature is the right of way. Several polygon features are adjacent, sharing one line between two polygons. For each parcel, there is a unique identifier in the PIND and PIN fields. The only difference is PIND has a dash and PIN does not. The types of edits include new subdivisions and lot cuts. Associated legal information about the landbase parcels lots is entered into attributes. The landbase parcels layer is vital to other City of LA Departments, by supporting property and land record operations and identifying legal information for City of Los Angeles. The landbase parcels polygons are inherited from a database originally created by the City's Survey and Mapping Division. Parcel information should only be added to the Landbase Parcels layer if documentation exists, such as a Deed or a Plan approved by the City Council. When seeking the definitive description of real property, consult the recorded Deed or Plan.<br /><br />List of Fields:<br />ID: A unique numeric identifier of the polygon. The ID value is the last part of the PIN field value.<br />ASSETID: User-defined feature autonumber.<br />MAPSHEET: The alpha-numeric mapsheet number, which refers to a valid B-map or A-map number on the Cadastral grid index map. Values:<br />     •  ___B___, ___A___, ___-5A___ - Any of these alpha-numeric combinations are used, whereas the underlined spaces are the numbers. An A-map is the smallest grid in the index map and is used when there is a large amount of spatial information in the map display. There are more parcel lines and annotation than can fit in the B-map, and thus, an A-map is used. There are 4 A-maps in a B-map. In areas where parcel lines and annotation can fit comfortably in an index map, a B-map is used. The B-maps are at a scale of 100 feet, and A-maps are at a scale of 50 feet.<br />OBJECTID: Internal feature number.<br />BPP<br />MAP_REF<br />TRACT<br />BLOCK<br />MOD<br />LOT<br />ARB<br />CNCL_DIST: LA City Council District. Values:<br />     •  (numbers 1-15) - Current City Council Member for that District can be found on the mapping website http://navigatela.lacity.org/navigatela, click Council Districts layer name, under Boundaries layer group.<br />SHAPE: Feature geometry.<br />BOOK<br />PAGE<br />PARCEL<br />PIND: The value is a combination of MAPSHEET and ID fields, creating a unique value for each parcel. The D in the field name PIND, means &quot;dash&quot;, and there is a dash between the MAPSHEET and ID field values. This is a key attribute of the LANDBASE data layer. This field is related to the APN and HSE_NBR tables.<br />ENG_DIST: LA City Engineering District. The boundaries are displayed in the Engineering Districts index map. Values:<br />     •  H - Harbor Engineering District.<br />     •  C - Central Engineering District.<br />     •  V - Valley Engineering District.<br />     •  W - West LA Engineering District.<br />PIN: The value is a combination of MAPSHEET and ID fields, creating a unique value for each parcel. There are spaces between the MAPSHEET and ID field values. This is a key attribute of the LANDBASE data layer. This field is related to the APN and HSE_NBR tables."
      ]
     },
     "metadata": {},
     "output_type": "display_data"
    },
    {
     "name": "stdout",
     "output_type": "stream",
     "text": [
      "\n",
      "\n",
      "\n"
     ]
    },
    {
     "data": {
      "text/html": [
       "\n",
       "        <h3>Neighborhoods Considered Safe for Walking (2011 &amp; 2015)</h3>\n",
       "        <div style=\"display: flex; flex-direction: row; flex-wrap: wrap; height:256px\">\n",
       "            <div style=\"flex: 0 0 256px; padding-right: 24px\">\n",
       "                \n",
       "            <p><b>ID:</b><a href=\"http://geohub.lacity.org/datasets/e744132a54804929b9d5cbcab75340e5_0\"> http://geohub.lacity.org/datasets/e744132a54804929b9d5cbcab75340e5_0</a></p>\n",
       "            <p><b>Issued:</b> 2018-04-27T22:37:33.000Z</p>\n",
       "            <p><b>Last Modified:</b> 2018-04-27T22:45:58.188Z</p>\n",
       "            <p><b>Publisher:</b> City of Los Angeles Hub</p>\n",
       "            <p><b>License:</b> https://hub.arcgis.com/api/v2/datasets/e744132a54804929b9d5cbcab75340e5_0/license</p>\n",
       "            <p><b>Download URL:</b><a href=\"http://geohub.lacity.org/datasets/e744132a54804929b9d5cbcab75340e5_0.geojson\"> http://geohub.lacity.org/datasets/e744132a54804929b9d5cbcab75340e5_0.geojson</a></p>\n",
       "        \n",
       "            </div>\n",
       "            <div style=\"flex: 1 1 0; height: 100%; overflow: auto\">\n",
       "                <p>\n",
       "                    <p>Percent of adults (18+ years old) who reported considering it safe to walk or to use parks, playgrounds, or sports fields in their neighborhood</p><p> </p><p>Data Source: 2011 &amp; 2015 Los Angeles County Health Survey; Office of Health Assessment and Epidemiology, Los Angeles County Department of Public Health.</p><p> </p><p>FAQS</p><p> </p><p>1) What is the Los Angeles County Health Survey (LACHS)?</p><p> </p><p>The Los Angeles County Health Survey is a population based telephone survey that provides information concerning the health of Los Angeles County residents. The data are used for assessing health-related needs of the population, for program planning and policy development, and for program evaluation. The relatively large sample size allows users to obtain health indicator data for large demographic subgroups and across geographic regions of the County, including Service Planning Areas and Health Districts. </p><p> </p><p>Produced by Los Angeles County Department of Public Health, Office of Health Assessment and Epidemiology (OHAE) <a href=\"http://www.publichealth.lacounty.gov/ha\">www.publichealth.lacounty.gov/ha</a></p><p> </p><p>2) What are the sample sizes of the 2011 and 2015 LACHS?</p><p> </p><p>Estimates are based on self-reported data by random samples of 8,036 (from 2011 survey) and 8,008 (from 2015 survey) Los Angeles County adults, representative of the adult population in Los Angeles County.</p><p> </p><p>3) What does the 95% CI mean?</p><p> </p><p>The 95% confidence intervals (CI) represent the variability in the estimate due to sampling; the actual prevalence in the population, 95 out of 100 times sampled, would fall within the range provided.</p><p> </p><p>4) What is the prevalence and confidence intervals (CIs) for Los Angeles County and Los Angeles City?</p><p> </p><p>Findings for the County of Los Angeles: (74.0%; 95% CI=73.0-75.0)</p><p>Findings for the City of Los Angeles: (67.5%; 95% CI=65.8-69.2)</p><p> </p><p> </p><p>&quot;Field Name&quot; = Field Definition</p><p> </p><p>&quot;CPA_NUM&quot;  =  Unique Identifier for each Community Plan Area</p><p> </p><p>&quot;NAME_ALF&quot;  =  the 35 Community Plan Areas, LAX Plan Area, and the Port of Los Angeles Plan Area</p><p> </p><p>&quot;Percent&quot;  = percentage of adults (18+ years old) whose neighborhoods do not have walking paths, parks, playgrounds, or sports fields</p><p><br /></p><p>&quot;Stable_est&quot;  =  (Yes) the estimate is statistically stable (relative standard error ≤ 30%) (No) the estimate is statistically unstable (relative standard error &gt;30%) and therefore may not be appropriate to use for planning or policy purposes</p><p> </p><p>&quot;LowerCL&quot;  =  the lower 95% confidence limit represents the lower margin of error that occurs with statistical sampling</p><p> </p><p>&quot;UpperCL&quot;  =  the upper 95% confidence limit  represents the upper margin of error that occurs in statistical sampling</p><div><br /></div>\n",
       "                </p>\n",
       "            </div>\n",
       "        </div>\n",
       "        "
      ],
      "text/plain": [
       "http://geohub.lacity.org/datasets/e744132a54804929b9d5cbcab75340e5_0\n",
       "Neighborhoods Considered Safe for Walking (2011 &amp; 2015)\n",
       "<p>Percent of adults (18+ years old) who reported considering it safe to walk or to use parks, playgrounds, or sports fields in their neighborhood</p><p> </p><p>Data Source: 2011 &amp; 2015 Los Angeles County Health Survey; Office of Health Assessment and Epidemiology, Los Angeles County Department of Public Health.</p><p> </p><p>FAQS</p><p> </p><p>1) What is the Los Angeles County Health Survey (LACHS)?</p><p> </p><p>The Los Angeles County Health Survey is a population based telephone survey that provides information concerning the health of Los Angeles County residents. The data are used for assessing health-related needs of the population, for program planning and policy development, and for program evaluation. The relatively large sample size allows users to obtain health indicator data for large demographic subgroups and across geographic regions of the County, including Service Planning Areas and Health Districts. </p><p> </p><p>Produced by Los Angeles County Department of Public Health, Office of Health Assessment and Epidemiology (OHAE) <a href=\"http://www.publichealth.lacounty.gov/ha\">www.publichealth.lacounty.gov/ha</a></p><p> </p><p>2) What are the sample sizes of the 2011 and 2015 LACHS?</p><p> </p><p>Estimates are based on self-reported data by random samples of 8,036 (from 2011 survey) and 8,008 (from 2015 survey) Los Angeles County adults, representative of the adult population in Los Angeles County.</p><p> </p><p>3) What does the 95% CI mean?</p><p> </p><p>The 95% confidence intervals (CI) represent the variability in the estimate due to sampling; the actual prevalence in the population, 95 out of 100 times sampled, would fall within the range provided.</p><p> </p><p>4) What is the prevalence and confidence intervals (CIs) for Los Angeles County and Los Angeles City?</p><p> </p><p>Findings for the County of Los Angeles: (74.0%; 95% CI=73.0-75.0)</p><p>Findings for the City of Los Angeles: (67.5%; 95% CI=65.8-69.2)</p><p> </p><p> </p><p>&quot;Field Name&quot; = Field Definition</p><p> </p><p>&quot;CPA_NUM&quot;  =  Unique Identifier for each Community Plan Area</p><p> </p><p>&quot;NAME_ALF&quot;  =  the 35 Community Plan Areas, LAX Plan Area, and the Port of Los Angeles Plan Area</p><p> </p><p>&quot;Percent&quot;  = percentage of adults (18+ years old) whose neighborhoods do not have walking paths, parks, playgrounds, or sports fields</p><p><br /></p><p>&quot;Stable_est&quot;  =  (Yes) the estimate is statistically stable (relative standard error ≤ 30%) (No) the estimate is statistically unstable (relative standard error &gt;30%) and therefore may not be appropriate to use for planning or policy purposes</p><p> </p><p>&quot;LowerCL&quot;  =  the lower 95% confidence limit represents the lower margin of error that occurs with statistical sampling</p><p> </p><p>&quot;UpperCL&quot;  =  the upper 95% confidence limit  represents the upper margin of error that occurs in statistical sampling</p><div><br /></div>"
      ]
     },
     "metadata": {},
     "output_type": "display_data"
    },
    {
     "name": "stdout",
     "output_type": "stream",
     "text": [
      "\n",
      "\n",
      "\n"
     ]
    },
    {
     "data": {
      "text/html": [
       "\n",
       "        <h3>Signage Supplemental Use District</h3>\n",
       "        <div style=\"display: flex; flex-direction: row; flex-wrap: wrap; height:256px\">\n",
       "            <div style=\"flex: 0 0 256px; padding-right: 24px\">\n",
       "                \n",
       "            <p><b>ID:</b><a href=\"http://geohub.lacity.org/datasets/55e480b929b345abb983355ac919b048_18\"> http://geohub.lacity.org/datasets/55e480b929b345abb983355ac919b048_18</a></p>\n",
       "            <p><b>Issued:</b> 2015-11-14T01:59:34.000Z</p>\n",
       "            <p><b>Last Modified:</b> 2017-11-02T14:03:11.000Z</p>\n",
       "            <p><b>Publisher:</b> City of Los Angeles Hub</p>\n",
       "            <p><b>License:</b> https://hub.arcgis.com/api/v2/datasets/55e480b929b345abb983355ac919b048_18/license</p>\n",
       "            <p><b>Download URL:</b><a href=\"http://geohub.lacity.org/datasets/55e480b929b345abb983355ac919b048_18.geojson\"> http://geohub.lacity.org/datasets/55e480b929b345abb983355ac919b048_18.geojson</a></p>\n",
       "        \n",
       "            </div>\n",
       "            <div style=\"flex: 1 1 0; height: 100%; overflow: auto\">\n",
       "                <p>\n",
       "                    Signage Supplemental Use Districts are formed to promote the continuing contribution of signage to the distinctive aesthetic of the district, as well as control the blight created by poorly placed, badly designed signs. \n",
       "                </p>\n",
       "            </div>\n",
       "        </div>\n",
       "        "
      ],
      "text/plain": [
       "http://geohub.lacity.org/datasets/55e480b929b345abb983355ac919b048_18\n",
       "Signage Supplemental Use District\n",
       "Signage Supplemental Use Districts are formed to promote the continuing contribution of signage to the distinctive aesthetic of the district, as well as control the blight created by poorly placed, badly designed signs. "
      ]
     },
     "metadata": {},
     "output_type": "display_data"
    },
    {
     "name": "stdout",
     "output_type": "stream",
     "text": [
      "\n",
      "\n",
      "\n"
     ]
    },
    {
     "data": {
      "text/html": [
       "\n",
       "        <h3>Community Design Overlay District</h3>\n",
       "        <div style=\"display: flex; flex-direction: row; flex-wrap: wrap; height:256px\">\n",
       "            <div style=\"flex: 0 0 256px; padding-right: 24px\">\n",
       "                \n",
       "            <p><b>ID:</b><a href=\"http://geohub.lacity.org/datasets/b4bcae16e80b4ebd866cfddbb60d2274_2\"> http://geohub.lacity.org/datasets/b4bcae16e80b4ebd866cfddbb60d2274_2</a></p>\n",
       "            <p><b>Issued:</b> 2015-11-14T01:51:00.000Z</p>\n",
       "            <p><b>Last Modified:</b> 2017-11-02T13:39:28.000Z</p>\n",
       "            <p><b>Publisher:</b> City of Los Angeles Hub</p>\n",
       "            <p><b>License:</b> https://hub.arcgis.com/api/v2/datasets/b4bcae16e80b4ebd866cfddbb60d2274_2/license</p>\n",
       "            <p><b>Download URL:</b><a href=\"http://geohub.lacity.org/datasets/b4bcae16e80b4ebd866cfddbb60d2274_2.geojson\"> http://geohub.lacity.org/datasets/b4bcae16e80b4ebd866cfddbb60d2274_2.geojson</a></p>\n",
       "        \n",
       "            </div>\n",
       "            <div style=\"flex: 1 1 0; height: 100%; overflow: auto\">\n",
       "                <p>\n",
       "                    Community Design Overlay Districts are districts in the City where the Planning Department has established specific design standards for construction in the area to maintain the character of the neighborhood. \n",
       "                </p>\n",
       "            </div>\n",
       "        </div>\n",
       "        "
      ],
      "text/plain": [
       "http://geohub.lacity.org/datasets/b4bcae16e80b4ebd866cfddbb60d2274_2\n",
       "Community Design Overlay District\n",
       "Community Design Overlay Districts are districts in the City where the Planning Department has established specific design standards for construction in the area to maintain the character of the neighborhood. "
      ]
     },
     "metadata": {},
     "output_type": "display_data"
    },
    {
     "name": "stdout",
     "output_type": "stream",
     "text": [
      "\n",
      "\n",
      "\n"
     ]
    },
    {
     "data": {
      "text/html": [
       "\n",
       "        <h3>Homeless Count by Council District - 2017</h3>\n",
       "        <div style=\"display: flex; flex-direction: row; flex-wrap: wrap; height:256px\">\n",
       "            <div style=\"flex: 0 0 256px; padding-right: 24px\">\n",
       "                \n",
       "            <p><b>ID:</b><a href=\"http://geohub.lacity.org/datasets/607614502e93482fa80e5b9b5b4c3267_0\"> http://geohub.lacity.org/datasets/607614502e93482fa80e5b9b5b4c3267_0</a></p>\n",
       "            <p><b>Issued:</b> 2017-07-28T16:38:19.000Z</p>\n",
       "            <p><b>Last Modified:</b> 2017-09-13T01:24:19.001Z</p>\n",
       "            <p><b>Publisher:</b> City of Los Angeles Hub</p>\n",
       "            <p><b>License:</b> https://hub.arcgis.com/api/v2/datasets/607614502e93482fa80e5b9b5b4c3267_0/license</p>\n",
       "            <p><b>Download URL:</b><a href=\"http://geohub.lacity.org/datasets/607614502e93482fa80e5b9b5b4c3267_0.geojson\"> http://geohub.lacity.org/datasets/607614502e93482fa80e5b9b5b4c3267_0.geojson</a></p>\n",
       "        \n",
       "            </div>\n",
       "            <div style=\"flex: 1 1 0; height: 100%; overflow: auto\">\n",
       "                <p>\n",
       "                    <p>Data Prepared by Los Angeles\n",
       "Homeless Services Authority</p>\n",
       "\n",
       "<p>July\n",
       "26 2017</p><p><br /></p>\n",
       "\n",
       "<p></p>\n",
       "\n",
       "<p>Components of the Homeless\n",
       "Count</p>\n",
       "\n",
       "<p></p>\n",
       "\n",
       "<p>Street Count (all census tracts): Captures a point in time estimate of the\n",
       "unsheltered population.</p>\n",
       "\n",
       "<p></p>\n",
       "\n",
       "<p>Shelter Count (from Homeless\n",
       "Management Integration System):\n",
       "Captures the homeless population in emergency shelters, transitional housing,\n",
       "safe havens and vouchered motels/hotels.</p>\n",
       "\n",
       "<p></p>\n",
       "\n",
       "<p>Youth Count (sample census tracts): Collaborative process with youth\n",
       "stakeholders to better understand and identify homeless youth.</p>\n",
       "\n",
       "<p></p>\n",
       "\n",
       "<p>Demographic Survey (sample census\n",
       "tracts): Captures the demographic characteristics\n",
       "of the unsheltered homeless population.</p><p><br /></p>\n",
       "\n",
       "<p></p>\n",
       "\n",
       "<p>Notes</p>\n",
       "\n",
       "<p></p>\n",
       "\n",
       "<p>Street Count Data include persons found\n",
       "outside, including persons found living in cars, vans, campers/RVs, tents, and\n",
       "makeshift shelters. The conversion factors used to estimate the number of\n",
       "persons found living outside are the following: For families—Makeshift Shelter\n",
       "= 3.69, Car = 2.96, Van = 3.46, Camper/RV = 3.52, Tent = 3.78; For\n",
       "Individuals—Makeshift Shelter = 1.92, Car = 1.52, Van = 1.77, Camper/RV = 2.05,\n",
       "Tent = 1.69.<br /></p>\n",
       "\n",
       "<p> </p>\n",
       "\n",
       "<p>Please visit\n",
       "https://www.lahsa.org/homeless-count/home to view and download data.</p>\n",
       "\n",
       "<p></p>\n",
       "\n",
       "<p>Last\n",
       "updated 7/26/2017</p>\n",
       "                </p>\n",
       "            </div>\n",
       "        </div>\n",
       "        "
      ],
      "text/plain": [
       "http://geohub.lacity.org/datasets/607614502e93482fa80e5b9b5b4c3267_0\n",
       "Homeless Count by Council District - 2017\n",
       "<p>Data Prepared by Los Angeles\n",
       "Homeless Services Authority</p>\n",
       "\n",
       "<p>July\n",
       "26 2017</p><p><br /></p>\n",
       "\n",
       "<p></p>\n",
       "\n",
       "<p>Components of the Homeless\n",
       "Count</p>\n",
       "\n",
       "<p></p>\n",
       "\n",
       "<p>Street Count (all census tracts): Captures a point in time estimate of the\n",
       "unsheltered population.</p>\n",
       "\n",
       "<p></p>\n",
       "\n",
       "<p>Shelter Count (from Homeless\n",
       "Management Integration System):\n",
       "Captures the homeless population in emergency shelters, transitional housing,\n",
       "safe havens and vouchered motels/hotels.</p>\n",
       "\n",
       "<p></p>\n",
       "\n",
       "<p>Youth Count (sample census tracts): Collaborative process with youth\n",
       "stakeholders to better understand and identify homeless youth.</p>\n",
       "\n",
       "<p></p>\n",
       "\n",
       "<p>Demographic Survey (sample census\n",
       "tracts): Captures the demographic characteristics\n",
       "of the unsheltered homeless population.</p><p><br /></p>\n",
       "\n",
       "<p></p>\n",
       "\n",
       "<p>Notes</p>\n",
       "\n",
       "<p></p>\n",
       "\n",
       "<p>Street Count Data include persons found\n",
       "outside, including persons found living in cars, vans, campers/RVs, tents, and\n",
       "makeshift shelters. The conversion factors used to estimate the number of\n",
       "persons found living outside are the following: For families—Makeshift Shelter\n",
       "= 3.69, Car = 2.96, Van = 3.46, Camper/RV = 3.52, Tent = 3.78; For\n",
       "Individuals—Makeshift Shelter = 1.92, Car = 1.52, Van = 1.77, Camper/RV = 2.05,\n",
       "Tent = 1.69.<br /></p>\n",
       "\n",
       "<p> </p>\n",
       "\n",
       "<p>Please visit\n",
       "https://www.lahsa.org/homeless-count/home to view and download data.</p>\n",
       "\n",
       "<p></p>\n",
       "\n",
       "<p>Last\n",
       "updated 7/26/2017</p>"
      ]
     },
     "metadata": {},
     "output_type": "display_data"
    },
    {
     "name": "stdout",
     "output_type": "stream",
     "text": [
      "\n",
      "\n",
      "\n"
     ]
    },
    {
     "data": {
      "text/html": [
       "\n",
       "        <h3>Precincts by Council District</h3>\n",
       "        <div style=\"display: flex; flex-direction: row; flex-wrap: wrap; height:256px\">\n",
       "            <div style=\"flex: 0 0 256px; padding-right: 24px\">\n",
       "                \n",
       "            <p><b>ID:</b><a href=\"http://geohub.lacity.org/datasets/9658c360aaca4e4ba8ab078573bc0e54_0\"> http://geohub.lacity.org/datasets/9658c360aaca4e4ba8ab078573bc0e54_0</a></p>\n",
       "            <p><b>Issued:</b> 2017-03-18T00:56:32.000Z</p>\n",
       "            <p><b>Last Modified:</b> 2017-03-23T04:18:46.095Z</p>\n",
       "            <p><b>Publisher:</b> City of Los Angeles Hub</p>\n",
       "            <p><b>License:</b> https://hub.arcgis.com/api/v2/datasets/9658c360aaca4e4ba8ab078573bc0e54_0/license</p>\n",
       "            <p><b>Download URL:</b><a href=\"http://geohub.lacity.org/datasets/9658c360aaca4e4ba8ab078573bc0e54_0.geojson\"> http://geohub.lacity.org/datasets/9658c360aaca4e4ba8ab078573bc0e54_0.geojson</a></p>\n",
       "        \n",
       "            </div>\n",
       "            <div style=\"flex: 1 1 0; height: 100%; overflow: auto\">\n",
       "                <p>\n",
       "                    Voting precincts in the City of LA. <div><br /></div><div>Data comes from the Los Angeles County Registrar/Recorder’s Office. The Registrar/Recorder uses these precincts to run elections by grouping them into election precincts, so they capture the boundaries of all voting districts in the County, including, but not limited to: LA County Supervisorial Districts US Congressional Districts State Senate and Assembly Districts Schools Districts Water and Waste Districts See more at <a href=\"http://egis3.lacounty.gov/dataportal/2012/12/20/2012-precincts-as-of-march-9th/\" target=\"_blank\">egis3.lacounty.gov</a></div>\n",
       "                </p>\n",
       "            </div>\n",
       "        </div>\n",
       "        "
      ],
      "text/plain": [
       "http://geohub.lacity.org/datasets/9658c360aaca4e4ba8ab078573bc0e54_0\n",
       "Precincts by Council District\n",
       "Voting precincts in the City of LA. <div><br /></div><div>Data comes from the Los Angeles County Registrar/Recorder’s Office. The Registrar/Recorder uses these precincts to run elections by grouping them into election precincts, so they capture the boundaries of all voting districts in the County, including, but not limited to: LA County Supervisorial Districts US Congressional Districts State Senate and Assembly Districts Schools Districts Water and Waste Districts See more at <a href=\"http://egis3.lacounty.gov/dataportal/2012/12/20/2012-precincts-as-of-march-9th/\" target=\"_blank\">egis3.lacounty.gov</a></div>"
      ]
     },
     "metadata": {},
     "output_type": "display_data"
    },
    {
     "name": "stdout",
     "output_type": "stream",
     "text": [
      "\n",
      "\n",
      "\n"
     ]
    },
    {
     "data": {
      "text/html": [
       "\n",
       "        <h3>CD13 Voting Precincts</h3>\n",
       "        <div style=\"display: flex; flex-direction: row; flex-wrap: wrap; height:256px\">\n",
       "            <div style=\"flex: 0 0 256px; padding-right: 24px\">\n",
       "                \n",
       "            <p><b>ID:</b><a href=\"http://geohub.lacity.org/datasets/b5637c55b76145419abe630e1f4c90ea_0\"> http://geohub.lacity.org/datasets/b5637c55b76145419abe630e1f4c90ea_0</a></p>\n",
       "            <p><b>Issued:</b> 2017-03-22T18:10:17.000Z</p>\n",
       "            <p><b>Last Modified:</b> 2017-03-22T18:10:36.045Z</p>\n",
       "            <p><b>Publisher:</b> City of Los Angeles Hub</p>\n",
       "            <p><b>License:</b> https://hub.arcgis.com/api/v2/datasets/b5637c55b76145419abe630e1f4c90ea_0/license</p>\n",
       "            <p><b>Download URL:</b><a href=\"http://geohub.lacity.org/datasets/b5637c55b76145419abe630e1f4c90ea_0.geojson\"> http://geohub.lacity.org/datasets/b5637c55b76145419abe630e1f4c90ea_0.geojson</a></p>\n",
       "        \n",
       "            </div>\n",
       "            <div style=\"flex: 1 1 0; height: 100%; overflow: auto\">\n",
       "                <p>\n",
       "                    Contains precincts from the Los Angeles County Registrar/Recorder’s Office. The Registrar/Recorder uses these precincts to run elections by grouping them into election precincts, so they capture the boundaries of all voting districts in the County, including, but not limited to: LA County Supervisorial Districts US Congressional Districts State Senate and Assembly Districts Schools Districts Water and Waste Districts See more: http://egis3.lacounty.gov/dataportal/2012/12/20/2012-precincts-as-of-march-9th/\n",
       "                </p>\n",
       "            </div>\n",
       "        </div>\n",
       "        "
      ],
      "text/plain": [
       "http://geohub.lacity.org/datasets/b5637c55b76145419abe630e1f4c90ea_0\n",
       "CD13 Voting Precincts\n",
       "Contains precincts from the Los Angeles County Registrar/Recorder’s Office. The Registrar/Recorder uses these precincts to run elections by grouping them into election precincts, so they capture the boundaries of all voting districts in the County, including, but not limited to: LA County Supervisorial Districts US Congressional Districts State Senate and Assembly Districts Schools Districts Water and Waste Districts See more: http://egis3.lacounty.gov/dataportal/2012/12/20/2012-precincts-as-of-march-9th/"
      ]
     },
     "metadata": {},
     "output_type": "display_data"
    },
    {
     "name": "stdout",
     "output_type": "stream",
     "text": [
      "\n",
      "\n",
      "\n"
     ]
    },
    {
     "data": {
      "text/html": [
       "\n",
       "        <h3>School Campuses (LAUSD)</h3>\n",
       "        <div style=\"display: flex; flex-direction: row; flex-wrap: wrap; height:256px\">\n",
       "            <div style=\"flex: 0 0 256px; padding-right: 24px\">\n",
       "                \n",
       "            <p><b>ID:</b><a href=\"http://geohub.lacity.org/datasets/0b66505e58744fbdb113b34262a9f4fa_2\"> http://geohub.lacity.org/datasets/0b66505e58744fbdb113b34262a9f4fa_2</a></p>\n",
       "            <p><b>Issued:</b> 2015-11-14T03:30:39.000Z</p>\n",
       "            <p><b>Last Modified:</b> 2016-11-23T19:25:22.000Z</p>\n",
       "            <p><b>Publisher:</b> City of Los Angeles Hub</p>\n",
       "            <p><b>License:</b> https://hub.arcgis.com/api/v2/datasets/0b66505e58744fbdb113b34262a9f4fa_2/license</p>\n",
       "            <p><b>Download URL:</b><a href=\"http://geohub.lacity.org/datasets/0b66505e58744fbdb113b34262a9f4fa_2.geojson\"> http://geohub.lacity.org/datasets/0b66505e58744fbdb113b34262a9f4fa_2.geojson</a></p>\n",
       "        \n",
       "            </div>\n",
       "            <div style=\"flex: 1 1 0; height: 100%; overflow: auto\">\n",
       "                <p>\n",
       "                    Los Angeles Unified School District school campuses (polygons). \n",
       "                </p>\n",
       "            </div>\n",
       "        </div>\n",
       "        "
      ],
      "text/plain": [
       "http://geohub.lacity.org/datasets/0b66505e58744fbdb113b34262a9f4fa_2\n",
       "School Campuses (LAUSD)\n",
       "Los Angeles Unified School District school campuses (polygons). "
      ]
     },
     "metadata": {},
     "output_type": "display_data"
    },
    {
     "name": "stdout",
     "output_type": "stream",
     "text": [
      "\n",
      "\n",
      "\n"
     ]
    },
    {
     "data": {
      "text/html": [
       "\n",
       "        <h3>Precincts</h3>\n",
       "        <div style=\"display: flex; flex-direction: row; flex-wrap: wrap; height:256px\">\n",
       "            <div style=\"flex: 0 0 256px; padding-right: 24px\">\n",
       "                \n",
       "            <p><b>ID:</b><a href=\"http://geohub.lacity.org/datasets/c1447c80d12b4d499c273999314a6aee_1\"> http://geohub.lacity.org/datasets/c1447c80d12b4d499c273999314a6aee_1</a></p>\n",
       "            <p><b>Issued:</b> 2016-10-31T21:15:47.000Z</p>\n",
       "            <p><b>Last Modified:</b> 2016-10-31T22:28:29.000Z</p>\n",
       "            <p><b>Publisher:</b> City of Los Angeles Hub</p>\n",
       "            <p><b>License:</b> https://hub.arcgis.com/api/v2/datasets/c1447c80d12b4d499c273999314a6aee_1/license</p>\n",
       "            <p><b>Download URL:</b><a href=\"http://geohub.lacity.org/datasets/c1447c80d12b4d499c273999314a6aee_1.geojson\"> http://geohub.lacity.org/datasets/c1447c80d12b4d499c273999314a6aee_1.geojson</a></p>\n",
       "        \n",
       "            </div>\n",
       "            <div style=\"flex: 1 1 0; height: 100%; overflow: auto\">\n",
       "                <p>\n",
       "                    Contains precincts from the Los Angeles County Registrar/Recorder’s Office.  The Registrar/Recorder uses these precincts to run elections by grouping them into election precincts, so they capture the boundaries of all voting districts in the County, including, but not limited to:\n",
       "\n",
       "LA County Supervisorial Districts\n",
       "US Congressional Districts\n",
       "State Senate and Assembly Districts\n",
       "Schools Districts\n",
       "Water and Waste Districts\n",
       "\n",
       "See more: http://egis3.lacounty.gov/dataportal/2012/12/20/2012-precincts-as-of-march-9th/ \n",
       "\n",
       "                </p>\n",
       "            </div>\n",
       "        </div>\n",
       "        "
      ],
      "text/plain": [
       "http://geohub.lacity.org/datasets/c1447c80d12b4d499c273999314a6aee_1\n",
       "Precincts\n",
       "Contains precincts from the Los Angeles County Registrar/Recorder’s Office.  The Registrar/Recorder uses these precincts to run elections by grouping them into election precincts, so they capture the boundaries of all voting districts in the County, including, but not limited to:\n",
       "\n",
       "LA County Supervisorial Districts\n",
       "US Congressional Districts\n",
       "State Senate and Assembly Districts\n",
       "Schools Districts\n",
       "Water and Waste Districts\n",
       "\n",
       "See more: http://egis3.lacounty.gov/dataportal/2012/12/20/2012-precincts-as-of-march-9th/ \n"
      ]
     },
     "metadata": {},
     "output_type": "display_data"
    },
    {
     "name": "stdout",
     "output_type": "stream",
     "text": [
      "\n",
      "\n",
      "\n"
     ]
    },
    {
     "data": {
      "text/html": [
       "\n",
       "        <h3>Sewer Structures</h3>\n",
       "        <div style=\"display: flex; flex-direction: row; flex-wrap: wrap; height:256px\">\n",
       "            <div style=\"flex: 0 0 256px; padding-right: 24px\">\n",
       "                \n",
       "            <p><b>ID:</b><a href=\"http://geohub.lacity.org/datasets/157d8837811942d88688d97a8f04f82e_0\"> http://geohub.lacity.org/datasets/157d8837811942d88688d97a8f04f82e_0</a></p>\n",
       "            <p><b>Issued:</b> 2015-11-14T04:24:12.000Z</p>\n",
       "            <p><b>Last Modified:</b> 2016-03-16T20:54:55.000Z</p>\n",
       "            <p><b>Publisher:</b> City of Los Angeles Hub</p>\n",
       "            <p><b>License:</b> https://hub.arcgis.com/api/v2/datasets/157d8837811942d88688d97a8f04f82e_0/license</p>\n",
       "            <p><b>Download URL:</b><a href=\"http://geohub.lacity.org/datasets/157d8837811942d88688d97a8f04f82e_0.geojson\"> http://geohub.lacity.org/datasets/157d8837811942d88688d97a8f04f82e_0.geojson</a></p>\n",
       "        \n",
       "            </div>\n",
       "            <div style=\"flex: 1 1 0; height: 100%; overflow: auto\">\n",
       "                <p>\n",
       "                    This physical structures points feature class represents current wastewater information in the City of Los Angeles. The maintenance hole structure is used to provide access to the sewer from the surface. The Mapping and Land Records Division of the Bureau of Engineering, Department of Public Works provides the most rigorous geographic information of the sanitary sewer system using a geometric network model, to ensure that its sewers reflect current ground conditions. The sanitary sewer system, pump plants, wyes, maintenance holes, and other structures represent the sewer infrastructure in the City of Los Angeles. Wye and sewer information is available on NavigateLA, a website hosted by the Bureau of Engineering, Department of Public Works.Associated information about the wastewater Physical_structure is entered into attributes. Principal attributes include:JUNCTION_SUBTYPE: junction subtype is the principal field that describes various types of points as either Diversion Structure, Drop or Drop Trap, Flush, Junction Chamber, Junction Structure, Maintenance, Offset, Other Structure, Siphon, Special Shallow, Special Structure, Terminal, Transition, Trap, Valve Vault, Weir. For a complete list of attribute values, please refer to (TBA Wastewater data dictionary).  <br /><br />Wastewater Physical Structures points layer was created in geographical information systems (GIS) software to display the location of wastewater structures. The structures points layer is a feature class in the LACityWastewaterData.gdb Geodatabase dataset. The layer consists of spatial data as a points feature class and attribute data for the features. The points are entered manually based on wastewater sewer maps and BOE standard plans, and information about the points is entered into attributes. The physical structures points data layer differs from non-structures points data layer, such that physical structures points are maintenance holes. Reference the JUNCTION_SUBTYPE and MH_TYPE field for the type of structure. The STRUCTURE_ID field value is the unique ID. The wastewater structures points are inherited from a sewer spatial database originally created by the City's Wastewater program. The database was known as SIMMS, Sewer Inventory and Maintenance Management System. Structures information should only be added to the Wastewater Structures layer if documentation exists, such as a wastewater map approved by the City Engineer. Sewers plans and specifications proposed under private development are reviewed and approved by Bureau of Engineering. The Department of Public Works, Bureau of Engineering's, Brown Book (current as of 2010) outlines standard specifications for public works construction. For more information on sewer materials and structures, look at the Bureau of Engineering Manual, Part F, Sewer Design section, and a copy can be viewed at <a href=\"http://eng.lacity.org/techdocs/sewer-ma/f400.pdf\" target=\"_blank\">http://eng.lacity.org/techdocs/sewer-ma/f400.pdf</a>. For more information on maintenance holes, a copy can be viewed at <a href=\"http://boemaps.eng.ci.la.ca.us/reports/pdf/s140-0_std_pl.pdf\" target=\"_blank\">http://boemaps.eng.ci.la.ca.us/reports/pdf/s140-0_std_pl.pdf</a>.<br /><br />List of Fields:<br />SERVICEID: User-defined unique feature number that is automatically generated.<br />OBJECTID: Internal feature number.<br />FACILITY_NO: This field is currently not being edited.<br />ENG_DIST: LA City Engineering District. The boundaries are displayed in the Engineering Districts index map. Values:<br />     •  W - West LA Engineering District.<br />     •  H - Harbor Engineering District.<br />     •  C - Central Engineering District.<br />     •  V - Valley Engineering District.<br />CNCL_DIST: LA City Council District. Values:<br />     •  (numbers 1-15) - Current City Council Member for that District can be found on the mapping website http://navigatela.lacity.org/index.cfm, click Council Districts layer name, under Boundaries layer group.<br />CRTN_DT: Creation date of the point feature.<br />MDIST: This value is the maintenance district identifier. Bureau of Sanitation needs to provide BOE with updated definitions. This field is currently not being edited.<br />LAT: The value is the latitude coordinate of the point.<br />USER_ID: The name of the user carrying out the edits of the structure data.<br />LON: The value is the longitude coordinate of the point.<br />NAME: This field is currently not being edited.<br />VDATUM: This is the year of the standard plan, which contains the information the user enters into pipe data.<br />MHMATERIAL: The value is the material that the structure is made from. This information is not specified on the standard plan. Values:<br />     •  UNK - Unknown.<br />     •  RCP - Reinforced Concrete Pipe.<br />     •  CSP - Corrugated Steel Pipe.<br />     •  CIPC - Cast in place concrete.<br />     •  C - Concrete.<br />     •  BRK - Brick.<br />     •  PRC - Precast Reinforced Concrete.<br />     •  B - Brick.<br />     •  CON - Concrete.<br />     •  VCP - Vitrified Clay Pipe.<br />     •  O - Other.<br />     •  P - Plastic.<br />BLKNO: The value is the block number of the street on which the physical structure is located.<br />STREET2: The value is the cross street name on which the physical structure hole is located, if applicable.<br />COVERDIAM: The value diameter of the physical structure cover expressed in feet.<br />BARRELDIAM: The value diameter of the inside of the physical structure expressed in feet.<br />STATUS: This value is the active or inactive status of the structure. Values:<br />     •  ABAN - Proposed Inactive.<br />     •  PROP_ACT - Proposed Active.<br />     •  INACT - Inactive.<br />     •  ACT - Active.<br />     •  ABAN - Abandoned.<br />SEQ: The value is the sequence number of the maintenance hole.<br />SHAPE: Feature geometry.<br />STREET1: The value is the street name on which the physical structure is located.<br />MH_BASE: The value is the non-structure base, used by Bureau of Sanitation to describe the direction of flow at the intersection of a pipe and a non-structure. Values:<br />     •  F - F.<br />     •  B - B.<br />     •  G - G.<br />     •  H - H.<br />     •  Q - Q.<br />MH_TYPE: The value signifies the maintenance hole type or other structure type. Values:<br />     •  DMH - Drop Maintenance Hole.<br />     •  CFS - Confluence Structure.<br />     •  DMT - Drop trap Maintenance Hole.<br />     •  ABN - Abandoned.<br />     •  BPS - Bypass Structure.<br />     •  DI - Diversion Structure.<br />     •  SH - Shallow Maintenance Hole.<br />     •  OMH - Offset Maintenance Hole.<br />     •  RV - Relief Valve.<br />     •  SIP - Siphon.<br />     •  VV - Valve vault.<br />     •  LH - Lamp Hole.<br />     •  FL - Flush Station.<br />     •  GV - Gate Valve.<br />     •  TRP - Trap maintenance hole. This type of structure is used to prevent sewer gases from flowing upstream in the sewer line.<br />     •  HD - Transition.<br />     •  TRS - Transition structure.<br />     •  FT - Flush Tank.<br />     •  WMH - Weir maintenance hole. This type of structure is used to gauge sewer flows. Automatic recording devices may be installed for flow measurement.<br />     •  INA - Inactive.<br />     •  MH - Maintenance Hole.<br />     •  OTH - Other structure.<br />     •  FS - Flush Station.<br />     •  WW - Wet well.<br />     •  JT - Junction Chamber Trap.<br />     •  JC - Junction Chamber.<br />     •  PMH - Pressure Maintenance Hole.<br />     •  PS - Pump Station.<br />     •  FMH - Flush Maintenance Hole.<br />     •  TMH - Terminal maintenance hole.<br />     •  GS - Gauging Structure.<br />     •  JS - Junction Structure.<br />LID_ELEV: The value is the lid elevation of the structure, in decimal feet.<br />BASIN: The value is basin number.<br />OWNER: This value is the agency or municipality that constructed the physical structure. Values:<br />     •  CTY - City of LA.<br />     •  FED - Federal Facilities.<br />     •  OUTLA - Adjoining cities.<br />     •  COSA - LA County Sanitation.<br />     •  PVT - Private.<br />COMMENTS: This attribute contains comments of structures and structure status.<br />MH_DEPTH: The value is the depth of the physical structure expressed in decimal feet.<br />JUNCTION_SUBTYPE: The value is the type of physical structure. Values:<br />     •  1 - Maintenance.<br />     •  4 - Offset.<br />     •  15 - Valve Vault.<br />     •  6 - Diversion Structure.<br />     •  8 - Flush.<br />     •  9 - Junction Chamber.<br />     •  5 - Trap.<br />     •  7 - Special Shallow.<br />     •  3 - Terminal.<br />     •  10 - Siphon.<br />     •  13 - Junction Structure.<br />     •  16 - Transition.<br />     •  2 - Drop or Drop Trap.<br />     •  11 - Weir.<br />     •  12 - Special Structure.<br />     •  14 - Other Structure.<br />LAST_UPDATE: Date of last update of the point feature.<br />YEAR_INST: This is the year of the structure installation.<br />ROUTE: The value is the sewer maintenance route number.<br />ADDRESS: This field is currently not being edited.<br />ENABLED: Internal feature number.<br />STRUCTURE_ID: The value is the ID of the structure. It could be either the value from the UP_STRUCT or DN_STRUCT fields. This point is the structure that may be a maintenance hole, junction, siphon, etc. The field STRUCTURE_ID is a key attribute to relate the physical structures feature class to the UP_MH field or the DN_MH field in pipe lines feature class.<br />ASSETID: User-defined unique feature number that is automatically generated.\n",
       "                </p>\n",
       "            </div>\n",
       "        </div>\n",
       "        "
      ],
      "text/plain": [
       "http://geohub.lacity.org/datasets/157d8837811942d88688d97a8f04f82e_0\n",
       "Sewer Structures\n",
       "This physical structures points feature class represents current wastewater information in the City of Los Angeles. The maintenance hole structure is used to provide access to the sewer from the surface. The Mapping and Land Records Division of the Bureau of Engineering, Department of Public Works provides the most rigorous geographic information of the sanitary sewer system using a geometric network model, to ensure that its sewers reflect current ground conditions. The sanitary sewer system, pump plants, wyes, maintenance holes, and other structures represent the sewer infrastructure in the City of Los Angeles. Wye and sewer information is available on NavigateLA, a website hosted by the Bureau of Engineering, Department of Public Works.Associated information about the wastewater Physical_structure is entered into attributes. Principal attributes include:JUNCTION_SUBTYPE: junction subtype is the principal field that describes various types of points as either Diversion Structure, Drop or Drop Trap, Flush, Junction Chamber, Junction Structure, Maintenance, Offset, Other Structure, Siphon, Special Shallow, Special Structure, Terminal, Transition, Trap, Valve Vault, Weir. For a complete list of attribute values, please refer to (TBA Wastewater data dictionary).  <br /><br />Wastewater Physical Structures points layer was created in geographical information systems (GIS) software to display the location of wastewater structures. The structures points layer is a feature class in the LACityWastewaterData.gdb Geodatabase dataset. The layer consists of spatial data as a points feature class and attribute data for the features. The points are entered manually based on wastewater sewer maps and BOE standard plans, and information about the points is entered into attributes. The physical structures points data layer differs from non-structures points data layer, such that physical structures points are maintenance holes. Reference the JUNCTION_SUBTYPE and MH_TYPE field for the type of structure. The STRUCTURE_ID field value is the unique ID. The wastewater structures points are inherited from a sewer spatial database originally created by the City's Wastewater program. The database was known as SIMMS, Sewer Inventory and Maintenance Management System. Structures information should only be added to the Wastewater Structures layer if documentation exists, such as a wastewater map approved by the City Engineer. Sewers plans and specifications proposed under private development are reviewed and approved by Bureau of Engineering. The Department of Public Works, Bureau of Engineering's, Brown Book (current as of 2010) outlines standard specifications for public works construction. For more information on sewer materials and structures, look at the Bureau of Engineering Manual, Part F, Sewer Design section, and a copy can be viewed at <a href=\"http://eng.lacity.org/techdocs/sewer-ma/f400.pdf\" target=\"_blank\">http://eng.lacity.org/techdocs/sewer-ma/f400.pdf</a>. For more information on maintenance holes, a copy can be viewed at <a href=\"http://boemaps.eng.ci.la.ca.us/reports/pdf/s140-0_std_pl.pdf\" target=\"_blank\">http://boemaps.eng.ci.la.ca.us/reports/pdf/s140-0_std_pl.pdf</a>.<br /><br />List of Fields:<br />SERVICEID: User-defined unique feature number that is automatically generated.<br />OBJECTID: Internal feature number.<br />FACILITY_NO: This field is currently not being edited.<br />ENG_DIST: LA City Engineering District. The boundaries are displayed in the Engineering Districts index map. Values:<br />     •  W - West LA Engineering District.<br />     •  H - Harbor Engineering District.<br />     •  C - Central Engineering District.<br />     •  V - Valley Engineering District.<br />CNCL_DIST: LA City Council District. Values:<br />     •  (numbers 1-15) - Current City Council Member for that District can be found on the mapping website http://navigatela.lacity.org/index.cfm, click Council Districts layer name, under Boundaries layer group.<br />CRTN_DT: Creation date of the point feature.<br />MDIST: This value is the maintenance district identifier. Bureau of Sanitation needs to provide BOE with updated definitions. This field is currently not being edited.<br />LAT: The value is the latitude coordinate of the point.<br />USER_ID: The name of the user carrying out the edits of the structure data.<br />LON: The value is the longitude coordinate of the point.<br />NAME: This field is currently not being edited.<br />VDATUM: This is the year of the standard plan, which contains the information the user enters into pipe data.<br />MHMATERIAL: The value is the material that the structure is made from. This information is not specified on the standard plan. Values:<br />     •  UNK - Unknown.<br />     •  RCP - Reinforced Concrete Pipe.<br />     •  CSP - Corrugated Steel Pipe.<br />     •  CIPC - Cast in place concrete.<br />     •  C - Concrete.<br />     •  BRK - Brick.<br />     •  PRC - Precast Reinforced Concrete.<br />     •  B - Brick.<br />     •  CON - Concrete.<br />     •  VCP - Vitrified Clay Pipe.<br />     •  O - Other.<br />     •  P - Plastic.<br />BLKNO: The value is the block number of the street on which the physical structure is located.<br />STREET2: The value is the cross street name on which the physical structure hole is located, if applicable.<br />COVERDIAM: The value diameter of the physical structure cover expressed in feet.<br />BARRELDIAM: The value diameter of the inside of the physical structure expressed in feet.<br />STATUS: This value is the active or inactive status of the structure. Values:<br />     •  ABAN - Proposed Inactive.<br />     •  PROP_ACT - Proposed Active.<br />     •  INACT - Inactive.<br />     •  ACT - Active.<br />     •  ABAN - Abandoned.<br />SEQ: The value is the sequence number of the maintenance hole.<br />SHAPE: Feature geometry.<br />STREET1: The value is the street name on which the physical structure is located.<br />MH_BASE: The value is the non-structure base, used by Bureau of Sanitation to describe the direction of flow at the intersection of a pipe and a non-structure. Values:<br />     •  F - F.<br />     •  B - B.<br />     •  G - G.<br />     •  H - H.<br />     •  Q - Q.<br />MH_TYPE: The value signifies the maintenance hole type or other structure type. Values:<br />     •  DMH - Drop Maintenance Hole.<br />     •  CFS - Confluence Structure.<br />     •  DMT - Drop trap Maintenance Hole.<br />     •  ABN - Abandoned.<br />     •  BPS - Bypass Structure.<br />     •  DI - Diversion Structure.<br />     •  SH - Shallow Maintenance Hole.<br />     •  OMH - Offset Maintenance Hole.<br />     •  RV - Relief Valve.<br />     •  SIP - Siphon.<br />     •  VV - Valve vault.<br />     •  LH - Lamp Hole.<br />     •  FL - Flush Station.<br />     •  GV - Gate Valve.<br />     •  TRP - Trap maintenance hole. This type of structure is used to prevent sewer gases from flowing upstream in the sewer line.<br />     •  HD - Transition.<br />     •  TRS - Transition structure.<br />     •  FT - Flush Tank.<br />     •  WMH - Weir maintenance hole. This type of structure is used to gauge sewer flows. Automatic recording devices may be installed for flow measurement.<br />     •  INA - Inactive.<br />     •  MH - Maintenance Hole.<br />     •  OTH - Other structure.<br />     •  FS - Flush Station.<br />     •  WW - Wet well.<br />     •  JT - Junction Chamber Trap.<br />     •  JC - Junction Chamber.<br />     •  PMH - Pressure Maintenance Hole.<br />     •  PS - Pump Station.<br />     •  FMH - Flush Maintenance Hole.<br />     •  TMH - Terminal maintenance hole.<br />     •  GS - Gauging Structure.<br />     •  JS - Junction Structure.<br />LID_ELEV: The value is the lid elevation of the structure, in decimal feet.<br />BASIN: The value is basin number.<br />OWNER: This value is the agency or municipality that constructed the physical structure. Values:<br />     •  CTY - City of LA.<br />     •  FED - Federal Facilities.<br />     •  OUTLA - Adjoining cities.<br />     •  COSA - LA County Sanitation.<br />     •  PVT - Private.<br />COMMENTS: This attribute contains comments of structures and structure status.<br />MH_DEPTH: The value is the depth of the physical structure expressed in decimal feet.<br />JUNCTION_SUBTYPE: The value is the type of physical structure. Values:<br />     •  1 - Maintenance.<br />     •  4 - Offset.<br />     •  15 - Valve Vault.<br />     •  6 - Diversion Structure.<br />     •  8 - Flush.<br />     •  9 - Junction Chamber.<br />     •  5 - Trap.<br />     •  7 - Special Shallow.<br />     •  3 - Terminal.<br />     •  10 - Siphon.<br />     •  13 - Junction Structure.<br />     •  16 - Transition.<br />     •  2 - Drop or Drop Trap.<br />     •  11 - Weir.<br />     •  12 - Special Structure.<br />     •  14 - Other Structure.<br />LAST_UPDATE: Date of last update of the point feature.<br />YEAR_INST: This is the year of the structure installation.<br />ROUTE: The value is the sewer maintenance route number.<br />ADDRESS: This field is currently not being edited.<br />ENABLED: Internal feature number.<br />STRUCTURE_ID: The value is the ID of the structure. It could be either the value from the UP_STRUCT or DN_STRUCT fields. This point is the structure that may be a maintenance hole, junction, siphon, etc. The field STRUCTURE_ID is a key attribute to relate the physical structures feature class to the UP_MH field or the DN_MH field in pipe lines feature class.<br />ASSETID: User-defined unique feature number that is automatically generated."
      ]
     },
     "metadata": {},
     "output_type": "display_data"
    },
    {
     "name": "stdout",
     "output_type": "stream",
     "text": [
      "\n",
      "\n",
      "\n"
     ]
    },
    {
     "data": {
      "text/html": [
       "\n",
       "        <h3>State Senate Districts</h3>\n",
       "        <div style=\"display: flex; flex-direction: row; flex-wrap: wrap; height:256px\">\n",
       "            <div style=\"flex: 0 0 256px; padding-right: 24px\">\n",
       "                \n",
       "            <p><b>ID:</b><a href=\"http://geohub.lacity.org/datasets/f54f82f393714827bb790a62b1f9377f_23\"> http://geohub.lacity.org/datasets/f54f82f393714827bb790a62b1f9377f_23</a></p>\n",
       "            <p><b>Issued:</b> 2015-11-14T01:31:58.000Z</p>\n",
       "            <p><b>Last Modified:</b> 2016-03-16T19:19:30.000Z</p>\n",
       "            <p><b>Publisher:</b> City of Los Angeles Hub</p>\n",
       "            <p><b>License:</b> https://hub.arcgis.com/api/v2/datasets/f54f82f393714827bb790a62b1f9377f_23/license</p>\n",
       "            <p><b>Download URL:</b><a href=\"http://geohub.lacity.org/datasets/f54f82f393714827bb790a62b1f9377f_23.geojson\"> http://geohub.lacity.org/datasets/f54f82f393714827bb790a62b1f9377f_23.geojson</a></p>\n",
       "        \n",
       "            </div>\n",
       "            <div style=\"flex: 1 1 0; height: 100%; overflow: auto\">\n",
       "                <p>\n",
       "                    Senate Districts for the State of California \n",
       "                </p>\n",
       "            </div>\n",
       "        </div>\n",
       "        "
      ],
      "text/plain": [
       "http://geohub.lacity.org/datasets/f54f82f393714827bb790a62b1f9377f_23\n",
       "State Senate Districts\n",
       "Senate Districts for the State of California "
      ]
     },
     "metadata": {},
     "output_type": "display_data"
    },
    {
     "name": "stdout",
     "output_type": "stream",
     "text": [
      "\n",
      "\n",
      "\n"
     ]
    },
    {
     "data": {
      "text/html": [
       "\n",
       "        <h3>Sewer Outfall Pipes by Size</h3>\n",
       "        <div style=\"display: flex; flex-direction: row; flex-wrap: wrap; height:256px\">\n",
       "            <div style=\"flex: 0 0 256px; padding-right: 24px\">\n",
       "                \n",
       "            <p><b>ID:</b><a href=\"http://geohub.lacity.org/datasets/1d2135f8dba941e9b29af8245f62c373_11\"> http://geohub.lacity.org/datasets/1d2135f8dba941e9b29af8245f62c373_11</a></p>\n",
       "            <p><b>Issued:</b> 2015-11-14T04:29:13.000Z</p>\n",
       "            <p><b>Last Modified:</b> 2016-03-16T19:16:50.000Z</p>\n",
       "            <p><b>Publisher:</b> City of Los Angeles Hub</p>\n",
       "            <p><b>License:</b> https://hub.arcgis.com/api/v2/datasets/1d2135f8dba941e9b29af8245f62c373_11/license</p>\n",
       "            <p><b>Download URL:</b><a href=\"http://geohub.lacity.org/datasets/1d2135f8dba941e9b29af8245f62c373_11.geojson\"> http://geohub.lacity.org/datasets/1d2135f8dba941e9b29af8245f62c373_11.geojson</a></p>\n",
       "        \n",
       "            </div>\n",
       "            <div style=\"flex: 1 1 0; height: 100%; overflow: auto\">\n",
       "                <p>\n",
       "                    This pipe feature class represents current wastewater information of the mainline sewer in the City of Los Angeles. The Mapping and Land Records Division of the Bureau of Engineering, Department of Public Works provides the most rigorous geographic information of the storm drain system using a geometric network model, to ensure that its storm drains reflect current ground conditions. The conduits and inlets represent the storm drain infrastructure in the City of Los Angeles. Storm drain information is available on NavigateLA, a website hosted by the Bureau of Engineering, Department of Public Works.Associated information about the wastewater Pipe is entered into attributes. Principal attributes include:PIPE_SUBTYPE: pipe subtype is the principal field that describes various types of lines as either Airline, Force Main, Gravity, Siphon, or Special Lateral.For a complete list of attribute values, please refer to (TBA Wastewater data dictionary). <br /><br />Wastewater pipe lines layer was created in geographical information systems (GIS) software to display the location of sewer pipes. The pipe lines layer is a feature class in the LACityWastewaterData.gdb Geodatabase dataset. The layer consists of spatial data as a line feature class and attribute data for the features. The lines are entered manually based on wastewater sewer maps and BOE standard plans, and information about the lines is entered into attributes. The pipe lines are the main sewers constructed within the public right-of-way in the City of Los Angeles. The ends of line segments, of the pipe lines data, are coincident with the wastewater connectivity nodes, cleanout nodes, non-structures, and physical structures points data. Refer to those layers for more information. The wastewater pipe lines are inherited from a sewer spatial database originally created by the City's Wastewater program. The database was known as SIMMS, Sewer Inventory and Maintenance Management System. For the historical information of the wastewater pipe lines layer, refer to the metadata nested under the sections Data Quality Information, Lineage, Process Step section. Pipe information should only be added to the Wastewater Pipes layer if documentation exists, such as a wastewater map approved by the City Engineer. Sewers plans and specifications proposed under private development are reviewed and approved by Bureau of Engineering. The Department of Public Works, Bureau of Engineering's, Brown Book (current as of 2010) outlines standard specifications for public works construction. For more information on sewer materials and structures, look at the Bureau of Engineering Manual, Part F, Sewer Design, F 400 Sewer Materials and Structures section, and a copy can be viewed at <a href=\"http://eng.lacity.org/techdocs/sewer-ma/f400.pdf\" target=\"_blank\">http://eng.lacity.org/techdocs/sewer-ma/f400.pdf</a>.<br /><br />List of Fields:<br />STREET: This is the street name and street suffix on which the pipe is located.<br />PIPE_LABEL: This attribute identifies the arc segment between two nodes, which represents the pipe segment. There could be any number of pipes between the same two maintenance holes and at least one. If there is more than one pipe between the same two maintenance holes, then a value other than 'A' is assigned to each pipe, such as the value 'B', 'C', and so on consecutively. Also, when a new pipe is constructed, some old pipes are not removed from the ground and the new pipe is added around the existing pipe. In this case, if the original pipe was assigned an 'A', the new pipe is assigned a 'B'.<br />C_UP_INV: This is the calculated pipe upstream invert elevation value.<br />PIPE_MAT: The value signifies the various materials that define LA City's sewer system. Values:<br />     •  TCP - Terra Cotta pipe.<br />     •  CMP - Corrugated metal pipe.<br />     •  RCP - Reinforced concrete pipe. Used for sewers larger than 42inch, with exceptions.<br />     •  PCT - Polymer concrete pipe.<br />     •  CON - Concrete or cement.<br />     •  DIP - Ductile iron pipe.<br />     •  ABS - Acrylonitrile butadiene styrene.<br />     •  STL - Steel.<br />     •  UNK - Unknown.<br />     •  ACP - Asbestos cement pipe.<br />     •  RCL - Reinforced concrete pipe lined.<br />     •  OTH - Other or unknown.<br />     •  VCP - Vitrified clay pipe.<br />     •  TRS - Truss pipe.<br />     •  CIP - Cast iron pipe.<br />     •  PVC - Polyvinyl chloride.<br />     •  BRK - Brick.<br />     •  RCPL - Lined Reinforced concrete pipe. Used for sewers larger than 42inch, with exceptions.<br />     •  B/C - Concrete brick pipe.<br />     •  FRP - Centrifugally cast fiberglass reinforced plastic mortar pipe.<br />DN_INV: This is the downstream invert elevation value.<br />PIPE_WIDTH: This value is the pipe dimension for shapes other than round.<br />C_SLOPE: This is the calculated slope.<br />ENABLED: Internal feature number.<br />DN_STRUCT: This attribute identifies a number at one of two end points of the line segment that represents a sewer pipe. A sewer pipe line has a value for the UP_STRUCT and DN_STRUCT fields. This point is the downstream structure that may be a maintenance hole, pump station, junction, etc. Each of these structures is assigned an identifying number that corresponds to a Sewer Wye data record. The 8 digit value is based on an S-Map index map using a standardized numbering scheme. The S-Map is divided into 16 grids, each numbered sequentially from west to east and north to south. The first three digits represent the S-Map number, the following two digits represent the grid number, and the last three digits represent the structure number within the grid. This field also relates to the (name of table or layer) node attribute table.<br />PIPE_SIZE: This value is the inside pipe diameter in inches.<br />MON_INST: This is the month of the pipe installation.<br />PIPE_ID: The value is a combination of the values in the UP_STRUCT, DN_STRUCT, and PIPE_LABEL fields. This is the 17 digit identifier of each pipe segment and is a key attribute of the pipe line data layer. This field named PIPE_ID relates to the field in the Annotation Pipe feature class and to the field in the Wye line feature class data layers.<br />REMARKS: This attribute contains additional comments regarding the pipe line segment.<br />DN_STA_PLS: This is the tens value of the downstream stationing.<br />EASEMENT: This value denotes whether or not the pipe is within an easement.<br />DN_STA_100: This is the hundreds value of the downstream stationing.<br />PIPE_SHAPE: The value signifies the shape of the pipe cross section. Values:<br />     •  SE - Semi-Elliptical.<br />     •  O1 - Semi-Elliptical.<br />     •  UNK - Unknown.<br />     •  BM - Burns and McDonald.<br />     •  S2 - Semi-Elliptical.<br />     •  EL - Elliptical.<br />     •  O2 - Semi-Elliptical.<br />     •  CIR - Circular.<br />     •  Box - Box (Rectangular).<br />PIPE_STATUS: This attribute contains the pipe status. Values:<br />     •  U - Unknown.<br />     •  P - Proposed.<br />     •  T - Abandoned.<br />     •  F - As Built.<br />     •  S - Siphon.<br />     •  L - Lateral.<br />     •  A - As Bid.<br />     •  N - Non-City.<br />     •  R - Airline.<br />ENG_DIST: LA City Engineering District. The boundaries are displayed in the Engineering Districts index map. Values:<br />     •  O - Out LA.<br />     •  V - Valley Engineering District.<br />     •  W - West LA Engineering District.<br />     •  H - Harbor Engineering District.<br />     •  C - Central Engineering District.<br />C_PIPE_LEN: This is the calculated pipe length.<br />OWNER: This value is the agency or municipality that constructed the pipe. Values:<br />     •  PVT - Private.<br />     •  CTY - City of LA.<br />     •  FED - Federal Facilities.<br />     •  COSA - LA County Sanitation.<br />     •  OUTLA - Adjoining cities.<br />CRTN_DT: Creation date of the line feature.<br />TRTMNT_LOC: This value is the treatment plant used to treat the pipe wastewater.<br />PCT_ENTRY2: This is the flag determining if the second slope value, in SLOPE2 field, was entered in percent as opposed to a decimal. Values:<br />     •  Y - The value is expressed as a percent.<br />     •  N - The value is not expressed as a percent.<br />UP_STA_100: This is the hundreds value of the upstream stationing.<br />DN_MH: The value is the ID of the structure. This point is the structure that may be a maintenance hole, pump station, junction, etc. The field name DN_MH signifies the structure is the point at the downstream end of the pipe line segment. The field DN_MH is a key attribute to relate the pipe lines feature class to the STRUCTURE_ID field in the physical structures feature class.<br />SAN_PIPE_ID<br />USER_ID: The name of the user carrying out the edits of the pipe data.<br />WYE_MAT: This is the pipe material as shown on the wye card.<br />WYE_DIAM: This is the pipe diameter as shown on the wye card.<br />SLOPE2: This is the second slope value used for pipe segments with a vertical curve.<br />EST_YR_LEV: This value is the year installed level.<br />EST_MATL: This is the flag determining if the pipe material was estimated.<br />LINER_DATE: This value is the year that the pipe was re-lined.<br />LAST_UPDATE: Date of last update of the line feature.<br />SHAPE: Feature geometry.<br />EST_YEAR: This is the flag indicating if the year if installation was estimated.<br />EST_UPINV: This is the flag determining if the pipe upstream elevation value was estimated.<br />WYE_UPDATE: This value indicates whether the wye card was updated.<br />PCT_ENTRY: This is the flag determining if the slope was entered in percent as opposed to a decimal. Values:<br />     •  N - The value is not expressed as a percent.<br />     •  Y - The value is expressed as a percent.<br />PROF: This is the profile drawing number.<br />PLAN1: This is the improvement plan drawing number.<br />PLAN2: This is the supplementary improvement plan drawing number.<br />EST_DNINV: This is the flag determining if the pipe downstream elevation value was estimated.<br />UP_STRUCT: This attribute identifies a number at one of two end points of the line segment that represents a sewer pipe. A sewer pipe line has a value for the UP_STRUCT and DN_STRUCT fields. This point is the upstream structure that may be a maintenance hole, pump station, junction, etc. Each of these structures is assigned an identifying number that corresponds to a Sewer Wye data record. The 8 digit value is based on an S-Map index map using a standardized numbering scheme. The S-Map is divided into 16 grids, each numbered sequentially from west to east and north to south. The first three digits represent the S-Map number, the following two digits represent the grid number, and the last three digits represent the structure number within the grid. This field also relates to the (name of table or layer) node attribute table.<br />SYSTEM: This attribute identifies the major sewer and sewer outfall system the pipe is associated with. Values:<br />     •  VRS - Venice relief sewer.<br />     •  GBIS - Glendale Burbank interceptor sewer.<br />     •  WLAIS - West Los Angeles interceptor sewer.<br />     •  NOS - North outfall sewer.<br />     •  LCIS - La Cienega interceptor sewer.<br />     •  WRS - Westwood relief sewer.<br />     •  VOS - Venice outfall sewer.<br />     •  RRS - Robertson relief sewer.<br />     •  NEIS - North East interceptor sewer.<br />     •  NCOS - North Central outfall sewer.<br />     •  MAZE - Area of many sewer junctions and interconnections.<br />     •  WHIS - Wilshire-Hollywood interceptor sewer.<br />     •  CIS - Coastal interceptor sewer.<br />     •  NORS - North outfall replacement sewer.<br />     •  LCSFVRS - La Cienega San Fernando Valley relief sewer.<br />     •  ECIS - East Central interceptor sewer.<br />     •  COS - Central outfall sewer.<br />     •  VORS - Valley outfall relief sewer.<br />     •  AVORS - Additional Valley outfall relief sewer.<br />     •  EVRS - East Valley relief sewer.<br />     •  EVIS - East Valley interceptor sewer.<br />V_CURVE: This is the flag for pipe segments with a vertical curve.<br />UP_MH: The value is the ID of the structure. This point is the structure that may be a maintenance hole, pump station, junction, etc. The field name UP_MH signifies the structure is the point at the upstream end of the pipe line segment. The field UP_MH is a key attribute to relate the pipe lines feature class to the STRUCTURE_ID field in the physical structures feature class.<br />OBJECTID: Internal feature number.<br />CAPACITY: This value is a calculated pipe capacity based on its slope and shape.<br />VDATUM: This is the year of the standard plan, which contains the information the user enters into pipe data.<br />WYE_LENG: This is the pipe length as shown on the wye card.<br />REHAB: This attribute indicates if the pipe has been rehabilitated.<br />GRV_FM: The value describes the type of flow that the pipe is handling. Values:<br />     •  GR - Gravity flow.<br />     •  SI - Siphon condition.<br />     •  FM - Force main.<br />     •  AL - Air line.<br />     •  AV - Air Vent.<br />HR_VER: This value flags the pipe line segment as either horizontal, vertical, or both. Values:<br />     •  V - Vertical curve.<br />     •  B - Both horizontal and vertical curves.<br />     •  H - Horizontal curve.<br />PIPE_SUBTYPE: This attribute is the pipe subtype.<br />SLOPE_PCT: This value is the percentage of slope of the pipe shown as a decimal value.<br />YEAR_INST: This is the year of pipe installation.<br />COMMENTS: This attribute contains comments regarding the pipe status.<br />LINER: The value describes the basic material used to rehab a pipe. Values:<br />     •  S - Steel liner.<br />     •  L - Plastic liner.<br />     •  T - Tile liner.<br />WYEMAP: This is the wye card number reference.<br />UP_INV: This is the upstream invert elevation value.<br />UP_STA_PLS: This is the tens value of the upstream stationing.<br />BASIN: This attribute is the basin number.<br />CLASS: This attribute is the sewer class the pipe belongs to. Values:<br />     •  3 - Secondary Sewer.<br />     •  2 - Primary Sewer.<br />     •  0 - Unknown.<br />     •  1 - Major Outfall or Interceptor.<br />WYE_CON: This is the number of wye connections served by pipe segment. There are up to 51 wye connections in the current data.<br />ASSETID: User-defined unique feature number that is automatically generated.<br />BLOCK: This is the block number on which the pipe is located.<br />SERVICEID: User-defined unique feature number that is automatically generated.<br />PIPE_LENG: This is the length of the pipe segment.<br />C_DN_INV: This is the calculated pipe downstream invert elevation value.<br />NO_LAT: This is the number of laterals served by pipe segment. There are up to 50 laterals in the current data.<br />SHAPE_Length: Length of feature in internal units.\n",
       "                </p>\n",
       "            </div>\n",
       "        </div>\n",
       "        "
      ],
      "text/plain": [
       "http://geohub.lacity.org/datasets/1d2135f8dba941e9b29af8245f62c373_11\n",
       "Sewer Outfall Pipes by Size\n",
       "This pipe feature class represents current wastewater information of the mainline sewer in the City of Los Angeles. The Mapping and Land Records Division of the Bureau of Engineering, Department of Public Works provides the most rigorous geographic information of the storm drain system using a geometric network model, to ensure that its storm drains reflect current ground conditions. The conduits and inlets represent the storm drain infrastructure in the City of Los Angeles. Storm drain information is available on NavigateLA, a website hosted by the Bureau of Engineering, Department of Public Works.Associated information about the wastewater Pipe is entered into attributes. Principal attributes include:PIPE_SUBTYPE: pipe subtype is the principal field that describes various types of lines as either Airline, Force Main, Gravity, Siphon, or Special Lateral.For a complete list of attribute values, please refer to (TBA Wastewater data dictionary). <br /><br />Wastewater pipe lines layer was created in geographical information systems (GIS) software to display the location of sewer pipes. The pipe lines layer is a feature class in the LACityWastewaterData.gdb Geodatabase dataset. The layer consists of spatial data as a line feature class and attribute data for the features. The lines are entered manually based on wastewater sewer maps and BOE standard plans, and information about the lines is entered into attributes. The pipe lines are the main sewers constructed within the public right-of-way in the City of Los Angeles. The ends of line segments, of the pipe lines data, are coincident with the wastewater connectivity nodes, cleanout nodes, non-structures, and physical structures points data. Refer to those layers for more information. The wastewater pipe lines are inherited from a sewer spatial database originally created by the City's Wastewater program. The database was known as SIMMS, Sewer Inventory and Maintenance Management System. For the historical information of the wastewater pipe lines layer, refer to the metadata nested under the sections Data Quality Information, Lineage, Process Step section. Pipe information should only be added to the Wastewater Pipes layer if documentation exists, such as a wastewater map approved by the City Engineer. Sewers plans and specifications proposed under private development are reviewed and approved by Bureau of Engineering. The Department of Public Works, Bureau of Engineering's, Brown Book (current as of 2010) outlines standard specifications for public works construction. For more information on sewer materials and structures, look at the Bureau of Engineering Manual, Part F, Sewer Design, F 400 Sewer Materials and Structures section, and a copy can be viewed at <a href=\"http://eng.lacity.org/techdocs/sewer-ma/f400.pdf\" target=\"_blank\">http://eng.lacity.org/techdocs/sewer-ma/f400.pdf</a>.<br /><br />List of Fields:<br />STREET: This is the street name and street suffix on which the pipe is located.<br />PIPE_LABEL: This attribute identifies the arc segment between two nodes, which represents the pipe segment. There could be any number of pipes between the same two maintenance holes and at least one. If there is more than one pipe between the same two maintenance holes, then a value other than 'A' is assigned to each pipe, such as the value 'B', 'C', and so on consecutively. Also, when a new pipe is constructed, some old pipes are not removed from the ground and the new pipe is added around the existing pipe. In this case, if the original pipe was assigned an 'A', the new pipe is assigned a 'B'.<br />C_UP_INV: This is the calculated pipe upstream invert elevation value.<br />PIPE_MAT: The value signifies the various materials that define LA City's sewer system. Values:<br />     •  TCP - Terra Cotta pipe.<br />     •  CMP - Corrugated metal pipe.<br />     •  RCP - Reinforced concrete pipe. Used for sewers larger than 42inch, with exceptions.<br />     •  PCT - Polymer concrete pipe.<br />     •  CON - Concrete or cement.<br />     •  DIP - Ductile iron pipe.<br />     •  ABS - Acrylonitrile butadiene styrene.<br />     •  STL - Steel.<br />     •  UNK - Unknown.<br />     •  ACP - Asbestos cement pipe.<br />     •  RCL - Reinforced concrete pipe lined.<br />     •  OTH - Other or unknown.<br />     •  VCP - Vitrified clay pipe.<br />     •  TRS - Truss pipe.<br />     •  CIP - Cast iron pipe.<br />     •  PVC - Polyvinyl chloride.<br />     •  BRK - Brick.<br />     •  RCPL - Lined Reinforced concrete pipe. Used for sewers larger than 42inch, with exceptions.<br />     •  B/C - Concrete brick pipe.<br />     •  FRP - Centrifugally cast fiberglass reinforced plastic mortar pipe.<br />DN_INV: This is the downstream invert elevation value.<br />PIPE_WIDTH: This value is the pipe dimension for shapes other than round.<br />C_SLOPE: This is the calculated slope.<br />ENABLED: Internal feature number.<br />DN_STRUCT: This attribute identifies a number at one of two end points of the line segment that represents a sewer pipe. A sewer pipe line has a value for the UP_STRUCT and DN_STRUCT fields. This point is the downstream structure that may be a maintenance hole, pump station, junction, etc. Each of these structures is assigned an identifying number that corresponds to a Sewer Wye data record. The 8 digit value is based on an S-Map index map using a standardized numbering scheme. The S-Map is divided into 16 grids, each numbered sequentially from west to east and north to south. The first three digits represent the S-Map number, the following two digits represent the grid number, and the last three digits represent the structure number within the grid. This field also relates to the (name of table or layer) node attribute table.<br />PIPE_SIZE: This value is the inside pipe diameter in inches.<br />MON_INST: This is the month of the pipe installation.<br />PIPE_ID: The value is a combination of the values in the UP_STRUCT, DN_STRUCT, and PIPE_LABEL fields. This is the 17 digit identifier of each pipe segment and is a key attribute of the pipe line data layer. This field named PIPE_ID relates to the field in the Annotation Pipe feature class and to the field in the Wye line feature class data layers.<br />REMARKS: This attribute contains additional comments regarding the pipe line segment.<br />DN_STA_PLS: This is the tens value of the downstream stationing.<br />EASEMENT: This value denotes whether or not the pipe is within an easement.<br />DN_STA_100: This is the hundreds value of the downstream stationing.<br />PIPE_SHAPE: The value signifies the shape of the pipe cross section. Values:<br />     •  SE - Semi-Elliptical.<br />     •  O1 - Semi-Elliptical.<br />     •  UNK - Unknown.<br />     •  BM - Burns and McDonald.<br />     •  S2 - Semi-Elliptical.<br />     •  EL - Elliptical.<br />     •  O2 - Semi-Elliptical.<br />     •  CIR - Circular.<br />     •  Box - Box (Rectangular).<br />PIPE_STATUS: This attribute contains the pipe status. Values:<br />     •  U - Unknown.<br />     •  P - Proposed.<br />     •  T - Abandoned.<br />     •  F - As Built.<br />     •  S - Siphon.<br />     •  L - Lateral.<br />     •  A - As Bid.<br />     •  N - Non-City.<br />     •  R - Airline.<br />ENG_DIST: LA City Engineering District. The boundaries are displayed in the Engineering Districts index map. Values:<br />     •  O - Out LA.<br />     •  V - Valley Engineering District.<br />     •  W - West LA Engineering District.<br />     •  H - Harbor Engineering District.<br />     •  C - Central Engineering District.<br />C_PIPE_LEN: This is the calculated pipe length.<br />OWNER: This value is the agency or municipality that constructed the pipe. Values:<br />     •  PVT - Private.<br />     •  CTY - City of LA.<br />     •  FED - Federal Facilities.<br />     •  COSA - LA County Sanitation.<br />     •  OUTLA - Adjoining cities.<br />CRTN_DT: Creation date of the line feature.<br />TRTMNT_LOC: This value is the treatment plant used to treat the pipe wastewater.<br />PCT_ENTRY2: This is the flag determining if the second slope value, in SLOPE2 field, was entered in percent as opposed to a decimal. Values:<br />     •  Y - The value is expressed as a percent.<br />     •  N - The value is not expressed as a percent.<br />UP_STA_100: This is the hundreds value of the upstream stationing.<br />DN_MH: The value is the ID of the structure. This point is the structure that may be a maintenance hole, pump station, junction, etc. The field name DN_MH signifies the structure is the point at the downstream end of the pipe line segment. The field DN_MH is a key attribute to relate the pipe lines feature class to the STRUCTURE_ID field in the physical structures feature class.<br />SAN_PIPE_ID<br />USER_ID: The name of the user carrying out the edits of the pipe data.<br />WYE_MAT: This is the pipe material as shown on the wye card.<br />WYE_DIAM: This is the pipe diameter as shown on the wye card.<br />SLOPE2: This is the second slope value used for pipe segments with a vertical curve.<br />EST_YR_LEV: This value is the year installed level.<br />EST_MATL: This is the flag determining if the pipe material was estimated.<br />LINER_DATE: This value is the year that the pipe was re-lined.<br />LAST_UPDATE: Date of last update of the line feature.<br />SHAPE: Feature geometry.<br />EST_YEAR: This is the flag indicating if the year if installation was estimated.<br />EST_UPINV: This is the flag determining if the pipe upstream elevation value was estimated.<br />WYE_UPDATE: This value indicates whether the wye card was updated.<br />PCT_ENTRY: This is the flag determining if the slope was entered in percent as opposed to a decimal. Values:<br />     •  N - The value is not expressed as a percent.<br />     •  Y - The value is expressed as a percent.<br />PROF: This is the profile drawing number.<br />PLAN1: This is the improvement plan drawing number.<br />PLAN2: This is the supplementary improvement plan drawing number.<br />EST_DNINV: This is the flag determining if the pipe downstream elevation value was estimated.<br />UP_STRUCT: This attribute identifies a number at one of two end points of the line segment that represents a sewer pipe. A sewer pipe line has a value for the UP_STRUCT and DN_STRUCT fields. This point is the upstream structure that may be a maintenance hole, pump station, junction, etc. Each of these structures is assigned an identifying number that corresponds to a Sewer Wye data record. The 8 digit value is based on an S-Map index map using a standardized numbering scheme. The S-Map is divided into 16 grids, each numbered sequentially from west to east and north to south. The first three digits represent the S-Map number, the following two digits represent the grid number, and the last three digits represent the structure number within the grid. This field also relates to the (name of table or layer) node attribute table.<br />SYSTEM: This attribute identifies the major sewer and sewer outfall system the pipe is associated with. Values:<br />     •  VRS - Venice relief sewer.<br />     •  GBIS - Glendale Burbank interceptor sewer.<br />     •  WLAIS - West Los Angeles interceptor sewer.<br />     •  NOS - North outfall sewer.<br />     •  LCIS - La Cienega interceptor sewer.<br />     •  WRS - Westwood relief sewer.<br />     •  VOS - Venice outfall sewer.<br />     •  RRS - Robertson relief sewer.<br />     •  NEIS - North East interceptor sewer.<br />     •  NCOS - North Central outfall sewer.<br />     •  MAZE - Area of many sewer junctions and interconnections.<br />     •  WHIS - Wilshire-Hollywood interceptor sewer.<br />     •  CIS - Coastal interceptor sewer.<br />     •  NORS - North outfall replacement sewer.<br />     •  LCSFVRS - La Cienega San Fernando Valley relief sewer.<br />     •  ECIS - East Central interceptor sewer.<br />     •  COS - Central outfall sewer.<br />     •  VORS - Valley outfall relief sewer.<br />     •  AVORS - Additional Valley outfall relief sewer.<br />     •  EVRS - East Valley relief sewer.<br />     •  EVIS - East Valley interceptor sewer.<br />V_CURVE: This is the flag for pipe segments with a vertical curve.<br />UP_MH: The value is the ID of the structure. This point is the structure that may be a maintenance hole, pump station, junction, etc. The field name UP_MH signifies the structure is the point at the upstream end of the pipe line segment. The field UP_MH is a key attribute to relate the pipe lines feature class to the STRUCTURE_ID field in the physical structures feature class.<br />OBJECTID: Internal feature number.<br />CAPACITY: This value is a calculated pipe capacity based on its slope and shape.<br />VDATUM: This is the year of the standard plan, which contains the information the user enters into pipe data.<br />WYE_LENG: This is the pipe length as shown on the wye card.<br />REHAB: This attribute indicates if the pipe has been rehabilitated.<br />GRV_FM: The value describes the type of flow that the pipe is handling. Values:<br />     •  GR - Gravity flow.<br />     •  SI - Siphon condition.<br />     •  FM - Force main.<br />     •  AL - Air line.<br />     •  AV - Air Vent.<br />HR_VER: This value flags the pipe line segment as either horizontal, vertical, or both. Values:<br />     •  V - Vertical curve.<br />     •  B - Both horizontal and vertical curves.<br />     •  H - Horizontal curve.<br />PIPE_SUBTYPE: This attribute is the pipe subtype.<br />SLOPE_PCT: This value is the percentage of slope of the pipe shown as a decimal value.<br />YEAR_INST: This is the year of pipe installation.<br />COMMENTS: This attribute contains comments regarding the pipe status.<br />LINER: The value describes the basic material used to rehab a pipe. Values:<br />     •  S - Steel liner.<br />     •  L - Plastic liner.<br />     •  T - Tile liner.<br />WYEMAP: This is the wye card number reference.<br />UP_INV: This is the upstream invert elevation value.<br />UP_STA_PLS: This is the tens value of the upstream stationing.<br />BASIN: This attribute is the basin number.<br />CLASS: This attribute is the sewer class the pipe belongs to. Values:<br />     •  3 - Secondary Sewer.<br />     •  2 - Primary Sewer.<br />     •  0 - Unknown.<br />     •  1 - Major Outfall or Interceptor.<br />WYE_CON: This is the number of wye connections served by pipe segment. There are up to 51 wye connections in the current data.<br />ASSETID: User-defined unique feature number that is automatically generated.<br />BLOCK: This is the block number on which the pipe is located.<br />SERVICEID: User-defined unique feature number that is automatically generated.<br />PIPE_LENG: This is the length of the pipe segment.<br />C_DN_INV: This is the calculated pipe downstream invert elevation value.<br />NO_LAT: This is the number of laterals served by pipe segment. There are up to 50 laterals in the current data.<br />SHAPE_Length: Length of feature in internal units."
      ]
     },
     "metadata": {},
     "output_type": "display_data"
    },
    {
     "name": "stdout",
     "output_type": "stream",
     "text": [
      "\n",
      "\n",
      "\n"
     ]
    },
    {
     "data": {
      "text/html": [
       "\n",
       "        <h3>Previous Council Districts (Adopted 2003)</h3>\n",
       "        <div style=\"display: flex; flex-direction: row; flex-wrap: wrap; height:256px\">\n",
       "            <div style=\"flex: 0 0 256px; padding-right: 24px\">\n",
       "                \n",
       "            <p><b>ID:</b><a href=\"http://geohub.lacity.org/datasets/53aae9f18a5f4e8bb392b4c7bb24c033_14\"> http://geohub.lacity.org/datasets/53aae9f18a5f4e8bb392b4c7bb24c033_14</a></p>\n",
       "            <p><b>Issued:</b> 2015-11-14T01:27:09.000Z</p>\n",
       "            <p><b>Last Modified:</b> 2016-03-16T17:44:24.000Z</p>\n",
       "            <p><b>Publisher:</b> City of Los Angeles Hub</p>\n",
       "            <p><b>License:</b> https://hub.arcgis.com/api/v2/datasets/53aae9f18a5f4e8bb392b4c7bb24c033_14/license</p>\n",
       "            <p><b>Download URL:</b><a href=\"http://geohub.lacity.org/datasets/53aae9f18a5f4e8bb392b4c7bb24c033_14.geojson\"> http://geohub.lacity.org/datasets/53aae9f18a5f4e8bb392b4c7bb24c033_14.geojson</a></p>\n",
       "        \n",
       "            </div>\n",
       "            <div style=\"flex: 1 1 0; height: 100%; overflow: auto\">\n",
       "                <p>\n",
       "                    Old council district boundaries. \n",
       "                </p>\n",
       "            </div>\n",
       "        </div>\n",
       "        "
      ],
      "text/plain": [
       "http://geohub.lacity.org/datasets/53aae9f18a5f4e8bb392b4c7bb24c033_14\n",
       "Previous Council Districts (Adopted 2003)\n",
       "Old council district boundaries. "
      ]
     },
     "metadata": {},
     "output_type": "display_data"
    },
    {
     "name": "stdout",
     "output_type": "stream",
     "text": [
      "\n",
      "\n",
      "\n"
     ]
    },
    {
     "data": {
      "text/html": [
       "\n",
       "        <h3>LADOT Engineering Districts</h3>\n",
       "        <div style=\"display: flex; flex-direction: row; flex-wrap: wrap; height:256px\">\n",
       "            <div style=\"flex: 0 0 256px; padding-right: 24px\">\n",
       "                \n",
       "            <p><b>ID:</b><a href=\"http://geohub.lacity.org/datasets/77a74172aefe418cb914f0a60eb69a09_26\"> http://geohub.lacity.org/datasets/77a74172aefe418cb914f0a60eb69a09_26</a></p>\n",
       "            <p><b>Issued:</b> 2015-11-14T02:38:49.000Z</p>\n",
       "            <p><b>Last Modified:</b> 2016-03-16T16:50:19.000Z</p>\n",
       "            <p><b>Publisher:</b> City of Los Angeles Hub</p>\n",
       "            <p><b>License:</b> https://hub.arcgis.com/api/v2/datasets/77a74172aefe418cb914f0a60eb69a09_26/license</p>\n",
       "            <p><b>Download URL:</b><a href=\"http://geohub.lacity.org/datasets/77a74172aefe418cb914f0a60eb69a09_26.geojson\"> http://geohub.lacity.org/datasets/77a74172aefe418cb914f0a60eb69a09_26.geojson</a></p>\n",
       "        \n",
       "            </div>\n",
       "            <div style=\"flex: 1 1 0; height: 100%; overflow: auto\">\n",
       "                <p>\n",
       "                    LADOT Engineering Districts \n",
       "                </p>\n",
       "            </div>\n",
       "        </div>\n",
       "        "
      ],
      "text/plain": [
       "http://geohub.lacity.org/datasets/77a74172aefe418cb914f0a60eb69a09_26\n",
       "LADOT Engineering Districts\n",
       "LADOT Engineering Districts "
      ]
     },
     "metadata": {},
     "output_type": "display_data"
    },
    {
     "name": "stdout",
     "output_type": "stream",
     "text": [
      "\n",
      "\n",
      "\n"
     ]
    },
    {
     "data": {
      "text/html": [
       "\n",
       "        <h3>Bureau of Engineering Districts</h3>\n",
       "        <div style=\"display: flex; flex-direction: row; flex-wrap: wrap; height:256px\">\n",
       "            <div style=\"flex: 0 0 256px; padding-right: 24px\">\n",
       "                \n",
       "            <p><b>ID:</b><a href=\"http://geohub.lacity.org/datasets/1a8a091f7e8b42479b10493233de83e3_5\"> http://geohub.lacity.org/datasets/1a8a091f7e8b42479b10493233de83e3_5</a></p>\n",
       "            <p><b>Issued:</b> 2015-11-14T01:22:18.000Z</p>\n",
       "            <p><b>Last Modified:</b> 2016-03-16T16:41:42.000Z</p>\n",
       "            <p><b>Publisher:</b> City of Los Angeles Hub</p>\n",
       "            <p><b>License:</b> https://hub.arcgis.com/api/v2/datasets/1a8a091f7e8b42479b10493233de83e3_5/license</p>\n",
       "            <p><b>Download URL:</b><a href=\"http://geohub.lacity.org/datasets/1a8a091f7e8b42479b10493233de83e3_5.geojson\"> http://geohub.lacity.org/datasets/1a8a091f7e8b42479b10493233de83e3_5.geojson</a></p>\n",
       "        \n",
       "            </div>\n",
       "            <div style=\"flex: 1 1 0; height: 100%; overflow: auto\">\n",
       "                <p>\n",
       "                    Boundaries for the Bureau of Engineering District Offices. \n",
       "                </p>\n",
       "            </div>\n",
       "        </div>\n",
       "        "
      ],
      "text/plain": [
       "http://geohub.lacity.org/datasets/1a8a091f7e8b42479b10493233de83e3_5\n",
       "Bureau of Engineering Districts\n",
       "Boundaries for the Bureau of Engineering District Offices. "
      ]
     },
     "metadata": {},
     "output_type": "display_data"
    },
    {
     "name": "stdout",
     "output_type": "stream",
     "text": [
      "\n",
      "\n",
      "\n"
     ]
    },
    {
     "data": {
      "text/html": [
       "\n",
       "        <h3>Contract Administration Districts</h3>\n",
       "        <div style=\"display: flex; flex-direction: row; flex-wrap: wrap; height:256px\">\n",
       "            <div style=\"flex: 0 0 256px; padding-right: 24px\">\n",
       "                \n",
       "            <p><b>ID:</b><a href=\"http://geohub.lacity.org/datasets/e55b3b026c4343a3b994cbc6054a2d36_11\"> http://geohub.lacity.org/datasets/e55b3b026c4343a3b994cbc6054a2d36_11</a></p>\n",
       "            <p><b>Issued:</b> 2015-11-14T01:25:32.000Z</p>\n",
       "            <p><b>Last Modified:</b> 2016-03-16T16:31:15.000Z</p>\n",
       "            <p><b>Publisher:</b> City of Los Angeles Hub</p>\n",
       "            <p><b>License:</b> https://hub.arcgis.com/api/v2/datasets/e55b3b026c4343a3b994cbc6054a2d36_11/license</p>\n",
       "            <p><b>Download URL:</b><a href=\"http://geohub.lacity.org/datasets/e55b3b026c4343a3b994cbc6054a2d36_11.geojson\"> http://geohub.lacity.org/datasets/e55b3b026c4343a3b994cbc6054a2d36_11.geojson</a></p>\n",
       "        \n",
       "            </div>\n",
       "            <div style=\"flex: 1 1 0; height: 100%; overflow: auto\">\n",
       "                <p>\n",
       "                    Service areas for staff from the Bureau of Contract Administration \n",
       "                </p>\n",
       "            </div>\n",
       "        </div>\n",
       "        "
      ],
      "text/plain": [
       "http://geohub.lacity.org/datasets/e55b3b026c4343a3b994cbc6054a2d36_11\n",
       "Contract Administration Districts\n",
       "Service areas for staff from the Bureau of Contract Administration "
      ]
     },
     "metadata": {},
     "output_type": "display_data"
    },
    {
     "name": "stdout",
     "output_type": "stream",
     "text": [
      "\n",
      "\n",
      "\n"
     ]
    },
    {
     "data": {
      "text/html": [
       "\n",
       "        <h3>Contract Administration Inspection Districts</h3>\n",
       "        <div style=\"display: flex; flex-direction: row; flex-wrap: wrap; height:256px\">\n",
       "            <div style=\"flex: 0 0 256px; padding-right: 24px\">\n",
       "                \n",
       "            <p><b>ID:</b><a href=\"http://geohub.lacity.org/datasets/6264c035739f46b8a790305e9b895e70_12\"> http://geohub.lacity.org/datasets/6264c035739f46b8a790305e9b895e70_12</a></p>\n",
       "            <p><b>Issued:</b> 2015-11-14T01:26:04.000Z</p>\n",
       "            <p><b>Last Modified:</b> 2016-03-16T16:31:12.000Z</p>\n",
       "            <p><b>Publisher:</b> City of Los Angeles Hub</p>\n",
       "            <p><b>License:</b> https://hub.arcgis.com/api/v2/datasets/6264c035739f46b8a790305e9b895e70_12/license</p>\n",
       "            <p><b>Download URL:</b><a href=\"http://geohub.lacity.org/datasets/6264c035739f46b8a790305e9b895e70_12.geojson\"> http://geohub.lacity.org/datasets/6264c035739f46b8a790305e9b895e70_12.geojson</a></p>\n",
       "        \n",
       "            </div>\n",
       "            <div style=\"flex: 1 1 0; height: 100%; overflow: auto\">\n",
       "                <p>\n",
       "                    Service areas for staff from the Bureau of Contract Administration \n",
       "                </p>\n",
       "            </div>\n",
       "        </div>\n",
       "        "
      ],
      "text/plain": [
       "http://geohub.lacity.org/datasets/6264c035739f46b8a790305e9b895e70_12\n",
       "Contract Administration Inspection Districts\n",
       "Service areas for staff from the Bureau of Contract Administration "
      ]
     },
     "metadata": {},
     "output_type": "display_data"
    },
    {
     "name": "stdout",
     "output_type": "stream",
     "text": [
      "\n",
      "\n",
      "\n"
     ]
    },
    {
     "data": {
      "text/html": [
       "\n",
       "        <h3>Congressional Districts</h3>\n",
       "        <div style=\"display: flex; flex-direction: row; flex-wrap: wrap; height:256px\">\n",
       "            <div style=\"flex: 0 0 256px; padding-right: 24px\">\n",
       "                \n",
       "            <p><b>ID:</b><a href=\"http://geohub.lacity.org/datasets/ab63122b097641d28d70ef434ebdf852_10\"> http://geohub.lacity.org/datasets/ab63122b097641d28d70ef434ebdf852_10</a></p>\n",
       "            <p><b>Issued:</b> 2015-11-14T01:25:00.000Z</p>\n",
       "            <p><b>Last Modified:</b> 2016-03-16T16:31:05.000Z</p>\n",
       "            <p><b>Publisher:</b> City of Los Angeles Hub</p>\n",
       "            <p><b>License:</b> https://hub.arcgis.com/api/v2/datasets/ab63122b097641d28d70ef434ebdf852_10/license</p>\n",
       "            <p><b>Download URL:</b><a href=\"http://geohub.lacity.org/datasets/ab63122b097641d28d70ef434ebdf852_10.geojson\"> http://geohub.lacity.org/datasets/ab63122b097641d28d70ef434ebdf852_10.geojson</a></p>\n",
       "        \n",
       "            </div>\n",
       "            <div style=\"flex: 1 1 0; height: 100%; overflow: auto\">\n",
       "                <p>\n",
       "                    Congressional Districts \n",
       "                </p>\n",
       "            </div>\n",
       "        </div>\n",
       "        "
      ],
      "text/plain": [
       "http://geohub.lacity.org/datasets/ab63122b097641d28d70ef434ebdf852_10\n",
       "Congressional Districts\n",
       "Congressional Districts "
      ]
     },
     "metadata": {},
     "output_type": "display_data"
    },
    {
     "name": "stdout",
     "output_type": "stream",
     "text": [
      "\n",
      "\n",
      "\n"
     ]
    },
    {
     "data": {
      "text/html": [
       "\n",
       "        <h3>BSS Tree Maintenance Districts</h3>\n",
       "        <div style=\"display: flex; flex-direction: row; flex-wrap: wrap; height:256px\">\n",
       "            <div style=\"flex: 0 0 256px; padding-right: 24px\">\n",
       "                \n",
       "            <p><b>ID:</b><a href=\"http://geohub.lacity.org/datasets/5f2f04a133ca4f7ab80e1cb666970e21_14\"> http://geohub.lacity.org/datasets/5f2f04a133ca4f7ab80e1cb666970e21_14</a></p>\n",
       "            <p><b>Issued:</b> 2015-11-14T01:45:13.000Z</p>\n",
       "            <p><b>Last Modified:</b> 2016-03-16T16:27:10.000Z</p>\n",
       "            <p><b>Publisher:</b> City of Los Angeles Hub</p>\n",
       "            <p><b>License:</b> https://hub.arcgis.com/api/v2/datasets/5f2f04a133ca4f7ab80e1cb666970e21_14/license</p>\n",
       "            <p><b>Download URL:</b><a href=\"http://geohub.lacity.org/datasets/5f2f04a133ca4f7ab80e1cb666970e21_14.geojson\"> http://geohub.lacity.org/datasets/5f2f04a133ca4f7ab80e1cb666970e21_14.geojson</a></p>\n",
       "        \n",
       "            </div>\n",
       "            <div style=\"flex: 1 1 0; height: 100%; overflow: auto\">\n",
       "                <p>\n",
       "                    Maintenance districts for the Bureau of Street Services \n",
       "                </p>\n",
       "            </div>\n",
       "        </div>\n",
       "        "
      ],
      "text/plain": [
       "http://geohub.lacity.org/datasets/5f2f04a133ca4f7ab80e1cb666970e21_14\n",
       "BSS Tree Maintenance Districts\n",
       "Maintenance districts for the Bureau of Street Services "
      ]
     },
     "metadata": {},
     "output_type": "display_data"
    },
    {
     "name": "stdout",
     "output_type": "stream",
     "text": [
      "\n",
      "\n",
      "\n"
     ]
    },
    {
     "data": {
      "text/html": [
       "\n",
       "        <h3>BSS Maintenance Districts</h3>\n",
       "        <div style=\"display: flex; flex-direction: row; flex-wrap: wrap; height:256px\">\n",
       "            <div style=\"flex: 0 0 256px; padding-right: 24px\">\n",
       "                \n",
       "            <p><b>ID:</b><a href=\"http://geohub.lacity.org/datasets/1ca78b061b444afaaf09c071d095da43_13\"> http://geohub.lacity.org/datasets/1ca78b061b444afaaf09c071d095da43_13</a></p>\n",
       "            <p><b>Issued:</b> 2015-11-14T01:44:40.000Z</p>\n",
       "            <p><b>Last Modified:</b> 2016-03-16T16:27:07.000Z</p>\n",
       "            <p><b>Publisher:</b> City of Los Angeles Hub</p>\n",
       "            <p><b>License:</b> https://hub.arcgis.com/api/v2/datasets/1ca78b061b444afaaf09c071d095da43_13/license</p>\n",
       "            <p><b>Download URL:</b><a href=\"http://geohub.lacity.org/datasets/1ca78b061b444afaaf09c071d095da43_13.geojson\"> http://geohub.lacity.org/datasets/1ca78b061b444afaaf09c071d095da43_13.geojson</a></p>\n",
       "        \n",
       "            </div>\n",
       "            <div style=\"flex: 1 1 0; height: 100%; overflow: auto\">\n",
       "                <p>\n",
       "                    Maintenance districts for the Bureau of Street Services \n",
       "                </p>\n",
       "            </div>\n",
       "        </div>\n",
       "        "
      ],
      "text/plain": [
       "http://geohub.lacity.org/datasets/1ca78b061b444afaaf09c071d095da43_13\n",
       "BSS Maintenance Districts\n",
       "Maintenance districts for the Bureau of Street Services "
      ]
     },
     "metadata": {},
     "output_type": "display_data"
    },
    {
     "name": "stdout",
     "output_type": "stream",
     "text": [
      "\n",
      "\n",
      "\n"
     ]
    },
    {
     "data": {
      "text/html": [
       "\n",
       "        <h3>Assembly Districts</h3>\n",
       "        <div style=\"display: flex; flex-direction: row; flex-wrap: wrap; height:256px\">\n",
       "            <div style=\"flex: 0 0 256px; padding-right: 24px\">\n",
       "                \n",
       "            <p><b>ID:</b><a href=\"http://geohub.lacity.org/datasets/73f19158f699417fbf2bb7adc44b609a_2\"> http://geohub.lacity.org/datasets/73f19158f699417fbf2bb7adc44b609a_2</a></p>\n",
       "            <p><b>Issued:</b> 2015-11-14T01:20:42.000Z</p>\n",
       "            <p><b>Last Modified:</b> 2016-03-16T16:19:20.000Z</p>\n",
       "            <p><b>Publisher:</b> City of Los Angeles Hub</p>\n",
       "            <p><b>License:</b> https://hub.arcgis.com/api/v2/datasets/73f19158f699417fbf2bb7adc44b609a_2/license</p>\n",
       "            <p><b>Download URL:</b><a href=\"http://geohub.lacity.org/datasets/73f19158f699417fbf2bb7adc44b609a_2.geojson\"> http://geohub.lacity.org/datasets/73f19158f699417fbf2bb7adc44b609a_2.geojson</a></p>\n",
       "        \n",
       "            </div>\n",
       "            <div style=\"flex: 1 1 0; height: 100%; overflow: auto\">\n",
       "                <p>\n",
       "                    California State Assembly Districts \n",
       "                </p>\n",
       "            </div>\n",
       "        </div>\n",
       "        "
      ],
      "text/plain": [
       "http://geohub.lacity.org/datasets/73f19158f699417fbf2bb7adc44b609a_2\n",
       "Assembly Districts\n",
       "California State Assembly Districts "
      ]
     },
     "metadata": {},
     "output_type": "display_data"
    },
    {
     "name": "stdout",
     "output_type": "stream",
     "text": [
      "\n",
      "\n",
      "\n"
     ]
    },
    {
     "data": {
      "text/html": [
       "\n",
       "        <h3>Central City Parking District</h3>\n",
       "        <div style=\"display: flex; flex-direction: row; flex-wrap: wrap; height:256px\">\n",
       "            <div style=\"flex: 0 0 256px; padding-right: 24px\">\n",
       "                \n",
       "            <p><b>ID:</b><a href=\"http://geohub.lacity.org/datasets/8c6068fa93b54972bd1caab0690450d9_23\"> http://geohub.lacity.org/datasets/8c6068fa93b54972bd1caab0690450d9_23</a></p>\n",
       "            <p><b>Issued:</b> 2015-11-14T02:37:44.000Z</p>\n",
       "            <p><b>Last Modified:</b> 2016-03-14T16:41:13.000Z</p>\n",
       "            <p><b>Publisher:</b> City of Los Angeles Hub</p>\n",
       "            <p><b>License:</b> https://hub.arcgis.com/api/v2/datasets/8c6068fa93b54972bd1caab0690450d9_23/license</p>\n",
       "            <p><b>Download URL:</b><a href=\"http://geohub.lacity.org/datasets/8c6068fa93b54972bd1caab0690450d9_23.geojson\"> http://geohub.lacity.org/datasets/8c6068fa93b54972bd1caab0690450d9_23.geojson</a></p>\n",
       "        \n",
       "            </div>\n",
       "            <div style=\"flex: 1 1 0; height: 100%; overflow: auto\">\n",
       "                <p>\n",
       "                    Within the Central City Parking District the municipal code sets the number of parking spaces required for residential and business properties in this area. \n",
       "                </p>\n",
       "            </div>\n",
       "        </div>\n",
       "        "
      ],
      "text/plain": [
       "http://geohub.lacity.org/datasets/8c6068fa93b54972bd1caab0690450d9_23\n",
       "Central City Parking District\n",
       "Within the Central City Parking District the municipal code sets the number of parking spaces required for residential and business properties in this area. "
      ]
     },
     "metadata": {},
     "output_type": "display_data"
    },
    {
     "name": "stdout",
     "output_type": "stream",
     "text": [
      "\n",
      "\n",
      "\n"
     ]
    },
    {
     "data": {
      "text/html": [
       "\n",
       "        <h3>Sanitation Maintenance Districts</h3>\n",
       "        <div style=\"display: flex; flex-direction: row; flex-wrap: wrap; height:256px\">\n",
       "            <div style=\"flex: 0 0 256px; padding-right: 24px\">\n",
       "                \n",
       "            <p><b>ID:</b><a href=\"http://geohub.lacity.org/datasets/4a678438b09644e9a471e385990b41f8_20\"> http://geohub.lacity.org/datasets/4a678438b09644e9a471e385990b41f8_20</a></p>\n",
       "            <p><b>Issued:</b> 2015-11-14T01:30:21.000Z</p>\n",
       "            <p><b>Last Modified:</b> 2016-03-14T16:26:39.000Z</p>\n",
       "            <p><b>Publisher:</b> City of Los Angeles Hub</p>\n",
       "            <p><b>License:</b> https://hub.arcgis.com/api/v2/datasets/4a678438b09644e9a471e385990b41f8_20/license</p>\n",
       "            <p><b>Download URL:</b><a href=\"http://geohub.lacity.org/datasets/4a678438b09644e9a471e385990b41f8_20.geojson\"> http://geohub.lacity.org/datasets/4a678438b09644e9a471e385990b41f8_20.geojson</a></p>\n",
       "        \n",
       "            </div>\n",
       "            <div style=\"flex: 1 1 0; height: 100%; overflow: auto\">\n",
       "                <p>\n",
       "                    Sanitation Maintenance Districts \n",
       "                </p>\n",
       "            </div>\n",
       "        </div>\n",
       "        "
      ],
      "text/plain": [
       "http://geohub.lacity.org/datasets/4a678438b09644e9a471e385990b41f8_20\n",
       "Sanitation Maintenance Districts\n",
       "Sanitation Maintenance Districts "
      ]
     },
     "metadata": {},
     "output_type": "display_data"
    },
    {
     "name": "stdout",
     "output_type": "stream",
     "text": [
      "\n",
      "\n",
      "\n"
     ]
    },
    {
     "data": {
      "text/html": [
       "\n",
       "        <h3>Supervisorial Districts (1981)</h3>\n",
       "        <div style=\"display: flex; flex-direction: row; flex-wrap: wrap; height:256px\">\n",
       "            <div style=\"flex: 0 0 256px; padding-right: 24px\">\n",
       "                \n",
       "            <p><b>ID:</b><a href=\"http://geohub.lacity.org/datasets/4d6fe87009604baa9860eed624c54b5d_15\"> http://geohub.lacity.org/datasets/4d6fe87009604baa9860eed624c54b5d_15</a></p>\n",
       "            <p><b>Issued:</b> 2015-11-17T02:09:07.000Z</p>\n",
       "            <p><b>Last Modified:</b> 2016-02-02T19:59:00.000Z</p>\n",
       "            <p><b>Publisher:</b> City of Los Angeles Hub</p>\n",
       "            <p><b>License:</b> https://hub.arcgis.com/api/v2/datasets/4d6fe87009604baa9860eed624c54b5d_15/license</p>\n",
       "            <p><b>Download URL:</b><a href=\"http://geohub.lacity.org/datasets/4d6fe87009604baa9860eed624c54b5d_15.geojson\"> http://geohub.lacity.org/datasets/4d6fe87009604baa9860eed624c54b5d_15.geojson</a></p>\n",
       "        \n",
       "            </div>\n",
       "            <div style=\"flex: 1 1 0; height: 100%; overflow: auto\">\n",
       "                <p>\n",
       "                    Supervisorial Districts (1981)\n",
       "                </p>\n",
       "            </div>\n",
       "        </div>\n",
       "        "
      ],
      "text/plain": [
       "http://geohub.lacity.org/datasets/4d6fe87009604baa9860eed624c54b5d_15\n",
       "Supervisorial Districts (1981)\n",
       "Supervisorial Districts (1981)"
      ]
     },
     "metadata": {},
     "output_type": "display_data"
    },
    {
     "name": "stdout",
     "output_type": "stream",
     "text": [
      "\n",
      "\n",
      "\n"
     ]
    },
    {
     "data": {
      "text/html": [
       "\n",
       "        <h3>Supervisorial Districts (2001)</h3>\n",
       "        <div style=\"display: flex; flex-direction: row; flex-wrap: wrap; height:256px\">\n",
       "            <div style=\"flex: 0 0 256px; padding-right: 24px\">\n",
       "                \n",
       "            <p><b>ID:</b><a href=\"http://geohub.lacity.org/datasets/ce8d51a3a229435dad6a790523724f03_8\"> http://geohub.lacity.org/datasets/ce8d51a3a229435dad6a790523724f03_8</a></p>\n",
       "            <p><b>Issued:</b> 2015-11-17T02:05:48.000Z</p>\n",
       "            <p><b>Last Modified:</b> 2016-02-02T19:59:00.000Z</p>\n",
       "            <p><b>Publisher:</b> City of Los Angeles Hub</p>\n",
       "            <p><b>License:</b> https://hub.arcgis.com/api/v2/datasets/ce8d51a3a229435dad6a790523724f03_8/license</p>\n",
       "            <p><b>Download URL:</b><a href=\"http://geohub.lacity.org/datasets/ce8d51a3a229435dad6a790523724f03_8.geojson\"> http://geohub.lacity.org/datasets/ce8d51a3a229435dad6a790523724f03_8.geojson</a></p>\n",
       "        \n",
       "            </div>\n",
       "            <div style=\"flex: 1 1 0; height: 100%; overflow: auto\">\n",
       "                <p>\n",
       "                    Supervisorial Districts as of the 2001 redistricting.  These boundaries were approved by the County Board of Supervisors in 2001, and represent the boundaries of their political jurisdictions and those areas that vote for them.\n",
       "                </p>\n",
       "            </div>\n",
       "        </div>\n",
       "        "
      ],
      "text/plain": [
       "http://geohub.lacity.org/datasets/ce8d51a3a229435dad6a790523724f03_8\n",
       "Supervisorial Districts (2001)\n",
       "Supervisorial Districts as of the 2001 redistricting.  These boundaries were approved by the County Board of Supervisors in 2001, and represent the boundaries of their political jurisdictions and those areas that vote for them."
      ]
     },
     "metadata": {},
     "output_type": "display_data"
    },
    {
     "name": "stdout",
     "output_type": "stream",
     "text": [
      "\n",
      "\n",
      "\n"
     ]
    },
    {
     "data": {
      "text/html": [
       "\n",
       "        <h3>Supervisorial District (2011)</h3>\n",
       "        <div style=\"display: flex; flex-direction: row; flex-wrap: wrap; height:256px\">\n",
       "            <div style=\"flex: 0 0 256px; padding-right: 24px\">\n",
       "                \n",
       "            <p><b>ID:</b><a href=\"http://geohub.lacity.org/datasets/077ddf37ad724b9eafe75e107105b1fa_1\"> http://geohub.lacity.org/datasets/077ddf37ad724b9eafe75e107105b1fa_1</a></p>\n",
       "            <p><b>Issued:</b> 2015-11-17T02:02:32.000Z</p>\n",
       "            <p><b>Last Modified:</b> 2016-02-02T19:58:53.000Z</p>\n",
       "            <p><b>Publisher:</b> City of Los Angeles Hub</p>\n",
       "            <p><b>License:</b> https://hub.arcgis.com/api/v2/datasets/077ddf37ad724b9eafe75e107105b1fa_1/license</p>\n",
       "            <p><b>Download URL:</b><a href=\"http://geohub.lacity.org/datasets/077ddf37ad724b9eafe75e107105b1fa_1.geojson\"> http://geohub.lacity.org/datasets/077ddf37ad724b9eafe75e107105b1fa_1.geojson</a></p>\n",
       "        \n",
       "            </div>\n",
       "            <div style=\"flex: 1 1 0; height: 100%; overflow: auto\">\n",
       "                <p>\n",
       "                    Supervisorial District (2011)\n",
       "                </p>\n",
       "            </div>\n",
       "        </div>\n",
       "        "
      ],
      "text/plain": [
       "http://geohub.lacity.org/datasets/077ddf37ad724b9eafe75e107105b1fa_1\n",
       "Supervisorial District (2011)\n",
       "Supervisorial District (2011)"
      ]
     },
     "metadata": {},
     "output_type": "display_data"
    },
    {
     "name": "stdout",
     "output_type": "stream",
     "text": [
      "\n",
      "\n",
      "\n"
     ]
    },
    {
     "data": {
      "text/html": [
       "\n",
       "        <h3>Supervisorial Districts (1971)</h3>\n",
       "        <div style=\"display: flex; flex-direction: row; flex-wrap: wrap; height:256px\">\n",
       "            <div style=\"flex: 0 0 256px; padding-right: 24px\">\n",
       "                \n",
       "            <p><b>ID:</b><a href=\"http://geohub.lacity.org/datasets/40f2a9b0c15e496da573548d62a3bcf7_16\"> http://geohub.lacity.org/datasets/40f2a9b0c15e496da573548d62a3bcf7_16</a></p>\n",
       "            <p><b>Issued:</b> 2015-11-17T02:09:39.000Z</p>\n",
       "            <p><b>Last Modified:</b> 2016-02-02T19:58:53.000Z</p>\n",
       "            <p><b>Publisher:</b> City of Los Angeles Hub</p>\n",
       "            <p><b>License:</b> https://hub.arcgis.com/api/v2/datasets/40f2a9b0c15e496da573548d62a3bcf7_16/license</p>\n",
       "            <p><b>Download URL:</b><a href=\"http://geohub.lacity.org/datasets/40f2a9b0c15e496da573548d62a3bcf7_16.geojson\"> http://geohub.lacity.org/datasets/40f2a9b0c15e496da573548d62a3bcf7_16.geojson</a></p>\n",
       "        \n",
       "            </div>\n",
       "            <div style=\"flex: 1 1 0; height: 100%; overflow: auto\">\n",
       "                <p>\n",
       "                    Supervisorial Districts (1971)\n",
       "                </p>\n",
       "            </div>\n",
       "        </div>\n",
       "        "
      ],
      "text/plain": [
       "http://geohub.lacity.org/datasets/40f2a9b0c15e496da573548d62a3bcf7_16\n",
       "Supervisorial Districts (1971)\n",
       "Supervisorial Districts (1971)"
      ]
     },
     "metadata": {},
     "output_type": "display_data"
    },
    {
     "name": "stdout",
     "output_type": "stream",
     "text": [
      "\n",
      "\n",
      "\n"
     ]
    },
    {
     "data": {
      "text/html": [
       "\n",
       "        <h3>School District Boundaries</h3>\n",
       "        <div style=\"display: flex; flex-direction: row; flex-wrap: wrap; height:256px\">\n",
       "            <div style=\"flex: 0 0 256px; padding-right: 24px\">\n",
       "                \n",
       "            <p><b>ID:</b><a href=\"http://geohub.lacity.org/datasets/07a10be1eb674ca99fd147474e1e0ca0_0\"> http://geohub.lacity.org/datasets/07a10be1eb674ca99fd147474e1e0ca0_0</a></p>\n",
       "            <p><b>Issued:</b> 2015-11-17T01:21:57.000Z</p>\n",
       "            <p><b>Last Modified:</b> 2016-02-02T19:58:52.000Z</p>\n",
       "            <p><b>Publisher:</b> City of Los Angeles Hub</p>\n",
       "            <p><b>License:</b> https://hub.arcgis.com/api/v2/datasets/07a10be1eb674ca99fd147474e1e0ca0_0/license</p>\n",
       "            <p><b>Download URL:</b><a href=\"http://geohub.lacity.org/datasets/07a10be1eb674ca99fd147474e1e0ca0_0.geojson\"> http://geohub.lacity.org/datasets/07a10be1eb674ca99fd147474e1e0ca0_0.geojson</a></p>\n",
       "        \n",
       "            </div>\n",
       "            <div style=\"flex: 1 1 0; height: 100%; overflow: auto\">\n",
       "                <p>\n",
       "                    School District Boundaries for Los Angeles County.  \n",
       "\n",
       "Please note:  There are two types of school districts.  The first type is a split district - a school district that separates the elementary school districts from the middle and high school district.  The second type, a unified school district, combines all three types of schools.\n",
       "\n",
       "In this dataset each unified district has its own polygon, and the split districts have a polygon for each combination of elementary and middle/high school district.\n",
       "                </p>\n",
       "            </div>\n",
       "        </div>\n",
       "        "
      ],
      "text/plain": [
       "http://geohub.lacity.org/datasets/07a10be1eb674ca99fd147474e1e0ca0_0\n",
       "School District Boundaries\n",
       "School District Boundaries for Los Angeles County.  \n",
       "\n",
       "Please note:  There are two types of school districts.  The first type is a split district - a school district that separates the elementary school districts from the middle and high school district.  The second type, a unified school district, combines all three types of schools.\n",
       "\n",
       "In this dataset each unified district has its own polygon, and the split districts have a polygon for each combination of elementary and middle/high school district."
      ]
     },
     "metadata": {},
     "output_type": "display_data"
    },
    {
     "name": "stdout",
     "output_type": "stream",
     "text": [
      "\n",
      "\n",
      "\n"
     ]
    },
    {
     "data": {
      "text/html": [
       "\n",
       "        <h3>State Assembly Districts (2001)</h3>\n",
       "        <div style=\"display: flex; flex-direction: row; flex-wrap: wrap; height:256px\">\n",
       "            <div style=\"flex: 0 0 256px; padding-right: 24px\">\n",
       "                \n",
       "            <p><b>ID:</b><a href=\"http://geohub.lacity.org/datasets/5dafa2501ab540ed9e40004b9b12d80e_10\"> http://geohub.lacity.org/datasets/5dafa2501ab540ed9e40004b9b12d80e_10</a></p>\n",
       "            <p><b>Issued:</b> 2015-11-17T02:06:56.000Z</p>\n",
       "            <p><b>Last Modified:</b> 2016-02-02T19:58:52.000Z</p>\n",
       "            <p><b>Publisher:</b> City of Los Angeles Hub</p>\n",
       "            <p><b>License:</b> https://hub.arcgis.com/api/v2/datasets/5dafa2501ab540ed9e40004b9b12d80e_10/license</p>\n",
       "            <p><b>Download URL:</b><a href=\"http://geohub.lacity.org/datasets/5dafa2501ab540ed9e40004b9b12d80e_10.geojson\"> http://geohub.lacity.org/datasets/5dafa2501ab540ed9e40004b9b12d80e_10.geojson</a></p>\n",
       "        \n",
       "            </div>\n",
       "            <div style=\"flex: 1 1 0; height: 100%; overflow: auto\">\n",
       "                <p>\n",
       "                    The State Assembly Districts layer contains polygons for 2003 California State Assembly Districts. The source for the information in this layer is the Los Angeles Registrar/Recorder's Precinct Information File (PIF), which is designed to match the Thomas Brothers TRNL (road network) layer.\n",
       "Where boundaries are defined by streets, water, city boundaries, or other features, those arc segments are copied to the districts layer, so that the boundaries and other layer features match perfectly.\n",
       "                </p>\n",
       "            </div>\n",
       "        </div>\n",
       "        "
      ],
      "text/plain": [
       "http://geohub.lacity.org/datasets/5dafa2501ab540ed9e40004b9b12d80e_10\n",
       "State Assembly Districts (2001)\n",
       "The State Assembly Districts layer contains polygons for 2003 California State Assembly Districts. The source for the information in this layer is the Los Angeles Registrar/Recorder's Precinct Information File (PIF), which is designed to match the Thomas Brothers TRNL (road network) layer.\n",
       "Where boundaries are defined by streets, water, city boundaries, or other features, those arc segments are copied to the districts layer, so that the boundaries and other layer features match perfectly."
      ]
     },
     "metadata": {},
     "output_type": "display_data"
    },
    {
     "name": "stdout",
     "output_type": "stream",
     "text": [
      "\n",
      "\n",
      "\n"
     ]
    },
    {
     "data": {
      "text/html": [
       "\n",
       "        <h3>LA City Council Districts (2002)</h3>\n",
       "        <div style=\"display: flex; flex-direction: row; flex-wrap: wrap; height:256px\">\n",
       "            <div style=\"flex: 0 0 256px; padding-right: 24px\">\n",
       "                \n",
       "            <p><b>ID:</b><a href=\"http://geohub.lacity.org/datasets/7e91ef07ff9f4c94913f2d8d63fce83d_12\"> http://geohub.lacity.org/datasets/7e91ef07ff9f4c94913f2d8d63fce83d_12</a></p>\n",
       "            <p><b>Issued:</b> 2015-11-17T02:08:00.000Z</p>\n",
       "            <p><b>Last Modified:</b> 2016-02-02T19:57:59.000Z</p>\n",
       "            <p><b>Publisher:</b> City of Los Angeles Hub</p>\n",
       "            <p><b>License:</b> https://hub.arcgis.com/api/v2/datasets/7e91ef07ff9f4c94913f2d8d63fce83d_12/license</p>\n",
       "            <p><b>Download URL:</b><a href=\"http://geohub.lacity.org/datasets/7e91ef07ff9f4c94913f2d8d63fce83d_12.geojson\"> http://geohub.lacity.org/datasets/7e91ef07ff9f4c94913f2d8d63fce83d_12.geojson</a></p>\n",
       "        \n",
       "            </div>\n",
       "            <div style=\"flex: 1 1 0; height: 100%; overflow: auto\">\n",
       "                <p>\n",
       "                    LA City Council Districts (2002)\n",
       "                </p>\n",
       "            </div>\n",
       "        </div>\n",
       "        "
      ],
      "text/plain": [
       "http://geohub.lacity.org/datasets/7e91ef07ff9f4c94913f2d8d63fce83d_12\n",
       "LA City Council Districts (2002)\n",
       "LA City Council Districts (2002)"
      ]
     },
     "metadata": {},
     "output_type": "display_data"
    },
    {
     "name": "stdout",
     "output_type": "stream",
     "text": [
      "\n",
      "\n",
      "\n"
     ]
    },
    {
     "data": {
      "text/html": [
       "\n",
       "        <h3>Congressional District (2011)</h3>\n",
       "        <div style=\"display: flex; flex-direction: row; flex-wrap: wrap; height:256px\">\n",
       "            <div style=\"flex: 0 0 256px; padding-right: 24px\">\n",
       "                \n",
       "            <p><b>ID:</b><a href=\"http://geohub.lacity.org/datasets/347d8fec554341e7b0ae2c941d55e18d_2\"> http://geohub.lacity.org/datasets/347d8fec554341e7b0ae2c941d55e18d_2</a></p>\n",
       "            <p><b>Issued:</b> 2015-11-17T02:03:04.000Z</p>\n",
       "            <p><b>Last Modified:</b> 2016-02-02T19:57:21.000Z</p>\n",
       "            <p><b>Publisher:</b> City of Los Angeles Hub</p>\n",
       "            <p><b>License:</b> https://hub.arcgis.com/api/v2/datasets/347d8fec554341e7b0ae2c941d55e18d_2/license</p>\n",
       "            <p><b>Download URL:</b><a href=\"http://geohub.lacity.org/datasets/347d8fec554341e7b0ae2c941d55e18d_2.geojson\"> http://geohub.lacity.org/datasets/347d8fec554341e7b0ae2c941d55e18d_2.geojson</a></p>\n",
       "        \n",
       "            </div>\n",
       "            <div style=\"flex: 1 1 0; height: 100%; overflow: auto\">\n",
       "                <p>\n",
       "                    Congressional District (2011)\n",
       "                </p>\n",
       "            </div>\n",
       "        </div>\n",
       "        "
      ],
      "text/plain": [
       "http://geohub.lacity.org/datasets/347d8fec554341e7b0ae2c941d55e18d_2\n",
       "Congressional District (2011)\n",
       "Congressional District (2011)"
      ]
     },
     "metadata": {},
     "output_type": "display_data"
    },
    {
     "name": "stdout",
     "output_type": "stream",
     "text": [
      "\n",
      "\n",
      "\n"
     ]
    },
    {
     "data": {
      "text/html": [
       "\n",
       "        <h3>Congressional Districts (2001)</h3>\n",
       "        <div style=\"display: flex; flex-direction: row; flex-wrap: wrap; height:256px\">\n",
       "            <div style=\"flex: 0 0 256px; padding-right: 24px\">\n",
       "                \n",
       "            <p><b>ID:</b><a href=\"http://geohub.lacity.org/datasets/b2fff847ce4445aea0f04e3730e3a4eb_9\"> http://geohub.lacity.org/datasets/b2fff847ce4445aea0f04e3730e3a4eb_9</a></p>\n",
       "            <p><b>Issued:</b> 2015-11-17T02:06:24.000Z</p>\n",
       "            <p><b>Last Modified:</b> 2016-02-02T19:57:21.000Z</p>\n",
       "            <p><b>Publisher:</b> City of Los Angeles Hub</p>\n",
       "            <p><b>License:</b> https://hub.arcgis.com/api/v2/datasets/b2fff847ce4445aea0f04e3730e3a4eb_9/license</p>\n",
       "            <p><b>Download URL:</b><a href=\"http://geohub.lacity.org/datasets/b2fff847ce4445aea0f04e3730e3a4eb_9.geojson\"> http://geohub.lacity.org/datasets/b2fff847ce4445aea0f04e3730e3a4eb_9.geojson</a></p>\n",
       "        \n",
       "            </div>\n",
       "            <div style=\"flex: 1 1 0; height: 100%; overflow: auto\">\n",
       "                <p>\n",
       "                    The US Congressional Districts layer contains polygons for US Congressional Districts. The source for the information in this layer is the Los Angeles Registrar/Recorder's Precinct Information File (PIF), which is designed to match the Thomas Brothers TRNL (road network) layer.\n",
       "Where boundaries are defined by streets, water, city boundaries, or other features, those arc segments are copied to the districts layer, so that the boundaries and other layer features match perfectly.\n",
       "                </p>\n",
       "            </div>\n",
       "        </div>\n",
       "        "
      ],
      "text/plain": [
       "http://geohub.lacity.org/datasets/b2fff847ce4445aea0f04e3730e3a4eb_9\n",
       "Congressional Districts (2001)\n",
       "The US Congressional Districts layer contains polygons for US Congressional Districts. The source for the information in this layer is the Los Angeles Registrar/Recorder's Precinct Information File (PIF), which is designed to match the Thomas Brothers TRNL (road network) layer.\n",
       "Where boundaries are defined by streets, water, city boundaries, or other features, those arc segments are copied to the districts layer, so that the boundaries and other layer features match perfectly."
      ]
     },
     "metadata": {},
     "output_type": "display_data"
    },
    {
     "name": "stdout",
     "output_type": "stream",
     "text": [
      "\n",
      "\n",
      "\n"
     ]
    },
    {
     "data": {
      "text/html": [
       "\n",
       "        <h3>Board of Equalization (2011)</h3>\n",
       "        <div style=\"display: flex; flex-direction: row; flex-wrap: wrap; height:256px\">\n",
       "            <div style=\"flex: 0 0 256px; padding-right: 24px\">\n",
       "                \n",
       "            <p><b>ID:</b><a href=\"http://geohub.lacity.org/datasets/f38acbd7e55841b280ab63859a95e441_5\"> http://geohub.lacity.org/datasets/f38acbd7e55841b280ab63859a95e441_5</a></p>\n",
       "            <p><b>Issued:</b> 2015-11-17T02:04:40.000Z</p>\n",
       "            <p><b>Last Modified:</b> 2016-02-02T19:57:11.000Z</p>\n",
       "            <p><b>Publisher:</b> City of Los Angeles Hub</p>\n",
       "            <p><b>License:</b> https://hub.arcgis.com/api/v2/datasets/f38acbd7e55841b280ab63859a95e441_5/license</p>\n",
       "            <p><b>Download URL:</b><a href=\"http://geohub.lacity.org/datasets/f38acbd7e55841b280ab63859a95e441_5.geojson\"> http://geohub.lacity.org/datasets/f38acbd7e55841b280ab63859a95e441_5.geojson</a></p>\n",
       "        \n",
       "            </div>\n",
       "            <div style=\"flex: 1 1 0; height: 100%; overflow: auto\">\n",
       "                <p>\n",
       "                    Board of Equalization (2011) District Boundaries.  The BOE manages taxation across the state of California.\n",
       "                </p>\n",
       "            </div>\n",
       "        </div>\n",
       "        "
      ],
      "text/plain": [
       "http://geohub.lacity.org/datasets/f38acbd7e55841b280ab63859a95e441_5\n",
       "Board of Equalization (2011)\n",
       "Board of Equalization (2011) District Boundaries.  The BOE manages taxation across the state of California."
      ]
     },
     "metadata": {},
     "output_type": "display_data"
    },
    {
     "name": "stdout",
     "output_type": "stream",
     "text": [
      "\n",
      "\n",
      "\n"
     ]
    }
   ],
   "source": [
    "for entry_id in catalog_district:\n",
    "    display(catalog_district[entry_id])\n",
    "    print('\\n\\n')"
   ]
  },
  {
   "cell_type": "code",
   "execution_count": 5,
   "metadata": {},
   "outputs": [],
   "source": [
    "data_id = 'http://geohub.lacity.org/datasets/70baf6da243e40298ba9246e9a67409b_0'\n",
    "data = catalog_district[data_id].read()"
   ]
  },
  {
   "cell_type": "code",
   "execution_count": 6,
   "metadata": {},
   "outputs": [
    {
     "data": {
      "text/plain": [
       "<matplotlib.axes._subplots.AxesSubplot at 0x22684c71128>"
      ]
     },
     "execution_count": 6,
     "metadata": {},
     "output_type": "execute_result"
    },
    {
     "data": {
      "image/png": "[encoded data removed]",
      "text/plain": [
       "<Figure size 432x288 with 1 Axes>"
      ]
     },
     "metadata": {
      "needs_background": "light"
     },
     "output_type": "display_data"
    }
   ],
   "source": [
    "data.plot()"
   ]
  }
 ],
 "metadata": {
  "kernelspec": {
   "display_name": "Python 3",
   "language": "python",
   "name": "python3"
  },
  "language_info": {
   "codemirror_mode": {
    "name": "ipython",
    "version": 3
   },
   "file_extension": ".py",
   "mimetype": "text/x-python",
   "name": "python",
   "nbconvert_exporter": "python",
   "pygments_lexer": "ipython3",
   "version": "3.6.8"
  }
 },
 "nbformat": 4,
 "nbformat_minor": 2
}
