{
 "cells": [
  {
   "cell_type": "markdown",
   "metadata": {},
   "source": [
    "# Intake catalog example\n",
    "\n",
    "We would like to more easily interact with the datasets available at [data.lacity.org](data.lacity.org)\n",
    "and [geohub.lacity.org](geohub.lacity.org).\n",
    "\n",
    "These data portals have catalogs available at the `data.json` endpoints, which are specified in the\n",
    "DCAT (https://project-open-data.cio.gov/v1.1/schema) catalog format.\n",
    "\n",
    "We have been working on an `intake` catalog source that adapts a DCAT catalog to an intake catalog,\n",
    "along with specifying how to load datasets.\n",
    "\n",
    "Begin by importing `intake`:"
   ]
  },
  {
   "cell_type": "code",
   "execution_count": 1,
   "metadata": {},
   "outputs": [],
   "source": [
    "%matplotlib inline\n",
    "import intake"
   ]
  },
  {
   "cell_type": "markdown",
   "metadata": {},
   "source": [
    "The DCAT catalogs for the City of Los Angeles open data portals are specified in [catalog.yml](./catalog.yml).\n",
    "We can optionally give an `item` argument, which will filter the catalog to only include the selected items.\n",
    "\n",
    "We use `intake` to load the catalog into memory:"
   ]
  },
  {
   "cell_type": "code",
   "execution_count": 2,
   "metadata": {},
   "outputs": [
    {
     "name": "stdout",
     "output_type": "stream",
     "text": [
      "['la_open_data', 'la_geohub']\n"
     ]
    }
   ],
   "source": [
    "catalog = intake.open_catalog('catalog.yml')\n",
    "print(list(catalog))"
   ]
  },
  {
   "cell_type": "markdown",
   "metadata": {},
   "source": [
    "Let's load some data relating to Los Angeles' bike infrastructure.\n",
    "The GeoHub dataset has already had some entries selected:"
   ]
  },
  {
   "cell_type": "code",
   "execution_count": 3,
   "metadata": {},
   "outputs": [
    {
     "data": {
      "text/html": [
       "\n",
       "        <h3>City of Los Angeles Bikeways</h3>\n",
       "        <div style=\"display: flex; flex-direction: row; flex-wrap: wrap; height:256px\">\n",
       "            <div style=\"flex: 0 0 384px; padding-right: 24px\">\n",
       "                \n",
       "            <p style=\"margin-bottom: 0.5em\"><b>ID:</b><a href=\"http://geohub.lacity.org/datasets/2602345a7a8549518e8e3c873368c1d9_0\"> http://geohub.lacity.org/datasets/2602345a7a8549518e8e3c873368c1d9_0</a></p>\n",
       "            <p style=\"margin-bottom: 0.5em\"><b>Issued:</b> 2018-05-15T14:24:19.000Z</p>\n",
       "            <p style=\"margin-bottom: 0.5em\"><b>Last Modified:</b> 2019-04-25T19:31:41.777Z</p>\n",
       "            <p style=\"margin-bottom: 0.5em\"><b>Publisher:</b> City of Los Angeles Hub</p>\n",
       "            <p style=\"margin-bottom: 0.5em\"><b>License:</b> https://hub.arcgis.com/api/v2/datasets/2602345a7a8549518e8e3c873368c1d9_0/license</p>\n",
       "            <p style=\"margin-bottom: 0.5em\"><b>Download URL:</b><a href=\"http://geohub.lacity.org/datasets/2602345a7a8549518e8e3c873368c1d9_0.geojson\"> http://geohub.lacity.org/datasets/2602345a7a8549518e8e3c873368c1d9_0.geojson</a></p>\n",
       "        \n",
       "            </div>\n",
       "            <div style=\"flex: 1 1 0; height: 100%; overflow: auto\">\n",
       "                <p>\n",
       "                    <p>City of Los Angeles\n",
       "network of on-street and off-street bikeways. Included Bike Path Class 1, Bike\n",
       "Lane Class 2, Bike Route/ Sharrow Class 3, Protected Bike Lanes Class 4.</p>\n",
       "                </p>\n",
       "            </div>\n",
       "        </div>\n",
       "        "
      ],
      "text/plain": [
       "http://geohub.lacity.org/datasets/2602345a7a8549518e8e3c873368c1d9_0\n",
       "City of Los Angeles Bikeways\n",
       "<p>City of Los Angeles\n",
       "network of on-street and off-street bikeways. Included Bike Path Class 1, Bike\n",
       "Lane Class 2, Bike Route/ Sharrow Class 3, Protected Bike Lanes Class 4.</p>"
      ]
     },
     "metadata": {},
     "output_type": "display_data"
    },
    {
     "data": {
      "text/html": [
       "\n",
       "        <h3>Bike Racks</h3>\n",
       "        <div style=\"display: flex; flex-direction: row; flex-wrap: wrap; height:256px\">\n",
       "            <div style=\"flex: 0 0 384px; padding-right: 24px\">\n",
       "                \n",
       "            <p style=\"margin-bottom: 0.5em\"><b>ID:</b><a href=\"http://geohub.lacity.org/datasets/3b022cced9704108af157d3d5eedb268_2\"> http://geohub.lacity.org/datasets/3b022cced9704108af157d3d5eedb268_2</a></p>\n",
       "            <p style=\"margin-bottom: 0.5em\"><b>Issued:</b> 2018-11-26T21:31:23.000Z</p>\n",
       "            <p style=\"margin-bottom: 0.5em\"><b>Last Modified:</b> 2018-11-26T21:31:41.000Z</p>\n",
       "            <p style=\"margin-bottom: 0.5em\"><b>Publisher:</b> City of Los Angeles Hub</p>\n",
       "            <p style=\"margin-bottom: 0.5em\"><b>License:</b> https://hub.arcgis.com/api/v2/datasets/3b022cced9704108af157d3d5eedb268_2/license</p>\n",
       "            <p style=\"margin-bottom: 0.5em\"><b>Download URL:</b><a href=\"http://geohub.lacity.org/datasets/3b022cced9704108af157d3d5eedb268_2.geojson\"> http://geohub.lacity.org/datasets/3b022cced9704108af157d3d5eedb268_2.geojson</a></p>\n",
       "        \n",
       "            </div>\n",
       "            <div style=\"flex: 1 1 0; height: 100%; overflow: auto\">\n",
       "                <p>\n",
       "                    Bike Corrals on-street bicycle parking facility that can accommodate many more bicycles than a typical sidewalk rack. \n",
       "\n",
       "Bike Racks installed where possible in the public right-of-way bike parking as close to building entrances as possible to increase security and make travelling by bike convenient. \n",
       "\n",
       "Bike Repair stations provide basic bicycle repair capability to business districts and corridors that cater to bicyclists. Repair Stations feature a stand to mount a bicycle and contain the basic tools needed to perform do-it-yourself bicycle repair including screwdrivers, wrenches, and hex tools. Repair stations also feature a heavy duty bicycle pump with a pump head for both schrader and presta valves and connect users to detailed instructions for a wide variety of bicycle repairs-just a smart phone scan away.\n",
       "                </p>\n",
       "            </div>\n",
       "        </div>\n",
       "        "
      ],
      "text/plain": [
       "http://geohub.lacity.org/datasets/3b022cced9704108af157d3d5eedb268_2\n",
       "Bike Racks\n",
       "Bike Corrals on-street bicycle parking facility that can accommodate many more bicycles than a typical sidewalk rack. \n",
       "\n",
       "Bike Racks installed where possible in the public right-of-way bike parking as close to building entrances as possible to increase security and make travelling by bike convenient. \n",
       "\n",
       "Bike Repair stations provide basic bicycle repair capability to business districts and corridors that cater to bicyclists. Repair Stations feature a stand to mount a bicycle and contain the basic tools needed to perform do-it-yourself bicycle repair including screwdrivers, wrenches, and hex tools. Repair stations also feature a heavy duty bicycle pump with a pump head for both schrader and presta valves and connect users to detailed instructions for a wide variety of bicycle repairs-just a smart phone scan away."
      ]
     },
     "metadata": {},
     "output_type": "display_data"
    },
    {
     "data": {
      "text/html": [
       "\n",
       "        <h3>City Boundary</h3>\n",
       "        <div style=\"display: flex; flex-direction: row; flex-wrap: wrap; height:256px\">\n",
       "            <div style=\"flex: 0 0 384px; padding-right: 24px\">\n",
       "                \n",
       "            <p style=\"margin-bottom: 0.5em\"><b>ID:</b><a href=\"http://geohub.lacity.org/datasets/09f503229d37414a8e67a7b6ceb9ec43_7\"> http://geohub.lacity.org/datasets/09f503229d37414a8e67a7b6ceb9ec43_7</a></p>\n",
       "            <p style=\"margin-bottom: 0.5em\"><b>Issued:</b> 2015-11-14T01:23:22.000Z</p>\n",
       "            <p style=\"margin-bottom: 0.5em\"><b>Last Modified:</b> 2018-04-06T16:48:27.000Z</p>\n",
       "            <p style=\"margin-bottom: 0.5em\"><b>Publisher:</b> City of Los Angeles Hub</p>\n",
       "            <p style=\"margin-bottom: 0.5em\"><b>License:</b> https://hub.arcgis.com/api/v2/datasets/09f503229d37414a8e67a7b6ceb9ec43_7/license</p>\n",
       "            <p style=\"margin-bottom: 0.5em\"><b>Download URL:</b><a href=\"http://geohub.lacity.org/datasets/09f503229d37414a8e67a7b6ceb9ec43_7.geojson\"> http://geohub.lacity.org/datasets/09f503229d37414a8e67a7b6ceb9ec43_7.geojson</a></p>\n",
       "        \n",
       "            </div>\n",
       "            <div style=\"flex: 1 1 0; height: 100%; overflow: auto\">\n",
       "                <p>\n",
       "                    City Boundary \n",
       "                </p>\n",
       "            </div>\n",
       "        </div>\n",
       "        "
      ],
      "text/plain": [
       "http://geohub.lacity.org/datasets/09f503229d37414a8e67a7b6ceb9ec43_7\n",
       "City Boundary\n",
       "City Boundary "
      ]
     },
     "metadata": {},
     "output_type": "display_data"
    }
   ],
   "source": [
    "geohub = catalog.la_geohub\n",
    "open_data = catalog.la_open_data\n",
    "for key, entry in geohub.items():\n",
    "    display(entry)"
   ]
  },
  {
   "cell_type": "markdown",
   "metadata": {},
   "source": [
    "The open data catalog, on the other hand, is pretty long:"
   ]
  },
  {
   "cell_type": "code",
   "execution_count": 4,
   "metadata": {},
   "outputs": [
    {
     "data": {
      "text/plain": [
       "292"
      ]
     },
     "execution_count": 4,
     "metadata": {},
     "output_type": "execute_result"
    }
   ],
   "source": [
    "len(list(open_data.items()))"
   ]
  },
  {
   "cell_type": "markdown",
   "metadata": {},
   "source": [
    "We can make this shorter by filtering it for the \"boundary\" keyword:"
   ]
  },
  {
   "cell_type": "code",
   "execution_count": 5,
   "metadata": {},
   "outputs": [
    {
     "data": {
      "text/plain": [
       "3"
      ]
     },
     "execution_count": 5,
     "metadata": {},
     "output_type": "execute_result"
    }
   ],
   "source": [
    "open_data_boundary = open_data.search('boundary')\n",
    "len(list(open_data_boundary))"
   ]
  },
  {
   "cell_type": "code",
   "execution_count": 6,
   "metadata": {},
   "outputs": [
    {
     "data": {
      "text/html": [
       "\n",
       "        <h3>Area Planning Commission</h3>\n",
       "        <div style=\"display: flex; flex-direction: row; flex-wrap: wrap; height:256px\">\n",
       "            <div style=\"flex: 0 0 384px; padding-right: 24px\">\n",
       "                \n",
       "            <p style=\"margin-bottom: 0.5em\"><b>ID:</b><a href=\"https://data.lacity.org/api/views/paqi-j4yv\"> https://data.lacity.org/api/views/paqi-j4yv</a></p>\n",
       "            <p style=\"margin-bottom: 0.5em\"><b>Issued:</b> 2014-05-23</p>\n",
       "            <p style=\"margin-bottom: 0.5em\"><b>Last Modified:</b> 2019-03-29</p>\n",
       "            <p style=\"margin-bottom: 0.5em\"><b>Publisher:</b> data.lacity.org</p>\n",
       "            <p style=\"margin-bottom: 0.5em\"><b>License:</b> http://creativecommons.org/publicdomain/zero/1.0/legalcode</p>\n",
       "            <p style=\"margin-bottom: 0.5em\"><b>Download URL:</b><a href=\"https://data.lacity.org/api/geospatial/paqi-j4yv?method=export&format=Shapefile\"> https://data.lacity.org/api/geospatial/paqi-j4yv?method=export&format=Shapefile</a></p>\n",
       "        \n",
       "            </div>\n",
       "            <div style=\"flex: 1 1 0; height: 100%; overflow: auto\">\n",
       "                <p>\n",
       "                    Area Planning Commission Boundary\n",
       "                </p>\n",
       "            </div>\n",
       "        </div>\n",
       "        "
      ],
      "text/plain": [
       "https://data.lacity.org/api/views/paqi-j4yv\n",
       "Area Planning Commission\n",
       "Area Planning Commission Boundary"
      ]
     },
     "metadata": {},
     "output_type": "display_data"
    },
    {
     "data": {
      "text/html": [
       "\n",
       "        <h3>City Boundary of Los Angeles</h3>\n",
       "        <div style=\"display: flex; flex-direction: row; flex-wrap: wrap; height:256px\">\n",
       "            <div style=\"flex: 0 0 384px; padding-right: 24px\">\n",
       "                \n",
       "            <p style=\"margin-bottom: 0.5em\"><b>ID:</b><a href=\"https://data.lacity.org/api/views/ppge-zfr4\"> https://data.lacity.org/api/views/ppge-zfr4</a></p>\n",
       "            <p style=\"margin-bottom: 0.5em\"><b>Issued:</b> 2016-05-26</p>\n",
       "            <p style=\"margin-bottom: 0.5em\"><b>Last Modified:</b> 2017-10-27</p>\n",
       "            <p style=\"margin-bottom: 0.5em\"><b>Publisher:</b> data.lacity.org</p>\n",
       "            <p style=\"margin-bottom: 0.5em\"><b>License:</b> http://creativecommons.org/publicdomain/zero/1.0/legalcode</p>\n",
       "            <p style=\"margin-bottom: 0.5em\"><b>Download URL:</b><a href=\"https://data.lacity.org/api/geospatial/ppge-zfr4?method=export&format=Shapefile\"> https://data.lacity.org/api/geospatial/ppge-zfr4?method=export&format=Shapefile</a></p>\n",
       "        \n",
       "            </div>\n",
       "            <div style=\"flex: 1 1 0; height: 100%; overflow: auto\">\n",
       "                <p>\n",
       "                    Official City Boundary for the City of Los Angeles created and maintained by the Bureau of Engineering / GIS Mapping Division.\n",
       "                </p>\n",
       "            </div>\n",
       "        </div>\n",
       "        "
      ],
      "text/plain": [
       "https://data.lacity.org/api/views/ppge-zfr4\n",
       "City Boundary of Los Angeles\n",
       "Official City Boundary for the City of Los Angeles created and maintained by the Bureau of Engineering / GIS Mapping Division."
      ]
     },
     "metadata": {},
     "output_type": "display_data"
    },
    {
     "data": {
      "text/html": [
       "\n",
       "        <h3>Port of Los Angeles Point of Interest</h3>\n",
       "        <div style=\"display: flex; flex-direction: row; flex-wrap: wrap; height:256px\">\n",
       "            <div style=\"flex: 0 0 384px; padding-right: 24px\">\n",
       "                \n",
       "            <p style=\"margin-bottom: 0.5em\"><b>ID:</b><a href=\"https://data.lacity.org/api/views/vu99-34t2\"> https://data.lacity.org/api/views/vu99-34t2</a></p>\n",
       "            <p style=\"margin-bottom: 0.5em\"><b>Issued:</b> 2014-05-27</p>\n",
       "            <p style=\"margin-bottom: 0.5em\"><b>Last Modified:</b> 2016-11-29</p>\n",
       "            <p style=\"margin-bottom: 0.5em\"><b>Publisher:</b> data.lacity.org</p>\n",
       "            <p style=\"margin-bottom: 0.5em\"><b>License:</b> http://creativecommons.org/publicdomain/zero/1.0/legalcode</p>\n",
       "            <p style=\"margin-bottom: 0.5em\"><b>Download URL:</b><a href=\"https://data.lacity.org/api/geospatial/vu99-34t2?method=export&format=Shapefile\"> https://data.lacity.org/api/geospatial/vu99-34t2?method=export&format=Shapefile</a></p>\n",
       "        \n",
       "            </div>\n",
       "            <div style=\"flex: 1 1 0; height: 100%; overflow: auto\">\n",
       "                <p>\n",
       "                    Location of lighthouses, museums, public arts, parks, restrooms and special interest within Port of Los Angeles' administrative boundary.  Data will be refresh when there's a revision to the current points of interest.\n",
       "                </p>\n",
       "            </div>\n",
       "        </div>\n",
       "        "
      ],
      "text/plain": [
       "https://data.lacity.org/api/views/vu99-34t2\n",
       "Port of Los Angeles Point of Interest\n",
       "Location of lighthouses, museums, public arts, parks, restrooms and special interest within Port of Los Angeles' administrative boundary.  Data will be refresh when there's a revision to the current points of interest."
      ]
     },
     "metadata": {},
     "output_type": "display_data"
    }
   ],
   "source": [
    "for entry_id, entry in open_data_boundary.items():\n",
    "    display(entry)"
   ]
  },
  {
   "cell_type": "markdown",
   "metadata": {},
   "source": [
    "Much more managable."
   ]
  },
  {
   "cell_type": "code",
   "execution_count": 7,
   "metadata": {},
   "outputs": [],
   "source": [
    "bike_racks_id = 'http://geohub.lacity.org/datasets/3b022cced9704108af157d3d5eedb268_2'\n",
    "bike_racks = geohub[bike_racks_id].read()"
   ]
  },
  {
   "cell_type": "code",
   "execution_count": 8,
   "metadata": {},
   "outputs": [
    {
     "data": {
      "text/plain": [
       "<matplotlib.axes._subplots.AxesSubplot at 0x23dc063ba20>"
      ]
     },
     "execution_count": 8,
     "metadata": {},
     "output_type": "execute_result"
    },
    {
     "data": {
      "image/png": "[encoded data removed]",
      "text/plain": [
       "<Figure size 432x288 with 1 Axes>"
      ]
     },
     "metadata": {
      "needs_background": "light"
     },
     "output_type": "display_data"
    }
   ],
   "source": [
    "bike_racks.plot()"
   ]
  }
 ],
 "metadata": {
  "kernelspec": {
   "display_name": "Python 3",
   "language": "python",
   "name": "python3"
  },
  "language_info": {
   "codemirror_mode": {
    "name": "ipython",
    "version": 3
   },
   "file_extension": ".py",
   "mimetype": "text/x-python",
   "name": "python",
   "nbconvert_exporter": "python",
   "pygments_lexer": "ipython3",
   "version": "3.7.3"
  }
 },
 "nbformat": 4,
 "nbformat_minor": 4
}
